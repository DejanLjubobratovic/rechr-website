{
  "nbformat": 4,
  "nbformat_minor": 0,
  "metadata": {
    "colab": {
      "name": "01. Jupyter notebooks - osnove i korištenje.ipynb",
      "provenance": []
    },
    "kernelspec": {
      "name": "ir",
      "display_name": "R"
    }
  },
  "cells": [
    {
      "cell_type": "markdown",
      "source": [
        "# 1. Osnove programskog jezika R"
      ],
      "metadata": {
        "id": "raeCgxZfS3_Q"
      }
    },
    {
      "cell_type": "markdown",
      "source": [
        "![R u Google Colabu](https://odraz.com/slike/r_colab.png)  \n",
        "## Otvaranja R bilježnice u Colabu\n",
        "[**Google Colab**](https://colab.research.google.com/) je besplatna platforma za izradu i izvršavanje Python koda u oblaku. Omogućuje korisnicima stvaranje i dijeljenje Jupyter bilježnica koje sadrže **Python** kod, tekst, matematičke formule, slike i vizualizacije podataka.  \n",
        "Google Colab još uvijek nema nativnu podršku za **programski jezik R**, tako da je potrebno imati praznu R bilježnicu u kojoj ćemo raditi.  \n",
        "\n",
        "Praznu R bilježnicu je moguće otvoriti s linka niže:\n",
        "[R bilježnica](https://colab.research.google.com/#create=true&language=r)"
      ],
      "metadata": {
        "id": "s4WVnjhITUKo"
      }
    },
    {
      "cell_type": "markdown",
      "metadata": {
        "id": "wWQb0exn9SVB"
      },
      "source": [
        "## Osnovne računske operacije u R-u\n",
        "\n",
        "Zbrajanje: `+`  \n",
        "Oduzimanje: `-`  \n",
        "Množenje: `*`  \n",
        "Dijeljenje: `/`  \n",
        "Potenciranje: `^`  \n",
        "Modulo: `%%`  "
      ]
    },
    {
      "cell_type": "code",
      "source": [
        "5*5\n",
        "5+5\n",
        "8-9\n",
        "2^3"
      ],
      "metadata": {
        "id": "TMyIrQ1sW2cE"
      },
      "execution_count": null,
      "outputs": []
    },
    {
      "cell_type": "markdown",
      "source": [
        "## Varijable\n",
        "Pridruživanje varijabli u R-u se radi pomoću `->` ili `<-`  \n",
        "Varijable se mogu pridružiti u \"oba smjera\".  \n",
        "Na primjer `x<-5` ili `5->x` <br>\n",
        "\n",
        "Da bi ispisali vrijednost varijable dovoljno je samo napisati njeno ime.<br><br>\n",
        "_**Zadatak:**_  \n",
        "Varijabli broj1 pridružite vrijednost 23, a varijabli broj2 vrijednost 17.\n",
        "Ispišite vrijednosti varijabli"
      ],
      "metadata": {
        "id": "c04Pxa13W3bG"
      }
    },
    {
      "cell_type": "code",
      "source": [
        "broj1 <- 23\n",
        "17 -> broj2\n",
        "broj1\n",
        "broj2"
      ],
      "metadata": {
        "id": "qf_bCBj_XKXk"
      },
      "execution_count": null,
      "outputs": []
    },
    {
      "cell_type": "markdown",
      "metadata": {
        "trusted": true,
        "scrolled": true,
        "id": "VDtkANg89SU9"
      },
      "source": [
        "# Osnovni tipovi podataka\n",
        "|**Tip**|**Izvorni naziv**|**Primjer**|\n",
        "|-----|-----|-----|\n",
        "|realni|double|5, 999.111, 2e5|\n",
        "|cjelobrojni|integer|1L, -100L, 987654321L|\n",
        "|znakovni|character|\"A\", \"FIDIT\", \"99%|\n",
        "|logički|logical|TRUE, FALSE, T, F|\n",
        "|kompleksni|complex|3+2i|\n",
        "|sirovi|raw|as.raw(11), charToRaw(\"Hello\")|\n",
        "\n",
        "\n",
        "U ovom kolegiju nećemo obrađivati kompleksne i sirove tipove podataka jer se oni koriste samo u specifičnim, rijetkim slučajevima."
      ]
    },
    {
      "cell_type": "markdown",
      "metadata": {
        "id": "z4Xpr1D59SU_"
      },
      "source": [
        "### Numerički tipovi podataka\n",
        "- Realni tip podatka (engl. double) je bilo kakva numerička vrijednost, odnosno vrijednost iz skupa realnih brojeva i svih njegovih podskupova (racionalni, iracionalni i cijeli brojevi).  \n",
        "- Cjelobrojni tip podatka (engl. integer) su cijeli brojevi.  \n",
        "Razlika zapisa cijeloga broja u realnom i cjelobrojnom tipu podatka je u rasponu i zauzimanju memorije. Realni tip podatka definiran je u rasponu +- 1,79e308, dok je raspon integer varijable +- 2.147.483.647, ali zauzima upola manje memorije od realnog tipa.\n",
        "- Cjelobrojne i realne tipove podataka jednim nazivom zovemo numerički tip podatka. \n",
        "- U većini slučajeva R će broj pohraniti kao realni tip, a ako baš želimo vrijednost koja je cjelobrojnoga tipa, tada uz broj stavimo oznaku L\n"
      ]
    },
    {
      "cell_type": "markdown",
      "metadata": {
        "id": "8XQ652bH9SVA"
      },
      "source": [
        "### Znakovni tip podatka\n",
        "- Znakovni tip podatka (engl. character) je bilo kakav niz znakova unutar navodnika. \n",
        "Koristi se i izraz string.\n",
        "\n",
        "_**Pazite!**_\n",
        "- U programskom jeziku R, za razliku od programskog jezika C++, character i string odnose se na isti tip podatka.\n"
      ]
    },
    {
      "cell_type": "markdown",
      "metadata": {
        "collapsed": true,
        "id": "e-x3NtGP9SVA"
      },
      "source": [
        "### Logički tip podatka\n",
        "- Logički tip podatka (engl. logical) može poprimiti dvije vrijednosti, TRUE ili FALSE, a ako nema varijabli koje se zovu T ili F, vrijednost TRUE možemo deklarirati i znakom T, a vrijednost FALSE znakom F (T i F bez navodnika).\n",
        "\n"
      ]
    },
    {
      "cell_type": "markdown",
      "source": [
        "Varijable poprimaju različite tipove ovisno samim podacima"
      ],
      "metadata": {
        "id": "rt_Db6W8XLQD"
      }
    },
    {
      "cell_type": "code",
      "source": [
        "#  Numeričke\n",
        "MojBroj <- 12\n",
        "\n",
        "# Znakovne (character)\n",
        "Znakovni <- \"riječ\"\n",
        "\n",
        "# Logičke\n",
        "logicka <- FALSE"
      ],
      "metadata": {
        "id": "6DPBHzKpXqTb"
      },
      "execution_count": null,
      "outputs": []
    },
    {
      "cell_type": "code",
      "source": [
        "class(Znakovni)"
      ],
      "metadata": {
        "id": "qYgw--GLXsDs"
      },
      "execution_count": null,
      "outputs": []
    }
  ]
}