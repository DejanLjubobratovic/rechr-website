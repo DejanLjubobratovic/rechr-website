{
  "cells": [
    {
      "cell_type": "markdown",
      "metadata": {
        "id": "MhKfBJrignkm"
      },
      "source": [
        "# 3. Matrice\n",
        "\n",
        "**Matrica** je kolekcija elemenata istoga tipa uređenih u fiksan broj redaka i stupaca.  \n",
        "Funkcija matrice u programskom jeziku R izgleda ovako `matrix(elementi, ostali argumenti)`  \n",
        "Prvi argument funkcije `matrix()` su *elementi* koji čine matricu. Na primjer brojevi od 1 do 9.  \n",
        "Ostali argumenti mogu biti `nrow=x` ili `ncol=y` gdje x i y predstavljaju broj redaka odnosno stupaca u matrici.  \n",
        "Argument `byrow=T/F` određuje da li je redoslijed elemenata *složen* po retcima (`byrow=FALSE` je pretpostavljena vrijednost i ne mora se pisati)"
      ]
    },
    {
      "cell_type": "code",
      "execution_count": 1,
      "metadata": {
        "id": "SOITeIrc-SKY",
        "vscode": {
          "languageId": "r"
        },
        "outputId": "ec123e99-92f6-4e1c-b6fb-c6029da82240",
        "colab": {
          "base_uri": "https://localhost:8080/",
          "height": 195
        }
      },
      "outputs": [
        {
          "output_type": "display_data",
          "data": {
            "text/html": [
              "<table class=\"dataframe\">\n",
              "<caption>A matrix: 4 × 3 of type int</caption>\n",
              "<tbody>\n",
              "\t<tr><td>1</td><td>5</td><td> 9</td></tr>\n",
              "\t<tr><td>2</td><td>6</td><td>10</td></tr>\n",
              "\t<tr><td>3</td><td>7</td><td>11</td></tr>\n",
              "\t<tr><td>4</td><td>8</td><td>12</td></tr>\n",
              "</tbody>\n",
              "</table>\n"
            ],
            "text/markdown": "\nA matrix: 4 × 3 of type int\n\n| 1 | 5 |  9 |\n| 2 | 6 | 10 |\n| 3 | 7 | 11 |\n| 4 | 8 | 12 |\n\n",
            "text/latex": "A matrix: 4 × 3 of type int\n\\begin{tabular}{lll}\n\t 1 & 5 &  9\\\\\n\t 2 & 6 & 10\\\\\n\t 3 & 7 & 11\\\\\n\t 4 & 8 & 12\\\\\n\\end{tabular}\n",
            "text/plain": [
              "     [,1] [,2] [,3]\n",
              "[1,] 1    5     9  \n",
              "[2,] 2    6    10  \n",
              "[3,] 3    7    11  \n",
              "[4,] 4    8    12  "
            ]
          },
          "metadata": {}
        }
      ],
      "source": [
        "matrix(1:12, byrow=F, ncol=3)"
      ]
    },
    {
      "cell_type": "markdown",
      "metadata": {
        "id": "NvTks1zOgmEN"
      },
      "source": [
        "Matricu možemo *složiti* i od nekoliko vektora.  \n",
        "U slijedećem primjeru matricu `moja_matrica` smo napravili od tri vektora `redak1`, `redak2` i `redak3`   \n",
        "Ako bolje pogledate vidjeti ćete da je matrica zapravo vektor napravljen od vektora."
      ]
    },
    {
      "cell_type": "code",
      "execution_count": 2,
      "metadata": {
        "id": "DVLFdSvfg2mH",
        "vscode": {
          "languageId": "r"
        },
        "outputId": "edd30a0f-cd46-4f42-9b6d-177ece948145",
        "colab": {
          "base_uri": "https://localhost:8080/",
          "height": 163
        }
      },
      "outputs": [
        {
          "output_type": "display_data",
          "data": {
            "text/html": [
              "<table class=\"dataframe\">\n",
              "<caption>A matrix: 3 × 3 of type dbl</caption>\n",
              "<tbody>\n",
              "\t<tr><td>1</td><td>2</td><td>3</td></tr>\n",
              "\t<tr><td>4</td><td>5</td><td>6</td></tr>\n",
              "\t<tr><td>7</td><td>8</td><td>9</td></tr>\n",
              "</tbody>\n",
              "</table>\n"
            ],
            "text/markdown": "\nA matrix: 3 × 3 of type dbl\n\n| 1 | 2 | 3 |\n| 4 | 5 | 6 |\n| 7 | 8 | 9 |\n\n",
            "text/latex": "A matrix: 3 × 3 of type dbl\n\\begin{tabular}{lll}\n\t 1 & 2 & 3\\\\\n\t 4 & 5 & 6\\\\\n\t 7 & 8 & 9\\\\\n\\end{tabular}\n",
            "text/plain": [
              "     [,1] [,2] [,3]\n",
              "[1,] 1    2    3   \n",
              "[2,] 4    5    6   \n",
              "[3,] 7    8    9   "
            ]
          },
          "metadata": {}
        }
      ],
      "source": [
        "redak1<-c(1, 2, 3)\n",
        "redak2<-c(4, 5, 6)\n",
        "redak3<-c(7, 8, 9)\n",
        "\n",
        "moja_matrica<-matrix(c(redak1, redak2, redak3), ncol=3, byrow=T)\n",
        "\n",
        "moja_matrica"
      ]
    },
    {
      "cell_type": "markdown",
      "metadata": {
        "id": "sCn5JYIIg_o6"
      },
      "source": [
        "### Primjer...\n",
        "Napravimo matricu u kojoj ćemo imati temperature zraka ujutro, u podne i uvečer.  \n",
        "Mjerili smo četiri dana u tjednu i rezultate pohranili u četiri vektora:"
      ]
    },
    {
      "cell_type": "code",
      "execution_count": 3,
      "metadata": {
        "id": "YsZm_iwuhCZ0",
        "vscode": {
          "languageId": "r"
        }
      },
      "outputs": [],
      "source": [
        "pon <- c(6, 15, 19)\n",
        "uto <- c(0, 6, 7)\n",
        "sri <- c(-1, 4, 4)\n",
        "cet <- c(-1, 2, 1)"
      ]
    },
    {
      "cell_type": "markdown",
      "metadata": {
        "id": "n6pDMCEahG9j"
      },
      "source": [
        "Sada ćemo kreirati matricu od ta četiri vektora..."
      ]
    },
    {
      "cell_type": "code",
      "execution_count": 4,
      "metadata": {
        "id": "VoUFw63uhHuU",
        "vscode": {
          "languageId": "r"
        },
        "outputId": "af4fc116-1cef-4526-8dd5-c4330280c710",
        "colab": {
          "base_uri": "https://localhost:8080/",
          "height": 177
        }
      },
      "outputs": [
        {
          "output_type": "display_data",
          "data": {
            "text/html": [
              "<table class=\"dataframe\">\n",
              "<caption>A matrix: 4 × 3 of type dbl</caption>\n",
              "<tbody>\n",
              "\t<tr><td> 6</td><td>15</td><td>19</td></tr>\n",
              "\t<tr><td> 0</td><td> 6</td><td> 7</td></tr>\n",
              "\t<tr><td>-1</td><td> 4</td><td> 4</td></tr>\n",
              "\t<tr><td>-1</td><td> 2</td><td> 1</td></tr>\n",
              "</tbody>\n",
              "</table>\n"
            ],
            "text/markdown": "\nA matrix: 4 × 3 of type dbl\n\n|  6 | 15 | 19 |\n|  0 |  6 |  7 |\n| -1 |  4 |  4 |\n| -1 |  2 |  1 |\n\n",
            "text/latex": "A matrix: 4 × 3 of type dbl\n\\begin{tabular}{lll}\n\t  6 & 15 & 19\\\\\n\t  0 &  6 &  7\\\\\n\t -1 &  4 &  4\\\\\n\t -1 &  2 &  1\\\\\n\\end{tabular}\n",
            "text/plain": [
              "     [,1] [,2] [,3]\n",
              "[1,]  6   15   19  \n",
              "[2,]  0    6    7  \n",
              "[3,] -1    4    4  \n",
              "[4,] -1    2    1  "
            ]
          },
          "metadata": {}
        }
      ],
      "source": [
        "temperature_mat <- matrix(c(pon, uto, sri, cet), nrow=4, byrow=TRUE)\n",
        "temperature_mat"
      ]
    },
    {
      "cell_type": "markdown",
      "metadata": {
        "id": "YyaY1CE2hPCM"
      },
      "source": [
        "### Imenovanje redaka i stupaca\n",
        "Dakle, ako ispišemo našu matricu dobiti ćemo:"
      ]
    },
    {
      "cell_type": "code",
      "execution_count": 5,
      "metadata": {
        "id": "N4VsSKhMhRo6",
        "vscode": {
          "languageId": "r"
        },
        "outputId": "258e4ef0-f415-4120-e01a-c1f2507a4bba",
        "colab": {
          "base_uri": "https://localhost:8080/",
          "height": 177
        }
      },
      "outputs": [
        {
          "output_type": "display_data",
          "data": {
            "text/html": [
              "<table class=\"dataframe\">\n",
              "<caption>A matrix: 4 × 3 of type dbl</caption>\n",
              "<tbody>\n",
              "\t<tr><td> 6</td><td>15</td><td>19</td></tr>\n",
              "\t<tr><td> 0</td><td> 6</td><td> 7</td></tr>\n",
              "\t<tr><td>-1</td><td> 4</td><td> 4</td></tr>\n",
              "\t<tr><td>-1</td><td> 2</td><td> 1</td></tr>\n",
              "</tbody>\n",
              "</table>\n"
            ],
            "text/markdown": "\nA matrix: 4 × 3 of type dbl\n\n|  6 | 15 | 19 |\n|  0 |  6 |  7 |\n| -1 |  4 |  4 |\n| -1 |  2 |  1 |\n\n",
            "text/latex": "A matrix: 4 × 3 of type dbl\n\\begin{tabular}{lll}\n\t  6 & 15 & 19\\\\\n\t  0 &  6 &  7\\\\\n\t -1 &  4 &  4\\\\\n\t -1 &  2 &  1\\\\\n\\end{tabular}\n",
            "text/plain": [
              "     [,1] [,2] [,3]\n",
              "[1,]  6   15   19  \n",
              "[2,]  0    6    7  \n",
              "[3,] -1    4    4  \n",
              "[4,] -1    2    1  "
            ]
          },
          "metadata": {}
        }
      ],
      "source": [
        "temperature_mat"
      ]
    },
    {
      "cell_type": "markdown",
      "metadata": {
        "id": "mcAKwUQBhXIi"
      },
      "source": [
        "Ova matrica izgleda malo dosadno, suhoparno...  \n",
        "Kako da joj nešto nedostaje...  <br><br>\n",
        "...možda kada bi imala imena redaka i stupaca?  \n",
        "...probajmo <br><br>\n",
        "Kreirati ćemo dva vektora:"
      ]
    },
    {
      "cell_type": "code",
      "execution_count": 6,
      "metadata": {
        "id": "8-PMPpwchkAZ",
        "vscode": {
          "languageId": "r"
        }
      },
      "outputs": [],
      "source": [
        "imena_stupaca <- c('ujutro', 'podne', 'uvecer')\n",
        "imena_redaka <- c('pon', 'uto', 'sri', 'cet')"
      ]
    },
    {
      "cell_type": "markdown",
      "metadata": {
        "id": "ZZNcAD4AhqJR"
      },
      "source": [
        "I onda ih proglasiti imenima stupaca i redaka funkcijama `rownames` i `colnames`"
      ]
    },
    {
      "cell_type": "code",
      "execution_count": 7,
      "metadata": {
        "colab": {
          "base_uri": "https://localhost:8080/",
          "height": 192
        },
        "id": "MX7Ao2HThq9J",
        "outputId": "c02ac1ec-0176-45ab-a07a-2f9f0013574f",
        "vscode": {
          "languageId": "r"
        }
      },
      "outputs": [
        {
          "output_type": "display_data",
          "data": {
            "text/html": [
              "<table class=\"dataframe\">\n",
              "<caption>A matrix: 4 × 3 of type dbl</caption>\n",
              "<thead>\n",
              "\t<tr><th></th><th scope=col>ujutro</th><th scope=col>podne</th><th scope=col>uvecer</th></tr>\n",
              "</thead>\n",
              "<tbody>\n",
              "\t<tr><th scope=row>pon</th><td> 6</td><td>15</td><td>19</td></tr>\n",
              "\t<tr><th scope=row>uto</th><td> 0</td><td> 6</td><td> 7</td></tr>\n",
              "\t<tr><th scope=row>sri</th><td>-1</td><td> 4</td><td> 4</td></tr>\n",
              "\t<tr><th scope=row>cet</th><td>-1</td><td> 2</td><td> 1</td></tr>\n",
              "</tbody>\n",
              "</table>\n"
            ],
            "text/markdown": "\nA matrix: 4 × 3 of type dbl\n\n| <!--/--> | ujutro | podne | uvecer |\n|---|---|---|---|\n| pon |  6 | 15 | 19 |\n| uto |  0 |  6 |  7 |\n| sri | -1 |  4 |  4 |\n| cet | -1 |  2 |  1 |\n\n",
            "text/latex": "A matrix: 4 × 3 of type dbl\n\\begin{tabular}{r|lll}\n  & ujutro & podne & uvecer\\\\\n\\hline\n\tpon &  6 & 15 & 19\\\\\n\tuto &  0 &  6 &  7\\\\\n\tsri & -1 &  4 &  4\\\\\n\tcet & -1 &  2 &  1\\\\\n\\end{tabular}\n",
            "text/plain": [
              "    ujutro podne uvecer\n",
              "pon  6     15    19    \n",
              "uto  0      6     7    \n",
              "sri -1      4     4    \n",
              "cet -1      2     1    "
            ]
          },
          "metadata": {}
        }
      ],
      "source": [
        "#rownames(temperature_mat) <- c('p','u','s','c')\n",
        "rownames(temperature_mat) <- imena_redaka\n",
        "colnames(temperature_mat) <- imena_stupaca\n",
        "temperature_mat"
      ]
    },
    {
      "cell_type": "markdown",
      "metadata": {
        "id": "Y-aN6FkUh90_"
      },
      "source": [
        "Sada je puno bolje..."
      ]
    },
    {
      "cell_type": "markdown",
      "metadata": {
        "id": "iHXpVVHdh_G3"
      },
      "source": [
        "## Ljudi zbrojimo se malo...\n",
        "Redke i stupce naše matrice možemo zbrajati.  \n",
        "Za to koristimo funkcije `rowSums()` i `colSums()`<br><br>\n",
        "#### Zadatak\n",
        "Napravite matricu `parni_mat` koja sadrži sve parne brojeve od 2 do 18 u matrici veličine 3 x 3  \n",
        "Zatim ispišite sume njezinih redaka i stupaca."
      ]
    },
    {
      "cell_type": "code",
      "execution_count": 8,
      "metadata": {
        "id": "JMubA5KHiDiJ",
        "vscode": {
          "languageId": "r"
        },
        "outputId": "522398d6-d314-454c-c852-131caed4b846",
        "colab": {
          "base_uri": "https://localhost:8080/",
          "height": 181
        }
      },
      "outputs": [
        {
          "output_type": "display_data",
          "data": {
            "text/html": [
              "<table class=\"dataframe\">\n",
              "<caption>A matrix: 3 × 3 of type dbl</caption>\n",
              "<tbody>\n",
              "\t<tr><td> 2</td><td> 4</td><td> 6</td></tr>\n",
              "\t<tr><td> 8</td><td>10</td><td>12</td></tr>\n",
              "\t<tr><td>14</td><td>16</td><td>18</td></tr>\n",
              "</tbody>\n",
              "</table>\n"
            ],
            "text/markdown": "\nA matrix: 3 × 3 of type dbl\n\n|  2 |  4 |  6 |\n|  8 | 10 | 12 |\n| 14 | 16 | 18 |\n\n",
            "text/latex": "A matrix: 3 × 3 of type dbl\n\\begin{tabular}{lll}\n\t  2 &  4 &  6\\\\\n\t  8 & 10 & 12\\\\\n\t 14 & 16 & 18\\\\\n\\end{tabular}\n",
            "text/plain": [
              "     [,1] [,2] [,3]\n",
              "[1,]  2    4    6  \n",
              "[2,]  8   10   12  \n",
              "[3,] 14   16   18  "
            ]
          },
          "metadata": {}
        },
        {
          "output_type": "display_data",
          "data": {
            "text/html": [
              "<style>\n",
              ".list-inline {list-style: none; margin:0; padding: 0}\n",
              ".list-inline>li {display: inline-block}\n",
              ".list-inline>li:not(:last-child)::after {content: \"\\00b7\"; padding: 0 .5ex}\n",
              "</style>\n",
              "<ol class=list-inline><li>12</li><li>30</li><li>48</li></ol>\n"
            ],
            "text/markdown": "1. 12\n2. 30\n3. 48\n\n\n",
            "text/latex": "\\begin{enumerate*}\n\\item 12\n\\item 30\n\\item 48\n\\end{enumerate*}\n",
            "text/plain": [
              "[1] 12 30 48"
            ]
          },
          "metadata": {}
        },
        {
          "output_type": "display_data",
          "data": {
            "text/html": [
              "<style>\n",
              ".list-inline {list-style: none; margin:0; padding: 0}\n",
              ".list-inline>li {display: inline-block}\n",
              ".list-inline>li:not(:last-child)::after {content: \"\\00b7\"; padding: 0 .5ex}\n",
              "</style>\n",
              "<ol class=list-inline><li>24</li><li>30</li><li>36</li></ol>\n"
            ],
            "text/markdown": "1. 24\n2. 30\n3. 36\n\n\n",
            "text/latex": "\\begin{enumerate*}\n\\item 24\n\\item 30\n\\item 36\n\\end{enumerate*}\n",
            "text/plain": [
              "[1] 24 30 36"
            ]
          },
          "metadata": {}
        }
      ],
      "source": [
        "# vektor može biti c(2, 4, 6, 8, 10, 12, 14, 16, 18) ili seq(2,18,2) ili c(1:9)*2\n",
        "parni_mat <- matrix(c(1:9)*2, byrow=T, ncol=3)\n",
        "parni_mat\n",
        "rowSums(parni_mat)\n",
        "colSums(parni_mat)"
      ]
    },
    {
      "cell_type": "markdown",
      "metadata": {
        "id": "4JHVxpe2iOeZ"
      },
      "source": [
        "### Kad će taj petak\n",
        "Više matrica možemo spojiti u jednu funkcijom `cbind()` ili `rbind()`  \n",
        "Pogađate cbind spaja po stupcima, a rbind spaja po redcima.  \n",
        "Imajte u vidu da vektor možemo smatrati kao matricu sa jednim retkom (stupcem).<br><br>\n",
        "Dodajmo našoj matrici `temperature_mat` vektor sa mjerenjima od petka..."
      ]
    },
    {
      "cell_type": "code",
      "execution_count": 9,
      "metadata": {
        "id": "d36Wx8h1iRuI",
        "vscode": {
          "languageId": "r"
        },
        "outputId": "cd10b0d7-0052-430d-b671-28dd83913b2d",
        "colab": {
          "base_uri": "https://localhost:8080/",
          "height": 224
        }
      },
      "outputs": [
        {
          "output_type": "display_data",
          "data": {
            "text/html": [
              "<table class=\"dataframe\">\n",
              "<caption>A matrix: 5 × 3 of type dbl</caption>\n",
              "<thead>\n",
              "\t<tr><th></th><th scope=col>ujutro</th><th scope=col>podne</th><th scope=col>uvecer</th></tr>\n",
              "</thead>\n",
              "<tbody>\n",
              "\t<tr><th scope=row>pon</th><td> 6</td><td>15</td><td>19</td></tr>\n",
              "\t<tr><th scope=row>uto</th><td> 0</td><td> 6</td><td> 7</td></tr>\n",
              "\t<tr><th scope=row>sri</th><td>-1</td><td> 4</td><td> 4</td></tr>\n",
              "\t<tr><th scope=row>cet</th><td>-1</td><td> 2</td><td> 1</td></tr>\n",
              "\t<tr><th scope=row>pet</th><td> 4</td><td>12</td><td>18</td></tr>\n",
              "</tbody>\n",
              "</table>\n"
            ],
            "text/markdown": "\nA matrix: 5 × 3 of type dbl\n\n| <!--/--> | ujutro | podne | uvecer |\n|---|---|---|---|\n| pon |  6 | 15 | 19 |\n| uto |  0 |  6 |  7 |\n| sri | -1 |  4 |  4 |\n| cet | -1 |  2 |  1 |\n| pet |  4 | 12 | 18 |\n\n",
            "text/latex": "A matrix: 5 × 3 of type dbl\n\\begin{tabular}{r|lll}\n  & ujutro & podne & uvecer\\\\\n\\hline\n\tpon &  6 & 15 & 19\\\\\n\tuto &  0 &  6 &  7\\\\\n\tsri & -1 &  4 &  4\\\\\n\tcet & -1 &  2 &  1\\\\\n\tpet &  4 & 12 & 18\\\\\n\\end{tabular}\n",
            "text/plain": [
              "    ujutro podne uvecer\n",
              "pon  6     15    19    \n",
              "uto  0      6     7    \n",
              "sri -1      4     4    \n",
              "cet -1      2     1    \n",
              "pet  4     12    18    "
            ]
          },
          "metadata": {}
        }
      ],
      "source": [
        "pet<-c(4, 12, 18)\n",
        "rbind(temperature_mat, pet)"
      ]
    },
    {
      "cell_type": "markdown",
      "metadata": {
        "id": "LlVgTwPZiXw_"
      },
      "source": [
        "### Zadatak\n",
        "Kreirajte vektor `pet` sa vrijednostima 4, 12 i 18 i dodajte ga našoj matrici `temperature_mat`  \n",
        "Kreirajte vektor `sub` sa vrijednostima 2, 4 i 6 i dodajte ga našoj matrici `temperature_mat`  \n",
        "Kreirajte vektor `ned` sa vrijednostima 1, 2 i 3 i dodajte ga našoj matrici `temperature_mat`   \n",
        "Kreirajte vektor `noc` sa sa svim vrijednostima jednakim 0 i dodajte ga kao četvrti stupac u našu matricu.  \n",
        "### Rješenje"
      ]
    },
    {
      "cell_type": "code",
      "execution_count": 10,
      "metadata": {
        "id": "oYYvQyyniiVo",
        "vscode": {
          "languageId": "r"
        },
        "outputId": "499c8b47-86b8-4018-b777-0de74aac93ec",
        "colab": {
          "base_uri": "https://localhost:8080/",
          "height": 286
        }
      },
      "outputs": [
        {
          "output_type": "display_data",
          "data": {
            "text/html": [
              "<table class=\"dataframe\">\n",
              "<caption>A matrix: 7 × 4 of type dbl</caption>\n",
              "<thead>\n",
              "\t<tr><th></th><th scope=col>ujutro</th><th scope=col>podne</th><th scope=col>uvecer</th><th scope=col>noc</th></tr>\n",
              "</thead>\n",
              "<tbody>\n",
              "\t<tr><th scope=row>pon</th><td> 6</td><td>15</td><td>19</td><td>0</td></tr>\n",
              "\t<tr><th scope=row>uto</th><td> 0</td><td> 6</td><td> 7</td><td>0</td></tr>\n",
              "\t<tr><th scope=row>sri</th><td>-1</td><td> 4</td><td> 4</td><td>0</td></tr>\n",
              "\t<tr><th scope=row>cet</th><td>-1</td><td> 2</td><td> 1</td><td>0</td></tr>\n",
              "\t<tr><th scope=row>pet</th><td> 4</td><td>12</td><td>18</td><td>0</td></tr>\n",
              "\t<tr><th scope=row>sub</th><td> 2</td><td> 4</td><td> 6</td><td>0</td></tr>\n",
              "\t<tr><th scope=row>ned</th><td> 1</td><td> 2</td><td> 3</td><td>0</td></tr>\n",
              "</tbody>\n",
              "</table>\n"
            ],
            "text/markdown": "\nA matrix: 7 × 4 of type dbl\n\n| <!--/--> | ujutro | podne | uvecer | noc |\n|---|---|---|---|---|\n| pon |  6 | 15 | 19 | 0 |\n| uto |  0 |  6 |  7 | 0 |\n| sri | -1 |  4 |  4 | 0 |\n| cet | -1 |  2 |  1 | 0 |\n| pet |  4 | 12 | 18 | 0 |\n| sub |  2 |  4 |  6 | 0 |\n| ned |  1 |  2 |  3 | 0 |\n\n",
            "text/latex": "A matrix: 7 × 4 of type dbl\n\\begin{tabular}{r|llll}\n  & ujutro & podne & uvecer & noc\\\\\n\\hline\n\tpon &  6 & 15 & 19 & 0\\\\\n\tuto &  0 &  6 &  7 & 0\\\\\n\tsri & -1 &  4 &  4 & 0\\\\\n\tcet & -1 &  2 &  1 & 0\\\\\n\tpet &  4 & 12 & 18 & 0\\\\\n\tsub &  2 &  4 &  6 & 0\\\\\n\tned &  1 &  2 &  3 & 0\\\\\n\\end{tabular}\n",
            "text/plain": [
              "    ujutro podne uvecer noc\n",
              "pon  6     15    19     0  \n",
              "uto  0      6     7     0  \n",
              "sri -1      4     4     0  \n",
              "cet -1      2     1     0  \n",
              "pet  4     12    18     0  \n",
              "sub  2      4     6     0  \n",
              "ned  1      2     3     0  "
            ]
          },
          "metadata": {}
        }
      ],
      "source": [
        "pet <- c(4, 12, 18)\n",
        "sub <- c(2, 4, 6)\n",
        "ned <- c(1, 2, 3)\n",
        "temperature_mat <- rbind(temperature_mat, pet, sub, ned)\n",
        "\n",
        "noc <- c(0,0,0,0,0,0,0)\n",
        "temperature_mat <- cbind(temperature_mat, noc)\n",
        "temperature_mat"
      ]
    },
    {
      "cell_type": "markdown",
      "metadata": {
        "id": "nASAoziIimrZ"
      },
      "source": [
        "### I zlatna sredina...\n",
        "Znamo još od ranije da se prosjek računa funkcijom `mean()`  \n",
        "Za početak ispišite stupac `podne` iz naše matrice."
      ]
    },
    {
      "cell_type": "code",
      "execution_count": 11,
      "metadata": {
        "id": "1MGMOAM9ipWI",
        "vscode": {
          "languageId": "r"
        },
        "outputId": "bb3c56ca-4430-4605-ee42-7cfda68f7840",
        "colab": {
          "base_uri": "https://localhost:8080/",
          "height": 34
        }
      },
      "outputs": [
        {
          "output_type": "display_data",
          "data": {
            "text/html": [
              "<style>\n",
              ".dl-inline {width: auto; margin:0; padding: 0}\n",
              ".dl-inline>dt, .dl-inline>dd {float: none; width: auto; display: inline-block}\n",
              ".dl-inline>dt::after {content: \":\\0020\"; padding-right: .5ex}\n",
              ".dl-inline>dt:not(:first-of-type) {padding-left: .5ex}\n",
              "</style><dl class=dl-inline><dt>pon</dt><dd>15</dd><dt>uto</dt><dd>6</dd><dt>sri</dt><dd>4</dd><dt>cet</dt><dd>2</dd><dt>pet</dt><dd>12</dd><dt>sub</dt><dd>4</dd><dt>ned</dt><dd>2</dd></dl>\n"
            ],
            "text/markdown": "pon\n:   15uto\n:   6sri\n:   4cet\n:   2pet\n:   12sub\n:   4ned\n:   2\n\n",
            "text/latex": "\\begin{description*}\n\\item[pon] 15\n\\item[uto] 6\n\\item[sri] 4\n\\item[cet] 2\n\\item[pet] 12\n\\item[sub] 4\n\\item[ned] 2\n\\end{description*}\n",
            "text/plain": [
              "pon uto sri cet pet sub ned \n",
              " 15   6   4   2  12   4   2 "
            ]
          },
          "metadata": {}
        }
      ],
      "source": [
        "# temperature_mat[,2]\n",
        "temperature_mat[,'podne']"
      ]
    },
    {
      "cell_type": "markdown",
      "metadata": {
        "id": "s3mMHwcjiswg"
      },
      "source": [
        "A zatim izračunamo prosječnu temperaturu u podne..."
      ]
    },
    {
      "cell_type": "code",
      "execution_count": 12,
      "metadata": {
        "id": "P00xCl-Kiw3o",
        "vscode": {
          "languageId": "r"
        },
        "outputId": "9029b6cc-93b0-442c-edc1-20f634bdf1c1",
        "colab": {
          "base_uri": "https://localhost:8080/",
          "height": 34
        }
      },
      "outputs": [
        {
          "output_type": "display_data",
          "data": {
            "text/html": [
              "6.42857142857143"
            ],
            "text/markdown": "6.42857142857143",
            "text/latex": "6.42857142857143",
            "text/plain": [
              "[1] 6.428571"
            ]
          },
          "metadata": {}
        }
      ],
      "source": [
        "mean(temperature_mat[,2])"
      ]
    },
    {
      "cell_type": "markdown",
      "metadata": {
        "id": "lNYlhdv9i0rx"
      },
      "source": [
        "### Zadatak za kraj...\n",
        "Ispišite vrijednosti temperatura za vikend.  \n",
        "Kolika je prosječna jutarnja temperatura radnim danom?"
      ]
    },
    {
      "cell_type": "code",
      "execution_count": 13,
      "metadata": {
        "id": "90-OgBH8i3RP",
        "vscode": {
          "languageId": "r"
        },
        "outputId": "d61e08e6-71c8-45e4-b0eb-0179b90f79fb",
        "colab": {
          "base_uri": "https://localhost:8080/",
          "height": 147
        }
      },
      "outputs": [
        {
          "output_type": "display_data",
          "data": {
            "text/html": [
              "<table class=\"dataframe\">\n",
              "<caption>A matrix: 2 × 4 of type dbl</caption>\n",
              "<thead>\n",
              "\t<tr><th></th><th scope=col>ujutro</th><th scope=col>podne</th><th scope=col>uvecer</th><th scope=col>noc</th></tr>\n",
              "</thead>\n",
              "<tbody>\n",
              "\t<tr><th scope=row>sub</th><td>2</td><td>4</td><td>6</td><td>0</td></tr>\n",
              "\t<tr><th scope=row>ned</th><td>1</td><td>2</td><td>3</td><td>0</td></tr>\n",
              "</tbody>\n",
              "</table>\n"
            ],
            "text/markdown": "\nA matrix: 2 × 4 of type dbl\n\n| <!--/--> | ujutro | podne | uvecer | noc |\n|---|---|---|---|---|\n| sub | 2 | 4 | 6 | 0 |\n| ned | 1 | 2 | 3 | 0 |\n\n",
            "text/latex": "A matrix: 2 × 4 of type dbl\n\\begin{tabular}{r|llll}\n  & ujutro & podne & uvecer & noc\\\\\n\\hline\n\tsub & 2 & 4 & 6 & 0\\\\\n\tned & 1 & 2 & 3 & 0\\\\\n\\end{tabular}\n",
            "text/plain": [
              "    ujutro podne uvecer noc\n",
              "sub 2      4     6      0  \n",
              "ned 1      2     3      0  "
            ]
          },
          "metadata": {}
        },
        {
          "output_type": "display_data",
          "data": {
            "text/html": [
              "1.6"
            ],
            "text/markdown": "1.6",
            "text/latex": "1.6",
            "text/plain": [
              "[1] 1.6"
            ]
          },
          "metadata": {}
        }
      ],
      "source": [
        "temperature_mat[6:7,]\n",
        "mean(temperature_mat[1:5, 1])"
      ]
    }
  ],
  "metadata": {
    "colab": {
      "name": "3.ipynb",
      "provenance": []
    },
    "kernelspec": {
      "display_name": "R",
      "name": "ir"
    }
  },
  "nbformat": 4,
  "nbformat_minor": 0
}