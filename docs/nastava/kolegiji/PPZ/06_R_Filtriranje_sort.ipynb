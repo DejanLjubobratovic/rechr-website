{
  "cells": [
    {
      "cell_type": "markdown",
      "metadata": {
        "id": "fwYqK4gaaVv_"
      },
      "source": [
        "# 6. Filtriranje, sortiranje i mijenjanje (mutate) podataka\n",
        "### *gapminder* dataset\n",
        "U ovoj vježbi koristit ćemo dva paketa:  \n",
        "- `gapminder` - koji predstavlja skup podataka (dataset)\n",
        "- `dplyr` - koji sadrži funkcije za manipuliranje podacima (`filter`, `arrange`, `mutate`, ...) <br>\n",
        "\n",
        "Gapminder dataset je izvadak podataka dostupan na gapminder.org za 142 države (uključujući Hrvatsku), a paket osigurava vrijednosti  \n",
        "očekivanog trajanja života, BDP-a po glavi stanovnika te broj stanovnika mjerenih svakih pet godina od 1952. do 2007. godine.  \n",
        "U svakom slučaju vrlo interesantan skup za vježbanje.<br><br>\n",
        "Na samom početku ćemo instalirati ta dva paketa: `gapminder` i `dplyr`"
      ]
    },
    {
      "cell_type": "code",
      "execution_count": 1,
      "metadata": {
        "colab": {
          "base_uri": "https://localhost:8080/"
        },
        "id": "SOITeIrc-SKY",
        "outputId": "f556f2d2-24a2-4824-c679-a22c7122a9e8",
        "vscode": {
          "languageId": "r"
        }
      },
      "outputs": [
        {
          "output_type": "stream",
          "name": "stderr",
          "text": [
            "Installing package into ‘/usr/local/lib/R/site-library’\n",
            "(as ‘lib’ is unspecified)\n",
            "\n",
            "Installing package into ‘/usr/local/lib/R/site-library’\n",
            "(as ‘lib’ is unspecified)\n",
            "\n"
          ]
        }
      ],
      "source": [
        "# Učitavamo pakete gapminder i dplyr\n",
        "# Ukoliko ih nemamo u sustavu moramo ih instalirati naredbama\n",
        "install.packages('gapminder')\n",
        "install.packages('dplyr')"
      ]
    },
    {
      "cell_type": "markdown",
      "metadata": {
        "id": "nUybCCCHb9Ln"
      },
      "source": [
        "A, zatim ćemo ih učitati:"
      ]
    },
    {
      "cell_type": "code",
      "execution_count": 2,
      "metadata": {
        "colab": {
          "base_uri": "https://localhost:8080/"
        },
        "id": "1eg5BdgMaU0Z",
        "outputId": "4fad1bbb-034b-40f6-930b-d99c9054302a",
        "vscode": {
          "languageId": "r"
        }
      },
      "outputs": [
        {
          "output_type": "stream",
          "name": "stderr",
          "text": [
            "\n",
            "Attaching package: ‘dplyr’\n",
            "\n",
            "\n",
            "The following objects are masked from ‘package:stats’:\n",
            "\n",
            "    filter, lag\n",
            "\n",
            "\n",
            "The following objects are masked from ‘package:base’:\n",
            "\n",
            "    intersect, setdiff, setequal, union\n",
            "\n",
            "\n"
          ]
        }
      ],
      "source": [
        "library(gapminder)\n",
        "library(dplyr)"
      ]
    },
    {
      "cell_type": "markdown",
      "metadata": {
        "id": "E7d49DdicEJv"
      },
      "source": [
        "Pogledajmo sada prvih nekoliko zapisa `gapminder` dataseta: "
      ]
    },
    {
      "cell_type": "code",
      "execution_count": 3,
      "metadata": {
        "colab": {
          "base_uri": "https://localhost:8080/",
          "height": 286
        },
        "id": "PhJ1e3xlcR2_",
        "outputId": "97d4f625-977d-472b-d5fd-3381c4f7d9c5",
        "vscode": {
          "languageId": "r"
        }
      },
      "outputs": [
        {
          "output_type": "display_data",
          "data": {
            "text/html": [
              "<table class=\"dataframe\">\n",
              "<caption>A tibble: 6 × 6</caption>\n",
              "<thead>\n",
              "\t<tr><th scope=col>country</th><th scope=col>continent</th><th scope=col>year</th><th scope=col>lifeExp</th><th scope=col>pop</th><th scope=col>gdpPercap</th></tr>\n",
              "\t<tr><th scope=col>&lt;fct&gt;</th><th scope=col>&lt;fct&gt;</th><th scope=col>&lt;int&gt;</th><th scope=col>&lt;dbl&gt;</th><th scope=col>&lt;int&gt;</th><th scope=col>&lt;dbl&gt;</th></tr>\n",
              "</thead>\n",
              "<tbody>\n",
              "\t<tr><td>Afghanistan</td><td>Asia</td><td>1952</td><td>28.801</td><td> 8425333</td><td>779.4453</td></tr>\n",
              "\t<tr><td>Afghanistan</td><td>Asia</td><td>1957</td><td>30.332</td><td> 9240934</td><td>820.8530</td></tr>\n",
              "\t<tr><td>Afghanistan</td><td>Asia</td><td>1962</td><td>31.997</td><td>10267083</td><td>853.1007</td></tr>\n",
              "\t<tr><td>Afghanistan</td><td>Asia</td><td>1967</td><td>34.020</td><td>11537966</td><td>836.1971</td></tr>\n",
              "\t<tr><td>Afghanistan</td><td>Asia</td><td>1972</td><td>36.088</td><td>13079460</td><td>739.9811</td></tr>\n",
              "\t<tr><td>Afghanistan</td><td>Asia</td><td>1977</td><td>38.438</td><td>14880372</td><td>786.1134</td></tr>\n",
              "</tbody>\n",
              "</table>\n"
            ],
            "text/markdown": "\nA tibble: 6 × 6\n\n| country &lt;fct&gt; | continent &lt;fct&gt; | year &lt;int&gt; | lifeExp &lt;dbl&gt; | pop &lt;int&gt; | gdpPercap &lt;dbl&gt; |\n|---|---|---|---|---|---|\n| Afghanistan | Asia | 1952 | 28.801 |  8425333 | 779.4453 |\n| Afghanistan | Asia | 1957 | 30.332 |  9240934 | 820.8530 |\n| Afghanistan | Asia | 1962 | 31.997 | 10267083 | 853.1007 |\n| Afghanistan | Asia | 1967 | 34.020 | 11537966 | 836.1971 |\n| Afghanistan | Asia | 1972 | 36.088 | 13079460 | 739.9811 |\n| Afghanistan | Asia | 1977 | 38.438 | 14880372 | 786.1134 |\n\n",
            "text/latex": "A tibble: 6 × 6\n\\begin{tabular}{llllll}\n country & continent & year & lifeExp & pop & gdpPercap\\\\\n <fct> & <fct> & <int> & <dbl> & <int> & <dbl>\\\\\n\\hline\n\t Afghanistan & Asia & 1952 & 28.801 &  8425333 & 779.4453\\\\\n\t Afghanistan & Asia & 1957 & 30.332 &  9240934 & 820.8530\\\\\n\t Afghanistan & Asia & 1962 & 31.997 & 10267083 & 853.1007\\\\\n\t Afghanistan & Asia & 1967 & 34.020 & 11537966 & 836.1971\\\\\n\t Afghanistan & Asia & 1972 & 36.088 & 13079460 & 739.9811\\\\\n\t Afghanistan & Asia & 1977 & 38.438 & 14880372 & 786.1134\\\\\n\\end{tabular}\n",
            "text/plain": [
              "  country     continent year lifeExp pop      gdpPercap\n",
              "1 Afghanistan Asia      1952 28.801   8425333 779.4453 \n",
              "2 Afghanistan Asia      1957 30.332   9240934 820.8530 \n",
              "3 Afghanistan Asia      1962 31.997  10267083 853.1007 \n",
              "4 Afghanistan Asia      1967 34.020  11537966 836.1971 \n",
              "5 Afghanistan Asia      1972 36.088  13079460 739.9811 \n",
              "6 Afghanistan Asia      1977 38.438  14880372 786.1134 "
            ]
          },
          "metadata": {}
        }
      ],
      "source": [
        "head(gapminder)"
      ]
    },
    {
      "cell_type": "markdown",
      "metadata": {
        "id": "-3lgrNWBaf4h"
      },
      "source": [
        "Iz ovog kratkog pregleda možemo vidjeti da baza sadrži 6 stupaca, tj varijabli.  \n",
        "Ukoliko unesemo ime dataseta vidjeti ćemo sve podatke tj. 1704 redka (mjerenja, opservacije, opažanja).  \n",
        "Nemamo toliko mjesta na ekranu, pa ćemo radije pogledati strukture naše baze."
      ]
    },
    {
      "cell_type": "code",
      "execution_count": 4,
      "metadata": {
        "colab": {
          "base_uri": "https://localhost:8080/"
        },
        "id": "VZ35v9U9ailQ",
        "outputId": "34ce8372-11c3-49f7-9cf9-2db91b3d8b76",
        "vscode": {
          "languageId": "r"
        }
      },
      "outputs": [
        {
          "output_type": "stream",
          "name": "stdout",
          "text": [
            "tibble [1,704 × 6] (S3: tbl_df/tbl/data.frame)\n",
            " $ country  : Factor w/ 142 levels \"Afghanistan\",..: 1 1 1 1 1 1 1 1 1 1 ...\n",
            " $ continent: Factor w/ 5 levels \"Africa\",\"Americas\",..: 3 3 3 3 3 3 3 3 3 3 ...\n",
            " $ year     : int [1:1704] 1952 1957 1962 1967 1972 1977 1982 1987 1992 1997 ...\n",
            " $ lifeExp  : num [1:1704] 28.8 30.3 32 34 36.1 ...\n",
            " $ pop      : int [1:1704] 8425333 9240934 10267083 11537966 13079460 14880372 12881816 13867957 16317921 22227415 ...\n",
            " $ gdpPercap: num [1:1704] 779 821 853 836 740 ...\n"
          ]
        }
      ],
      "source": [
        "str(gapminder)"
      ]
    },
    {
      "cell_type": "markdown",
      "metadata": {
        "id": "fuX1htFWajKA"
      },
      "source": [
        "## Filtriranje\n",
        "Filtriranje ćemo često koristiti kod analize i vizualizacije podataka.  \n",
        "U tu svrhu koristiti ćemo oznaku `%>%` (pipe) i funkciju `filter()` koja treba sadržavati neki kriterij.<br><br>\n",
        "**Primjer:** Prikažite sva mjerenja iz 2007. godine.  \n",
        "Primjećujete da se dvostruko \"=\" koristi za uspoređivanje."
      ]
    },
    {
      "cell_type": "code",
      "execution_count": 5,
      "metadata": {
        "colab": {
          "base_uri": "https://localhost:8080/",
          "height": 1000
        },
        "id": "wRJKv-2GamUI",
        "outputId": "c4c767bf-3818-485b-d96b-5066ba8723aa",
        "vscode": {
          "languageId": "r"
        }
      },
      "outputs": [
        {
          "output_type": "display_data",
          "data": {
            "text/html": [
              "<table class=\"dataframe\">\n",
              "<caption>A tibble: 142 × 6</caption>\n",
              "<thead>\n",
              "\t<tr><th scope=col>country</th><th scope=col>continent</th><th scope=col>year</th><th scope=col>lifeExp</th><th scope=col>pop</th><th scope=col>gdpPercap</th></tr>\n",
              "\t<tr><th scope=col>&lt;fct&gt;</th><th scope=col>&lt;fct&gt;</th><th scope=col>&lt;int&gt;</th><th scope=col>&lt;dbl&gt;</th><th scope=col>&lt;int&gt;</th><th scope=col>&lt;dbl&gt;</th></tr>\n",
              "</thead>\n",
              "<tbody>\n",
              "\t<tr><td>Afghanistan             </td><td>Asia    </td><td>2007</td><td>43.828</td><td>  31889923</td><td>  974.5803</td></tr>\n",
              "\t<tr><td>Albania                 </td><td>Europe  </td><td>2007</td><td>76.423</td><td>   3600523</td><td> 5937.0295</td></tr>\n",
              "\t<tr><td>Algeria                 </td><td>Africa  </td><td>2007</td><td>72.301</td><td>  33333216</td><td> 6223.3675</td></tr>\n",
              "\t<tr><td>Angola                  </td><td>Africa  </td><td>2007</td><td>42.731</td><td>  12420476</td><td> 4797.2313</td></tr>\n",
              "\t<tr><td>Argentina               </td><td>Americas</td><td>2007</td><td>75.320</td><td>  40301927</td><td>12779.3796</td></tr>\n",
              "\t<tr><td>Australia               </td><td>Oceania </td><td>2007</td><td>81.235</td><td>  20434176</td><td>34435.3674</td></tr>\n",
              "\t<tr><td>Austria                 </td><td>Europe  </td><td>2007</td><td>79.829</td><td>   8199783</td><td>36126.4927</td></tr>\n",
              "\t<tr><td>Bahrain                 </td><td>Asia    </td><td>2007</td><td>75.635</td><td>    708573</td><td>29796.0483</td></tr>\n",
              "\t<tr><td>Bangladesh              </td><td>Asia    </td><td>2007</td><td>64.062</td><td> 150448339</td><td> 1391.2538</td></tr>\n",
              "\t<tr><td>Belgium                 </td><td>Europe  </td><td>2007</td><td>79.441</td><td>  10392226</td><td>33692.6051</td></tr>\n",
              "\t<tr><td>Benin                   </td><td>Africa  </td><td>2007</td><td>56.728</td><td>   8078314</td><td> 1441.2849</td></tr>\n",
              "\t<tr><td>Bolivia                 </td><td>Americas</td><td>2007</td><td>65.554</td><td>   9119152</td><td> 3822.1371</td></tr>\n",
              "\t<tr><td>Bosnia and Herzegovina  </td><td>Europe  </td><td>2007</td><td>74.852</td><td>   4552198</td><td> 7446.2988</td></tr>\n",
              "\t<tr><td>Botswana                </td><td>Africa  </td><td>2007</td><td>50.728</td><td>   1639131</td><td>12569.8518</td></tr>\n",
              "\t<tr><td>Brazil                  </td><td>Americas</td><td>2007</td><td>72.390</td><td> 190010647</td><td> 9065.8008</td></tr>\n",
              "\t<tr><td>Bulgaria                </td><td>Europe  </td><td>2007</td><td>73.005</td><td>   7322858</td><td>10680.7928</td></tr>\n",
              "\t<tr><td>Burkina Faso            </td><td>Africa  </td><td>2007</td><td>52.295</td><td>  14326203</td><td> 1217.0330</td></tr>\n",
              "\t<tr><td>Burundi                 </td><td>Africa  </td><td>2007</td><td>49.580</td><td>   8390505</td><td>  430.0707</td></tr>\n",
              "\t<tr><td>Cambodia                </td><td>Asia    </td><td>2007</td><td>59.723</td><td>  14131858</td><td> 1713.7787</td></tr>\n",
              "\t<tr><td>Cameroon                </td><td>Africa  </td><td>2007</td><td>50.430</td><td>  17696293</td><td> 2042.0952</td></tr>\n",
              "\t<tr><td>Canada                  </td><td>Americas</td><td>2007</td><td>80.653</td><td>  33390141</td><td>36319.2350</td></tr>\n",
              "\t<tr><td>Central African Republic</td><td>Africa  </td><td>2007</td><td>44.741</td><td>   4369038</td><td>  706.0165</td></tr>\n",
              "\t<tr><td>Chad                    </td><td>Africa  </td><td>2007</td><td>50.651</td><td>  10238807</td><td> 1704.0637</td></tr>\n",
              "\t<tr><td>Chile                   </td><td>Americas</td><td>2007</td><td>78.553</td><td>  16284741</td><td>13171.6388</td></tr>\n",
              "\t<tr><td>China                   </td><td>Asia    </td><td>2007</td><td>72.961</td><td>1318683096</td><td> 4959.1149</td></tr>\n",
              "\t<tr><td>Colombia                </td><td>Americas</td><td>2007</td><td>72.889</td><td>  44227550</td><td> 7006.5804</td></tr>\n",
              "\t<tr><td>Comoros                 </td><td>Africa  </td><td>2007</td><td>65.152</td><td>    710960</td><td>  986.1479</td></tr>\n",
              "\t<tr><td>Congo, Dem. Rep.        </td><td>Africa  </td><td>2007</td><td>46.462</td><td>  64606759</td><td>  277.5519</td></tr>\n",
              "\t<tr><td>Congo, Rep.             </td><td>Africa  </td><td>2007</td><td>55.322</td><td>   3800610</td><td> 3632.5578</td></tr>\n",
              "\t<tr><td>Costa Rica              </td><td>Americas</td><td>2007</td><td>78.782</td><td>   4133884</td><td> 9645.0614</td></tr>\n",
              "\t<tr><td>⋮</td><td>⋮</td><td>⋮</td><td>⋮</td><td>⋮</td><td>⋮</td></tr>\n",
              "\t<tr><td>Sierra Leone       </td><td>Africa  </td><td>2007</td><td>42.568</td><td>  6144562</td><td>  862.5408</td></tr>\n",
              "\t<tr><td>Singapore          </td><td>Asia    </td><td>2007</td><td>79.972</td><td>  4553009</td><td>47143.1796</td></tr>\n",
              "\t<tr><td>Slovak Republic    </td><td>Europe  </td><td>2007</td><td>74.663</td><td>  5447502</td><td>18678.3144</td></tr>\n",
              "\t<tr><td>Slovenia           </td><td>Europe  </td><td>2007</td><td>77.926</td><td>  2009245</td><td>25768.2576</td></tr>\n",
              "\t<tr><td>Somalia            </td><td>Africa  </td><td>2007</td><td>48.159</td><td>  9118773</td><td>  926.1411</td></tr>\n",
              "\t<tr><td>South Africa       </td><td>Africa  </td><td>2007</td><td>49.339</td><td> 43997828</td><td> 9269.6578</td></tr>\n",
              "\t<tr><td>Spain              </td><td>Europe  </td><td>2007</td><td>80.941</td><td> 40448191</td><td>28821.0637</td></tr>\n",
              "\t<tr><td>Sri Lanka          </td><td>Asia    </td><td>2007</td><td>72.396</td><td> 20378239</td><td> 3970.0954</td></tr>\n",
              "\t<tr><td>Sudan              </td><td>Africa  </td><td>2007</td><td>58.556</td><td> 42292929</td><td> 2602.3950</td></tr>\n",
              "\t<tr><td>Swaziland          </td><td>Africa  </td><td>2007</td><td>39.613</td><td>  1133066</td><td> 4513.4806</td></tr>\n",
              "\t<tr><td>Sweden             </td><td>Europe  </td><td>2007</td><td>80.884</td><td>  9031088</td><td>33859.7484</td></tr>\n",
              "\t<tr><td>Switzerland        </td><td>Europe  </td><td>2007</td><td>81.701</td><td>  7554661</td><td>37506.4191</td></tr>\n",
              "\t<tr><td>Syria              </td><td>Asia    </td><td>2007</td><td>74.143</td><td> 19314747</td><td> 4184.5481</td></tr>\n",
              "\t<tr><td>Taiwan             </td><td>Asia    </td><td>2007</td><td>78.400</td><td> 23174294</td><td>28718.2768</td></tr>\n",
              "\t<tr><td>Tanzania           </td><td>Africa  </td><td>2007</td><td>52.517</td><td> 38139640</td><td> 1107.4822</td></tr>\n",
              "\t<tr><td>Thailand           </td><td>Asia    </td><td>2007</td><td>70.616</td><td> 65068149</td><td> 7458.3963</td></tr>\n",
              "\t<tr><td>Togo               </td><td>Africa  </td><td>2007</td><td>58.420</td><td>  5701579</td><td>  882.9699</td></tr>\n",
              "\t<tr><td>Trinidad and Tobago</td><td>Americas</td><td>2007</td><td>69.819</td><td>  1056608</td><td>18008.5092</td></tr>\n",
              "\t<tr><td>Tunisia            </td><td>Africa  </td><td>2007</td><td>73.923</td><td> 10276158</td><td> 7092.9230</td></tr>\n",
              "\t<tr><td>Turkey             </td><td>Europe  </td><td>2007</td><td>71.777</td><td> 71158647</td><td> 8458.2764</td></tr>\n",
              "\t<tr><td>Uganda             </td><td>Africa  </td><td>2007</td><td>51.542</td><td> 29170398</td><td> 1056.3801</td></tr>\n",
              "\t<tr><td>United Kingdom     </td><td>Europe  </td><td>2007</td><td>79.425</td><td> 60776238</td><td>33203.2613</td></tr>\n",
              "\t<tr><td>United States      </td><td>Americas</td><td>2007</td><td>78.242</td><td>301139947</td><td>42951.6531</td></tr>\n",
              "\t<tr><td>Uruguay            </td><td>Americas</td><td>2007</td><td>76.384</td><td>  3447496</td><td>10611.4630</td></tr>\n",
              "\t<tr><td>Venezuela          </td><td>Americas</td><td>2007</td><td>73.747</td><td> 26084662</td><td>11415.8057</td></tr>\n",
              "\t<tr><td>Vietnam            </td><td>Asia    </td><td>2007</td><td>74.249</td><td> 85262356</td><td> 2441.5764</td></tr>\n",
              "\t<tr><td>West Bank and Gaza </td><td>Asia    </td><td>2007</td><td>73.422</td><td>  4018332</td><td> 3025.3498</td></tr>\n",
              "\t<tr><td>Yemen, Rep.        </td><td>Asia    </td><td>2007</td><td>62.698</td><td> 22211743</td><td> 2280.7699</td></tr>\n",
              "\t<tr><td>Zambia             </td><td>Africa  </td><td>2007</td><td>42.384</td><td> 11746035</td><td> 1271.2116</td></tr>\n",
              "\t<tr><td>Zimbabwe           </td><td>Africa  </td><td>2007</td><td>43.487</td><td> 12311143</td><td>  469.7093</td></tr>\n",
              "</tbody>\n",
              "</table>\n"
            ],
            "text/markdown": "\nA tibble: 142 × 6\n\n| country &lt;fct&gt; | continent &lt;fct&gt; | year &lt;int&gt; | lifeExp &lt;dbl&gt; | pop &lt;int&gt; | gdpPercap &lt;dbl&gt; |\n|---|---|---|---|---|---|\n| Afghanistan              | Asia     | 2007 | 43.828 |   31889923 |   974.5803 |\n| Albania                  | Europe   | 2007 | 76.423 |    3600523 |  5937.0295 |\n| Algeria                  | Africa   | 2007 | 72.301 |   33333216 |  6223.3675 |\n| Angola                   | Africa   | 2007 | 42.731 |   12420476 |  4797.2313 |\n| Argentina                | Americas | 2007 | 75.320 |   40301927 | 12779.3796 |\n| Australia                | Oceania  | 2007 | 81.235 |   20434176 | 34435.3674 |\n| Austria                  | Europe   | 2007 | 79.829 |    8199783 | 36126.4927 |\n| Bahrain                  | Asia     | 2007 | 75.635 |     708573 | 29796.0483 |\n| Bangladesh               | Asia     | 2007 | 64.062 |  150448339 |  1391.2538 |\n| Belgium                  | Europe   | 2007 | 79.441 |   10392226 | 33692.6051 |\n| Benin                    | Africa   | 2007 | 56.728 |    8078314 |  1441.2849 |\n| Bolivia                  | Americas | 2007 | 65.554 |    9119152 |  3822.1371 |\n| Bosnia and Herzegovina   | Europe   | 2007 | 74.852 |    4552198 |  7446.2988 |\n| Botswana                 | Africa   | 2007 | 50.728 |    1639131 | 12569.8518 |\n| Brazil                   | Americas | 2007 | 72.390 |  190010647 |  9065.8008 |\n| Bulgaria                 | Europe   | 2007 | 73.005 |    7322858 | 10680.7928 |\n| Burkina Faso             | Africa   | 2007 | 52.295 |   14326203 |  1217.0330 |\n| Burundi                  | Africa   | 2007 | 49.580 |    8390505 |   430.0707 |\n| Cambodia                 | Asia     | 2007 | 59.723 |   14131858 |  1713.7787 |\n| Cameroon                 | Africa   | 2007 | 50.430 |   17696293 |  2042.0952 |\n| Canada                   | Americas | 2007 | 80.653 |   33390141 | 36319.2350 |\n| Central African Republic | Africa   | 2007 | 44.741 |    4369038 |   706.0165 |\n| Chad                     | Africa   | 2007 | 50.651 |   10238807 |  1704.0637 |\n| Chile                    | Americas | 2007 | 78.553 |   16284741 | 13171.6388 |\n| China                    | Asia     | 2007 | 72.961 | 1318683096 |  4959.1149 |\n| Colombia                 | Americas | 2007 | 72.889 |   44227550 |  7006.5804 |\n| Comoros                  | Africa   | 2007 | 65.152 |     710960 |   986.1479 |\n| Congo, Dem. Rep.         | Africa   | 2007 | 46.462 |   64606759 |   277.5519 |\n| Congo, Rep.              | Africa   | 2007 | 55.322 |    3800610 |  3632.5578 |\n| Costa Rica               | Americas | 2007 | 78.782 |    4133884 |  9645.0614 |\n| ⋮ | ⋮ | ⋮ | ⋮ | ⋮ | ⋮ |\n| Sierra Leone        | Africa   | 2007 | 42.568 |   6144562 |   862.5408 |\n| Singapore           | Asia     | 2007 | 79.972 |   4553009 | 47143.1796 |\n| Slovak Republic     | Europe   | 2007 | 74.663 |   5447502 | 18678.3144 |\n| Slovenia            | Europe   | 2007 | 77.926 |   2009245 | 25768.2576 |\n| Somalia             | Africa   | 2007 | 48.159 |   9118773 |   926.1411 |\n| South Africa        | Africa   | 2007 | 49.339 |  43997828 |  9269.6578 |\n| Spain               | Europe   | 2007 | 80.941 |  40448191 | 28821.0637 |\n| Sri Lanka           | Asia     | 2007 | 72.396 |  20378239 |  3970.0954 |\n| Sudan               | Africa   | 2007 | 58.556 |  42292929 |  2602.3950 |\n| Swaziland           | Africa   | 2007 | 39.613 |   1133066 |  4513.4806 |\n| Sweden              | Europe   | 2007 | 80.884 |   9031088 | 33859.7484 |\n| Switzerland         | Europe   | 2007 | 81.701 |   7554661 | 37506.4191 |\n| Syria               | Asia     | 2007 | 74.143 |  19314747 |  4184.5481 |\n| Taiwan              | Asia     | 2007 | 78.400 |  23174294 | 28718.2768 |\n| Tanzania            | Africa   | 2007 | 52.517 |  38139640 |  1107.4822 |\n| Thailand            | Asia     | 2007 | 70.616 |  65068149 |  7458.3963 |\n| Togo                | Africa   | 2007 | 58.420 |   5701579 |   882.9699 |\n| Trinidad and Tobago | Americas | 2007 | 69.819 |   1056608 | 18008.5092 |\n| Tunisia             | Africa   | 2007 | 73.923 |  10276158 |  7092.9230 |\n| Turkey              | Europe   | 2007 | 71.777 |  71158647 |  8458.2764 |\n| Uganda              | Africa   | 2007 | 51.542 |  29170398 |  1056.3801 |\n| United Kingdom      | Europe   | 2007 | 79.425 |  60776238 | 33203.2613 |\n| United States       | Americas | 2007 | 78.242 | 301139947 | 42951.6531 |\n| Uruguay             | Americas | 2007 | 76.384 |   3447496 | 10611.4630 |\n| Venezuela           | Americas | 2007 | 73.747 |  26084662 | 11415.8057 |\n| Vietnam             | Asia     | 2007 | 74.249 |  85262356 |  2441.5764 |\n| West Bank and Gaza  | Asia     | 2007 | 73.422 |   4018332 |  3025.3498 |\n| Yemen, Rep.         | Asia     | 2007 | 62.698 |  22211743 |  2280.7699 |\n| Zambia              | Africa   | 2007 | 42.384 |  11746035 |  1271.2116 |\n| Zimbabwe            | Africa   | 2007 | 43.487 |  12311143 |   469.7093 |\n\n",
            "text/latex": "A tibble: 142 × 6\n\\begin{tabular}{llllll}\n country & continent & year & lifeExp & pop & gdpPercap\\\\\n <fct> & <fct> & <int> & <dbl> & <int> & <dbl>\\\\\n\\hline\n\t Afghanistan              & Asia     & 2007 & 43.828 &   31889923 &   974.5803\\\\\n\t Albania                  & Europe   & 2007 & 76.423 &    3600523 &  5937.0295\\\\\n\t Algeria                  & Africa   & 2007 & 72.301 &   33333216 &  6223.3675\\\\\n\t Angola                   & Africa   & 2007 & 42.731 &   12420476 &  4797.2313\\\\\n\t Argentina                & Americas & 2007 & 75.320 &   40301927 & 12779.3796\\\\\n\t Australia                & Oceania  & 2007 & 81.235 &   20434176 & 34435.3674\\\\\n\t Austria                  & Europe   & 2007 & 79.829 &    8199783 & 36126.4927\\\\\n\t Bahrain                  & Asia     & 2007 & 75.635 &     708573 & 29796.0483\\\\\n\t Bangladesh               & Asia     & 2007 & 64.062 &  150448339 &  1391.2538\\\\\n\t Belgium                  & Europe   & 2007 & 79.441 &   10392226 & 33692.6051\\\\\n\t Benin                    & Africa   & 2007 & 56.728 &    8078314 &  1441.2849\\\\\n\t Bolivia                  & Americas & 2007 & 65.554 &    9119152 &  3822.1371\\\\\n\t Bosnia and Herzegovina   & Europe   & 2007 & 74.852 &    4552198 &  7446.2988\\\\\n\t Botswana                 & Africa   & 2007 & 50.728 &    1639131 & 12569.8518\\\\\n\t Brazil                   & Americas & 2007 & 72.390 &  190010647 &  9065.8008\\\\\n\t Bulgaria                 & Europe   & 2007 & 73.005 &    7322858 & 10680.7928\\\\\n\t Burkina Faso             & Africa   & 2007 & 52.295 &   14326203 &  1217.0330\\\\\n\t Burundi                  & Africa   & 2007 & 49.580 &    8390505 &   430.0707\\\\\n\t Cambodia                 & Asia     & 2007 & 59.723 &   14131858 &  1713.7787\\\\\n\t Cameroon                 & Africa   & 2007 & 50.430 &   17696293 &  2042.0952\\\\\n\t Canada                   & Americas & 2007 & 80.653 &   33390141 & 36319.2350\\\\\n\t Central African Republic & Africa   & 2007 & 44.741 &    4369038 &   706.0165\\\\\n\t Chad                     & Africa   & 2007 & 50.651 &   10238807 &  1704.0637\\\\\n\t Chile                    & Americas & 2007 & 78.553 &   16284741 & 13171.6388\\\\\n\t China                    & Asia     & 2007 & 72.961 & 1318683096 &  4959.1149\\\\\n\t Colombia                 & Americas & 2007 & 72.889 &   44227550 &  7006.5804\\\\\n\t Comoros                  & Africa   & 2007 & 65.152 &     710960 &   986.1479\\\\\n\t Congo, Dem. Rep.         & Africa   & 2007 & 46.462 &   64606759 &   277.5519\\\\\n\t Congo, Rep.              & Africa   & 2007 & 55.322 &    3800610 &  3632.5578\\\\\n\t Costa Rica               & Americas & 2007 & 78.782 &    4133884 &  9645.0614\\\\\n\t ⋮ & ⋮ & ⋮ & ⋮ & ⋮ & ⋮\\\\\n\t Sierra Leone        & Africa   & 2007 & 42.568 &   6144562 &   862.5408\\\\\n\t Singapore           & Asia     & 2007 & 79.972 &   4553009 & 47143.1796\\\\\n\t Slovak Republic     & Europe   & 2007 & 74.663 &   5447502 & 18678.3144\\\\\n\t Slovenia            & Europe   & 2007 & 77.926 &   2009245 & 25768.2576\\\\\n\t Somalia             & Africa   & 2007 & 48.159 &   9118773 &   926.1411\\\\\n\t South Africa        & Africa   & 2007 & 49.339 &  43997828 &  9269.6578\\\\\n\t Spain               & Europe   & 2007 & 80.941 &  40448191 & 28821.0637\\\\\n\t Sri Lanka           & Asia     & 2007 & 72.396 &  20378239 &  3970.0954\\\\\n\t Sudan               & Africa   & 2007 & 58.556 &  42292929 &  2602.3950\\\\\n\t Swaziland           & Africa   & 2007 & 39.613 &   1133066 &  4513.4806\\\\\n\t Sweden              & Europe   & 2007 & 80.884 &   9031088 & 33859.7484\\\\\n\t Switzerland         & Europe   & 2007 & 81.701 &   7554661 & 37506.4191\\\\\n\t Syria               & Asia     & 2007 & 74.143 &  19314747 &  4184.5481\\\\\n\t Taiwan              & Asia     & 2007 & 78.400 &  23174294 & 28718.2768\\\\\n\t Tanzania            & Africa   & 2007 & 52.517 &  38139640 &  1107.4822\\\\\n\t Thailand            & Asia     & 2007 & 70.616 &  65068149 &  7458.3963\\\\\n\t Togo                & Africa   & 2007 & 58.420 &   5701579 &   882.9699\\\\\n\t Trinidad and Tobago & Americas & 2007 & 69.819 &   1056608 & 18008.5092\\\\\n\t Tunisia             & Africa   & 2007 & 73.923 &  10276158 &  7092.9230\\\\\n\t Turkey              & Europe   & 2007 & 71.777 &  71158647 &  8458.2764\\\\\n\t Uganda              & Africa   & 2007 & 51.542 &  29170398 &  1056.3801\\\\\n\t United Kingdom      & Europe   & 2007 & 79.425 &  60776238 & 33203.2613\\\\\n\t United States       & Americas & 2007 & 78.242 & 301139947 & 42951.6531\\\\\n\t Uruguay             & Americas & 2007 & 76.384 &   3447496 & 10611.4630\\\\\n\t Venezuela           & Americas & 2007 & 73.747 &  26084662 & 11415.8057\\\\\n\t Vietnam             & Asia     & 2007 & 74.249 &  85262356 &  2441.5764\\\\\n\t West Bank and Gaza  & Asia     & 2007 & 73.422 &   4018332 &  3025.3498\\\\\n\t Yemen, Rep.         & Asia     & 2007 & 62.698 &  22211743 &  2280.7699\\\\\n\t Zambia              & Africa   & 2007 & 42.384 &  11746035 &  1271.2116\\\\\n\t Zimbabwe            & Africa   & 2007 & 43.487 &  12311143 &   469.7093\\\\\n\\end{tabular}\n",
            "text/plain": [
              "    country                  continent year lifeExp pop        gdpPercap \n",
              "1   Afghanistan              Asia      2007 43.828    31889923   974.5803\n",
              "2   Albania                  Europe    2007 76.423     3600523  5937.0295\n",
              "3   Algeria                  Africa    2007 72.301    33333216  6223.3675\n",
              "4   Angola                   Africa    2007 42.731    12420476  4797.2313\n",
              "5   Argentina                Americas  2007 75.320    40301927 12779.3796\n",
              "6   Australia                Oceania   2007 81.235    20434176 34435.3674\n",
              "7   Austria                  Europe    2007 79.829     8199783 36126.4927\n",
              "8   Bahrain                  Asia      2007 75.635      708573 29796.0483\n",
              "9   Bangladesh               Asia      2007 64.062   150448339  1391.2538\n",
              "10  Belgium                  Europe    2007 79.441    10392226 33692.6051\n",
              "11  Benin                    Africa    2007 56.728     8078314  1441.2849\n",
              "12  Bolivia                  Americas  2007 65.554     9119152  3822.1371\n",
              "13  Bosnia and Herzegovina   Europe    2007 74.852     4552198  7446.2988\n",
              "14  Botswana                 Africa    2007 50.728     1639131 12569.8518\n",
              "15  Brazil                   Americas  2007 72.390   190010647  9065.8008\n",
              "16  Bulgaria                 Europe    2007 73.005     7322858 10680.7928\n",
              "17  Burkina Faso             Africa    2007 52.295    14326203  1217.0330\n",
              "18  Burundi                  Africa    2007 49.580     8390505   430.0707\n",
              "19  Cambodia                 Asia      2007 59.723    14131858  1713.7787\n",
              "20  Cameroon                 Africa    2007 50.430    17696293  2042.0952\n",
              "21  Canada                   Americas  2007 80.653    33390141 36319.2350\n",
              "22  Central African Republic Africa    2007 44.741     4369038   706.0165\n",
              "23  Chad                     Africa    2007 50.651    10238807  1704.0637\n",
              "24  Chile                    Americas  2007 78.553    16284741 13171.6388\n",
              "25  China                    Asia      2007 72.961  1318683096  4959.1149\n",
              "26  Colombia                 Americas  2007 72.889    44227550  7006.5804\n",
              "27  Comoros                  Africa    2007 65.152      710960   986.1479\n",
              "28  Congo, Dem. Rep.         Africa    2007 46.462    64606759   277.5519\n",
              "29  Congo, Rep.              Africa    2007 55.322     3800610  3632.5578\n",
              "30  Costa Rica               Americas  2007 78.782     4133884  9645.0614\n",
              "⋮   ⋮                        ⋮         ⋮    ⋮       ⋮          ⋮         \n",
              "113 Sierra Leone             Africa    2007 42.568    6144562    862.5408\n",
              "114 Singapore                Asia      2007 79.972    4553009  47143.1796\n",
              "115 Slovak Republic          Europe    2007 74.663    5447502  18678.3144\n",
              "116 Slovenia                 Europe    2007 77.926    2009245  25768.2576\n",
              "117 Somalia                  Africa    2007 48.159    9118773    926.1411\n",
              "118 South Africa             Africa    2007 49.339   43997828   9269.6578\n",
              "119 Spain                    Europe    2007 80.941   40448191  28821.0637\n",
              "120 Sri Lanka                Asia      2007 72.396   20378239   3970.0954\n",
              "121 Sudan                    Africa    2007 58.556   42292929   2602.3950\n",
              "122 Swaziland                Africa    2007 39.613    1133066   4513.4806\n",
              "123 Sweden                   Europe    2007 80.884    9031088  33859.7484\n",
              "124 Switzerland              Europe    2007 81.701    7554661  37506.4191\n",
              "125 Syria                    Asia      2007 74.143   19314747   4184.5481\n",
              "126 Taiwan                   Asia      2007 78.400   23174294  28718.2768\n",
              "127 Tanzania                 Africa    2007 52.517   38139640   1107.4822\n",
              "128 Thailand                 Asia      2007 70.616   65068149   7458.3963\n",
              "129 Togo                     Africa    2007 58.420    5701579    882.9699\n",
              "130 Trinidad and Tobago      Americas  2007 69.819    1056608  18008.5092\n",
              "131 Tunisia                  Africa    2007 73.923   10276158   7092.9230\n",
              "132 Turkey                   Europe    2007 71.777   71158647   8458.2764\n",
              "133 Uganda                   Africa    2007 51.542   29170398   1056.3801\n",
              "134 United Kingdom           Europe    2007 79.425   60776238  33203.2613\n",
              "135 United States            Americas  2007 78.242  301139947  42951.6531\n",
              "136 Uruguay                  Americas  2007 76.384    3447496  10611.4630\n",
              "137 Venezuela                Americas  2007 73.747   26084662  11415.8057\n",
              "138 Vietnam                  Asia      2007 74.249   85262356   2441.5764\n",
              "139 West Bank and Gaza       Asia      2007 73.422    4018332   3025.3498\n",
              "140 Yemen, Rep.              Asia      2007 62.698   22211743   2280.7699\n",
              "141 Zambia                   Africa    2007 42.384   11746035   1271.2116\n",
              "142 Zimbabwe                 Africa    2007 43.487   12311143    469.7093"
            ]
          },
          "metadata": {}
        }
      ],
      "source": [
        "gapminder %>% \n",
        "    filter(year==2007)"
      ]
    },
    {
      "cell_type": "markdown",
      "metadata": {
        "id": "DyhdTM5BarDo"
      },
      "source": [
        "### više kriterija u filteru...\n",
        "Ukoliko želimo filtrirati bazu prema više kriterija, dovoljno ih je odvojiti zarezom.<br><br>\n",
        "**Primjer:** Prikažite mjerenja za Hrvatsku nakon 1990. godine."
      ]
    },
    {
      "cell_type": "code",
      "execution_count": 6,
      "metadata": {
        "colab": {
          "base_uri": "https://localhost:8080/",
          "height": 224
        },
        "id": "CZXvqEGSaqsx",
        "outputId": "249bbd0c-d9a6-46c8-a0b4-3c6ae95bb20b",
        "vscode": {
          "languageId": "r"
        }
      },
      "outputs": [
        {
          "output_type": "display_data",
          "data": {
            "text/html": [
              "<table class=\"dataframe\">\n",
              "<caption>A tibble: 4 × 6</caption>\n",
              "<thead>\n",
              "\t<tr><th scope=col>country</th><th scope=col>continent</th><th scope=col>year</th><th scope=col>lifeExp</th><th scope=col>pop</th><th scope=col>gdpPercap</th></tr>\n",
              "\t<tr><th scope=col>&lt;fct&gt;</th><th scope=col>&lt;fct&gt;</th><th scope=col>&lt;int&gt;</th><th scope=col>&lt;dbl&gt;</th><th scope=col>&lt;int&gt;</th><th scope=col>&lt;dbl&gt;</th></tr>\n",
              "</thead>\n",
              "<tbody>\n",
              "\t<tr><td>Croatia</td><td>Europe</td><td>1992</td><td>72.527</td><td>4494013</td><td> 8447.795</td></tr>\n",
              "\t<tr><td>Croatia</td><td>Europe</td><td>1997</td><td>73.680</td><td>4444595</td><td> 9875.605</td></tr>\n",
              "\t<tr><td>Croatia</td><td>Europe</td><td>2002</td><td>74.876</td><td>4481020</td><td>11628.389</td></tr>\n",
              "\t<tr><td>Croatia</td><td>Europe</td><td>2007</td><td>75.748</td><td>4493312</td><td>14619.223</td></tr>\n",
              "</tbody>\n",
              "</table>\n"
            ],
            "text/markdown": "\nA tibble: 4 × 6\n\n| country &lt;fct&gt; | continent &lt;fct&gt; | year &lt;int&gt; | lifeExp &lt;dbl&gt; | pop &lt;int&gt; | gdpPercap &lt;dbl&gt; |\n|---|---|---|---|---|---|\n| Croatia | Europe | 1992 | 72.527 | 4494013 |  8447.795 |\n| Croatia | Europe | 1997 | 73.680 | 4444595 |  9875.605 |\n| Croatia | Europe | 2002 | 74.876 | 4481020 | 11628.389 |\n| Croatia | Europe | 2007 | 75.748 | 4493312 | 14619.223 |\n\n",
            "text/latex": "A tibble: 4 × 6\n\\begin{tabular}{llllll}\n country & continent & year & lifeExp & pop & gdpPercap\\\\\n <fct> & <fct> & <int> & <dbl> & <int> & <dbl>\\\\\n\\hline\n\t Croatia & Europe & 1992 & 72.527 & 4494013 &  8447.795\\\\\n\t Croatia & Europe & 1997 & 73.680 & 4444595 &  9875.605\\\\\n\t Croatia & Europe & 2002 & 74.876 & 4481020 & 11628.389\\\\\n\t Croatia & Europe & 2007 & 75.748 & 4493312 & 14619.223\\\\\n\\end{tabular}\n",
            "text/plain": [
              "  country continent year lifeExp pop     gdpPercap\n",
              "1 Croatia Europe    1992 72.527  4494013  8447.795\n",
              "2 Croatia Europe    1997 73.680  4444595  9875.605\n",
              "3 Croatia Europe    2002 74.876  4481020 11628.389\n",
              "4 Croatia Europe    2007 75.748  4493312 14619.223"
            ]
          },
          "metadata": {}
        }
      ],
      "source": [
        "gapminder %>% \n",
        "    filter(country=='Croatia', year>1990)"
      ]
    },
    {
      "cell_type": "markdown",
      "metadata": {
        "id": "rU-CzoAZav6v"
      },
      "source": [
        "## Sortiranje\n",
        "Da bi prikazali podatke željenim redoslijedom koristiti ćemo funkciju `arrange()`.  \n",
        "Funkcija `arrange()` se koristi na sličan način kao i funkcija `filter()`.  \n",
        "Dakle nakon imena dataseta i znaka pipe-a unesemo varijablu po kojoj želimo sortirati podatke.  \n",
        "Osnovo sortiranje je *uzlazno* (od najmanjeg prema najvećem), no ukoliko želimo sortirati *silazno* moramo koristiti opciju `desc()`.<br><br>\n",
        "**Primjer:** Sortirajte naš dataset prema broju stanovnika."
      ]
    },
    {
      "cell_type": "code",
      "execution_count": 7,
      "metadata": {
        "colab": {
          "base_uri": "https://localhost:8080/",
          "height": 1000
        },
        "id": "A4Js43gUa2jf",
        "outputId": "526ccf36-e0ef-4a0e-8c62-49fd7ca991b2",
        "vscode": {
          "languageId": "r"
        }
      },
      "outputs": [
        {
          "output_type": "display_data",
          "data": {
            "text/html": [
              "<table class=\"dataframe\">\n",
              "<caption>A tibble: 1704 × 6</caption>\n",
              "<thead>\n",
              "\t<tr><th scope=col>country</th><th scope=col>continent</th><th scope=col>year</th><th scope=col>lifeExp</th><th scope=col>pop</th><th scope=col>gdpPercap</th></tr>\n",
              "\t<tr><th scope=col>&lt;fct&gt;</th><th scope=col>&lt;fct&gt;</th><th scope=col>&lt;int&gt;</th><th scope=col>&lt;dbl&gt;</th><th scope=col>&lt;int&gt;</th><th scope=col>&lt;dbl&gt;</th></tr>\n",
              "</thead>\n",
              "<tbody>\n",
              "\t<tr><td>Sao Tome and Principe</td><td>Africa</td><td>1952</td><td>46.471</td><td> 60011</td><td>   879.5836</td></tr>\n",
              "\t<tr><td>Sao Tome and Principe</td><td>Africa</td><td>1957</td><td>48.945</td><td> 61325</td><td>   860.7369</td></tr>\n",
              "\t<tr><td>Djibouti             </td><td>Africa</td><td>1952</td><td>34.812</td><td> 63149</td><td>  2669.5295</td></tr>\n",
              "\t<tr><td>Sao Tome and Principe</td><td>Africa</td><td>1962</td><td>51.893</td><td> 65345</td><td>  1071.5511</td></tr>\n",
              "\t<tr><td>Sao Tome and Principe</td><td>Africa</td><td>1967</td><td>54.425</td><td> 70787</td><td>  1384.8406</td></tr>\n",
              "\t<tr><td>Djibouti             </td><td>Africa</td><td>1957</td><td>37.328</td><td> 71851</td><td>  2864.9691</td></tr>\n",
              "\t<tr><td>Sao Tome and Principe</td><td>Africa</td><td>1972</td><td>56.480</td><td> 76595</td><td>  1532.9853</td></tr>\n",
              "\t<tr><td>Sao Tome and Principe</td><td>Africa</td><td>1977</td><td>58.550</td><td> 86796</td><td>  1737.5617</td></tr>\n",
              "\t<tr><td>Djibouti             </td><td>Africa</td><td>1962</td><td>39.693</td><td> 89898</td><td>  3020.9893</td></tr>\n",
              "\t<tr><td>Sao Tome and Principe</td><td>Africa</td><td>1982</td><td>60.351</td><td> 98593</td><td>  1890.2181</td></tr>\n",
              "\t<tr><td>Sao Tome and Principe</td><td>Africa</td><td>1987</td><td>61.728</td><td>110812</td><td>  1516.5255</td></tr>\n",
              "\t<tr><td>Bahrain              </td><td>Asia  </td><td>1952</td><td>50.939</td><td>120447</td><td>  9867.0848</td></tr>\n",
              "\t<tr><td>Sao Tome and Principe</td><td>Africa</td><td>1992</td><td>62.742</td><td>125911</td><td>  1428.7778</td></tr>\n",
              "\t<tr><td>Djibouti             </td><td>Africa</td><td>1967</td><td>42.074</td><td>127617</td><td>  3020.0505</td></tr>\n",
              "\t<tr><td>Bahrain              </td><td>Asia  </td><td>1957</td><td>53.832</td><td>138655</td><td> 11635.7995</td></tr>\n",
              "\t<tr><td>Sao Tome and Principe</td><td>Africa</td><td>1997</td><td>63.306</td><td>145608</td><td>  1339.0760</td></tr>\n",
              "\t<tr><td>Iceland              </td><td>Europe</td><td>1952</td><td>72.490</td><td>147962</td><td>  7267.6884</td></tr>\n",
              "\t<tr><td>Comoros              </td><td>Africa</td><td>1952</td><td>40.715</td><td>153936</td><td>  1102.9909</td></tr>\n",
              "\t<tr><td>Kuwait               </td><td>Asia  </td><td>1952</td><td>55.565</td><td>160000</td><td>108382.3529</td></tr>\n",
              "\t<tr><td>Iceland              </td><td>Europe</td><td>1957</td><td>73.470</td><td>165110</td><td>  9244.0014</td></tr>\n",
              "\t<tr><td>Sao Tome and Principe</td><td>Africa</td><td>2002</td><td>64.337</td><td>170372</td><td>  1353.0924</td></tr>\n",
              "\t<tr><td>Comoros              </td><td>Africa</td><td>1957</td><td>42.460</td><td>170928</td><td>  1211.1485</td></tr>\n",
              "\t<tr><td>Bahrain              </td><td>Asia  </td><td>1962</td><td>56.923</td><td>171863</td><td> 12753.2751</td></tr>\n",
              "\t<tr><td>Djibouti             </td><td>Africa</td><td>1972</td><td>44.366</td><td>178848</td><td>  3694.2124</td></tr>\n",
              "\t<tr><td>Iceland              </td><td>Europe</td><td>1962</td><td>73.680</td><td>182053</td><td> 10350.1591</td></tr>\n",
              "\t<tr><td>Comoros              </td><td>Africa</td><td>1962</td><td>44.467</td><td>191689</td><td>  1406.6483</td></tr>\n",
              "\t<tr><td>Equatorial Guinea    </td><td>Africa</td><td>1977</td><td>42.024</td><td>192675</td><td>   958.5668</td></tr>\n",
              "\t<tr><td>Iceland              </td><td>Europe</td><td>1967</td><td>73.730</td><td>198676</td><td> 13319.8957</td></tr>\n",
              "\t<tr><td>Sao Tome and Principe</td><td>Africa</td><td>2007</td><td>65.528</td><td>199579</td><td>  1598.4351</td></tr>\n",
              "\t<tr><td>Bahrain              </td><td>Asia  </td><td>1967</td><td>59.923</td><td>202182</td><td> 14804.6727</td></tr>\n",
              "\t<tr><td>⋮</td><td>⋮</td><td>⋮</td><td>⋮</td><td>⋮</td><td>⋮</td></tr>\n",
              "\t<tr><td>United States</td><td>Americas</td><td>1982</td><td>74.65000</td><td> 232187835</td><td>25009.5591</td></tr>\n",
              "\t<tr><td>United States</td><td>Americas</td><td>1987</td><td>75.02000</td><td> 242803533</td><td>29884.3504</td></tr>\n",
              "\t<tr><td>United States</td><td>Americas</td><td>1992</td><td>76.09000</td><td> 256894189</td><td>32003.9322</td></tr>\n",
              "\t<tr><td>United States</td><td>Americas</td><td>1997</td><td>76.81000</td><td> 272911760</td><td>35767.4330</td></tr>\n",
              "\t<tr><td>United States</td><td>Americas</td><td>2002</td><td>77.31000</td><td> 287675526</td><td>39097.0995</td></tr>\n",
              "\t<tr><td>United States</td><td>Americas</td><td>2007</td><td>78.24200</td><td> 301139947</td><td>42951.6531</td></tr>\n",
              "\t<tr><td>India        </td><td>Asia    </td><td>1952</td><td>37.37300</td><td> 372000000</td><td>  546.5657</td></tr>\n",
              "\t<tr><td>India        </td><td>Asia    </td><td>1957</td><td>40.24900</td><td> 409000000</td><td>  590.0620</td></tr>\n",
              "\t<tr><td>India        </td><td>Asia    </td><td>1962</td><td>43.60500</td><td> 454000000</td><td>  658.3472</td></tr>\n",
              "\t<tr><td>India        </td><td>Asia    </td><td>1967</td><td>47.19300</td><td> 506000000</td><td>  700.7706</td></tr>\n",
              "\t<tr><td>China        </td><td>Asia    </td><td>1952</td><td>44.00000</td><td> 556263527</td><td>  400.4486</td></tr>\n",
              "\t<tr><td>India        </td><td>Asia    </td><td>1972</td><td>50.65100</td><td> 567000000</td><td>  724.0325</td></tr>\n",
              "\t<tr><td>India        </td><td>Asia    </td><td>1977</td><td>54.20800</td><td> 634000000</td><td>  813.3373</td></tr>\n",
              "\t<tr><td>China        </td><td>Asia    </td><td>1957</td><td>50.54896</td><td> 637408000</td><td>  575.9870</td></tr>\n",
              "\t<tr><td>China        </td><td>Asia    </td><td>1962</td><td>44.50136</td><td> 665770000</td><td>  487.6740</td></tr>\n",
              "\t<tr><td>India        </td><td>Asia    </td><td>1982</td><td>56.59600</td><td> 708000000</td><td>  855.7235</td></tr>\n",
              "\t<tr><td>China        </td><td>Asia    </td><td>1967</td><td>58.38112</td><td> 754550000</td><td>  612.7057</td></tr>\n",
              "\t<tr><td>India        </td><td>Asia    </td><td>1987</td><td>58.55300</td><td> 788000000</td><td>  976.5127</td></tr>\n",
              "\t<tr><td>China        </td><td>Asia    </td><td>1972</td><td>63.11888</td><td> 862030000</td><td>  676.9001</td></tr>\n",
              "\t<tr><td>India        </td><td>Asia    </td><td>1992</td><td>60.22300</td><td> 872000000</td><td> 1164.4068</td></tr>\n",
              "\t<tr><td>China        </td><td>Asia    </td><td>1977</td><td>63.96736</td><td> 943455000</td><td>  741.2375</td></tr>\n",
              "\t<tr><td>India        </td><td>Asia    </td><td>1997</td><td>61.76500</td><td> 959000000</td><td> 1458.8174</td></tr>\n",
              "\t<tr><td>China        </td><td>Asia    </td><td>1982</td><td>65.52500</td><td>1000281000</td><td>  962.4214</td></tr>\n",
              "\t<tr><td>India        </td><td>Asia    </td><td>2002</td><td>62.87900</td><td>1034172547</td><td> 1746.7695</td></tr>\n",
              "\t<tr><td>China        </td><td>Asia    </td><td>1987</td><td>67.27400</td><td>1084035000</td><td> 1378.9040</td></tr>\n",
              "\t<tr><td>India        </td><td>Asia    </td><td>2007</td><td>64.69800</td><td>1110396331</td><td> 2452.2104</td></tr>\n",
              "\t<tr><td>China        </td><td>Asia    </td><td>1992</td><td>68.69000</td><td>1164970000</td><td> 1655.7842</td></tr>\n",
              "\t<tr><td>China        </td><td>Asia    </td><td>1997</td><td>70.42600</td><td>1230075000</td><td> 2289.2341</td></tr>\n",
              "\t<tr><td>China        </td><td>Asia    </td><td>2002</td><td>72.02800</td><td>1280400000</td><td> 3119.2809</td></tr>\n",
              "\t<tr><td>China        </td><td>Asia    </td><td>2007</td><td>72.96100</td><td>1318683096</td><td> 4959.1149</td></tr>\n",
              "</tbody>\n",
              "</table>\n"
            ],
            "text/markdown": "\nA tibble: 1704 × 6\n\n| country &lt;fct&gt; | continent &lt;fct&gt; | year &lt;int&gt; | lifeExp &lt;dbl&gt; | pop &lt;int&gt; | gdpPercap &lt;dbl&gt; |\n|---|---|---|---|---|---|\n| Sao Tome and Principe | Africa | 1952 | 46.471 |  60011 |    879.5836 |\n| Sao Tome and Principe | Africa | 1957 | 48.945 |  61325 |    860.7369 |\n| Djibouti              | Africa | 1952 | 34.812 |  63149 |   2669.5295 |\n| Sao Tome and Principe | Africa | 1962 | 51.893 |  65345 |   1071.5511 |\n| Sao Tome and Principe | Africa | 1967 | 54.425 |  70787 |   1384.8406 |\n| Djibouti              | Africa | 1957 | 37.328 |  71851 |   2864.9691 |\n| Sao Tome and Principe | Africa | 1972 | 56.480 |  76595 |   1532.9853 |\n| Sao Tome and Principe | Africa | 1977 | 58.550 |  86796 |   1737.5617 |\n| Djibouti              | Africa | 1962 | 39.693 |  89898 |   3020.9893 |\n| Sao Tome and Principe | Africa | 1982 | 60.351 |  98593 |   1890.2181 |\n| Sao Tome and Principe | Africa | 1987 | 61.728 | 110812 |   1516.5255 |\n| Bahrain               | Asia   | 1952 | 50.939 | 120447 |   9867.0848 |\n| Sao Tome and Principe | Africa | 1992 | 62.742 | 125911 |   1428.7778 |\n| Djibouti              | Africa | 1967 | 42.074 | 127617 |   3020.0505 |\n| Bahrain               | Asia   | 1957 | 53.832 | 138655 |  11635.7995 |\n| Sao Tome and Principe | Africa | 1997 | 63.306 | 145608 |   1339.0760 |\n| Iceland               | Europe | 1952 | 72.490 | 147962 |   7267.6884 |\n| Comoros               | Africa | 1952 | 40.715 | 153936 |   1102.9909 |\n| Kuwait                | Asia   | 1952 | 55.565 | 160000 | 108382.3529 |\n| Iceland               | Europe | 1957 | 73.470 | 165110 |   9244.0014 |\n| Sao Tome and Principe | Africa | 2002 | 64.337 | 170372 |   1353.0924 |\n| Comoros               | Africa | 1957 | 42.460 | 170928 |   1211.1485 |\n| Bahrain               | Asia   | 1962 | 56.923 | 171863 |  12753.2751 |\n| Djibouti              | Africa | 1972 | 44.366 | 178848 |   3694.2124 |\n| Iceland               | Europe | 1962 | 73.680 | 182053 |  10350.1591 |\n| Comoros               | Africa | 1962 | 44.467 | 191689 |   1406.6483 |\n| Equatorial Guinea     | Africa | 1977 | 42.024 | 192675 |    958.5668 |\n| Iceland               | Europe | 1967 | 73.730 | 198676 |  13319.8957 |\n| Sao Tome and Principe | Africa | 2007 | 65.528 | 199579 |   1598.4351 |\n| Bahrain               | Asia   | 1967 | 59.923 | 202182 |  14804.6727 |\n| ⋮ | ⋮ | ⋮ | ⋮ | ⋮ | ⋮ |\n| United States | Americas | 1982 | 74.65000 |  232187835 | 25009.5591 |\n| United States | Americas | 1987 | 75.02000 |  242803533 | 29884.3504 |\n| United States | Americas | 1992 | 76.09000 |  256894189 | 32003.9322 |\n| United States | Americas | 1997 | 76.81000 |  272911760 | 35767.4330 |\n| United States | Americas | 2002 | 77.31000 |  287675526 | 39097.0995 |\n| United States | Americas | 2007 | 78.24200 |  301139947 | 42951.6531 |\n| India         | Asia     | 1952 | 37.37300 |  372000000 |   546.5657 |\n| India         | Asia     | 1957 | 40.24900 |  409000000 |   590.0620 |\n| India         | Asia     | 1962 | 43.60500 |  454000000 |   658.3472 |\n| India         | Asia     | 1967 | 47.19300 |  506000000 |   700.7706 |\n| China         | Asia     | 1952 | 44.00000 |  556263527 |   400.4486 |\n| India         | Asia     | 1972 | 50.65100 |  567000000 |   724.0325 |\n| India         | Asia     | 1977 | 54.20800 |  634000000 |   813.3373 |\n| China         | Asia     | 1957 | 50.54896 |  637408000 |   575.9870 |\n| China         | Asia     | 1962 | 44.50136 |  665770000 |   487.6740 |\n| India         | Asia     | 1982 | 56.59600 |  708000000 |   855.7235 |\n| China         | Asia     | 1967 | 58.38112 |  754550000 |   612.7057 |\n| India         | Asia     | 1987 | 58.55300 |  788000000 |   976.5127 |\n| China         | Asia     | 1972 | 63.11888 |  862030000 |   676.9001 |\n| India         | Asia     | 1992 | 60.22300 |  872000000 |  1164.4068 |\n| China         | Asia     | 1977 | 63.96736 |  943455000 |   741.2375 |\n| India         | Asia     | 1997 | 61.76500 |  959000000 |  1458.8174 |\n| China         | Asia     | 1982 | 65.52500 | 1000281000 |   962.4214 |\n| India         | Asia     | 2002 | 62.87900 | 1034172547 |  1746.7695 |\n| China         | Asia     | 1987 | 67.27400 | 1084035000 |  1378.9040 |\n| India         | Asia     | 2007 | 64.69800 | 1110396331 |  2452.2104 |\n| China         | Asia     | 1992 | 68.69000 | 1164970000 |  1655.7842 |\n| China         | Asia     | 1997 | 70.42600 | 1230075000 |  2289.2341 |\n| China         | Asia     | 2002 | 72.02800 | 1280400000 |  3119.2809 |\n| China         | Asia     | 2007 | 72.96100 | 1318683096 |  4959.1149 |\n\n",
            "text/latex": "A tibble: 1704 × 6\n\\begin{tabular}{llllll}\n country & continent & year & lifeExp & pop & gdpPercap\\\\\n <fct> & <fct> & <int> & <dbl> & <int> & <dbl>\\\\\n\\hline\n\t Sao Tome and Principe & Africa & 1952 & 46.471 &  60011 &    879.5836\\\\\n\t Sao Tome and Principe & Africa & 1957 & 48.945 &  61325 &    860.7369\\\\\n\t Djibouti              & Africa & 1952 & 34.812 &  63149 &   2669.5295\\\\\n\t Sao Tome and Principe & Africa & 1962 & 51.893 &  65345 &   1071.5511\\\\\n\t Sao Tome and Principe & Africa & 1967 & 54.425 &  70787 &   1384.8406\\\\\n\t Djibouti              & Africa & 1957 & 37.328 &  71851 &   2864.9691\\\\\n\t Sao Tome and Principe & Africa & 1972 & 56.480 &  76595 &   1532.9853\\\\\n\t Sao Tome and Principe & Africa & 1977 & 58.550 &  86796 &   1737.5617\\\\\n\t Djibouti              & Africa & 1962 & 39.693 &  89898 &   3020.9893\\\\\n\t Sao Tome and Principe & Africa & 1982 & 60.351 &  98593 &   1890.2181\\\\\n\t Sao Tome and Principe & Africa & 1987 & 61.728 & 110812 &   1516.5255\\\\\n\t Bahrain               & Asia   & 1952 & 50.939 & 120447 &   9867.0848\\\\\n\t Sao Tome and Principe & Africa & 1992 & 62.742 & 125911 &   1428.7778\\\\\n\t Djibouti              & Africa & 1967 & 42.074 & 127617 &   3020.0505\\\\\n\t Bahrain               & Asia   & 1957 & 53.832 & 138655 &  11635.7995\\\\\n\t Sao Tome and Principe & Africa & 1997 & 63.306 & 145608 &   1339.0760\\\\\n\t Iceland               & Europe & 1952 & 72.490 & 147962 &   7267.6884\\\\\n\t Comoros               & Africa & 1952 & 40.715 & 153936 &   1102.9909\\\\\n\t Kuwait                & Asia   & 1952 & 55.565 & 160000 & 108382.3529\\\\\n\t Iceland               & Europe & 1957 & 73.470 & 165110 &   9244.0014\\\\\n\t Sao Tome and Principe & Africa & 2002 & 64.337 & 170372 &   1353.0924\\\\\n\t Comoros               & Africa & 1957 & 42.460 & 170928 &   1211.1485\\\\\n\t Bahrain               & Asia   & 1962 & 56.923 & 171863 &  12753.2751\\\\\n\t Djibouti              & Africa & 1972 & 44.366 & 178848 &   3694.2124\\\\\n\t Iceland               & Europe & 1962 & 73.680 & 182053 &  10350.1591\\\\\n\t Comoros               & Africa & 1962 & 44.467 & 191689 &   1406.6483\\\\\n\t Equatorial Guinea     & Africa & 1977 & 42.024 & 192675 &    958.5668\\\\\n\t Iceland               & Europe & 1967 & 73.730 & 198676 &  13319.8957\\\\\n\t Sao Tome and Principe & Africa & 2007 & 65.528 & 199579 &   1598.4351\\\\\n\t Bahrain               & Asia   & 1967 & 59.923 & 202182 &  14804.6727\\\\\n\t ⋮ & ⋮ & ⋮ & ⋮ & ⋮ & ⋮\\\\\n\t United States & Americas & 1982 & 74.65000 &  232187835 & 25009.5591\\\\\n\t United States & Americas & 1987 & 75.02000 &  242803533 & 29884.3504\\\\\n\t United States & Americas & 1992 & 76.09000 &  256894189 & 32003.9322\\\\\n\t United States & Americas & 1997 & 76.81000 &  272911760 & 35767.4330\\\\\n\t United States & Americas & 2002 & 77.31000 &  287675526 & 39097.0995\\\\\n\t United States & Americas & 2007 & 78.24200 &  301139947 & 42951.6531\\\\\n\t India         & Asia     & 1952 & 37.37300 &  372000000 &   546.5657\\\\\n\t India         & Asia     & 1957 & 40.24900 &  409000000 &   590.0620\\\\\n\t India         & Asia     & 1962 & 43.60500 &  454000000 &   658.3472\\\\\n\t India         & Asia     & 1967 & 47.19300 &  506000000 &   700.7706\\\\\n\t China         & Asia     & 1952 & 44.00000 &  556263527 &   400.4486\\\\\n\t India         & Asia     & 1972 & 50.65100 &  567000000 &   724.0325\\\\\n\t India         & Asia     & 1977 & 54.20800 &  634000000 &   813.3373\\\\\n\t China         & Asia     & 1957 & 50.54896 &  637408000 &   575.9870\\\\\n\t China         & Asia     & 1962 & 44.50136 &  665770000 &   487.6740\\\\\n\t India         & Asia     & 1982 & 56.59600 &  708000000 &   855.7235\\\\\n\t China         & Asia     & 1967 & 58.38112 &  754550000 &   612.7057\\\\\n\t India         & Asia     & 1987 & 58.55300 &  788000000 &   976.5127\\\\\n\t China         & Asia     & 1972 & 63.11888 &  862030000 &   676.9001\\\\\n\t India         & Asia     & 1992 & 60.22300 &  872000000 &  1164.4068\\\\\n\t China         & Asia     & 1977 & 63.96736 &  943455000 &   741.2375\\\\\n\t India         & Asia     & 1997 & 61.76500 &  959000000 &  1458.8174\\\\\n\t China         & Asia     & 1982 & 65.52500 & 1000281000 &   962.4214\\\\\n\t India         & Asia     & 2002 & 62.87900 & 1034172547 &  1746.7695\\\\\n\t China         & Asia     & 1987 & 67.27400 & 1084035000 &  1378.9040\\\\\n\t India         & Asia     & 2007 & 64.69800 & 1110396331 &  2452.2104\\\\\n\t China         & Asia     & 1992 & 68.69000 & 1164970000 &  1655.7842\\\\\n\t China         & Asia     & 1997 & 70.42600 & 1230075000 &  2289.2341\\\\\n\t China         & Asia     & 2002 & 72.02800 & 1280400000 &  3119.2809\\\\\n\t China         & Asia     & 2007 & 72.96100 & 1318683096 &  4959.1149\\\\\n\\end{tabular}\n",
            "text/plain": [
              "     country               continent year lifeExp  pop        gdpPercap  \n",
              "1    Sao Tome and Principe Africa    1952 46.471    60011        879.5836\n",
              "2    Sao Tome and Principe Africa    1957 48.945    61325        860.7369\n",
              "3    Djibouti              Africa    1952 34.812    63149       2669.5295\n",
              "4    Sao Tome and Principe Africa    1962 51.893    65345       1071.5511\n",
              "5    Sao Tome and Principe Africa    1967 54.425    70787       1384.8406\n",
              "6    Djibouti              Africa    1957 37.328    71851       2864.9691\n",
              "7    Sao Tome and Principe Africa    1972 56.480    76595       1532.9853\n",
              "8    Sao Tome and Principe Africa    1977 58.550    86796       1737.5617\n",
              "9    Djibouti              Africa    1962 39.693    89898       3020.9893\n",
              "10   Sao Tome and Principe Africa    1982 60.351    98593       1890.2181\n",
              "11   Sao Tome and Principe Africa    1987 61.728   110812       1516.5255\n",
              "12   Bahrain               Asia      1952 50.939   120447       9867.0848\n",
              "13   Sao Tome and Principe Africa    1992 62.742   125911       1428.7778\n",
              "14   Djibouti              Africa    1967 42.074   127617       3020.0505\n",
              "15   Bahrain               Asia      1957 53.832   138655      11635.7995\n",
              "16   Sao Tome and Principe Africa    1997 63.306   145608       1339.0760\n",
              "17   Iceland               Europe    1952 72.490   147962       7267.6884\n",
              "18   Comoros               Africa    1952 40.715   153936       1102.9909\n",
              "19   Kuwait                Asia      1952 55.565   160000     108382.3529\n",
              "20   Iceland               Europe    1957 73.470   165110       9244.0014\n",
              "21   Sao Tome and Principe Africa    2002 64.337   170372       1353.0924\n",
              "22   Comoros               Africa    1957 42.460   170928       1211.1485\n",
              "23   Bahrain               Asia      1962 56.923   171863      12753.2751\n",
              "24   Djibouti              Africa    1972 44.366   178848       3694.2124\n",
              "25   Iceland               Europe    1962 73.680   182053      10350.1591\n",
              "26   Comoros               Africa    1962 44.467   191689       1406.6483\n",
              "27   Equatorial Guinea     Africa    1977 42.024   192675        958.5668\n",
              "28   Iceland               Europe    1967 73.730   198676      13319.8957\n",
              "29   Sao Tome and Principe Africa    2007 65.528   199579       1598.4351\n",
              "30   Bahrain               Asia      1967 59.923   202182      14804.6727\n",
              "⋮    ⋮                     ⋮         ⋮    ⋮        ⋮          ⋮          \n",
              "1675 United States         Americas  1982 74.65000  232187835 25009.5591 \n",
              "1676 United States         Americas  1987 75.02000  242803533 29884.3504 \n",
              "1677 United States         Americas  1992 76.09000  256894189 32003.9322 \n",
              "1678 United States         Americas  1997 76.81000  272911760 35767.4330 \n",
              "1679 United States         Americas  2002 77.31000  287675526 39097.0995 \n",
              "1680 United States         Americas  2007 78.24200  301139947 42951.6531 \n",
              "1681 India                 Asia      1952 37.37300  372000000   546.5657 \n",
              "1682 India                 Asia      1957 40.24900  409000000   590.0620 \n",
              "1683 India                 Asia      1962 43.60500  454000000   658.3472 \n",
              "1684 India                 Asia      1967 47.19300  506000000   700.7706 \n",
              "1685 China                 Asia      1952 44.00000  556263527   400.4486 \n",
              "1686 India                 Asia      1972 50.65100  567000000   724.0325 \n",
              "1687 India                 Asia      1977 54.20800  634000000   813.3373 \n",
              "1688 China                 Asia      1957 50.54896  637408000   575.9870 \n",
              "1689 China                 Asia      1962 44.50136  665770000   487.6740 \n",
              "1690 India                 Asia      1982 56.59600  708000000   855.7235 \n",
              "1691 China                 Asia      1967 58.38112  754550000   612.7057 \n",
              "1692 India                 Asia      1987 58.55300  788000000   976.5127 \n",
              "1693 China                 Asia      1972 63.11888  862030000   676.9001 \n",
              "1694 India                 Asia      1992 60.22300  872000000  1164.4068 \n",
              "1695 China                 Asia      1977 63.96736  943455000   741.2375 \n",
              "1696 India                 Asia      1997 61.76500  959000000  1458.8174 \n",
              "1697 China                 Asia      1982 65.52500 1000281000   962.4214 \n",
              "1698 India                 Asia      2002 62.87900 1034172547  1746.7695 \n",
              "1699 China                 Asia      1987 67.27400 1084035000  1378.9040 \n",
              "1700 India                 Asia      2007 64.69800 1110396331  2452.2104 \n",
              "1701 China                 Asia      1992 68.69000 1164970000  1655.7842 \n",
              "1702 China                 Asia      1997 70.42600 1230075000  2289.2341 \n",
              "1703 China                 Asia      2002 72.02800 1280400000  3119.2809 \n",
              "1704 China                 Asia      2007 72.96100 1318683096  4959.1149 "
            ]
          },
          "metadata": {}
        }
      ],
      "source": [
        "gapminder %>%\n",
        "   arrange(pop)"
      ]
    },
    {
      "cell_type": "markdown",
      "metadata": {
        "id": "_jVGJc8Da3Oo"
      },
      "source": [
        "## **Zadatak:**  \n",
        "Prikažite sve države koje su 2007 godine imale više od 200 milijuna stanovnika.  \n",
        "Rezultate sortirajte silazno prema nazivu države.  \n",
        "Dakle, da bi kombinirali filtriranje i sortiranje potrebno ih je samo povezati pipe znakovima."
      ]
    },
    {
      "cell_type": "code",
      "execution_count": 8,
      "metadata": {
        "colab": {
          "base_uri": "https://localhost:8080/",
          "height": 224
        },
        "id": "hBIyT8lLa5xf",
        "outputId": "5cfcd5d3-0b86-4a40-f4f6-a193b7dea04c",
        "vscode": {
          "languageId": "r"
        }
      },
      "outputs": [
        {
          "output_type": "display_data",
          "data": {
            "text/html": [
              "<table class=\"dataframe\">\n",
              "<caption>A tibble: 4 × 6</caption>\n",
              "<thead>\n",
              "\t<tr><th scope=col>country</th><th scope=col>continent</th><th scope=col>year</th><th scope=col>lifeExp</th><th scope=col>pop</th><th scope=col>gdpPercap</th></tr>\n",
              "\t<tr><th scope=col>&lt;fct&gt;</th><th scope=col>&lt;fct&gt;</th><th scope=col>&lt;int&gt;</th><th scope=col>&lt;dbl&gt;</th><th scope=col>&lt;int&gt;</th><th scope=col>&lt;dbl&gt;</th></tr>\n",
              "</thead>\n",
              "<tbody>\n",
              "\t<tr><td>United States</td><td>Americas</td><td>2007</td><td>78.242</td><td> 301139947</td><td>42951.653</td></tr>\n",
              "\t<tr><td>Indonesia    </td><td>Asia    </td><td>2007</td><td>70.650</td><td> 223547000</td><td> 3540.652</td></tr>\n",
              "\t<tr><td>India        </td><td>Asia    </td><td>2007</td><td>64.698</td><td>1110396331</td><td> 2452.210</td></tr>\n",
              "\t<tr><td>China        </td><td>Asia    </td><td>2007</td><td>72.961</td><td>1318683096</td><td> 4959.115</td></tr>\n",
              "</tbody>\n",
              "</table>\n"
            ],
            "text/markdown": "\nA tibble: 4 × 6\n\n| country &lt;fct&gt; | continent &lt;fct&gt; | year &lt;int&gt; | lifeExp &lt;dbl&gt; | pop &lt;int&gt; | gdpPercap &lt;dbl&gt; |\n|---|---|---|---|---|---|\n| United States | Americas | 2007 | 78.242 |  301139947 | 42951.653 |\n| Indonesia     | Asia     | 2007 | 70.650 |  223547000 |  3540.652 |\n| India         | Asia     | 2007 | 64.698 | 1110396331 |  2452.210 |\n| China         | Asia     | 2007 | 72.961 | 1318683096 |  4959.115 |\n\n",
            "text/latex": "A tibble: 4 × 6\n\\begin{tabular}{llllll}\n country & continent & year & lifeExp & pop & gdpPercap\\\\\n <fct> & <fct> & <int> & <dbl> & <int> & <dbl>\\\\\n\\hline\n\t United States & Americas & 2007 & 78.242 &  301139947 & 42951.653\\\\\n\t Indonesia     & Asia     & 2007 & 70.650 &  223547000 &  3540.652\\\\\n\t India         & Asia     & 2007 & 64.698 & 1110396331 &  2452.210\\\\\n\t China         & Asia     & 2007 & 72.961 & 1318683096 &  4959.115\\\\\n\\end{tabular}\n",
            "text/plain": [
              "  country       continent year lifeExp pop        gdpPercap\n",
              "1 United States Americas  2007 78.242   301139947 42951.653\n",
              "2 Indonesia     Asia      2007 70.650   223547000  3540.652\n",
              "3 India         Asia      2007 64.698  1110396331  2452.210\n",
              "4 China         Asia      2007 72.961  1318683096  4959.115"
            ]
          },
          "metadata": {}
        }
      ],
      "source": [
        "gapminder %>% \n",
        "    filter(year==2007, pop>200000000) %>% \n",
        "    arrange(desc(country))"
      ]
    },
    {
      "cell_type": "markdown",
      "metadata": {
        "id": "WhodgkCga_P_"
      },
      "source": [
        "## Mutate (kreiranje novog stupca ili mijenjanje podataka unutar postojećeg)\n",
        "Da bi izmijenili podatke u postojećem stupcu, koristiti ćemo funkciju `mutate()`.<br><br>\n",
        "**Primjer:** Prikažite dataset 'gapminder' tako da stupac 'pop' prikazuje broj stanovnika izražen u milijunima.  \n",
        "(Drugim riječima podijelimo ga sa 1,000,000)"
      ]
    },
    {
      "cell_type": "code",
      "execution_count": 9,
      "metadata": {
        "colab": {
          "base_uri": "https://localhost:8080/",
          "height": 1000
        },
        "id": "_y_DE_-6bADZ",
        "outputId": "15ff09dc-863f-4e05-d5de-72124e16d51d",
        "vscode": {
          "languageId": "r"
        }
      },
      "outputs": [
        {
          "output_type": "display_data",
          "data": {
            "text/html": [
              "<table class=\"dataframe\">\n",
              "<caption>A tibble: 1704 × 6</caption>\n",
              "<thead>\n",
              "\t<tr><th scope=col>country</th><th scope=col>continent</th><th scope=col>year</th><th scope=col>lifeExp</th><th scope=col>pop</th><th scope=col>gdpPercap</th></tr>\n",
              "\t<tr><th scope=col>&lt;fct&gt;</th><th scope=col>&lt;fct&gt;</th><th scope=col>&lt;int&gt;</th><th scope=col>&lt;dbl&gt;</th><th scope=col>&lt;dbl&gt;</th><th scope=col>&lt;dbl&gt;</th></tr>\n",
              "</thead>\n",
              "<tbody>\n",
              "\t<tr><td>Afghanistan</td><td>Asia  </td><td>1952</td><td>28.801</td><td> 8.425333</td><td> 779.4453</td></tr>\n",
              "\t<tr><td>Afghanistan</td><td>Asia  </td><td>1957</td><td>30.332</td><td> 9.240934</td><td> 820.8530</td></tr>\n",
              "\t<tr><td>Afghanistan</td><td>Asia  </td><td>1962</td><td>31.997</td><td>10.267083</td><td> 853.1007</td></tr>\n",
              "\t<tr><td>Afghanistan</td><td>Asia  </td><td>1967</td><td>34.020</td><td>11.537966</td><td> 836.1971</td></tr>\n",
              "\t<tr><td>Afghanistan</td><td>Asia  </td><td>1972</td><td>36.088</td><td>13.079460</td><td> 739.9811</td></tr>\n",
              "\t<tr><td>Afghanistan</td><td>Asia  </td><td>1977</td><td>38.438</td><td>14.880372</td><td> 786.1134</td></tr>\n",
              "\t<tr><td>Afghanistan</td><td>Asia  </td><td>1982</td><td>39.854</td><td>12.881816</td><td> 978.0114</td></tr>\n",
              "\t<tr><td>Afghanistan</td><td>Asia  </td><td>1987</td><td>40.822</td><td>13.867957</td><td> 852.3959</td></tr>\n",
              "\t<tr><td>Afghanistan</td><td>Asia  </td><td>1992</td><td>41.674</td><td>16.317921</td><td> 649.3414</td></tr>\n",
              "\t<tr><td>Afghanistan</td><td>Asia  </td><td>1997</td><td>41.763</td><td>22.227415</td><td> 635.3414</td></tr>\n",
              "\t<tr><td>Afghanistan</td><td>Asia  </td><td>2002</td><td>42.129</td><td>25.268405</td><td> 726.7341</td></tr>\n",
              "\t<tr><td>Afghanistan</td><td>Asia  </td><td>2007</td><td>43.828</td><td>31.889923</td><td> 974.5803</td></tr>\n",
              "\t<tr><td>Albania    </td><td>Europe</td><td>1952</td><td>55.230</td><td> 1.282697</td><td>1601.0561</td></tr>\n",
              "\t<tr><td>Albania    </td><td>Europe</td><td>1957</td><td>59.280</td><td> 1.476505</td><td>1942.2842</td></tr>\n",
              "\t<tr><td>Albania    </td><td>Europe</td><td>1962</td><td>64.820</td><td> 1.728137</td><td>2312.8890</td></tr>\n",
              "\t<tr><td>Albania    </td><td>Europe</td><td>1967</td><td>66.220</td><td> 1.984060</td><td>2760.1969</td></tr>\n",
              "\t<tr><td>Albania    </td><td>Europe</td><td>1972</td><td>67.690</td><td> 2.263554</td><td>3313.4222</td></tr>\n",
              "\t<tr><td>Albania    </td><td>Europe</td><td>1977</td><td>68.930</td><td> 2.509048</td><td>3533.0039</td></tr>\n",
              "\t<tr><td>Albania    </td><td>Europe</td><td>1982</td><td>70.420</td><td> 2.780097</td><td>3630.8807</td></tr>\n",
              "\t<tr><td>Albania    </td><td>Europe</td><td>1987</td><td>72.000</td><td> 3.075321</td><td>3738.9327</td></tr>\n",
              "\t<tr><td>Albania    </td><td>Europe</td><td>1992</td><td>71.581</td><td> 3.326498</td><td>2497.4379</td></tr>\n",
              "\t<tr><td>Albania    </td><td>Europe</td><td>1997</td><td>72.950</td><td> 3.428038</td><td>3193.0546</td></tr>\n",
              "\t<tr><td>Albania    </td><td>Europe</td><td>2002</td><td>75.651</td><td> 3.508512</td><td>4604.2117</td></tr>\n",
              "\t<tr><td>Albania    </td><td>Europe</td><td>2007</td><td>76.423</td><td> 3.600523</td><td>5937.0295</td></tr>\n",
              "\t<tr><td>Algeria    </td><td>Africa</td><td>1952</td><td>43.077</td><td> 9.279525</td><td>2449.0082</td></tr>\n",
              "\t<tr><td>Algeria    </td><td>Africa</td><td>1957</td><td>45.685</td><td>10.270856</td><td>3013.9760</td></tr>\n",
              "\t<tr><td>Algeria    </td><td>Africa</td><td>1962</td><td>48.303</td><td>11.000948</td><td>2550.8169</td></tr>\n",
              "\t<tr><td>Algeria    </td><td>Africa</td><td>1967</td><td>51.407</td><td>12.760499</td><td>3246.9918</td></tr>\n",
              "\t<tr><td>Algeria    </td><td>Africa</td><td>1972</td><td>54.518</td><td>14.760787</td><td>4182.6638</td></tr>\n",
              "\t<tr><td>Algeria    </td><td>Africa</td><td>1977</td><td>58.014</td><td>17.152804</td><td>4910.4168</td></tr>\n",
              "\t<tr><td>⋮</td><td>⋮</td><td>⋮</td><td>⋮</td><td>⋮</td><td>⋮</td></tr>\n",
              "\t<tr><td>Yemen, Rep.</td><td>Asia  </td><td>1982</td><td>49.113</td><td> 9.657618</td><td>1977.5570</td></tr>\n",
              "\t<tr><td>Yemen, Rep.</td><td>Asia  </td><td>1987</td><td>52.922</td><td>11.219340</td><td>1971.7415</td></tr>\n",
              "\t<tr><td>Yemen, Rep.</td><td>Asia  </td><td>1992</td><td>55.599</td><td>13.367997</td><td>1879.4967</td></tr>\n",
              "\t<tr><td>Yemen, Rep.</td><td>Asia  </td><td>1997</td><td>58.020</td><td>15.826497</td><td>2117.4845</td></tr>\n",
              "\t<tr><td>Yemen, Rep.</td><td>Asia  </td><td>2002</td><td>60.308</td><td>18.701257</td><td>2234.8208</td></tr>\n",
              "\t<tr><td>Yemen, Rep.</td><td>Asia  </td><td>2007</td><td>62.698</td><td>22.211743</td><td>2280.7699</td></tr>\n",
              "\t<tr><td>Zambia     </td><td>Africa</td><td>1952</td><td>42.038</td><td> 2.672000</td><td>1147.3888</td></tr>\n",
              "\t<tr><td>Zambia     </td><td>Africa</td><td>1957</td><td>44.077</td><td> 3.016000</td><td>1311.9568</td></tr>\n",
              "\t<tr><td>Zambia     </td><td>Africa</td><td>1962</td><td>46.023</td><td> 3.421000</td><td>1452.7258</td></tr>\n",
              "\t<tr><td>Zambia     </td><td>Africa</td><td>1967</td><td>47.768</td><td> 3.900000</td><td>1777.0773</td></tr>\n",
              "\t<tr><td>Zambia     </td><td>Africa</td><td>1972</td><td>50.107</td><td> 4.506497</td><td>1773.4983</td></tr>\n",
              "\t<tr><td>Zambia     </td><td>Africa</td><td>1977</td><td>51.386</td><td> 5.216550</td><td>1588.6883</td></tr>\n",
              "\t<tr><td>Zambia     </td><td>Africa</td><td>1982</td><td>51.821</td><td> 6.100407</td><td>1408.6786</td></tr>\n",
              "\t<tr><td>Zambia     </td><td>Africa</td><td>1987</td><td>50.821</td><td> 7.272406</td><td>1213.3151</td></tr>\n",
              "\t<tr><td>Zambia     </td><td>Africa</td><td>1992</td><td>46.100</td><td> 8.381163</td><td>1210.8846</td></tr>\n",
              "\t<tr><td>Zambia     </td><td>Africa</td><td>1997</td><td>40.238</td><td> 9.417789</td><td>1071.3538</td></tr>\n",
              "\t<tr><td>Zambia     </td><td>Africa</td><td>2002</td><td>39.193</td><td>10.595811</td><td>1071.6139</td></tr>\n",
              "\t<tr><td>Zambia     </td><td>Africa</td><td>2007</td><td>42.384</td><td>11.746035</td><td>1271.2116</td></tr>\n",
              "\t<tr><td>Zimbabwe   </td><td>Africa</td><td>1952</td><td>48.451</td><td> 3.080907</td><td> 406.8841</td></tr>\n",
              "\t<tr><td>Zimbabwe   </td><td>Africa</td><td>1957</td><td>50.469</td><td> 3.646340</td><td> 518.7643</td></tr>\n",
              "\t<tr><td>Zimbabwe   </td><td>Africa</td><td>1962</td><td>52.358</td><td> 4.277736</td><td> 527.2722</td></tr>\n",
              "\t<tr><td>Zimbabwe   </td><td>Africa</td><td>1967</td><td>53.995</td><td> 4.995432</td><td> 569.7951</td></tr>\n",
              "\t<tr><td>Zimbabwe   </td><td>Africa</td><td>1972</td><td>55.635</td><td> 5.861135</td><td> 799.3622</td></tr>\n",
              "\t<tr><td>Zimbabwe   </td><td>Africa</td><td>1977</td><td>57.674</td><td> 6.642107</td><td> 685.5877</td></tr>\n",
              "\t<tr><td>Zimbabwe   </td><td>Africa</td><td>1982</td><td>60.363</td><td> 7.636524</td><td> 788.8550</td></tr>\n",
              "\t<tr><td>Zimbabwe   </td><td>Africa</td><td>1987</td><td>62.351</td><td> 9.216418</td><td> 706.1573</td></tr>\n",
              "\t<tr><td>Zimbabwe   </td><td>Africa</td><td>1992</td><td>60.377</td><td>10.704340</td><td> 693.4208</td></tr>\n",
              "\t<tr><td>Zimbabwe   </td><td>Africa</td><td>1997</td><td>46.809</td><td>11.404948</td><td> 792.4500</td></tr>\n",
              "\t<tr><td>Zimbabwe   </td><td>Africa</td><td>2002</td><td>39.989</td><td>11.926563</td><td> 672.0386</td></tr>\n",
              "\t<tr><td>Zimbabwe   </td><td>Africa</td><td>2007</td><td>43.487</td><td>12.311143</td><td> 469.7093</td></tr>\n",
              "</tbody>\n",
              "</table>\n"
            ],
            "text/markdown": "\nA tibble: 1704 × 6\n\n| country &lt;fct&gt; | continent &lt;fct&gt; | year &lt;int&gt; | lifeExp &lt;dbl&gt; | pop &lt;dbl&gt; | gdpPercap &lt;dbl&gt; |\n|---|---|---|---|---|---|\n| Afghanistan | Asia   | 1952 | 28.801 |  8.425333 |  779.4453 |\n| Afghanistan | Asia   | 1957 | 30.332 |  9.240934 |  820.8530 |\n| Afghanistan | Asia   | 1962 | 31.997 | 10.267083 |  853.1007 |\n| Afghanistan | Asia   | 1967 | 34.020 | 11.537966 |  836.1971 |\n| Afghanistan | Asia   | 1972 | 36.088 | 13.079460 |  739.9811 |\n| Afghanistan | Asia   | 1977 | 38.438 | 14.880372 |  786.1134 |\n| Afghanistan | Asia   | 1982 | 39.854 | 12.881816 |  978.0114 |\n| Afghanistan | Asia   | 1987 | 40.822 | 13.867957 |  852.3959 |\n| Afghanistan | Asia   | 1992 | 41.674 | 16.317921 |  649.3414 |\n| Afghanistan | Asia   | 1997 | 41.763 | 22.227415 |  635.3414 |\n| Afghanistan | Asia   | 2002 | 42.129 | 25.268405 |  726.7341 |\n| Afghanistan | Asia   | 2007 | 43.828 | 31.889923 |  974.5803 |\n| Albania     | Europe | 1952 | 55.230 |  1.282697 | 1601.0561 |\n| Albania     | Europe | 1957 | 59.280 |  1.476505 | 1942.2842 |\n| Albania     | Europe | 1962 | 64.820 |  1.728137 | 2312.8890 |\n| Albania     | Europe | 1967 | 66.220 |  1.984060 | 2760.1969 |\n| Albania     | Europe | 1972 | 67.690 |  2.263554 | 3313.4222 |\n| Albania     | Europe | 1977 | 68.930 |  2.509048 | 3533.0039 |\n| Albania     | Europe | 1982 | 70.420 |  2.780097 | 3630.8807 |\n| Albania     | Europe | 1987 | 72.000 |  3.075321 | 3738.9327 |\n| Albania     | Europe | 1992 | 71.581 |  3.326498 | 2497.4379 |\n| Albania     | Europe | 1997 | 72.950 |  3.428038 | 3193.0546 |\n| Albania     | Europe | 2002 | 75.651 |  3.508512 | 4604.2117 |\n| Albania     | Europe | 2007 | 76.423 |  3.600523 | 5937.0295 |\n| Algeria     | Africa | 1952 | 43.077 |  9.279525 | 2449.0082 |\n| Algeria     | Africa | 1957 | 45.685 | 10.270856 | 3013.9760 |\n| Algeria     | Africa | 1962 | 48.303 | 11.000948 | 2550.8169 |\n| Algeria     | Africa | 1967 | 51.407 | 12.760499 | 3246.9918 |\n| Algeria     | Africa | 1972 | 54.518 | 14.760787 | 4182.6638 |\n| Algeria     | Africa | 1977 | 58.014 | 17.152804 | 4910.4168 |\n| ⋮ | ⋮ | ⋮ | ⋮ | ⋮ | ⋮ |\n| Yemen, Rep. | Asia   | 1982 | 49.113 |  9.657618 | 1977.5570 |\n| Yemen, Rep. | Asia   | 1987 | 52.922 | 11.219340 | 1971.7415 |\n| Yemen, Rep. | Asia   | 1992 | 55.599 | 13.367997 | 1879.4967 |\n| Yemen, Rep. | Asia   | 1997 | 58.020 | 15.826497 | 2117.4845 |\n| Yemen, Rep. | Asia   | 2002 | 60.308 | 18.701257 | 2234.8208 |\n| Yemen, Rep. | Asia   | 2007 | 62.698 | 22.211743 | 2280.7699 |\n| Zambia      | Africa | 1952 | 42.038 |  2.672000 | 1147.3888 |\n| Zambia      | Africa | 1957 | 44.077 |  3.016000 | 1311.9568 |\n| Zambia      | Africa | 1962 | 46.023 |  3.421000 | 1452.7258 |\n| Zambia      | Africa | 1967 | 47.768 |  3.900000 | 1777.0773 |\n| Zambia      | Africa | 1972 | 50.107 |  4.506497 | 1773.4983 |\n| Zambia      | Africa | 1977 | 51.386 |  5.216550 | 1588.6883 |\n| Zambia      | Africa | 1982 | 51.821 |  6.100407 | 1408.6786 |\n| Zambia      | Africa | 1987 | 50.821 |  7.272406 | 1213.3151 |\n| Zambia      | Africa | 1992 | 46.100 |  8.381163 | 1210.8846 |\n| Zambia      | Africa | 1997 | 40.238 |  9.417789 | 1071.3538 |\n| Zambia      | Africa | 2002 | 39.193 | 10.595811 | 1071.6139 |\n| Zambia      | Africa | 2007 | 42.384 | 11.746035 | 1271.2116 |\n| Zimbabwe    | Africa | 1952 | 48.451 |  3.080907 |  406.8841 |\n| Zimbabwe    | Africa | 1957 | 50.469 |  3.646340 |  518.7643 |\n| Zimbabwe    | Africa | 1962 | 52.358 |  4.277736 |  527.2722 |\n| Zimbabwe    | Africa | 1967 | 53.995 |  4.995432 |  569.7951 |\n| Zimbabwe    | Africa | 1972 | 55.635 |  5.861135 |  799.3622 |\n| Zimbabwe    | Africa | 1977 | 57.674 |  6.642107 |  685.5877 |\n| Zimbabwe    | Africa | 1982 | 60.363 |  7.636524 |  788.8550 |\n| Zimbabwe    | Africa | 1987 | 62.351 |  9.216418 |  706.1573 |\n| Zimbabwe    | Africa | 1992 | 60.377 | 10.704340 |  693.4208 |\n| Zimbabwe    | Africa | 1997 | 46.809 | 11.404948 |  792.4500 |\n| Zimbabwe    | Africa | 2002 | 39.989 | 11.926563 |  672.0386 |\n| Zimbabwe    | Africa | 2007 | 43.487 | 12.311143 |  469.7093 |\n\n",
            "text/latex": "A tibble: 1704 × 6\n\\begin{tabular}{llllll}\n country & continent & year & lifeExp & pop & gdpPercap\\\\\n <fct> & <fct> & <int> & <dbl> & <dbl> & <dbl>\\\\\n\\hline\n\t Afghanistan & Asia   & 1952 & 28.801 &  8.425333 &  779.4453\\\\\n\t Afghanistan & Asia   & 1957 & 30.332 &  9.240934 &  820.8530\\\\\n\t Afghanistan & Asia   & 1962 & 31.997 & 10.267083 &  853.1007\\\\\n\t Afghanistan & Asia   & 1967 & 34.020 & 11.537966 &  836.1971\\\\\n\t Afghanistan & Asia   & 1972 & 36.088 & 13.079460 &  739.9811\\\\\n\t Afghanistan & Asia   & 1977 & 38.438 & 14.880372 &  786.1134\\\\\n\t Afghanistan & Asia   & 1982 & 39.854 & 12.881816 &  978.0114\\\\\n\t Afghanistan & Asia   & 1987 & 40.822 & 13.867957 &  852.3959\\\\\n\t Afghanistan & Asia   & 1992 & 41.674 & 16.317921 &  649.3414\\\\\n\t Afghanistan & Asia   & 1997 & 41.763 & 22.227415 &  635.3414\\\\\n\t Afghanistan & Asia   & 2002 & 42.129 & 25.268405 &  726.7341\\\\\n\t Afghanistan & Asia   & 2007 & 43.828 & 31.889923 &  974.5803\\\\\n\t Albania     & Europe & 1952 & 55.230 &  1.282697 & 1601.0561\\\\\n\t Albania     & Europe & 1957 & 59.280 &  1.476505 & 1942.2842\\\\\n\t Albania     & Europe & 1962 & 64.820 &  1.728137 & 2312.8890\\\\\n\t Albania     & Europe & 1967 & 66.220 &  1.984060 & 2760.1969\\\\\n\t Albania     & Europe & 1972 & 67.690 &  2.263554 & 3313.4222\\\\\n\t Albania     & Europe & 1977 & 68.930 &  2.509048 & 3533.0039\\\\\n\t Albania     & Europe & 1982 & 70.420 &  2.780097 & 3630.8807\\\\\n\t Albania     & Europe & 1987 & 72.000 &  3.075321 & 3738.9327\\\\\n\t Albania     & Europe & 1992 & 71.581 &  3.326498 & 2497.4379\\\\\n\t Albania     & Europe & 1997 & 72.950 &  3.428038 & 3193.0546\\\\\n\t Albania     & Europe & 2002 & 75.651 &  3.508512 & 4604.2117\\\\\n\t Albania     & Europe & 2007 & 76.423 &  3.600523 & 5937.0295\\\\\n\t Algeria     & Africa & 1952 & 43.077 &  9.279525 & 2449.0082\\\\\n\t Algeria     & Africa & 1957 & 45.685 & 10.270856 & 3013.9760\\\\\n\t Algeria     & Africa & 1962 & 48.303 & 11.000948 & 2550.8169\\\\\n\t Algeria     & Africa & 1967 & 51.407 & 12.760499 & 3246.9918\\\\\n\t Algeria     & Africa & 1972 & 54.518 & 14.760787 & 4182.6638\\\\\n\t Algeria     & Africa & 1977 & 58.014 & 17.152804 & 4910.4168\\\\\n\t ⋮ & ⋮ & ⋮ & ⋮ & ⋮ & ⋮\\\\\n\t Yemen, Rep. & Asia   & 1982 & 49.113 &  9.657618 & 1977.5570\\\\\n\t Yemen, Rep. & Asia   & 1987 & 52.922 & 11.219340 & 1971.7415\\\\\n\t Yemen, Rep. & Asia   & 1992 & 55.599 & 13.367997 & 1879.4967\\\\\n\t Yemen, Rep. & Asia   & 1997 & 58.020 & 15.826497 & 2117.4845\\\\\n\t Yemen, Rep. & Asia   & 2002 & 60.308 & 18.701257 & 2234.8208\\\\\n\t Yemen, Rep. & Asia   & 2007 & 62.698 & 22.211743 & 2280.7699\\\\\n\t Zambia      & Africa & 1952 & 42.038 &  2.672000 & 1147.3888\\\\\n\t Zambia      & Africa & 1957 & 44.077 &  3.016000 & 1311.9568\\\\\n\t Zambia      & Africa & 1962 & 46.023 &  3.421000 & 1452.7258\\\\\n\t Zambia      & Africa & 1967 & 47.768 &  3.900000 & 1777.0773\\\\\n\t Zambia      & Africa & 1972 & 50.107 &  4.506497 & 1773.4983\\\\\n\t Zambia      & Africa & 1977 & 51.386 &  5.216550 & 1588.6883\\\\\n\t Zambia      & Africa & 1982 & 51.821 &  6.100407 & 1408.6786\\\\\n\t Zambia      & Africa & 1987 & 50.821 &  7.272406 & 1213.3151\\\\\n\t Zambia      & Africa & 1992 & 46.100 &  8.381163 & 1210.8846\\\\\n\t Zambia      & Africa & 1997 & 40.238 &  9.417789 & 1071.3538\\\\\n\t Zambia      & Africa & 2002 & 39.193 & 10.595811 & 1071.6139\\\\\n\t Zambia      & Africa & 2007 & 42.384 & 11.746035 & 1271.2116\\\\\n\t Zimbabwe    & Africa & 1952 & 48.451 &  3.080907 &  406.8841\\\\\n\t Zimbabwe    & Africa & 1957 & 50.469 &  3.646340 &  518.7643\\\\\n\t Zimbabwe    & Africa & 1962 & 52.358 &  4.277736 &  527.2722\\\\\n\t Zimbabwe    & Africa & 1967 & 53.995 &  4.995432 &  569.7951\\\\\n\t Zimbabwe    & Africa & 1972 & 55.635 &  5.861135 &  799.3622\\\\\n\t Zimbabwe    & Africa & 1977 & 57.674 &  6.642107 &  685.5877\\\\\n\t Zimbabwe    & Africa & 1982 & 60.363 &  7.636524 &  788.8550\\\\\n\t Zimbabwe    & Africa & 1987 & 62.351 &  9.216418 &  706.1573\\\\\n\t Zimbabwe    & Africa & 1992 & 60.377 & 10.704340 &  693.4208\\\\\n\t Zimbabwe    & Africa & 1997 & 46.809 & 11.404948 &  792.4500\\\\\n\t Zimbabwe    & Africa & 2002 & 39.989 & 11.926563 &  672.0386\\\\\n\t Zimbabwe    & Africa & 2007 & 43.487 & 12.311143 &  469.7093\\\\\n\\end{tabular}\n",
            "text/plain": [
              "     country     continent year lifeExp pop       gdpPercap\n",
              "1    Afghanistan Asia      1952 28.801   8.425333  779.4453\n",
              "2    Afghanistan Asia      1957 30.332   9.240934  820.8530\n",
              "3    Afghanistan Asia      1962 31.997  10.267083  853.1007\n",
              "4    Afghanistan Asia      1967 34.020  11.537966  836.1971\n",
              "5    Afghanistan Asia      1972 36.088  13.079460  739.9811\n",
              "6    Afghanistan Asia      1977 38.438  14.880372  786.1134\n",
              "7    Afghanistan Asia      1982 39.854  12.881816  978.0114\n",
              "8    Afghanistan Asia      1987 40.822  13.867957  852.3959\n",
              "9    Afghanistan Asia      1992 41.674  16.317921  649.3414\n",
              "10   Afghanistan Asia      1997 41.763  22.227415  635.3414\n",
              "11   Afghanistan Asia      2002 42.129  25.268405  726.7341\n",
              "12   Afghanistan Asia      2007 43.828  31.889923  974.5803\n",
              "13   Albania     Europe    1952 55.230   1.282697 1601.0561\n",
              "14   Albania     Europe    1957 59.280   1.476505 1942.2842\n",
              "15   Albania     Europe    1962 64.820   1.728137 2312.8890\n",
              "16   Albania     Europe    1967 66.220   1.984060 2760.1969\n",
              "17   Albania     Europe    1972 67.690   2.263554 3313.4222\n",
              "18   Albania     Europe    1977 68.930   2.509048 3533.0039\n",
              "19   Albania     Europe    1982 70.420   2.780097 3630.8807\n",
              "20   Albania     Europe    1987 72.000   3.075321 3738.9327\n",
              "21   Albania     Europe    1992 71.581   3.326498 2497.4379\n",
              "22   Albania     Europe    1997 72.950   3.428038 3193.0546\n",
              "23   Albania     Europe    2002 75.651   3.508512 4604.2117\n",
              "24   Albania     Europe    2007 76.423   3.600523 5937.0295\n",
              "25   Algeria     Africa    1952 43.077   9.279525 2449.0082\n",
              "26   Algeria     Africa    1957 45.685  10.270856 3013.9760\n",
              "27   Algeria     Africa    1962 48.303  11.000948 2550.8169\n",
              "28   Algeria     Africa    1967 51.407  12.760499 3246.9918\n",
              "29   Algeria     Africa    1972 54.518  14.760787 4182.6638\n",
              "30   Algeria     Africa    1977 58.014  17.152804 4910.4168\n",
              "⋮    ⋮           ⋮         ⋮    ⋮       ⋮         ⋮        \n",
              "1675 Yemen, Rep. Asia      1982 49.113   9.657618 1977.5570\n",
              "1676 Yemen, Rep. Asia      1987 52.922  11.219340 1971.7415\n",
              "1677 Yemen, Rep. Asia      1992 55.599  13.367997 1879.4967\n",
              "1678 Yemen, Rep. Asia      1997 58.020  15.826497 2117.4845\n",
              "1679 Yemen, Rep. Asia      2002 60.308  18.701257 2234.8208\n",
              "1680 Yemen, Rep. Asia      2007 62.698  22.211743 2280.7699\n",
              "1681 Zambia      Africa    1952 42.038   2.672000 1147.3888\n",
              "1682 Zambia      Africa    1957 44.077   3.016000 1311.9568\n",
              "1683 Zambia      Africa    1962 46.023   3.421000 1452.7258\n",
              "1684 Zambia      Africa    1967 47.768   3.900000 1777.0773\n",
              "1685 Zambia      Africa    1972 50.107   4.506497 1773.4983\n",
              "1686 Zambia      Africa    1977 51.386   5.216550 1588.6883\n",
              "1687 Zambia      Africa    1982 51.821   6.100407 1408.6786\n",
              "1688 Zambia      Africa    1987 50.821   7.272406 1213.3151\n",
              "1689 Zambia      Africa    1992 46.100   8.381163 1210.8846\n",
              "1690 Zambia      Africa    1997 40.238   9.417789 1071.3538\n",
              "1691 Zambia      Africa    2002 39.193  10.595811 1071.6139\n",
              "1692 Zambia      Africa    2007 42.384  11.746035 1271.2116\n",
              "1693 Zimbabwe    Africa    1952 48.451   3.080907  406.8841\n",
              "1694 Zimbabwe    Africa    1957 50.469   3.646340  518.7643\n",
              "1695 Zimbabwe    Africa    1962 52.358   4.277736  527.2722\n",
              "1696 Zimbabwe    Africa    1967 53.995   4.995432  569.7951\n",
              "1697 Zimbabwe    Africa    1972 55.635   5.861135  799.3622\n",
              "1698 Zimbabwe    Africa    1977 57.674   6.642107  685.5877\n",
              "1699 Zimbabwe    Africa    1982 60.363   7.636524  788.8550\n",
              "1700 Zimbabwe    Africa    1987 62.351   9.216418  706.1573\n",
              "1701 Zimbabwe    Africa    1992 60.377  10.704340  693.4208\n",
              "1702 Zimbabwe    Africa    1997 46.809  11.404948  792.4500\n",
              "1703 Zimbabwe    Africa    2002 39.989  11.926563  672.0386\n",
              "1704 Zimbabwe    Africa    2007 43.487  12.311143  469.7093"
            ]
          },
          "metadata": {}
        }
      ],
      "source": [
        "gapminder %>%\n",
        "    mutate(pop=pop/1000000)"
      ]
    },
    {
      "cell_type": "markdown",
      "metadata": {
        "id": "tApFON9RbC6p"
      },
      "source": [
        "Kao što vidite, opet koristimo pipe na našem datasetu.  \n",
        "Dataset gapminder, zapravo nije izmijenjen, nego je samo kao takav ispisan na ekranu.  \n",
        "Da bi zaista promijenili naš dataset moramo to napraviti na slijedeći način:  \n",
        "``` R\n",
        "gapminder <- gapminder %>% mutate(pop=pop/1000000)```"
      ]
    },
    {
      "cell_type": "markdown",
      "metadata": {
        "id": "Dx5m5_FVbJUn"
      },
      "source": [
        "Dodavanje stupca u dataset.  \n",
        "Ponekad ne želimo mijenjati postojeće podatke, već želimo dodati novi stupac koji ima izmijenjene podatke.<br><br>\n",
        "**Primjer:** U dataset *gapminder* dodajte novi stupac 'pop_mil' koji će sadržavati broj stanovnika izražen u milijunima."
      ]
    },
    {
      "cell_type": "code",
      "execution_count": 10,
      "metadata": {
        "colab": {
          "base_uri": "https://localhost:8080/",
          "height": 1000
        },
        "id": "OjXvLxAdbF1X",
        "outputId": "28046d7b-df19-4193-9a39-d3ad262408ee",
        "vscode": {
          "languageId": "r"
        }
      },
      "outputs": [
        {
          "output_type": "display_data",
          "data": {
            "text/html": [
              "<table class=\"dataframe\">\n",
              "<caption>A tibble: 1704 × 7</caption>\n",
              "<thead>\n",
              "\t<tr><th scope=col>country</th><th scope=col>continent</th><th scope=col>year</th><th scope=col>lifeExp</th><th scope=col>pop</th><th scope=col>gdpPercap</th><th scope=col>pop_mil</th></tr>\n",
              "\t<tr><th scope=col>&lt;fct&gt;</th><th scope=col>&lt;fct&gt;</th><th scope=col>&lt;int&gt;</th><th scope=col>&lt;dbl&gt;</th><th scope=col>&lt;int&gt;</th><th scope=col>&lt;dbl&gt;</th><th scope=col>&lt;dbl&gt;</th></tr>\n",
              "</thead>\n",
              "<tbody>\n",
              "\t<tr><td>Afghanistan</td><td>Asia  </td><td>1952</td><td>28.801</td><td> 8425333</td><td> 779.4453</td><td> 8.425333</td></tr>\n",
              "\t<tr><td>Afghanistan</td><td>Asia  </td><td>1957</td><td>30.332</td><td> 9240934</td><td> 820.8530</td><td> 9.240934</td></tr>\n",
              "\t<tr><td>Afghanistan</td><td>Asia  </td><td>1962</td><td>31.997</td><td>10267083</td><td> 853.1007</td><td>10.267083</td></tr>\n",
              "\t<tr><td>Afghanistan</td><td>Asia  </td><td>1967</td><td>34.020</td><td>11537966</td><td> 836.1971</td><td>11.537966</td></tr>\n",
              "\t<tr><td>Afghanistan</td><td>Asia  </td><td>1972</td><td>36.088</td><td>13079460</td><td> 739.9811</td><td>13.079460</td></tr>\n",
              "\t<tr><td>Afghanistan</td><td>Asia  </td><td>1977</td><td>38.438</td><td>14880372</td><td> 786.1134</td><td>14.880372</td></tr>\n",
              "\t<tr><td>Afghanistan</td><td>Asia  </td><td>1982</td><td>39.854</td><td>12881816</td><td> 978.0114</td><td>12.881816</td></tr>\n",
              "\t<tr><td>Afghanistan</td><td>Asia  </td><td>1987</td><td>40.822</td><td>13867957</td><td> 852.3959</td><td>13.867957</td></tr>\n",
              "\t<tr><td>Afghanistan</td><td>Asia  </td><td>1992</td><td>41.674</td><td>16317921</td><td> 649.3414</td><td>16.317921</td></tr>\n",
              "\t<tr><td>Afghanistan</td><td>Asia  </td><td>1997</td><td>41.763</td><td>22227415</td><td> 635.3414</td><td>22.227415</td></tr>\n",
              "\t<tr><td>Afghanistan</td><td>Asia  </td><td>2002</td><td>42.129</td><td>25268405</td><td> 726.7341</td><td>25.268405</td></tr>\n",
              "\t<tr><td>Afghanistan</td><td>Asia  </td><td>2007</td><td>43.828</td><td>31889923</td><td> 974.5803</td><td>31.889923</td></tr>\n",
              "\t<tr><td>Albania    </td><td>Europe</td><td>1952</td><td>55.230</td><td> 1282697</td><td>1601.0561</td><td> 1.282697</td></tr>\n",
              "\t<tr><td>Albania    </td><td>Europe</td><td>1957</td><td>59.280</td><td> 1476505</td><td>1942.2842</td><td> 1.476505</td></tr>\n",
              "\t<tr><td>Albania    </td><td>Europe</td><td>1962</td><td>64.820</td><td> 1728137</td><td>2312.8890</td><td> 1.728137</td></tr>\n",
              "\t<tr><td>Albania    </td><td>Europe</td><td>1967</td><td>66.220</td><td> 1984060</td><td>2760.1969</td><td> 1.984060</td></tr>\n",
              "\t<tr><td>Albania    </td><td>Europe</td><td>1972</td><td>67.690</td><td> 2263554</td><td>3313.4222</td><td> 2.263554</td></tr>\n",
              "\t<tr><td>Albania    </td><td>Europe</td><td>1977</td><td>68.930</td><td> 2509048</td><td>3533.0039</td><td> 2.509048</td></tr>\n",
              "\t<tr><td>Albania    </td><td>Europe</td><td>1982</td><td>70.420</td><td> 2780097</td><td>3630.8807</td><td> 2.780097</td></tr>\n",
              "\t<tr><td>Albania    </td><td>Europe</td><td>1987</td><td>72.000</td><td> 3075321</td><td>3738.9327</td><td> 3.075321</td></tr>\n",
              "\t<tr><td>Albania    </td><td>Europe</td><td>1992</td><td>71.581</td><td> 3326498</td><td>2497.4379</td><td> 3.326498</td></tr>\n",
              "\t<tr><td>Albania    </td><td>Europe</td><td>1997</td><td>72.950</td><td> 3428038</td><td>3193.0546</td><td> 3.428038</td></tr>\n",
              "\t<tr><td>Albania    </td><td>Europe</td><td>2002</td><td>75.651</td><td> 3508512</td><td>4604.2117</td><td> 3.508512</td></tr>\n",
              "\t<tr><td>Albania    </td><td>Europe</td><td>2007</td><td>76.423</td><td> 3600523</td><td>5937.0295</td><td> 3.600523</td></tr>\n",
              "\t<tr><td>Algeria    </td><td>Africa</td><td>1952</td><td>43.077</td><td> 9279525</td><td>2449.0082</td><td> 9.279525</td></tr>\n",
              "\t<tr><td>Algeria    </td><td>Africa</td><td>1957</td><td>45.685</td><td>10270856</td><td>3013.9760</td><td>10.270856</td></tr>\n",
              "\t<tr><td>Algeria    </td><td>Africa</td><td>1962</td><td>48.303</td><td>11000948</td><td>2550.8169</td><td>11.000948</td></tr>\n",
              "\t<tr><td>Algeria    </td><td>Africa</td><td>1967</td><td>51.407</td><td>12760499</td><td>3246.9918</td><td>12.760499</td></tr>\n",
              "\t<tr><td>Algeria    </td><td>Africa</td><td>1972</td><td>54.518</td><td>14760787</td><td>4182.6638</td><td>14.760787</td></tr>\n",
              "\t<tr><td>Algeria    </td><td>Africa</td><td>1977</td><td>58.014</td><td>17152804</td><td>4910.4168</td><td>17.152804</td></tr>\n",
              "\t<tr><td>⋮</td><td>⋮</td><td>⋮</td><td>⋮</td><td>⋮</td><td>⋮</td><td>⋮</td></tr>\n",
              "\t<tr><td>Yemen, Rep.</td><td>Asia  </td><td>1982</td><td>49.113</td><td> 9657618</td><td>1977.5570</td><td> 9.657618</td></tr>\n",
              "\t<tr><td>Yemen, Rep.</td><td>Asia  </td><td>1987</td><td>52.922</td><td>11219340</td><td>1971.7415</td><td>11.219340</td></tr>\n",
              "\t<tr><td>Yemen, Rep.</td><td>Asia  </td><td>1992</td><td>55.599</td><td>13367997</td><td>1879.4967</td><td>13.367997</td></tr>\n",
              "\t<tr><td>Yemen, Rep.</td><td>Asia  </td><td>1997</td><td>58.020</td><td>15826497</td><td>2117.4845</td><td>15.826497</td></tr>\n",
              "\t<tr><td>Yemen, Rep.</td><td>Asia  </td><td>2002</td><td>60.308</td><td>18701257</td><td>2234.8208</td><td>18.701257</td></tr>\n",
              "\t<tr><td>Yemen, Rep.</td><td>Asia  </td><td>2007</td><td>62.698</td><td>22211743</td><td>2280.7699</td><td>22.211743</td></tr>\n",
              "\t<tr><td>Zambia     </td><td>Africa</td><td>1952</td><td>42.038</td><td> 2672000</td><td>1147.3888</td><td> 2.672000</td></tr>\n",
              "\t<tr><td>Zambia     </td><td>Africa</td><td>1957</td><td>44.077</td><td> 3016000</td><td>1311.9568</td><td> 3.016000</td></tr>\n",
              "\t<tr><td>Zambia     </td><td>Africa</td><td>1962</td><td>46.023</td><td> 3421000</td><td>1452.7258</td><td> 3.421000</td></tr>\n",
              "\t<tr><td>Zambia     </td><td>Africa</td><td>1967</td><td>47.768</td><td> 3900000</td><td>1777.0773</td><td> 3.900000</td></tr>\n",
              "\t<tr><td>Zambia     </td><td>Africa</td><td>1972</td><td>50.107</td><td> 4506497</td><td>1773.4983</td><td> 4.506497</td></tr>\n",
              "\t<tr><td>Zambia     </td><td>Africa</td><td>1977</td><td>51.386</td><td> 5216550</td><td>1588.6883</td><td> 5.216550</td></tr>\n",
              "\t<tr><td>Zambia     </td><td>Africa</td><td>1982</td><td>51.821</td><td> 6100407</td><td>1408.6786</td><td> 6.100407</td></tr>\n",
              "\t<tr><td>Zambia     </td><td>Africa</td><td>1987</td><td>50.821</td><td> 7272406</td><td>1213.3151</td><td> 7.272406</td></tr>\n",
              "\t<tr><td>Zambia     </td><td>Africa</td><td>1992</td><td>46.100</td><td> 8381163</td><td>1210.8846</td><td> 8.381163</td></tr>\n",
              "\t<tr><td>Zambia     </td><td>Africa</td><td>1997</td><td>40.238</td><td> 9417789</td><td>1071.3538</td><td> 9.417789</td></tr>\n",
              "\t<tr><td>Zambia     </td><td>Africa</td><td>2002</td><td>39.193</td><td>10595811</td><td>1071.6139</td><td>10.595811</td></tr>\n",
              "\t<tr><td>Zambia     </td><td>Africa</td><td>2007</td><td>42.384</td><td>11746035</td><td>1271.2116</td><td>11.746035</td></tr>\n",
              "\t<tr><td>Zimbabwe   </td><td>Africa</td><td>1952</td><td>48.451</td><td> 3080907</td><td> 406.8841</td><td> 3.080907</td></tr>\n",
              "\t<tr><td>Zimbabwe   </td><td>Africa</td><td>1957</td><td>50.469</td><td> 3646340</td><td> 518.7643</td><td> 3.646340</td></tr>\n",
              "\t<tr><td>Zimbabwe   </td><td>Africa</td><td>1962</td><td>52.358</td><td> 4277736</td><td> 527.2722</td><td> 4.277736</td></tr>\n",
              "\t<tr><td>Zimbabwe   </td><td>Africa</td><td>1967</td><td>53.995</td><td> 4995432</td><td> 569.7951</td><td> 4.995432</td></tr>\n",
              "\t<tr><td>Zimbabwe   </td><td>Africa</td><td>1972</td><td>55.635</td><td> 5861135</td><td> 799.3622</td><td> 5.861135</td></tr>\n",
              "\t<tr><td>Zimbabwe   </td><td>Africa</td><td>1977</td><td>57.674</td><td> 6642107</td><td> 685.5877</td><td> 6.642107</td></tr>\n",
              "\t<tr><td>Zimbabwe   </td><td>Africa</td><td>1982</td><td>60.363</td><td> 7636524</td><td> 788.8550</td><td> 7.636524</td></tr>\n",
              "\t<tr><td>Zimbabwe   </td><td>Africa</td><td>1987</td><td>62.351</td><td> 9216418</td><td> 706.1573</td><td> 9.216418</td></tr>\n",
              "\t<tr><td>Zimbabwe   </td><td>Africa</td><td>1992</td><td>60.377</td><td>10704340</td><td> 693.4208</td><td>10.704340</td></tr>\n",
              "\t<tr><td>Zimbabwe   </td><td>Africa</td><td>1997</td><td>46.809</td><td>11404948</td><td> 792.4500</td><td>11.404948</td></tr>\n",
              "\t<tr><td>Zimbabwe   </td><td>Africa</td><td>2002</td><td>39.989</td><td>11926563</td><td> 672.0386</td><td>11.926563</td></tr>\n",
              "\t<tr><td>Zimbabwe   </td><td>Africa</td><td>2007</td><td>43.487</td><td>12311143</td><td> 469.7093</td><td>12.311143</td></tr>\n",
              "</tbody>\n",
              "</table>\n"
            ],
            "text/markdown": "\nA tibble: 1704 × 7\n\n| country &lt;fct&gt; | continent &lt;fct&gt; | year &lt;int&gt; | lifeExp &lt;dbl&gt; | pop &lt;int&gt; | gdpPercap &lt;dbl&gt; | pop_mil &lt;dbl&gt; |\n|---|---|---|---|---|---|---|\n| Afghanistan | Asia   | 1952 | 28.801 |  8425333 |  779.4453 |  8.425333 |\n| Afghanistan | Asia   | 1957 | 30.332 |  9240934 |  820.8530 |  9.240934 |\n| Afghanistan | Asia   | 1962 | 31.997 | 10267083 |  853.1007 | 10.267083 |\n| Afghanistan | Asia   | 1967 | 34.020 | 11537966 |  836.1971 | 11.537966 |\n| Afghanistan | Asia   | 1972 | 36.088 | 13079460 |  739.9811 | 13.079460 |\n| Afghanistan | Asia   | 1977 | 38.438 | 14880372 |  786.1134 | 14.880372 |\n| Afghanistan | Asia   | 1982 | 39.854 | 12881816 |  978.0114 | 12.881816 |\n| Afghanistan | Asia   | 1987 | 40.822 | 13867957 |  852.3959 | 13.867957 |\n| Afghanistan | Asia   | 1992 | 41.674 | 16317921 |  649.3414 | 16.317921 |\n| Afghanistan | Asia   | 1997 | 41.763 | 22227415 |  635.3414 | 22.227415 |\n| Afghanistan | Asia   | 2002 | 42.129 | 25268405 |  726.7341 | 25.268405 |\n| Afghanistan | Asia   | 2007 | 43.828 | 31889923 |  974.5803 | 31.889923 |\n| Albania     | Europe | 1952 | 55.230 |  1282697 | 1601.0561 |  1.282697 |\n| Albania     | Europe | 1957 | 59.280 |  1476505 | 1942.2842 |  1.476505 |\n| Albania     | Europe | 1962 | 64.820 |  1728137 | 2312.8890 |  1.728137 |\n| Albania     | Europe | 1967 | 66.220 |  1984060 | 2760.1969 |  1.984060 |\n| Albania     | Europe | 1972 | 67.690 |  2263554 | 3313.4222 |  2.263554 |\n| Albania     | Europe | 1977 | 68.930 |  2509048 | 3533.0039 |  2.509048 |\n| Albania     | Europe | 1982 | 70.420 |  2780097 | 3630.8807 |  2.780097 |\n| Albania     | Europe | 1987 | 72.000 |  3075321 | 3738.9327 |  3.075321 |\n| Albania     | Europe | 1992 | 71.581 |  3326498 | 2497.4379 |  3.326498 |\n| Albania     | Europe | 1997 | 72.950 |  3428038 | 3193.0546 |  3.428038 |\n| Albania     | Europe | 2002 | 75.651 |  3508512 | 4604.2117 |  3.508512 |\n| Albania     | Europe | 2007 | 76.423 |  3600523 | 5937.0295 |  3.600523 |\n| Algeria     | Africa | 1952 | 43.077 |  9279525 | 2449.0082 |  9.279525 |\n| Algeria     | Africa | 1957 | 45.685 | 10270856 | 3013.9760 | 10.270856 |\n| Algeria     | Africa | 1962 | 48.303 | 11000948 | 2550.8169 | 11.000948 |\n| Algeria     | Africa | 1967 | 51.407 | 12760499 | 3246.9918 | 12.760499 |\n| Algeria     | Africa | 1972 | 54.518 | 14760787 | 4182.6638 | 14.760787 |\n| Algeria     | Africa | 1977 | 58.014 | 17152804 | 4910.4168 | 17.152804 |\n| ⋮ | ⋮ | ⋮ | ⋮ | ⋮ | ⋮ | ⋮ |\n| Yemen, Rep. | Asia   | 1982 | 49.113 |  9657618 | 1977.5570 |  9.657618 |\n| Yemen, Rep. | Asia   | 1987 | 52.922 | 11219340 | 1971.7415 | 11.219340 |\n| Yemen, Rep. | Asia   | 1992 | 55.599 | 13367997 | 1879.4967 | 13.367997 |\n| Yemen, Rep. | Asia   | 1997 | 58.020 | 15826497 | 2117.4845 | 15.826497 |\n| Yemen, Rep. | Asia   | 2002 | 60.308 | 18701257 | 2234.8208 | 18.701257 |\n| Yemen, Rep. | Asia   | 2007 | 62.698 | 22211743 | 2280.7699 | 22.211743 |\n| Zambia      | Africa | 1952 | 42.038 |  2672000 | 1147.3888 |  2.672000 |\n| Zambia      | Africa | 1957 | 44.077 |  3016000 | 1311.9568 |  3.016000 |\n| Zambia      | Africa | 1962 | 46.023 |  3421000 | 1452.7258 |  3.421000 |\n| Zambia      | Africa | 1967 | 47.768 |  3900000 | 1777.0773 |  3.900000 |\n| Zambia      | Africa | 1972 | 50.107 |  4506497 | 1773.4983 |  4.506497 |\n| Zambia      | Africa | 1977 | 51.386 |  5216550 | 1588.6883 |  5.216550 |\n| Zambia      | Africa | 1982 | 51.821 |  6100407 | 1408.6786 |  6.100407 |\n| Zambia      | Africa | 1987 | 50.821 |  7272406 | 1213.3151 |  7.272406 |\n| Zambia      | Africa | 1992 | 46.100 |  8381163 | 1210.8846 |  8.381163 |\n| Zambia      | Africa | 1997 | 40.238 |  9417789 | 1071.3538 |  9.417789 |\n| Zambia      | Africa | 2002 | 39.193 | 10595811 | 1071.6139 | 10.595811 |\n| Zambia      | Africa | 2007 | 42.384 | 11746035 | 1271.2116 | 11.746035 |\n| Zimbabwe    | Africa | 1952 | 48.451 |  3080907 |  406.8841 |  3.080907 |\n| Zimbabwe    | Africa | 1957 | 50.469 |  3646340 |  518.7643 |  3.646340 |\n| Zimbabwe    | Africa | 1962 | 52.358 |  4277736 |  527.2722 |  4.277736 |\n| Zimbabwe    | Africa | 1967 | 53.995 |  4995432 |  569.7951 |  4.995432 |\n| Zimbabwe    | Africa | 1972 | 55.635 |  5861135 |  799.3622 |  5.861135 |\n| Zimbabwe    | Africa | 1977 | 57.674 |  6642107 |  685.5877 |  6.642107 |\n| Zimbabwe    | Africa | 1982 | 60.363 |  7636524 |  788.8550 |  7.636524 |\n| Zimbabwe    | Africa | 1987 | 62.351 |  9216418 |  706.1573 |  9.216418 |\n| Zimbabwe    | Africa | 1992 | 60.377 | 10704340 |  693.4208 | 10.704340 |\n| Zimbabwe    | Africa | 1997 | 46.809 | 11404948 |  792.4500 | 11.404948 |\n| Zimbabwe    | Africa | 2002 | 39.989 | 11926563 |  672.0386 | 11.926563 |\n| Zimbabwe    | Africa | 2007 | 43.487 | 12311143 |  469.7093 | 12.311143 |\n\n",
            "text/latex": "A tibble: 1704 × 7\n\\begin{tabular}{lllllll}\n country & continent & year & lifeExp & pop & gdpPercap & pop\\_mil\\\\\n <fct> & <fct> & <int> & <dbl> & <int> & <dbl> & <dbl>\\\\\n\\hline\n\t Afghanistan & Asia   & 1952 & 28.801 &  8425333 &  779.4453 &  8.425333\\\\\n\t Afghanistan & Asia   & 1957 & 30.332 &  9240934 &  820.8530 &  9.240934\\\\\n\t Afghanistan & Asia   & 1962 & 31.997 & 10267083 &  853.1007 & 10.267083\\\\\n\t Afghanistan & Asia   & 1967 & 34.020 & 11537966 &  836.1971 & 11.537966\\\\\n\t Afghanistan & Asia   & 1972 & 36.088 & 13079460 &  739.9811 & 13.079460\\\\\n\t Afghanistan & Asia   & 1977 & 38.438 & 14880372 &  786.1134 & 14.880372\\\\\n\t Afghanistan & Asia   & 1982 & 39.854 & 12881816 &  978.0114 & 12.881816\\\\\n\t Afghanistan & Asia   & 1987 & 40.822 & 13867957 &  852.3959 & 13.867957\\\\\n\t Afghanistan & Asia   & 1992 & 41.674 & 16317921 &  649.3414 & 16.317921\\\\\n\t Afghanistan & Asia   & 1997 & 41.763 & 22227415 &  635.3414 & 22.227415\\\\\n\t Afghanistan & Asia   & 2002 & 42.129 & 25268405 &  726.7341 & 25.268405\\\\\n\t Afghanistan & Asia   & 2007 & 43.828 & 31889923 &  974.5803 & 31.889923\\\\\n\t Albania     & Europe & 1952 & 55.230 &  1282697 & 1601.0561 &  1.282697\\\\\n\t Albania     & Europe & 1957 & 59.280 &  1476505 & 1942.2842 &  1.476505\\\\\n\t Albania     & Europe & 1962 & 64.820 &  1728137 & 2312.8890 &  1.728137\\\\\n\t Albania     & Europe & 1967 & 66.220 &  1984060 & 2760.1969 &  1.984060\\\\\n\t Albania     & Europe & 1972 & 67.690 &  2263554 & 3313.4222 &  2.263554\\\\\n\t Albania     & Europe & 1977 & 68.930 &  2509048 & 3533.0039 &  2.509048\\\\\n\t Albania     & Europe & 1982 & 70.420 &  2780097 & 3630.8807 &  2.780097\\\\\n\t Albania     & Europe & 1987 & 72.000 &  3075321 & 3738.9327 &  3.075321\\\\\n\t Albania     & Europe & 1992 & 71.581 &  3326498 & 2497.4379 &  3.326498\\\\\n\t Albania     & Europe & 1997 & 72.950 &  3428038 & 3193.0546 &  3.428038\\\\\n\t Albania     & Europe & 2002 & 75.651 &  3508512 & 4604.2117 &  3.508512\\\\\n\t Albania     & Europe & 2007 & 76.423 &  3600523 & 5937.0295 &  3.600523\\\\\n\t Algeria     & Africa & 1952 & 43.077 &  9279525 & 2449.0082 &  9.279525\\\\\n\t Algeria     & Africa & 1957 & 45.685 & 10270856 & 3013.9760 & 10.270856\\\\\n\t Algeria     & Africa & 1962 & 48.303 & 11000948 & 2550.8169 & 11.000948\\\\\n\t Algeria     & Africa & 1967 & 51.407 & 12760499 & 3246.9918 & 12.760499\\\\\n\t Algeria     & Africa & 1972 & 54.518 & 14760787 & 4182.6638 & 14.760787\\\\\n\t Algeria     & Africa & 1977 & 58.014 & 17152804 & 4910.4168 & 17.152804\\\\\n\t ⋮ & ⋮ & ⋮ & ⋮ & ⋮ & ⋮ & ⋮\\\\\n\t Yemen, Rep. & Asia   & 1982 & 49.113 &  9657618 & 1977.5570 &  9.657618\\\\\n\t Yemen, Rep. & Asia   & 1987 & 52.922 & 11219340 & 1971.7415 & 11.219340\\\\\n\t Yemen, Rep. & Asia   & 1992 & 55.599 & 13367997 & 1879.4967 & 13.367997\\\\\n\t Yemen, Rep. & Asia   & 1997 & 58.020 & 15826497 & 2117.4845 & 15.826497\\\\\n\t Yemen, Rep. & Asia   & 2002 & 60.308 & 18701257 & 2234.8208 & 18.701257\\\\\n\t Yemen, Rep. & Asia   & 2007 & 62.698 & 22211743 & 2280.7699 & 22.211743\\\\\n\t Zambia      & Africa & 1952 & 42.038 &  2672000 & 1147.3888 &  2.672000\\\\\n\t Zambia      & Africa & 1957 & 44.077 &  3016000 & 1311.9568 &  3.016000\\\\\n\t Zambia      & Africa & 1962 & 46.023 &  3421000 & 1452.7258 &  3.421000\\\\\n\t Zambia      & Africa & 1967 & 47.768 &  3900000 & 1777.0773 &  3.900000\\\\\n\t Zambia      & Africa & 1972 & 50.107 &  4506497 & 1773.4983 &  4.506497\\\\\n\t Zambia      & Africa & 1977 & 51.386 &  5216550 & 1588.6883 &  5.216550\\\\\n\t Zambia      & Africa & 1982 & 51.821 &  6100407 & 1408.6786 &  6.100407\\\\\n\t Zambia      & Africa & 1987 & 50.821 &  7272406 & 1213.3151 &  7.272406\\\\\n\t Zambia      & Africa & 1992 & 46.100 &  8381163 & 1210.8846 &  8.381163\\\\\n\t Zambia      & Africa & 1997 & 40.238 &  9417789 & 1071.3538 &  9.417789\\\\\n\t Zambia      & Africa & 2002 & 39.193 & 10595811 & 1071.6139 & 10.595811\\\\\n\t Zambia      & Africa & 2007 & 42.384 & 11746035 & 1271.2116 & 11.746035\\\\\n\t Zimbabwe    & Africa & 1952 & 48.451 &  3080907 &  406.8841 &  3.080907\\\\\n\t Zimbabwe    & Africa & 1957 & 50.469 &  3646340 &  518.7643 &  3.646340\\\\\n\t Zimbabwe    & Africa & 1962 & 52.358 &  4277736 &  527.2722 &  4.277736\\\\\n\t Zimbabwe    & Africa & 1967 & 53.995 &  4995432 &  569.7951 &  4.995432\\\\\n\t Zimbabwe    & Africa & 1972 & 55.635 &  5861135 &  799.3622 &  5.861135\\\\\n\t Zimbabwe    & Africa & 1977 & 57.674 &  6642107 &  685.5877 &  6.642107\\\\\n\t Zimbabwe    & Africa & 1982 & 60.363 &  7636524 &  788.8550 &  7.636524\\\\\n\t Zimbabwe    & Africa & 1987 & 62.351 &  9216418 &  706.1573 &  9.216418\\\\\n\t Zimbabwe    & Africa & 1992 & 60.377 & 10704340 &  693.4208 & 10.704340\\\\\n\t Zimbabwe    & Africa & 1997 & 46.809 & 11404948 &  792.4500 & 11.404948\\\\\n\t Zimbabwe    & Africa & 2002 & 39.989 & 11926563 &  672.0386 & 11.926563\\\\\n\t Zimbabwe    & Africa & 2007 & 43.487 & 12311143 &  469.7093 & 12.311143\\\\\n\\end{tabular}\n",
            "text/plain": [
              "     country     continent year lifeExp pop      gdpPercap pop_mil  \n",
              "1    Afghanistan Asia      1952 28.801   8425333  779.4453  8.425333\n",
              "2    Afghanistan Asia      1957 30.332   9240934  820.8530  9.240934\n",
              "3    Afghanistan Asia      1962 31.997  10267083  853.1007 10.267083\n",
              "4    Afghanistan Asia      1967 34.020  11537966  836.1971 11.537966\n",
              "5    Afghanistan Asia      1972 36.088  13079460  739.9811 13.079460\n",
              "6    Afghanistan Asia      1977 38.438  14880372  786.1134 14.880372\n",
              "7    Afghanistan Asia      1982 39.854  12881816  978.0114 12.881816\n",
              "8    Afghanistan Asia      1987 40.822  13867957  852.3959 13.867957\n",
              "9    Afghanistan Asia      1992 41.674  16317921  649.3414 16.317921\n",
              "10   Afghanistan Asia      1997 41.763  22227415  635.3414 22.227415\n",
              "11   Afghanistan Asia      2002 42.129  25268405  726.7341 25.268405\n",
              "12   Afghanistan Asia      2007 43.828  31889923  974.5803 31.889923\n",
              "13   Albania     Europe    1952 55.230   1282697 1601.0561  1.282697\n",
              "14   Albania     Europe    1957 59.280   1476505 1942.2842  1.476505\n",
              "15   Albania     Europe    1962 64.820   1728137 2312.8890  1.728137\n",
              "16   Albania     Europe    1967 66.220   1984060 2760.1969  1.984060\n",
              "17   Albania     Europe    1972 67.690   2263554 3313.4222  2.263554\n",
              "18   Albania     Europe    1977 68.930   2509048 3533.0039  2.509048\n",
              "19   Albania     Europe    1982 70.420   2780097 3630.8807  2.780097\n",
              "20   Albania     Europe    1987 72.000   3075321 3738.9327  3.075321\n",
              "21   Albania     Europe    1992 71.581   3326498 2497.4379  3.326498\n",
              "22   Albania     Europe    1997 72.950   3428038 3193.0546  3.428038\n",
              "23   Albania     Europe    2002 75.651   3508512 4604.2117  3.508512\n",
              "24   Albania     Europe    2007 76.423   3600523 5937.0295  3.600523\n",
              "25   Algeria     Africa    1952 43.077   9279525 2449.0082  9.279525\n",
              "26   Algeria     Africa    1957 45.685  10270856 3013.9760 10.270856\n",
              "27   Algeria     Africa    1962 48.303  11000948 2550.8169 11.000948\n",
              "28   Algeria     Africa    1967 51.407  12760499 3246.9918 12.760499\n",
              "29   Algeria     Africa    1972 54.518  14760787 4182.6638 14.760787\n",
              "30   Algeria     Africa    1977 58.014  17152804 4910.4168 17.152804\n",
              "⋮    ⋮           ⋮         ⋮    ⋮       ⋮        ⋮         ⋮        \n",
              "1675 Yemen, Rep. Asia      1982 49.113   9657618 1977.5570  9.657618\n",
              "1676 Yemen, Rep. Asia      1987 52.922  11219340 1971.7415 11.219340\n",
              "1677 Yemen, Rep. Asia      1992 55.599  13367997 1879.4967 13.367997\n",
              "1678 Yemen, Rep. Asia      1997 58.020  15826497 2117.4845 15.826497\n",
              "1679 Yemen, Rep. Asia      2002 60.308  18701257 2234.8208 18.701257\n",
              "1680 Yemen, Rep. Asia      2007 62.698  22211743 2280.7699 22.211743\n",
              "1681 Zambia      Africa    1952 42.038   2672000 1147.3888  2.672000\n",
              "1682 Zambia      Africa    1957 44.077   3016000 1311.9568  3.016000\n",
              "1683 Zambia      Africa    1962 46.023   3421000 1452.7258  3.421000\n",
              "1684 Zambia      Africa    1967 47.768   3900000 1777.0773  3.900000\n",
              "1685 Zambia      Africa    1972 50.107   4506497 1773.4983  4.506497\n",
              "1686 Zambia      Africa    1977 51.386   5216550 1588.6883  5.216550\n",
              "1687 Zambia      Africa    1982 51.821   6100407 1408.6786  6.100407\n",
              "1688 Zambia      Africa    1987 50.821   7272406 1213.3151  7.272406\n",
              "1689 Zambia      Africa    1992 46.100   8381163 1210.8846  8.381163\n",
              "1690 Zambia      Africa    1997 40.238   9417789 1071.3538  9.417789\n",
              "1691 Zambia      Africa    2002 39.193  10595811 1071.6139 10.595811\n",
              "1692 Zambia      Africa    2007 42.384  11746035 1271.2116 11.746035\n",
              "1693 Zimbabwe    Africa    1952 48.451   3080907  406.8841  3.080907\n",
              "1694 Zimbabwe    Africa    1957 50.469   3646340  518.7643  3.646340\n",
              "1695 Zimbabwe    Africa    1962 52.358   4277736  527.2722  4.277736\n",
              "1696 Zimbabwe    Africa    1967 53.995   4995432  569.7951  4.995432\n",
              "1697 Zimbabwe    Africa    1972 55.635   5861135  799.3622  5.861135\n",
              "1698 Zimbabwe    Africa    1977 57.674   6642107  685.5877  6.642107\n",
              "1699 Zimbabwe    Africa    1982 60.363   7636524  788.8550  7.636524\n",
              "1700 Zimbabwe    Africa    1987 62.351   9216418  706.1573  9.216418\n",
              "1701 Zimbabwe    Africa    1992 60.377  10704340  693.4208 10.704340\n",
              "1702 Zimbabwe    Africa    1997 46.809  11404948  792.4500 11.404948\n",
              "1703 Zimbabwe    Africa    2002 39.989  11926563  672.0386 11.926563\n",
              "1704 Zimbabwe    Africa    2007 43.487  12311143  469.7093 12.311143"
            ]
          },
          "metadata": {}
        }
      ],
      "source": [
        "# Za prikaz dataseta sa dodanim stupcem\n",
        "gapminder %>% mutate(pop_mil=pop/1000000)\n",
        "\n",
        "# Da bi zaista promijenili dataset 'gapminder', koristiti ćemo slijedeću naredbu:\n",
        "# gapminder <- gapminder %>% mutate(pop_mil=pop/1000000)\n"
      ]
    },
    {
      "cell_type": "markdown",
      "metadata": {
        "id": "zI7LxxvDbME6"
      },
      "source": []
    }
  ],
  "metadata": {
    "colab": {
      "name": "06. Filtriranje, sortiranje i mijenjanje (mutate) podataka.ipynb",
      "provenance": []
    },
    "kernelspec": {
      "display_name": "R",
      "name": "ir"
    }
  },
  "nbformat": 4,
  "nbformat_minor": 0
}