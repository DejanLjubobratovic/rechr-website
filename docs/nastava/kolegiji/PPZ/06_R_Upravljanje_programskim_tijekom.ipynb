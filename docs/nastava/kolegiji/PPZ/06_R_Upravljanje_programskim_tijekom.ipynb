{
  "cells": [
    {
      "cell_type": "markdown",
      "metadata": {
        "id": "9Rl6hI2Fo-47"
      },
      "source": [
        "# 6. Upravljanje programskim tijekom\n",
        "## Petlja REPEAT\n",
        "U programskom jeziku R, naredba `repeat` se koristi za ponavljajuće izvršavanje jednog bloka koda sve dok se ne ispuni neki određeni uvjet za prekid petlje.\n",
        "\n",
        "Općenito, sintaksa `repeat` petlje izgleda ovako:"
      ]
    },
    {
      "cell_type": "code",
      "source": [
        "repeat \n",
        "{\n",
        "  # blok koda koji će se izvršavati sve dok ne dođe do prekida petlje\n",
        "  if (neki_uvjet) break\n",
        "}"
      ],
      "metadata": {
        "id": "eSAsFi6HTiUZ"
      },
      "execution_count": null,
      "outputs": []
    },
    {
      "cell_type": "markdown",
      "source": [
        "Ovaj primjer će izvršavati blok koda unutar petlje repeat sve dok se ne ispuni uvjet naveden unutar if uvjeta, nakon čega će se petlja prekinuti pomoću `break` naredbe."
      ],
      "metadata": {
        "id": "i-Hm1CHxZfz1"
      }
    },
    {
      "cell_type": "markdown",
      "source": [
        "_**Zadatak**_  \n",
        "Ispišite prvih 10 prirodnih brojeva pomoću `repeat` petlje.  \n",
        "> Za ispis vrijednosti varijable u kombinaciji s proizvoljnim tekstom koristimo naredbu `cat`.  \n",
        "> Na primjer za neku varijablu `i` ispis njene vrijednosti bi izgledao ovako: `cat(\"Vrijednost od i je: \", i)`"
      ],
      "metadata": {
        "id": "BuOPlSEyZv2N"
      }
    },
    {
      "cell_type": "code",
      "source": [
        "i <- 1\n",
        "repeat \n",
        "{\n",
        "  cat(i, \" \")\n",
        "  i <- i + 1\n",
        "  if (i > 10) break\n",
        "}"
      ],
      "metadata": {
        "colab": {
          "base_uri": "https://localhost:8080/"
        },
        "id": "6IUYgfm-aJ4E",
        "outputId": "7992781c-f71b-40d4-c0b8-0a00216dcd9b"
      },
      "execution_count": 5,
      "outputs": [
        {
          "output_type": "stream",
          "name": "stdout",
          "text": [
            "1  2  3  4  5  6  7  8  9  10  "
          ]
        }
      ]
    },
    {
      "cell_type": "markdown",
      "source": [
        "_**Zadatak**_  \n",
        "Korisnik unosi vrijednost varijable _**n**_, a program treba izračunati _**n**_-ti faktorijel.  \n",
        "Primjer ispisa:  \n",
        "```r\n",
        "Unesite prirodan broj veći od nule: 5\n",
        "Faktorijel broja  5  je  120 \n",
        "```\n",
        "> Za unos vrijednost s ekrana koristimo naredbu `readline`.  \n",
        "> Na primjer, unos nekog broja bi izgledao ovako: `broj <- readline(prompt=\"Unesite  jedan broj: \")`  \n",
        "> **Pazite!** Uneseni podatak će biti tekstualnog tipa, pa će ga trebati pretvoriti u broj funkcijom `as.numeric()`"
      ],
      "metadata": {
        "id": "k5ou8WG_biF6"
      }
    },
    {
      "cell_type": "code",
      "source": [
        "broj <- readline(prompt=\"Unesite prirodan broj veći od nule: \")\n",
        "n <- as.numeric(broj)\n",
        "faktorijel <- 1\n",
        "repeat \n",
        "{\n",
        "  faktorijel <- faktorijel * n\n",
        "  n <- n-1\n",
        "  if (n == 0) break\n",
        "}\n",
        "cat(\"Faktorijel broja \", broj, \" je \", faktorijel, \"\\n\")"
      ],
      "metadata": {
        "colab": {
          "base_uri": "https://localhost:8080/"
        },
        "id": "Pi82--2yb7hE",
        "outputId": "35dcab32-a708-4854-bbdd-e92e4eb33934"
      },
      "execution_count": 12,
      "outputs": [
        {
          "output_type": "stream",
          "name": "stdout",
          "text": [
            "Unesite prirodan broj veći od nule: 5\n",
            "Faktorijel broja  5  je  120 \n"
          ]
        }
      ]
    },
    {
      "cell_type": "markdown",
      "metadata": {
        "id": "FDTZad3BeDYN"
      },
      "source": [
        "## Petlja FOR\n",
        "U programskom jeziku R, `for` petlja se koristi za iteriranje kroz sekvence (npr. vektore, matrice) ili elemente objekata (npr. liste) uz obavljanje neke akcije za svaki element pojedinačno.\n",
        "\n",
        "Općenito, sintaksa `for` petlje izgleda ovako:"
      ]
    },
    {
      "cell_type": "code",
      "source": [
        "for (a in s) {\n",
        "  # blok koda koji će se izvršavati za svaku vrijednost varijable u sekvenci\n",
        "}"
      ],
      "metadata": {
        "id": "ZEnBNiYmeexA"
      },
      "execution_count": null,
      "outputs": []
    },
    {
      "cell_type": "markdown",
      "source": [
        "U ovom primjeru _**a**_ predstavlja varijablu koja se mijenja za svaku iteraciju kroz sekvencu, a _**s**_ predstavlja sekvencu elemenata (npr. vektor, matricu ili listu) kroz koju se iterira."
      ],
      "metadata": {
        "id": "BtrP6UDGejiq"
      }
    },
    {
      "cell_type": "markdown",
      "source": [
        "_**Zadatak**_  \n",
        "Ispišite prvih 10 prirodnih brojeva pomoću `for` petlje.  \n",
        "> Za ispis vrijednosti varijable u kombinaciji s proizvoljnim tekstom koristimo naredbu `cat`.  \n",
        "> Na primjer za neku varijablu `i` ispis njene vrijednosti bi izgledao ovako: `cat(\"Vrijednost od i je: \", i)`"
      ],
      "metadata": {
        "id": "9YAcQzeotzgW"
      }
    },
    {
      "cell_type": "code",
      "source": [
        "for(i in 1:10)\n",
        "{\n",
        "  cat(i, \" \")\n",
        "}"
      ],
      "metadata": {
        "colab": {
          "base_uri": "https://localhost:8080/"
        },
        "outputId": "b662a37b-17d4-41b6-b276-3cf910a99d00",
        "id": "tVhgSlvDt848"
      },
      "execution_count": 14,
      "outputs": [
        {
          "output_type": "stream",
          "name": "stdout",
          "text": [
            "1  2  3  4  5  6  7  8  9  10  "
          ]
        }
      ]
    },
    {
      "cell_type": "markdown",
      "source": [
        "_**Zadatak**_  \n",
        "Izračunajte sumu kvadrata elemenata u vektoru _**v**_ pomoću `for` petlje.  \n",
        "Vektor _**v**_ sadrži parne brojeve od 1 do 20."
      ],
      "metadata": {
        "id": "5JwUVCb2uTye"
      }
    },
    {
      "cell_type": "code",
      "source": [
        "vek <- 2*c(1:10)\n",
        "suma_kv <- 0\n",
        "for (i in vek) {\n",
        "  suma_kv <- suma_kv + i^2\n",
        "}\n",
        "suma_kv"
      ],
      "metadata": {
        "colab": {
          "base_uri": "https://localhost:8080/",
          "height": 34
        },
        "id": "97m3BVyoulWz",
        "outputId": "b0981838-c27b-4189-f3de-eacbbb32b038"
      },
      "execution_count": 19,
      "outputs": [
        {
          "output_type": "display_data",
          "data": {
            "text/html": [
              "1540"
            ],
            "text/markdown": "1540",
            "text/latex": "1540",
            "text/plain": [
              "[1] 1540"
            ]
          },
          "metadata": {}
        }
      ]
    },
    {
      "cell_type": "markdown",
      "metadata": {
        "id": "Pe3qYG7Kxqfm"
      },
      "source": [
        "## Petlja WHILE\n",
        "U programskom jeziku R, `while` naredba se koristi za ponavljanje bloka koda sve dok je uvjet istinit.  \n",
        "To znači da će se izvršavanje koda unutar `while` petlje ponavljati sve dok uvjet ne postane neistinit.\n",
        "\n",
        "Općenito, sintaksa `while` petlje izgleda ovako:"
      ]
    },
    {
      "cell_type": "code",
      "source": [
        "while (uvjet) \n",
        "{\n",
        "  # blok koda koji će se ponavljati sve dok je uvjet istinit\n",
        "}"
      ],
      "metadata": {
        "id": "36vQvQXCyC1o"
      },
      "execution_count": null,
      "outputs": []
    },
    {
      "cell_type": "markdown",
      "source": [
        "U ovom kodu, uvjet je neki izraz koji se evaluira na logičku vrijednost (TRUE ili FALSE).  \n",
        "Ako je uvjet na početku evaluiran kao TRUE, izvršava se blok koda koji slijedi, a zatim se ponovo provjerava uvjet.  \n",
        "Ako je uvjet i dalje istinit, blok koda se ponavlja, a postupak se nastavlja sve dok uvjet nije više istinit."
      ],
      "metadata": {
        "id": "kuC8PLw0yThK"
      }
    },
    {
      "cell_type": "markdown",
      "source": [
        "_**Zadatak**_  \n",
        "Ispišite prvih 10 neparnih brojeva pomoću `while` petlje.  "
      ],
      "metadata": {
        "id": "Tt8EbfIFyctw"
      }
    },
    {
      "cell_type": "code",
      "source": [
        "i <- 1\n",
        "while (i <= 20) \n",
        "{\n",
        "  cat(i, \" \")\n",
        "  i <- i + 2\n",
        "}"
      ],
      "metadata": {
        "colab": {
          "base_uri": "https://localhost:8080/"
        },
        "id": "EyxoNME9ykcq",
        "outputId": "9104141b-0cb8-4e29-e409-096b3c714cca"
      },
      "execution_count": 21,
      "outputs": [
        {
          "output_type": "stream",
          "name": "stdout",
          "text": [
            "1  3  5  7  9  11  13  15  17  19  "
          ]
        }
      ]
    },
    {
      "cell_type": "markdown",
      "source": [
        "_**Zadatak**_  \n",
        "Izračunajte sumu brojeva od 1 do 10 pomoću `while` petlje.  "
      ],
      "metadata": {
        "id": "fu-w4VU4y0yj"
      }
    },
    {
      "cell_type": "code",
      "source": [
        "i <- 1\n",
        "suma <- 0\n",
        "while (i <= 10) \n",
        "{\n",
        "  suma <- suma + i\n",
        "  i <- i + 1\n",
        "}\n",
        "print(suma)"
      ],
      "metadata": {
        "colab": {
          "base_uri": "https://localhost:8080/"
        },
        "id": "CNy7YYlcy-44",
        "outputId": "bea6f4c5-7887-4cf7-d907-4dfb7bed2475"
      },
      "execution_count": 22,
      "outputs": [
        {
          "output_type": "stream",
          "name": "stdout",
          "text": [
            "[1] 55\n"
          ]
        }
      ]
    }
  ],
  "metadata": {
    "colab": {
      "name": "05. Programski jezik R - DataFrame.ipynb",
      "provenance": []
    },
    "kernelspec": {
      "display_name": "R",
      "name": "ir"
    }
  },
  "nbformat": 4,
  "nbformat_minor": 0
}