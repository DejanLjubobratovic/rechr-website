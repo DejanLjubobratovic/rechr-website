{
  "cells": [
    {
      "cell_type": "markdown",
      "metadata": {
        "id": "9Rl6hI2Fo-47"
      },
      "source": [
        "# 6. Upravljanje programskim tijekom\n",
        "## Petlja REPEAT\n",
        "U programskom jeziku R, naredba repeat koristi se za ponavljajuće izvršavanje jednog bloka koda sve dok se ne ispuni neki određeni uvjet za prekid petlje.\n",
        "\n",
        "Općenito, sintaksa repeat petlje u programskom jeziku R izgleda ovako:"
      ]
    },
    {
      "cell_type": "code",
      "source": [
        "repeat {\n",
        "  # blok koda koji će se izvršavati sve dok ne dođe do prekida petlje\n",
        "  if (neki_uvjet) {\n",
        "    break\n",
        "  }\n",
        "}"
      ],
      "metadata": {
        "id": "eSAsFi6HTiUZ"
      },
      "execution_count": null,
      "outputs": []
    }
  ],
  "metadata": {
    "colab": {
      "name": "05. Programski jezik R - DataFrame.ipynb",
      "provenance": []
    },
    "kernelspec": {
      "display_name": "R",
      "name": "ir"
    }
  },
  "nbformat": 4,
  "nbformat_minor": 0
}