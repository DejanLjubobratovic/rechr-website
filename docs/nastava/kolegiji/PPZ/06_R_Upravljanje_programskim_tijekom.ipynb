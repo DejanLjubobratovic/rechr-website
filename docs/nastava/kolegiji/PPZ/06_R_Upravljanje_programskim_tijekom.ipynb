{
  "cells": [
    {
      "cell_type": "markdown",
      "metadata": {
        "id": "9Rl6hI2Fo-47"
      },
      "source": [
        "# 6. Upravljanje programskim tijekom\n",
        "## Petlja REPEAT\n",
        "U programskom jeziku R, naredba `repeat` se koristi za ponavljajuće izvršavanje jednog bloka koda sve dok se ne ispuni neki određeni uvjet za prekid petlje.\n",
        "\n",
        "Općenito, sintaksa repeat petlje izgleda ovako:"
      ]
    },
    {
      "cell_type": "code",
      "source": [
        "repeat \n",
        "{\n",
        "  # blok koda koji će se izvršavati sve dok ne dođe do prekida petlje\n",
        "  if (neki_uvijet) break\n",
        "}"
      ],
      "metadata": {
        "id": "eSAsFi6HTiUZ"
      },
      "execution_count": null,
      "outputs": []
    },
    {
      "cell_type": "markdown",
      "source": [
        "Ovaj primjer će izvršavati blok koda unutar petlje repeat sve dok se ne ispuni uvjet naveden unutar if uvjeta, nakon čega će se petlja prekinuti pomoću `break` naredbe."
      ],
      "metadata": {
        "id": "i-Hm1CHxZfz1"
      }
    },
    {
      "cell_type": "markdown",
      "source": [
        "_**Zadatak**_  \n",
        "Ispišite prvih 10 prirodnih brojeva pomoću `repeat` petlje.  \n",
        "> Za ispis vrijednosti varijable u kombinaciji s proizvoljnim tekstom koristimo naredbu `cat`.  \n",
        "> Na primjer za neku varijablu `i` ispis njene vrijednosti bi izgledao ovako: `cat(\"Vrijednost od i je: \", i)`"
      ],
      "metadata": {
        "id": "BuOPlSEyZv2N"
      }
    },
    {
      "cell_type": "code",
      "source": [
        "i <- 1\n",
        "repeat \n",
        "{\n",
        "  cat(i, \" \")\n",
        "  i <- i + 1\n",
        "  if (i > 10) break\n",
        "}"
      ],
      "metadata": {
        "id": "6IUYgfm-aJ4E",
        "outputId": "7992781c-f71b-40d4-c0b8-0a00216dcd9b",
        "colab": {
          "base_uri": "https://localhost:8080/"
        }
      },
      "execution_count": 5,
      "outputs": [
        {
          "output_type": "stream",
          "name": "stdout",
          "text": [
            "1  2  3  4  5  6  7  8  9  10  "
          ]
        }
      ]
    },
    {
      "cell_type": "markdown",
      "source": [
        "_**Zadatak**_  \n",
        "Korisnik unosi vrijednost varijable _**n**_, a program treba izračunati _**n**_-ti faktorijel.  \n",
        "Primjer ispisa:  \n",
        "```r\n",
        "Unesite prirodan broj veći od nule: 5\n",
        "Faktorijel broja  5  je  120 \n",
        "```\n",
        "> Za unos vrijednost s ekrana koristimo naredbu `readline`.  \n",
        "> Na primjer, unos nekog broja bi izgledao ovako: `broj <- readline(prompt=\"Unesite  jedan broj: \")`  \n",
        "> **Pazite!** Uneseni podatak će biti tekstualnog tipa, pa će ga trebati pretvoriti u broj funkcijom `as.numeric()`"
      ],
      "metadata": {
        "id": "k5ou8WG_biF6"
      }
    },
    {
      "cell_type": "code",
      "source": [
        "broj <- readline(prompt=\"Unesite prirodan broj veći od nule: \")\n",
        "n <- as.numeric(broj)\n",
        "faktorijel <- 1\n",
        "repeat \n",
        "{\n",
        "  faktorijel <- faktorijel * n\n",
        "  n <- n-1\n",
        "  if (n == 0) break\n",
        "}\n",
        "cat(\"Faktorijel broja \", broj, \" je \", faktorijel, \"\\n\")"
      ],
      "metadata": {
        "id": "Pi82--2yb7hE",
        "outputId": "35dcab32-a708-4854-bbdd-e92e4eb33934",
        "colab": {
          "base_uri": "https://localhost:8080/"
        }
      },
      "execution_count": 12,
      "outputs": [
        {
          "output_type": "stream",
          "name": "stdout",
          "text": [
            "Unesite prirodan broj veći od nule: 5\n",
            "Faktorijel broja  5  je  120 \n"
          ]
        }
      ]
    },
    {
      "cell_type": "markdown",
      "metadata": {
        "id": "FDTZad3BeDYN"
      },
      "source": [
        "## Petlja FOR\n",
        "U programskom jeziku R, `for` petlja se koristi za iteriranje kroz sekvence (npr. vektore, matrice) ili elemente objekata (npr. liste) uz obavljanje neke akcije za svaki element pojedinačno.\n",
        "\n",
        "Općenito, sintaksa repeat petlje izgleda ovako:"
      ]
    },
    {
      "cell_type": "code",
      "source": [
        "for (varijabla in sekvenca) {\n",
        "  # blok koda koji će se izvršavati za svaku vrijednost varijable u sekvenci\n",
        "}"
      ],
      "metadata": {
        "id": "ZEnBNiYmeexA"
      },
      "execution_count": null,
      "outputs": []
    },
    {
      "cell_type": "markdown",
      "source": [
        "U ovom primjeru `varijabla` predstavlja varijablu koja se mijenja za svaku iteraciju kroz sekvencu, a `sekvenca` predstavlja sekvencu elemenata (npr. vektor, matricu ili listu) kroz koju se iterira."
      ],
      "metadata": {
        "id": "BtrP6UDGejiq"
      }
    }
  ],
  "metadata": {
    "colab": {
      "name": "05. Programski jezik R - DataFrame.ipynb",
      "provenance": []
    },
    "kernelspec": {
      "display_name": "R",
      "name": "ir"
    }
  },
  "nbformat": 4,
  "nbformat_minor": 0
}