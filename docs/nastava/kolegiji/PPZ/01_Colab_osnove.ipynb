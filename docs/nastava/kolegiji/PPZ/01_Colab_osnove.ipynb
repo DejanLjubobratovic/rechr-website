{
  "nbformat": 4,
  "nbformat_minor": 0,
  "metadata": {
    "colab": {
      "name": "01. Jupyter notebooks - osnove i korištenje.ipynb",
      "provenance": []
    },
    "kernelspec": {
      "name": "ir",
      "display_name": "R"
    }
  },
  "cells": [
    {
      "cell_type": "markdown",
      "metadata": {
        "trusted": true,
        "scrolled": true,
        "id": "VDtkANg89SU9"
      },
      "source": [
        "# 1. Osnovni tipovi podataka\n",
        "|**Tip**|**Izvorni naziv**|**Primjer**|\n",
        "|-----|-----|-----|\n",
        "|realni|double|5, 999.111, 2e5|\n",
        "|cjelobrojni|integer|1L, -100L, 987654321L|\n",
        "|znakovni|character|\"A\", \"FIDIT\", \"99%|\n",
        "|logički|logical|TRUE, FALSE, T, F|\n",
        "|kompleksni|complex|3+2i|\n",
        "|sirovi|raw|as.raw(11), charToRaw(\"Hello\")|\n",
        "\n",
        "\n",
        "U ovom kolegiju nećemo obrađivati kompleksne i sirove tipove podataka jer se oni koriste samo u specifičnim, rijetkim slučajevima."
      ]
    },
    {
      "cell_type": "markdown",
      "metadata": {
        "id": "z4Xpr1D59SU_"
      },
      "source": [
        "## Numerički tipovi podataka\n",
        "- Realni tip podatka (engl. double) je bilo kakva numerička vrijednost, odnosno vrijednost iz skupa realnih brojeva i svih njegovih podskupova (racionalni, iracionalni i cijeli brojevi).  \n",
        "- Cjelobrojni tip podatka (engl. integer) su cijeli brojevi.  \n",
        "Razlika zapisa cijeloga broja u realnom i cjelobrojnom tipu podatka je u rasponu i zauzimanju memorije. Realni tip podatka definiran je u rasponu +- 1,79e308, dok je raspon integer varijable +- 2.147.483.647, ali zauzima upola manje memorije od realnog tipa.\n",
        "- Cjelobrojne i realne tipove podataka jednim nazivom zovemo numerički tip podatka. \n",
        "- U većini slučajeva R će broj pohraniti kao realni tip, a ako baš želimo vrijednost koja je cjelobrojnoga tipa, tada uz broj stavimo oznaku L\n"
      ]
    },
    {
      "cell_type": "markdown",
      "metadata": {
        "id": "8XQ652bH9SVA"
      },
      "source": [
        "## Znakovni tip podatka\n",
        "- Znakovni tip podatka (engl. character) je bilo kakav niz znakova unutar navodnika. \n",
        "Koristi se i izraz string.\n",
        "\n",
        "### Pazite! \n",
        "- U programskom jeziku R, za razliku od programskog jezika C++, character i string odnose se na isti tip podatka.\n"
      ]
    },
    {
      "cell_type": "markdown",
      "metadata": {
        "collapsed": true,
        "id": "e-x3NtGP9SVA"
      },
      "source": [
        "### Logički tip podatka\n",
        "- Logički tip podatka (engl. logical) može poprimiti dvije vrijednosti, TRUE ili FALSE, a ako nema varijabli koje se zovu T ili F, vrijednost TRUE možemo deklarirati i znakom T, a vrijednost FALSE znakom F (T i F bez navodnika).\n",
        "\n"
      ]
    },
    {
      "cell_type": "markdown",
      "metadata": {
        "id": "wWQb0exn9SVB"
      },
      "source": []
    }
  ]
}