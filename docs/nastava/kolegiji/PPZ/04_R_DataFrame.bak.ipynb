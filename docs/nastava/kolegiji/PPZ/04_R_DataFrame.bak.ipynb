{
  "cells": [
    {
      "cell_type": "markdown",
      "metadata": {
        "id": "9Rl6hI2Fo-47"
      },
      "source": [
        "# 4. Podatkovni okviri (DataFrames) \n",
        "**Upitnik:** Znate li što znači skraćenica TWAIN (kao tehnologija koja se koristi kod scaniranja)?<br> <br>\n",
        "Kada pogledamo vektore, svi njihovi elementi moraju biti istog tipa.  \n",
        "Isto vrijedi i za matrice...  \n",
        "Ali u stvarnom životu nije tako. Vrlo često baratamo s 'miješanim' podacima.  \n",
        "U tu svrhu koristimo **dataframe**  \n",
        "**Primjer:** ukucajte `iris`, da bi vam se ispisao istoimeni dataframe"
      ]
    },
    {
      "cell_type": "code",
      "source": [
        "iris"
      ],
      "metadata": {
        "id": "jj5ofcih9AG1"
      },
      "execution_count": null,
      "outputs": []
    },
    {
      "cell_type": "markdown",
      "metadata": {
        "id": "tzIs3EX8pLmA"
      },
      "source": [
        "### Odmah u \"glavu\"... ili  u \"head\"  \n",
        "Primjetili ste da podatkovni okviri (dataframeovi) mogu biti veliki i nije ih uvijek zgodno ispisati cijele...   \n",
        "Stoga ćemo koristiti funkciju `head()`  \n",
        "Isprobajte ga na `iris` dataframeu. Dobiti ćemo samo prvih nekoliko redaka.   \n",
        "Možemo ispisati i proizvoljan broj redaka.\n",
        "Isprobajte ga i na dataframeu `mtcars` tako da ispišete samo prva dva retka tog podatkovnog okvira."
      ]
    },
    {
      "cell_type": "code",
      "execution_count": null,
      "metadata": {
        "colab": {
          "base_uri": "https://localhost:8080/",
          "height": 430
        },
        "id": "SOITeIrc-SKY",
        "outputId": "e1f922d1-15fa-4959-9861-de0611fe9975",
        "vscode": {
          "languageId": "r"
        }
      },
      "outputs": [
        {
          "output_type": "display_data",
          "data": {
            "text/html": [
              "<table class=\"dataframe\">\n",
              "<caption>A data.frame: 6 × 5</caption>\n",
              "<thead>\n",
              "\t<tr><th></th><th scope=col>Sepal.Length</th><th scope=col>Sepal.Width</th><th scope=col>Petal.Length</th><th scope=col>Petal.Width</th><th scope=col>Species</th></tr>\n",
              "\t<tr><th></th><th scope=col>&lt;dbl&gt;</th><th scope=col>&lt;dbl&gt;</th><th scope=col>&lt;dbl&gt;</th><th scope=col>&lt;dbl&gt;</th><th scope=col>&lt;fct&gt;</th></tr>\n",
              "</thead>\n",
              "<tbody>\n",
              "\t<tr><th scope=row>1</th><td>5.1</td><td>3.5</td><td>1.4</td><td>0.2</td><td>setosa</td></tr>\n",
              "\t<tr><th scope=row>2</th><td>4.9</td><td>3.0</td><td>1.4</td><td>0.2</td><td>setosa</td></tr>\n",
              "\t<tr><th scope=row>3</th><td>4.7</td><td>3.2</td><td>1.3</td><td>0.2</td><td>setosa</td></tr>\n",
              "\t<tr><th scope=row>4</th><td>4.6</td><td>3.1</td><td>1.5</td><td>0.2</td><td>setosa</td></tr>\n",
              "\t<tr><th scope=row>5</th><td>5.0</td><td>3.6</td><td>1.4</td><td>0.2</td><td>setosa</td></tr>\n",
              "\t<tr><th scope=row>6</th><td>5.4</td><td>3.9</td><td>1.7</td><td>0.4</td><td>setosa</td></tr>\n",
              "</tbody>\n",
              "</table>\n"
            ],
            "text/markdown": "\nA data.frame: 6 × 5\n\n| <!--/--> | Sepal.Length &lt;dbl&gt; | Sepal.Width &lt;dbl&gt; | Petal.Length &lt;dbl&gt; | Petal.Width &lt;dbl&gt; | Species &lt;fct&gt; |\n|---|---|---|---|---|---|\n| 1 | 5.1 | 3.5 | 1.4 | 0.2 | setosa |\n| 2 | 4.9 | 3.0 | 1.4 | 0.2 | setosa |\n| 3 | 4.7 | 3.2 | 1.3 | 0.2 | setosa |\n| 4 | 4.6 | 3.1 | 1.5 | 0.2 | setosa |\n| 5 | 5.0 | 3.6 | 1.4 | 0.2 | setosa |\n| 6 | 5.4 | 3.9 | 1.7 | 0.4 | setosa |\n\n",
            "text/latex": "A data.frame: 6 × 5\n\\begin{tabular}{r|lllll}\n  & Sepal.Length & Sepal.Width & Petal.Length & Petal.Width & Species\\\\\n  & <dbl> & <dbl> & <dbl> & <dbl> & <fct>\\\\\n\\hline\n\t1 & 5.1 & 3.5 & 1.4 & 0.2 & setosa\\\\\n\t2 & 4.9 & 3.0 & 1.4 & 0.2 & setosa\\\\\n\t3 & 4.7 & 3.2 & 1.3 & 0.2 & setosa\\\\\n\t4 & 4.6 & 3.1 & 1.5 & 0.2 & setosa\\\\\n\t5 & 5.0 & 3.6 & 1.4 & 0.2 & setosa\\\\\n\t6 & 5.4 & 3.9 & 1.7 & 0.4 & setosa\\\\\n\\end{tabular}\n",
            "text/plain": [
              "  Sepal.Length Sepal.Width Petal.Length Petal.Width Species\n",
              "1 5.1          3.5         1.4          0.2         setosa \n",
              "2 4.9          3.0         1.4          0.2         setosa \n",
              "3 4.7          3.2         1.3          0.2         setosa \n",
              "4 4.6          3.1         1.5          0.2         setosa \n",
              "5 5.0          3.6         1.4          0.2         setosa \n",
              "6 5.4          3.9         1.7          0.4         setosa "
            ]
          },
          "metadata": {}
        },
        {
          "output_type": "display_data",
          "data": {
            "text/html": [
              "<table class=\"dataframe\">\n",
              "<caption>A data.frame: 2 × 11</caption>\n",
              "<thead>\n",
              "\t<tr><th></th><th scope=col>mpg</th><th scope=col>cyl</th><th scope=col>disp</th><th scope=col>hp</th><th scope=col>drat</th><th scope=col>wt</th><th scope=col>qsec</th><th scope=col>vs</th><th scope=col>am</th><th scope=col>gear</th><th scope=col>carb</th></tr>\n",
              "\t<tr><th></th><th scope=col>&lt;dbl&gt;</th><th scope=col>&lt;dbl&gt;</th><th scope=col>&lt;dbl&gt;</th><th scope=col>&lt;dbl&gt;</th><th scope=col>&lt;dbl&gt;</th><th scope=col>&lt;dbl&gt;</th><th scope=col>&lt;dbl&gt;</th><th scope=col>&lt;dbl&gt;</th><th scope=col>&lt;dbl&gt;</th><th scope=col>&lt;dbl&gt;</th><th scope=col>&lt;dbl&gt;</th></tr>\n",
              "</thead>\n",
              "<tbody>\n",
              "\t<tr><th scope=row>Mazda RX4</th><td>21</td><td>6</td><td>160</td><td>110</td><td>3.9</td><td>2.620</td><td>16.46</td><td>0</td><td>1</td><td>4</td><td>4</td></tr>\n",
              "\t<tr><th scope=row>Mazda RX4 Wag</th><td>21</td><td>6</td><td>160</td><td>110</td><td>3.9</td><td>2.875</td><td>17.02</td><td>0</td><td>1</td><td>4</td><td>4</td></tr>\n",
              "</tbody>\n",
              "</table>\n"
            ],
            "text/markdown": "\nA data.frame: 2 × 11\n\n| <!--/--> | mpg &lt;dbl&gt; | cyl &lt;dbl&gt; | disp &lt;dbl&gt; | hp &lt;dbl&gt; | drat &lt;dbl&gt; | wt &lt;dbl&gt; | qsec &lt;dbl&gt; | vs &lt;dbl&gt; | am &lt;dbl&gt; | gear &lt;dbl&gt; | carb &lt;dbl&gt; |\n|---|---|---|---|---|---|---|---|---|---|---|---|\n| Mazda RX4 | 21 | 6 | 160 | 110 | 3.9 | 2.620 | 16.46 | 0 | 1 | 4 | 4 |\n| Mazda RX4 Wag | 21 | 6 | 160 | 110 | 3.9 | 2.875 | 17.02 | 0 | 1 | 4 | 4 |\n\n",
            "text/latex": "A data.frame: 2 × 11\n\\begin{tabular}{r|lllllllllll}\n  & mpg & cyl & disp & hp & drat & wt & qsec & vs & am & gear & carb\\\\\n  & <dbl> & <dbl> & <dbl> & <dbl> & <dbl> & <dbl> & <dbl> & <dbl> & <dbl> & <dbl> & <dbl>\\\\\n\\hline\n\tMazda RX4 & 21 & 6 & 160 & 110 & 3.9 & 2.620 & 16.46 & 0 & 1 & 4 & 4\\\\\n\tMazda RX4 Wag & 21 & 6 & 160 & 110 & 3.9 & 2.875 & 17.02 & 0 & 1 & 4 & 4\\\\\n\\end{tabular}\n",
            "text/plain": [
              "              mpg cyl disp hp  drat wt    qsec  vs am gear carb\n",
              "Mazda RX4     21  6   160  110 3.9  2.620 16.46 0  1  4    4   \n",
              "Mazda RX4 Wag 21  6   160  110 3.9  2.875 17.02 0  1  4    4   "
            ]
          },
          "metadata": {}
        }
      ],
      "source": [
        "head(iris)\n",
        "head(mtcars, 2)"
      ]
    },
    {
      "cell_type": "markdown",
      "metadata": {
        "id": "xskfVoI1pUFK"
      },
      "source": [
        "### Struktura\n",
        "Funkcijom `str()` možemo steći uvid u strukturu nekog dataframea  \n",
        "Isprobajte ju na `iris`"
      ]
    },
    {
      "cell_type": "code",
      "execution_count": null,
      "metadata": {
        "colab": {
          "base_uri": "https://localhost:8080/"
        },
        "id": "MYiK0wbtpWTS",
        "outputId": "3633e6ad-ba59-4b6e-df7b-7939bd4233b5",
        "vscode": {
          "languageId": "r"
        }
      },
      "outputs": [
        {
          "output_type": "stream",
          "name": "stdout",
          "text": [
            "'data.frame':\t150 obs. of  5 variables:\n",
            " $ Sepal.Length: num  5.1 4.9 4.7 4.6 5 5.4 4.6 5 4.4 4.9 ...\n",
            " $ Sepal.Width : num  3.5 3 3.2 3.1 3.6 3.9 3.4 3.4 2.9 3.1 ...\n",
            " $ Petal.Length: num  1.4 1.4 1.3 1.5 1.4 1.7 1.4 1.5 1.4 1.5 ...\n",
            " $ Petal.Width : num  0.2 0.2 0.2 0.2 0.2 0.4 0.3 0.2 0.2 0.1 ...\n",
            " $ Species     : Factor w/ 3 levels \"setosa\",\"versicolor\",..: 1 1 1 1 1 1 1 1 1 1 ...\n"
          ]
        }
      ],
      "source": [
        "str(iris)"
      ]
    },
    {
      "cell_type": "markdown",
      "metadata": {
        "id": "5UX4oV2-pYEI"
      },
      "source": [
        "### Prvi DataFrame\n",
        "Pa, kreirajmo naš prvi dataframe.   \n",
        "Postupak je sličan kao i kod kreiranja matrice, samo što ovaj put ne moramo paziti da su nam svi vektori istog tipa.  \n",
        "Kreirajmo najprije nekoliko vektora:  "
      ]
    },
    {
      "cell_type": "code",
      "execution_count": null,
      "metadata": {
        "id": "GfK7JVH1phL3",
        "vscode": {
          "languageId": "r"
        }
      },
      "outputs": [],
      "source": [
        "tjedan_v <- c('pon', 'uto', 'sri', 'čet', 'pet')\n",
        "potrosnja_v <- c(11, 12, 13, 14, 15)\n",
        "suncano_v <- c(T, F, T, T, F, F)"
      ]
    },
    {
      "cell_type": "markdown",
      "metadata": {
        "id": "QE7k24wYqzlG"
      },
      "source": [
        "Sada naredbom `data.frame` kreiramo dataframe `troskovi_df` od ovih vektora:"
      ]
    },
    {
      "cell_type": "code",
      "execution_count": null,
      "metadata": {
        "id": "g7bwBs3epaXH",
        "vscode": {
          "languageId": "r"
        }
      },
      "outputs": [],
      "source": [
        "troskovi_df <- data.frame(tjedan_v, potrosnja_v, suncano_v)"
      ]
    },
    {
      "cell_type": "markdown",
      "metadata": {
        "id": "QVcyT48tphcA"
      },
      "source": [
        "Bez brige, pogreška je namjerna...  \n",
        "Da bi kreirali dataframe od vektora, svi vektori moraju biti iste duljine.  \n",
        "Dakle, ispravite vektor suncano_v tako da obrišete posljednju vrijednost (onaj F).   Nemojte zaboraviti opet stisnuti 'ctrl + enter'."
      ]
    },
    {
      "cell_type": "markdown",
      "metadata": {
        "id": "TXFY7-M-rIBh"
      },
      "source": [
        "_**Zadatak**_  \n",
        "Ispišite prva tri retka našeg dataframea, a zatim ispišite njegovu strukturu."
      ]
    },
    {
      "cell_type": "code",
      "execution_count": null,
      "metadata": {
        "colab": {
          "base_uri": "https://localhost:8080/",
          "height": 192
        },
        "id": "jBuAcj36rNFP",
        "outputId": "eab5671b-002e-44e3-b5bc-d40556215bcd",
        "vscode": {
          "languageId": "r"
        }
      },
      "outputs": [
        {
          "output_type": "display_data",
          "data": {
            "text/html": [
              "<table class=\"dataframe\">\n",
              "<caption>A data.frame: 3 × 3</caption>\n",
              "<thead>\n",
              "\t<tr><th></th><th scope=col>tjedan_v</th><th scope=col>potrosnja_v</th><th scope=col>suncano_v</th></tr>\n",
              "\t<tr><th></th><th scope=col>&lt;chr&gt;</th><th scope=col>&lt;dbl&gt;</th><th scope=col>&lt;lgl&gt;</th></tr>\n",
              "</thead>\n",
              "<tbody>\n",
              "\t<tr><th scope=row>1</th><td>pon</td><td>11</td><td> TRUE</td></tr>\n",
              "\t<tr><th scope=row>2</th><td>uto</td><td>12</td><td>FALSE</td></tr>\n",
              "\t<tr><th scope=row>3</th><td>sri</td><td>13</td><td> TRUE</td></tr>\n",
              "</tbody>\n",
              "</table>\n"
            ],
            "text/markdown": "\nA data.frame: 3 × 3\n\n| <!--/--> | tjedan_v &lt;chr&gt; | potrosnja_v &lt;dbl&gt; | suncano_v &lt;lgl&gt; |\n|---|---|---|---|\n| 1 | pon | 11 |  TRUE |\n| 2 | uto | 12 | FALSE |\n| 3 | sri | 13 |  TRUE |\n\n",
            "text/latex": "A data.frame: 3 × 3\n\\begin{tabular}{r|lll}\n  & tjedan\\_v & potrosnja\\_v & suncano\\_v\\\\\n  & <chr> & <dbl> & <lgl>\\\\\n\\hline\n\t1 & pon & 11 &  TRUE\\\\\n\t2 & uto & 12 & FALSE\\\\\n\t3 & sri & 13 &  TRUE\\\\\n\\end{tabular}\n",
            "text/plain": [
              "  tjedan_v potrosnja_v suncano_v\n",
              "1 pon      11           TRUE    \n",
              "2 uto      12          FALSE    \n",
              "3 sri      13           TRUE    "
            ]
          },
          "metadata": {}
        }
      ],
      "source": [
        "head(troskovi_df, 3)"
      ]
    },
    {
      "cell_type": "code",
      "execution_count": null,
      "metadata": {
        "colab": {
          "base_uri": "https://localhost:8080/"
        },
        "id": "-cG9j2CnrQrn",
        "outputId": "4eeef32c-2ea2-49f6-ce16-a34cf8cc1e11",
        "vscode": {
          "languageId": "r"
        }
      },
      "outputs": [
        {
          "output_type": "stream",
          "name": "stdout",
          "text": [
            "'data.frame':\t5 obs. of  3 variables:\n",
            " $ tjedan_v   : chr  \"pon\" \"uto\" \"sri\" \"čet\" ...\n",
            " $ potrosnja_v: num  11 12 13 14 15\n",
            " $ suncano_v  : logi  TRUE FALSE TRUE TRUE FALSE\n"
          ]
        }
      ],
      "source": [
        "str(troskovi_df)"
      ]
    },
    {
      "cell_type": "markdown",
      "metadata": {
        "id": "mnI0Nlm3rTT2"
      },
      "source": [
        "_**Zadatak**_ (zadaci)  \n",
        "Ispišite potrošnju za ponedjeljak, srijedu i petak  "
      ]
    },
    {
      "cell_type": "code",
      "execution_count": null,
      "metadata": {
        "colab": {
          "base_uri": "https://localhost:8080/",
          "height": 52
        },
        "id": "U_4j6uyXrWQn",
        "outputId": "6d0841bd-7f4e-48ca-a4ca-be5178c91b1b",
        "vscode": {
          "languageId": "r"
        }
      },
      "outputs": [
        {
          "output_type": "display_data",
          "data": {
            "text/html": [
              "<style>\n",
              ".list-inline {list-style: none; margin:0; padding: 0}\n",
              ".list-inline>li {display: inline-block}\n",
              ".list-inline>li:not(:last-child)::after {content: \"\\00b7\"; padding: 0 .5ex}\n",
              "</style>\n",
              "<ol class=list-inline><li>11</li><li>13</li><li>15</li></ol>\n"
            ],
            "text/markdown": "1. 11\n2. 13\n3. 15\n\n\n",
            "text/latex": "\\begin{enumerate*}\n\\item 11\n\\item 13\n\\item 15\n\\end{enumerate*}\n",
            "text/plain": [
              "[1] 11 13 15"
            ]
          },
          "metadata": {}
        },
        {
          "output_type": "display_data",
          "data": {
            "text/html": [
              "<style>\n",
              ".list-inline {list-style: none; margin:0; padding: 0}\n",
              ".list-inline>li {display: inline-block}\n",
              ".list-inline>li:not(:last-child)::after {content: \"\\00b7\"; padding: 0 .5ex}\n",
              "</style>\n",
              "<ol class=list-inline><li>11</li><li>13</li><li>15</li></ol>\n"
            ],
            "text/markdown": "1. 11\n2. 13\n3. 15\n\n\n",
            "text/latex": "\\begin{enumerate*}\n\\item 11\n\\item 13\n\\item 15\n\\end{enumerate*}\n",
            "text/plain": [
              "[1] 11 13 15"
            ]
          },
          "metadata": {}
        }
      ],
      "source": [
        "troskovi_df[c(1,3,5), 'potrosnja_v']\n",
        "troskovi_df$potrosnja_v[c(1,3,5)]"
      ]
    },
    {
      "cell_type": "markdown",
      "metadata": {
        "id": "oNUH-Q0ul9HV"
      },
      "source": [
        "Napravite dataframe naziva `tros_df` u kojega ćete ubaciti prva tri retka i prva dva stupca dataframe-a `troskovi_df`."
      ]
    },
    {
      "cell_type": "code",
      "execution_count": null,
      "metadata": {
        "id": "vt0eoAVimXvF",
        "vscode": {
          "languageId": "r"
        },
        "outputId": "784971f9-574b-4c92-a5e7-b381bdb07349",
        "colab": {
          "base_uri": "https://localhost:8080/",
          "height": 192
        }
      },
      "outputs": [
        {
          "output_type": "display_data",
          "data": {
            "text/html": [
              "<table class=\"dataframe\">\n",
              "<caption>A data.frame: 3 × 2</caption>\n",
              "<thead>\n",
              "\t<tr><th></th><th scope=col>tjedan_v</th><th scope=col>potrosnja_v</th></tr>\n",
              "\t<tr><th></th><th scope=col>&lt;chr&gt;</th><th scope=col>&lt;dbl&gt;</th></tr>\n",
              "</thead>\n",
              "<tbody>\n",
              "\t<tr><th scope=row>1</th><td>pon</td><td>11</td></tr>\n",
              "\t<tr><th scope=row>2</th><td>uto</td><td>12</td></tr>\n",
              "\t<tr><th scope=row>3</th><td>sri</td><td>13</td></tr>\n",
              "</tbody>\n",
              "</table>\n"
            ],
            "text/markdown": "\nA data.frame: 3 × 2\n\n| <!--/--> | tjedan_v &lt;chr&gt; | potrosnja_v &lt;dbl&gt; |\n|---|---|---|\n| 1 | pon | 11 |\n| 2 | uto | 12 |\n| 3 | sri | 13 |\n\n",
            "text/latex": "A data.frame: 3 × 2\n\\begin{tabular}{r|ll}\n  & tjedan\\_v & potrosnja\\_v\\\\\n  & <chr> & <dbl>\\\\\n\\hline\n\t1 & pon & 11\\\\\n\t2 & uto & 12\\\\\n\t3 & sri & 13\\\\\n\\end{tabular}\n",
            "text/plain": [
              "  tjedan_v potrosnja_v\n",
              "1 pon      11         \n",
              "2 uto      12         \n",
              "3 sri      13         "
            ]
          },
          "metadata": {}
        }
      ],
      "source": [
        "tros_df <- troskovi_df[c(1:3), c(1:2)] #1. način\n",
        "tros_df <- troskovi_df[c(1,2,3), c(1,2)] #2. način\n",
        "tros_df <- troskovi_df[c(1:3), c('tjedan_v', 'potrosnja_v')] #3. način\n",
        "tros_df"
      ]
    },
    {
      "cell_type": "markdown",
      "metadata": {
        "id": "HnKDqt56mkC7"
      },
      "source": [
        "Dodajte u dataframe `troskovi_df` oblačnu subotu kada je bio trošak 20."
      ]
    },
    {
      "cell_type": "code",
      "execution_count": null,
      "metadata": {
        "colab": {
          "base_uri": "https://localhost:8080/",
          "height": 286
        },
        "id": "lEQKrWJSmruc",
        "outputId": "f57a7d1a-680e-4985-9ad3-d024a7994fc3",
        "vscode": {
          "languageId": "r"
        }
      },
      "outputs": [
        {
          "output_type": "display_data",
          "data": {
            "text/html": [
              "<table class=\"dataframe\">\n",
              "<caption>A data.frame: 6 × 3</caption>\n",
              "<thead>\n",
              "\t<tr><th scope=col>tjedan_v</th><th scope=col>potrosnja_v</th><th scope=col>suncano_v</th></tr>\n",
              "\t<tr><th scope=col>&lt;chr&gt;</th><th scope=col>&lt;dbl&gt;</th><th scope=col>&lt;lgl&gt;</th></tr>\n",
              "</thead>\n",
              "<tbody>\n",
              "\t<tr><td>pon</td><td>11</td><td> TRUE</td></tr>\n",
              "\t<tr><td>uto</td><td>12</td><td>FALSE</td></tr>\n",
              "\t<tr><td>sri</td><td>13</td><td> TRUE</td></tr>\n",
              "\t<tr><td>čet</td><td>14</td><td> TRUE</td></tr>\n",
              "\t<tr><td>pet</td><td>15</td><td>FALSE</td></tr>\n",
              "\t<tr><td>sub</td><td>20</td><td>FALSE</td></tr>\n",
              "</tbody>\n",
              "</table>\n"
            ],
            "text/markdown": "\nA data.frame: 6 × 3\n\n| tjedan_v &lt;chr&gt; | potrosnja_v &lt;dbl&gt; | suncano_v &lt;lgl&gt; |\n|---|---|---|\n| pon | 11 |  TRUE |\n| uto | 12 | FALSE |\n| sri | 13 |  TRUE |\n| čet | 14 |  TRUE |\n| pet | 15 | FALSE |\n| sub | 20 | FALSE |\n\n",
            "text/latex": "A data.frame: 6 × 3\n\\begin{tabular}{lll}\n tjedan\\_v & potrosnja\\_v & suncano\\_v\\\\\n <chr> & <dbl> & <lgl>\\\\\n\\hline\n\t pon & 11 &  TRUE\\\\\n\t uto & 12 & FALSE\\\\\n\t sri & 13 &  TRUE\\\\\n\t čet & 14 &  TRUE\\\\\n\t pet & 15 & FALSE\\\\\n\t sub & 20 & FALSE\\\\\n\\end{tabular}\n",
            "text/plain": [
              "  tjedan_v potrosnja_v suncano_v\n",
              "1 pon      11           TRUE    \n",
              "2 uto      12          FALSE    \n",
              "3 sri      13           TRUE    \n",
              "4 čet      14           TRUE    \n",
              "5 pet      15          FALSE    \n",
              "6 sub      20          FALSE    "
            ]
          },
          "metadata": {}
        }
      ],
      "source": [
        "tjedan_v <- c('sub')\n",
        "potrosnja_v <- c(20)\n",
        "suncano_v <- c(F)\n",
        "novi_df <- data.frame(tjedan_v, potrosnja_v, suncano_v)\n",
        "t_df <- rbind(troskovi_df, novi_df)\n",
        "t_df"
      ]
    },
    {
      "cell_type": "markdown",
      "metadata": {
        "id": "2XHF3Wq_rau_"
      },
      "source": [
        "Da li je bilo sunčano u srijedu?"
      ]
    },
    {
      "cell_type": "code",
      "execution_count": null,
      "metadata": {
        "colab": {
          "base_uri": "https://localhost:8080/",
          "height": 69
        },
        "id": "8BzhKmFprca3",
        "outputId": "198dbf81-9f48-4b7d-c837-9eb0271ea782",
        "vscode": {
          "languageId": "r"
        }
      },
      "outputs": [
        {
          "output_type": "display_data",
          "data": {
            "text/html": [
              "TRUE"
            ],
            "text/markdown": "TRUE",
            "text/latex": "TRUE",
            "text/plain": [
              "[1] TRUE"
            ]
          },
          "metadata": {}
        },
        {
          "output_type": "display_data",
          "data": {
            "text/html": [
              "TRUE"
            ],
            "text/markdown": "TRUE",
            "text/latex": "TRUE",
            "text/plain": [
              "[1] TRUE"
            ]
          },
          "metadata": {}
        },
        {
          "output_type": "display_data",
          "data": {
            "text/html": [
              "TRUE"
            ],
            "text/markdown": "TRUE",
            "text/latex": "TRUE",
            "text/plain": [
              "[1] TRUE"
            ]
          },
          "metadata": {}
        }
      ],
      "source": [
        "troskovi_df[3,3]\n",
        "troskovi_df[3, 'suncano_v']\n",
        "troskovi_df$suncano_v[3]"
      ]
    },
    {
      "cell_type": "markdown",
      "metadata": {
        "id": "X_aoK4RLrgUu"
      },
      "source": [
        "_**Zadatak**_  \n",
        "U vektor `pot_v` unesite svu potrošnju od utorka do petka.  \n",
        "Ispišite ga."
      ]
    },
    {
      "cell_type": "code",
      "execution_count": null,
      "metadata": {
        "colab": {
          "base_uri": "https://localhost:8080/",
          "height": 34
        },
        "id": "baJ13V8YrhW3",
        "outputId": "36937515-5a7d-4e32-8fcd-e6e56b9de754",
        "vscode": {
          "languageId": "r"
        }
      },
      "outputs": [
        {
          "output_type": "display_data",
          "data": {
            "text/html": [
              "<style>\n",
              ".list-inline {list-style: none; margin:0; padding: 0}\n",
              ".list-inline>li {display: inline-block}\n",
              ".list-inline>li:not(:last-child)::after {content: \"\\00b7\"; padding: 0 .5ex}\n",
              "</style>\n",
              "<ol class=list-inline><li>12</li><li>13</li><li>14</li><li>15</li></ol>\n"
            ],
            "text/markdown": "1. 12\n2. 13\n3. 14\n4. 15\n\n\n",
            "text/latex": "\\begin{enumerate*}\n\\item 12\n\\item 13\n\\item 14\n\\item 15\n\\end{enumerate*}\n",
            "text/plain": [
              "[1] 12 13 14 15"
            ]
          },
          "metadata": {}
        }
      ],
      "source": [
        "pot_v <- troskovi_df[2:5,2] #1. način\n",
        "pot_v <- troskovi_df[2:5,'potrosnja_v'] #2. način\n",
        "pot_v <- troskovi_df$potrosnja_v[2:5] #3. način\n",
        "pot_v"
      ]
    }
  ],
  "metadata": {
    "colab": {
      "name": "05. Programski jezik R - DataFrame.ipynb",
      "provenance": []
    },
    "kernelspec": {
      "display_name": "R",
      "name": "ir"
    }
  },
  "nbformat": 4,
  "nbformat_minor": 0
}
