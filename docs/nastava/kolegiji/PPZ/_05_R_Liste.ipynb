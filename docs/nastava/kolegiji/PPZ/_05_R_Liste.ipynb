{
  "cells": [
    {
      "cell_type": "markdown",
      "metadata": {
        "id": "9Rl6hI2Fo-47"
      },
      "source": [
        "# 5. Liste\n",
        "Liste su objekti koji mogu sadržavati elemente različitih tipova, uključujući i druge objekte poput liste, matrice, funkcije, itd.  \n",
        "Liste se stvaraju pomoću funkcije `list()`.  \n",
        "Liste su jednodimenzionalne strukture podataka, iako elementi unutar liste mogu biti višedimenzionalni."
      ]
    },
    {
      "cell_type": "markdown",
      "source": [
        "_**Primjer**_  \n",
        "Kreirat ćemo listu mjerenje, koja će sadržavati dan u tjednu ('pon'), potrošnju (11) i logičku varijablu sunčano (TRUE)."
      ],
      "metadata": {
        "id": "vYgnahc0c4sR"
      }
    },
    {
      "cell_type": "code",
      "source": [
        "mjerenje <- list('pon', 11, TRUE)\n",
        "mjerenje"
      ],
      "metadata": {
        "id": "956ECwK7c30L",
        "outputId": "76f7f99d-0e16-4f00-e51a-a91f2cfaeaeb",
        "colab": {
          "base_uri": "https://localhost:8080/",
          "height": 97
        }
      },
      "execution_count": 46,
      "outputs": [
        {
          "output_type": "display_data",
          "data": {
            "text/html": [
              "<ol>\n",
              "\t<li>'pon'</li>\n",
              "\t<li>11</li>\n",
              "\t<li>TRUE</li>\n",
              "</ol>\n"
            ],
            "text/markdown": "1. 'pon'\n2. 11\n3. TRUE\n\n\n",
            "text/latex": "\\begin{enumerate}\n\\item 'pon'\n\\item 11\n\\item TRUE\n\\end{enumerate}\n",
            "text/plain": [
              "[[1]]\n",
              "[1] \"pon\"\n",
              "\n",
              "[[2]]\n",
              "[1] 11\n",
              "\n",
              "[[3]]\n",
              "[1] TRUE\n"
            ]
          },
          "metadata": {}
        }
      ]
    },
    {
      "cell_type": "markdown",
      "source": [
        "U _**R studiju**_ ispis će izgledati ovako:  \n",
        "```r\n",
        "[[1]]\n",
        "[1] \"pon\"\n",
        "\n",
        "[[2]]\n",
        "[1] 11\n",
        "\n",
        "[[3]]\n",
        "[1] TRUE\n",
        "```"
      ],
      "metadata": {
        "id": "uBSia1JreIAn"
      }
    },
    {
      "cell_type": "markdown",
      "source": [
        "Svaki element liste označen je dvostrukom uglatom zagradom [[ ]] i tako im se može i pristupati.  \n",
        "Na primjer drugom elementu naše liste možemo pristupiti sa `mjerenje[[2]]`"
      ],
      "metadata": {
        "id": "_RQifQEyen8m"
      }
    },
    {
      "cell_type": "code",
      "source": [
        "mjerenje[[2]]"
      ],
      "metadata": {
        "id": "4hvZoSgee442",
        "outputId": "b0f1dd17-3ff4-4897-a9f8-4ee84056738b",
        "colab": {
          "base_uri": "https://localhost:8080/",
          "height": 34
        }
      },
      "execution_count": 47,
      "outputs": [
        {
          "output_type": "display_data",
          "data": {
            "text/html": [
              "11"
            ],
            "text/markdown": "11",
            "text/latex": "11",
            "text/plain": [
              "[1] 11"
            ]
          },
          "metadata": {}
        }
      ]
    },
    {
      "cell_type": "markdown",
      "source": [
        "Kako i kod vektora, elementima liste možemo pridružiti imena.  \n",
        "To se i u ovom slučaju radi funkcijom `names()`"
      ],
      "metadata": {
        "id": "S3CLcjBAfBp_"
      }
    },
    {
      "cell_type": "code",
      "source": [
        "names(mjerenje) <- c('tjedan', 'potrošnja', 'sunčano')\n",
        "mjerenje"
      ],
      "metadata": {
        "id": "pYI_dyWFfN3W",
        "outputId": "1f067a3f-bc15-4940-9947-d95373fbc81a",
        "colab": {
          "base_uri": "https://localhost:8080/",
          "height": 149
        }
      },
      "execution_count": 48,
      "outputs": [
        {
          "output_type": "display_data",
          "data": {
            "text/html": [
              "<dl>\n",
              "\t<dt>$tjedan</dt>\n",
              "\t\t<dd>'pon'</dd>\n",
              "\t<dt>$potrošnja</dt>\n",
              "\t\t<dd>11</dd>\n",
              "\t<dt>$sunčano</dt>\n",
              "\t\t<dd>TRUE</dd>\n",
              "</dl>\n"
            ],
            "text/markdown": "$tjedan\n:   'pon'\n$potrošnja\n:   11\n$sunčano\n:   TRUE\n\n\n",
            "text/latex": "\\begin{description}\n\\item[\\$tjedan] 'pon'\n\\item[\\$potrošnja] 11\n\\item[\\$sunčano] TRUE\n\\end{description}\n",
            "text/plain": [
              "$tjedan\n",
              "[1] \"pon\"\n",
              "\n",
              "$potrošnja\n",
              "[1] 11\n",
              "\n",
              "$sunčano\n",
              "[1] TRUE\n"
            ]
          },
          "metadata": {}
        }
      ]
    },
    {
      "cell_type": "markdown",
      "source": [
        "To smo mogli dobiti i na način da smo napisali sve zajedno na način:\n",
        "```r \n",
        "mjerenje <- list(tjedan='pon', potrošnja=11, sunčano=TRUE)\n",
        "```"
      ],
      "metadata": {
        "id": "W0qh_4_0foHX"
      }
    },
    {
      "cell_type": "markdown",
      "source": [
        "Sada kada smo imenovali elemente liste, možemo im pristupati koristeći znak `$`  kao i kod podatkovnih okvira.  \n",
        "Da bi ispisali dan u tjednu iz naše liste `mjerenje`, dovoljno je napisati:"
      ],
      "metadata": {
        "id": "QvnQRie0gK_l"
      }
    },
    {
      "cell_type": "code",
      "source": [
        "mjerenje$tjedan"
      ],
      "metadata": {
        "id": "8njKNl_kgw6N",
        "outputId": "cb564e4b-d16d-40d3-d417-8200db65fd7c",
        "colab": {
          "base_uri": "https://localhost:8080/",
          "height": 34
        }
      },
      "execution_count": 49,
      "outputs": [
        {
          "output_type": "display_data",
          "data": {
            "text/html": [
              "'pon'"
            ],
            "text/markdown": "'pon'",
            "text/latex": "'pon'",
            "text/plain": [
              "[1] \"pon\""
            ]
          },
          "metadata": {}
        }
      ]
    },
    {
      "cell_type": "markdown",
      "source": [
        "###Dodavanje elementa u listu\n",
        "Novi element liste može se dodati direktno pridruživanjem:"
      ],
      "metadata": {
        "id": "M6BppTgXhH59"
      }
    },
    {
      "cell_type": "code",
      "source": [
        "mjerenje[[4]] <- 0\n",
        "mjerenje"
      ],
      "metadata": {
        "id": "BFlrWX2ehQQF",
        "outputId": "60c6c643-8342-49e5-bc45-54ec6731c707",
        "colab": {
          "base_uri": "https://localhost:8080/",
          "height": 184
        }
      },
      "execution_count": 50,
      "outputs": [
        {
          "output_type": "display_data",
          "data": {
            "text/html": [
              "<dl>\n",
              "\t<dt>$tjedan</dt>\n",
              "\t\t<dd>'pon'</dd>\n",
              "\t<dt>$potrošnja</dt>\n",
              "\t\t<dd>11</dd>\n",
              "\t<dt>$sunčano</dt>\n",
              "\t\t<dd>TRUE</dd>\n",
              "\t<dt>[[4]]</dt>\n",
              "\t\t<dd>0</dd>\n",
              "</dl>\n"
            ],
            "text/markdown": "$tjedan\n:   'pon'\n$potrošnja\n:   11\n$sunčano\n:   TRUE\n[[4]]\n:   0\n\n\n",
            "text/latex": "\\begin{description}\n\\item[\\$tjedan] 'pon'\n\\item[\\$potrošnja] 11\n\\item[\\$sunčano] TRUE\n\\item[{[[4]]}] 0\n\\end{description}\n",
            "text/plain": [
              "$tjedan\n",
              "[1] \"pon\"\n",
              "\n",
              "$potrošnja\n",
              "[1] 11\n",
              "\n",
              "$sunčano\n",
              "[1] TRUE\n",
              "\n",
              "[[4]]\n",
              "[1] 0\n"
            ]
          },
          "metadata": {}
        }
      ]
    },
    {
      "cell_type": "markdown",
      "source": [
        "Kao što vidimo ova vrijednost još nema ime.  \n",
        "Pridružimo nova imena listi, koja uključuju i \"padaline\"."
      ],
      "metadata": {
        "id": "XDNtPwwfiDas"
      }
    },
    {
      "cell_type": "code",
      "source": [
        "names(mjerenje) <- c('tjedan', 'potrošnja', 'sunčano', 'padaline')\n",
        "mjerenje"
      ],
      "metadata": {
        "id": "jpS0g8_ViLdO",
        "outputId": "d54d4f27-8892-4ab7-95f8-4cfba2fac7ba",
        "colab": {
          "base_uri": "https://localhost:8080/",
          "height": 184
        }
      },
      "execution_count": 51,
      "outputs": [
        {
          "output_type": "display_data",
          "data": {
            "text/html": [
              "<dl>\n",
              "\t<dt>$tjedan</dt>\n",
              "\t\t<dd>'pon'</dd>\n",
              "\t<dt>$potrošnja</dt>\n",
              "\t\t<dd>11</dd>\n",
              "\t<dt>$sunčano</dt>\n",
              "\t\t<dd>TRUE</dd>\n",
              "\t<dt>$padaline</dt>\n",
              "\t\t<dd>0</dd>\n",
              "</dl>\n"
            ],
            "text/markdown": "$tjedan\n:   'pon'\n$potrošnja\n:   11\n$sunčano\n:   TRUE\n$padaline\n:   0\n\n\n",
            "text/latex": "\\begin{description}\n\\item[\\$tjedan] 'pon'\n\\item[\\$potrošnja] 11\n\\item[\\$sunčano] TRUE\n\\item[\\$padaline] 0\n\\end{description}\n",
            "text/plain": [
              "$tjedan\n",
              "[1] \"pon\"\n",
              "\n",
              "$potrošnja\n",
              "[1] 11\n",
              "\n",
              "$sunčano\n",
              "[1] TRUE\n",
              "\n",
              "$padaline\n",
              "[1] 0\n"
            ]
          },
          "metadata": {}
        }
      ]
    },
    {
      "cell_type": "markdown",
      "source": [
        "To se moglo napraviti i u jednom koraku naredbom:"
      ],
      "metadata": {
        "id": "BkeDurwuidMU"
      }
    },
    {
      "cell_type": "code",
      "source": [
        "mjerenje$padaline <- 5"
      ],
      "metadata": {
        "id": "Jf6vMfrIilec"
      },
      "execution_count": 53,
      "outputs": []
    },
    {
      "cell_type": "markdown",
      "source": [
        "###Brisanje elemenata liste\n",
        "Element liste (ali i drugih objekata) brišemo tako da mu pridružimo vrijednost NULL."
      ],
      "metadata": {
        "id": "_INH0QNfi_i0"
      }
    },
    {
      "cell_type": "code",
      "source": [
        "mjerenje$padaline <- NULL\n",
        "mjerenje"
      ],
      "metadata": {
        "id": "lmwSdpwOjPFV",
        "outputId": "c4f4abde-2910-4948-e54c-c607f587ab4f",
        "colab": {
          "base_uri": "https://localhost:8080/",
          "height": 184
        }
      },
      "execution_count": 57,
      "outputs": [
        {
          "output_type": "display_data",
          "data": {
            "text/html": [
              "<dl>\n",
              "\t<dt>$tjedan</dt>\n",
              "\t\t<dd>'pon'</dd>\n",
              "\t<dt>$potrošnja</dt>\n",
              "\t\t<dd>11</dd>\n",
              "\t<dt>$sunčano</dt>\n",
              "\t\t<dd>TRUE</dd>\n",
              "</dl>\n"
            ],
            "text/markdown": "$tjedan\n:   'pon'\n$potrošnja\n:   11\n$sunčano\n:   TRUE\n\n\n",
            "text/latex": "\\begin{description}\n\\item[\\$tjedan] 'pon'\n\\item[\\$potrošnja] 11\n\\item[\\$sunčano] TRUE\n\\end{description}\n",
            "text/plain": [
              "$tjedan\n",
              "[1] \"pon\"\n",
              "\n",
              "$potrošnja\n",
              "[1] 11\n",
              "\n",
              "$sunčano\n",
              "[1] TRUE\n"
            ]
          },
          "metadata": {}
        },
        {
          "output_type": "display_data",
          "data": {
            "text/html": [
              "<strong>$names</strong> = <style>\n",
              ".list-inline {list-style: none; margin:0; padding: 0}\n",
              ".list-inline>li {display: inline-block}\n",
              ".list-inline>li:not(:last-child)::after {content: \"\\00b7\"; padding: 0 .5ex}\n",
              "</style>\n",
              "<ol class=list-inline><li>'tjedan'</li><li>'potrošnja'</li><li>'sunčano'</li></ol>\n"
            ],
            "text/markdown": "**$names** = 1. 'tjedan'\n2. 'potrošnja'\n3. 'sunčano'\n\n\n",
            "text/latex": "\\textbf{\\$names} = \\begin{enumerate*}\n\\item 'tjedan'\n\\item 'potrošnja'\n\\item 'sunčano'\n\\end{enumerate*}\n",
            "text/plain": [
              "$names\n",
              "[1] \"tjedan\"    \"potrošnja\" \"sunčano\"  \n"
            ]
          },
          "metadata": {}
        }
      ]
    }
  ],
  "metadata": {
    "colab": {
      "name": "05. Programski jezik R - DataFrame.ipynb",
      "provenance": []
    },
    "kernelspec": {
      "display_name": "R",
      "name": "ir"
    }
  },
  "nbformat": 4,
  "nbformat_minor": 0
}
