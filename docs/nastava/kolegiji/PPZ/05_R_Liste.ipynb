{
  "cells": [
    {
      "cell_type": "markdown",
      "metadata": {
        "id": "9Rl6hI2Fo-47"
      },
      "source": [
        "# 5. Liste\n",
        "Liste su objekti koji mogu sadržavati elemente različitih tipova, uključujući i druge objekte poput liste, matrice, funkcije, itd.  \n",
        "Liste se stvaraju pomoću funkcije `list()`.  \n",
        "Liste su jednodimenzionalne strukture podataka, iako elementi unutar liste mogu biti višedimenzionalni."
      ]
    }
  ],
  "metadata": {
    "colab": {
      "name": "05. Programski jezik R - DataFrame.ipynb",
      "provenance": []
    },
    "kernelspec": {
      "display_name": "R",
      "name": "ir"
    }
  },
  "nbformat": 4,
  "nbformat_minor": 0
}