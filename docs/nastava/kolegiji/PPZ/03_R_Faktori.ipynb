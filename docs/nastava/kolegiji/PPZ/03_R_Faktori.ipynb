{
  "cells": [
    {
      "cell_type": "markdown",
      "metadata": {
        "id": "dxUdG1lqnjO3"
      },
      "source": [
        "# 3. Faktori\n",
        "Pojam *faktor* se odnosi na statistički tip podataka koji zovemo kategorička varijabla.  \n",
        "Kategoričke varijable pripadaju nekom skupu (klasi) sa ograničenim brojem kategorija (vrijednosti klase).  \n",
        "Na primjer: `Muško`, `Žensko`  ili `Prošao ispit`, `Pao ispit`  \n",
        "Faktor dobijemo tako da vektor konvertiramo funkcijom `factor()` "
      ]
    },
    {
      "cell_type": "markdown",
      "source": [
        "_**Primjer:**_  \n",
        "Imamo vektor `spol` koji ima 5 elemenata:  "
      ],
      "metadata": {
        "id": "7QHfIgxewFkn"
      }
    },
    {
      "cell_type": "code",
      "execution_count": null,
      "metadata": {
        "colab": {
          "base_uri": "https://localhost:8080/",
          "height": 34
        },
        "id": "SOITeIrc-SKY",
        "outputId": "f47b18f6-5b9f-4daf-80a8-283ab535d965",
        "vscode": {
          "languageId": "r"
        }
      },
      "outputs": [
        {
          "output_type": "display_data",
          "data": {
            "text/html": [
              "<style>\n",
              ".list-inline {list-style: none; margin:0; padding: 0}\n",
              ".list-inline>li {display: inline-block}\n",
              ".list-inline>li:not(:last-child)::after {content: \"\\00b7\"; padding: 0 .5ex}\n",
              "</style>\n",
              "<ol class=list-inline><li>'musko'</li><li>'zensko'</li><li>'zensko'</li><li>'zensko'</li><li>'musko'</li></ol>\n"
            ],
            "text/markdown": "1. 'musko'\n2. 'zensko'\n3. 'zensko'\n4. 'zensko'\n5. 'musko'\n\n\n",
            "text/latex": "\\begin{enumerate*}\n\\item 'musko'\n\\item 'zensko'\n\\item 'zensko'\n\\item 'zensko'\n\\item 'musko'\n\\end{enumerate*}\n",
            "text/plain": [
              "[1] \"musko\"  \"zensko\" \"zensko\" \"zensko\" \"musko\" "
            ]
          },
          "metadata": {}
        }
      ],
      "source": [
        "spol_v <- c('musko', 'zensko', 'zensko', 'zensko', 'musko')\n",
        "spol_v"
      ]
    },
    {
      "cell_type": "markdown",
      "metadata": {
        "id": "a3SC5z7HnraO"
      },
      "source": [
        "Kada ga konvertiramo u faktor dobijemo 5 elemenata ali samo dvije vrijednosti klase (levels);"
      ]
    },
    {
      "cell_type": "code",
      "execution_count": null,
      "metadata": {
        "colab": {
          "base_uri": "https://localhost:8080/",
          "height": 52
        },
        "id": "UElNrAJdnvfF",
        "outputId": "a5605739-5f52-4ecd-c42e-e4faa9666b2a",
        "vscode": {
          "languageId": "r"
        }
      },
      "outputs": [
        {
          "output_type": "display_data",
          "data": {
            "text/html": [
              "<style>\n",
              ".list-inline {list-style: none; margin:0; padding: 0}\n",
              ".list-inline>li {display: inline-block}\n",
              ".list-inline>li:not(:last-child)::after {content: \"\\00b7\"; padding: 0 .5ex}\n",
              "</style>\n",
              "<ol class=list-inline><li>musko</li><li>zensko</li><li>zensko</li><li>zensko</li><li>musko</li></ol>\n",
              "\n",
              "<details>\n",
              "\t<summary style=display:list-item;cursor:pointer>\n",
              "\t\t<strong>Levels</strong>:\n",
              "\t</summary>\n",
              "\t<style>\n",
              "\t.list-inline {list-style: none; margin:0; padding: 0}\n",
              "\t.list-inline>li {display: inline-block}\n",
              "\t.list-inline>li:not(:last-child)::after {content: \"\\00b7\"; padding: 0 .5ex}\n",
              "\t</style>\n",
              "\t<ol class=list-inline><li>'musko'</li><li>'zensko'</li></ol>\n",
              "</details>"
            ],
            "text/markdown": "1. musko\n2. zensko\n3. zensko\n4. zensko\n5. musko\n\n\n\n**Levels**: 1. 'musko'\n2. 'zensko'\n\n\n",
            "text/latex": "\\begin{enumerate*}\n\\item musko\n\\item zensko\n\\item zensko\n\\item zensko\n\\item musko\n\\end{enumerate*}\n\n\\emph{Levels}: \\begin{enumerate*}\n\\item 'musko'\n\\item 'zensko'\n\\end{enumerate*}\n",
            "text/plain": [
              "[1] musko  zensko zensko zensko musko \n",
              "Levels: musko zensko"
            ]
          },
          "metadata": {}
        }
      ],
      "source": [
        "spol_f <- factor(spol_v)\n",
        "spol_f"
      ]
    },
    {
      "cell_type": "markdown",
      "metadata": {
        "id": "h4a1KQxinxo3"
      },
      "source": [
        "Kada govorimo o kategoričkim varijablama razlikujemo **nominalne** i **ordinalne** varijable.  \n",
        "Za razliku od nominalnih koje su \"obične\" (spol, boja kose, vrsta životinje, ...) ordinalne varijable u sebi sadržavaju određenu hijerarhiju.  \n",
        "Na primjer; \"dobar\", \"loš\", \"zao\",   \n",
        "ili  \"ponedjeljak\", \"utorak\", \"srijeda\",   \n",
        "ili \"visok\", \"srednji\", \"nizak\"<br><br>\n",
        "Tu unutrašnju hijerarhiju možemo i zadati u faktoru.  \n",
        "Na primjer:"
      ]
    },
    {
      "cell_type": "code",
      "execution_count": null,
      "metadata": {
        "colab": {
          "base_uri": "https://localhost:8080/",
          "height": 52
        },
        "id": "j7onu-sznz_9",
        "outputId": "67536427-6df4-4978-9164-32912811a8c0",
        "vscode": {
          "languageId": "r"
        }
      },
      "outputs": [
        {
          "output_type": "display_data",
          "data": {
            "text/html": [
              "<style>\n",
              ".list-inline {list-style: none; margin:0; padding: 0}\n",
              ".list-inline>li {display: inline-block}\n",
              ".list-inline>li:not(:last-child)::after {content: \"\\00b7\"; padding: 0 .5ex}\n",
              "</style>\n",
              "<ol class=list-inline><li>visoka</li><li>visoka</li><li>srednja</li><li>niska</li><li>visoka</li></ol>\n",
              "\n",
              "<details>\n",
              "\t<summary style=display:list-item;cursor:pointer>\n",
              "\t\t<strong>Levels</strong>:\n",
              "\t</summary>\n",
              "\t<style>\n",
              "\t.list-inline {list-style: none; margin:0; padding: 0}\n",
              "\t.list-inline>li {display: inline-block}\n",
              "\t.list-inline>li:not(:last-child)::after {content: \"\\00b7\"; padding: 0 .5ex}\n",
              "\t</style>\n",
              "\t<ol class=list-inline><li>'niska'</li><li>'srednja'</li><li>'visoka'</li></ol>\n",
              "</details>"
            ],
            "text/markdown": "1. visoka\n2. visoka\n3. srednja\n4. niska\n5. visoka\n\n\n\n**Levels**: 1. 'niska'\n2. 'srednja'\n3. 'visoka'\n\n\n",
            "text/latex": "\\begin{enumerate*}\n\\item visoka\n\\item visoka\n\\item srednja\n\\item niska\n\\item visoka\n\\end{enumerate*}\n\n\\emph{Levels}: \\begin{enumerate*}\n\\item 'niska'\n\\item 'srednja'\n\\item 'visoka'\n\\end{enumerate*}\n",
            "text/plain": [
              "[1] visoka  visoka  srednja niska   visoka \n",
              "Levels: niska < srednja < visoka"
            ]
          },
          "metadata": {}
        }
      ],
      "source": [
        "temp_v <- c(\"visoka\", \"visoka\", \"srednja\", \"niska\", \"visoka\")\n",
        "temp_f <- factor(temp_v, order=TRUE, levels=c(\"niska\", \"srednja\", \"visoka\"))\n",
        "temp_f"
      ]
    },
    {
      "cell_type": "markdown",
      "metadata": {
        "id": "SUOAXkRXoAa1"
      },
      "source": [
        "To smo mogli napraviti i na sljedeći način:"
      ]
    },
    {
      "cell_type": "code",
      "execution_count": null,
      "metadata": {
        "colab": {
          "base_uri": "https://localhost:8080/",
          "height": 52
        },
        "id": "KGWkCZhnoDK9",
        "outputId": "78d512cb-0bc4-49f6-c172-0859a81df02e",
        "vscode": {
          "languageId": "r"
        }
      },
      "outputs": [
        {
          "output_type": "display_data",
          "data": {
            "text/html": [
              "<style>\n",
              ".list-inline {list-style: none; margin:0; padding: 0}\n",
              ".list-inline>li {display: inline-block}\n",
              ".list-inline>li:not(:last-child)::after {content: \"\\00b7\"; padding: 0 .5ex}\n",
              "</style>\n",
              "<ol class=list-inline><li>visoka</li><li>visoka</li><li>srednja</li><li>niska</li><li>visoka</li></ol>\n",
              "\n",
              "<details>\n",
              "\t<summary style=display:list-item;cursor:pointer>\n",
              "\t\t<strong>Levels</strong>:\n",
              "\t</summary>\n",
              "\t<style>\n",
              "\t.list-inline {list-style: none; margin:0; padding: 0}\n",
              "\t.list-inline>li {display: inline-block}\n",
              "\t.list-inline>li:not(:last-child)::after {content: \"\\00b7\"; padding: 0 .5ex}\n",
              "\t</style>\n",
              "\t<ol class=list-inline><li>'niska'</li><li>'srednja'</li><li>'visoka'</li></ol>\n",
              "</details>"
            ],
            "text/markdown": "1. visoka\n2. visoka\n3. srednja\n4. niska\n5. visoka\n\n\n\n**Levels**: 1. 'niska'\n2. 'srednja'\n3. 'visoka'\n\n\n",
            "text/latex": "\\begin{enumerate*}\n\\item visoka\n\\item visoka\n\\item srednja\n\\item niska\n\\item visoka\n\\end{enumerate*}\n\n\\emph{Levels}: \\begin{enumerate*}\n\\item 'niska'\n\\item 'srednja'\n\\item 'visoka'\n\\end{enumerate*}\n",
            "text/plain": [
              "[1] visoka  visoka  srednja niska   visoka \n",
              "Levels: niska < srednja < visoka"
            ]
          },
          "metadata": {}
        }
      ],
      "source": [
        "temp_f <- factor(temp_v, order=T)\n",
        "levels(temp_f)=c(\"niska\", \"srednja\", \"visoka\")\n",
        "temp_f"
      ]
    },
    {
      "cell_type": "markdown",
      "metadata": {
        "id": "tSpVapoOoFHF"
      },
      "source": [
        "Pošto imamo hijerarhiju, tj. redoslijed u faktoru, možemo uspoređivati njegove elemente.  \n",
        "Na primjer u faktoru `temp_f` pogledajmo njegov 3. i 4. element i onda provjerimo da li je 3. veći od 4.  "
      ]
    },
    {
      "cell_type": "code",
      "execution_count": null,
      "metadata": {
        "colab": {
          "base_uri": "https://localhost:8080/",
          "height": 104
        },
        "id": "ca9NCPFmoHeN",
        "outputId": "cb519e47-575a-42ab-fbd7-c99e6a3e414d",
        "vscode": {
          "languageId": "r"
        }
      },
      "outputs": [
        {
          "output_type": "display_data",
          "data": {
            "text/html": [
              "srednja\n",
              "<details>\n",
              "\t<summary style=display:list-item;cursor:pointer>\n",
              "\t\t<strong>Levels</strong>:\n",
              "\t</summary>\n",
              "\t<style>\n",
              "\t.list-inline {list-style: none; margin:0; padding: 0}\n",
              "\t.list-inline>li {display: inline-block}\n",
              "\t.list-inline>li:not(:last-child)::after {content: \"\\00b7\"; padding: 0 .5ex}\n",
              "\t</style>\n",
              "\t<ol class=list-inline><li>'niska'</li><li>'srednja'</li><li>'visoka'</li></ol>\n",
              "</details>"
            ],
            "text/markdown": "srednja\n**Levels**: 1. 'niska'\n2. 'srednja'\n3. 'visoka'\n\n\n",
            "text/latex": "srednja\n\\emph{Levels}: \\begin{enumerate*}\n\\item 'niska'\n\\item 'srednja'\n\\item 'visoka'\n\\end{enumerate*}\n",
            "text/plain": [
              "[1] srednja\n",
              "Levels: niska < srednja < visoka"
            ]
          },
          "metadata": {}
        },
        {
          "output_type": "display_data",
          "data": {
            "text/html": [
              "niska\n",
              "<details>\n",
              "\t<summary style=display:list-item;cursor:pointer>\n",
              "\t\t<strong>Levels</strong>:\n",
              "\t</summary>\n",
              "\t<style>\n",
              "\t.list-inline {list-style: none; margin:0; padding: 0}\n",
              "\t.list-inline>li {display: inline-block}\n",
              "\t.list-inline>li:not(:last-child)::after {content: \"\\00b7\"; padding: 0 .5ex}\n",
              "\t</style>\n",
              "\t<ol class=list-inline><li>'niska'</li><li>'srednja'</li><li>'visoka'</li></ol>\n",
              "</details>"
            ],
            "text/markdown": "niska\n**Levels**: 1. 'niska'\n2. 'srednja'\n3. 'visoka'\n\n\n",
            "text/latex": "niska\n\\emph{Levels}: \\begin{enumerate*}\n\\item 'niska'\n\\item 'srednja'\n\\item 'visoka'\n\\end{enumerate*}\n",
            "text/plain": [
              "[1] niska\n",
              "Levels: niska < srednja < visoka"
            ]
          },
          "metadata": {}
        },
        {
          "output_type": "display_data",
          "data": {
            "text/html": [
              "TRUE"
            ],
            "text/markdown": "TRUE",
            "text/latex": "TRUE",
            "text/plain": [
              "[1] TRUE"
            ]
          },
          "metadata": {}
        }
      ],
      "source": [
        "temp_f[3] \n",
        "temp_f[4]\n",
        "temp_f[3]>temp_f[4]"
      ]
    },
    {
      "cell_type": "markdown",
      "metadata": {
        "id": "boy45HwJoUHO"
      },
      "source": [
        "I zaista, `srednja` jest veća od `niske`<br><br>\n",
        "### Malo detaljnije o faktoru\n",
        "Da bi dobili više detalja o nekom faktori koristimo funkciju `summary()`  \n",
        "Ova funkcija će nam vratiti broj elemenata pojedine vrijednosti klase.  \n",
        "Na primjer:"
      ]
    },
    {
      "cell_type": "code",
      "execution_count": null,
      "metadata": {
        "colab": {
          "base_uri": "https://localhost:8080/",
          "height": 34
        },
        "id": "S7H-_SS4oayN",
        "outputId": "1317f234-9f19-4b09-e058-20061491a8d4",
        "vscode": {
          "languageId": "r"
        }
      },
      "outputs": [
        {
          "output_type": "display_data",
          "data": {
            "text/html": [
              "<style>\n",
              ".dl-inline {width: auto; margin:0; padding: 0}\n",
              ".dl-inline>dt, .dl-inline>dd {float: none; width: auto; display: inline-block}\n",
              ".dl-inline>dt::after {content: \":\\0020\"; padding-right: .5ex}\n",
              ".dl-inline>dt:not(:first-of-type) {padding-left: .5ex}\n",
              "</style><dl class=dl-inline><dt>niska</dt><dd>1</dd><dt>srednja</dt><dd>1</dd><dt>visoka</dt><dd>3</dd></dl>\n"
            ],
            "text/markdown": "niska\n:   1srednja\n:   1visoka\n:   3\n\n",
            "text/latex": "\\begin{description*}\n\\item[niska] 1\n\\item[srednja] 1\n\\item[visoka] 3\n\\end{description*}\n",
            "text/plain": [
              "  niska srednja  visoka \n",
              "      1       1       3 "
            ]
          },
          "metadata": {}
        }
      ],
      "source": [
        "summary(temp_f)"
      ]
    },
    {
      "cell_type": "markdown",
      "metadata": {
        "id": "DpMIFeLRodD1"
      },
      "source": [
        "_**Zadatak**_  \n",
        "Napravite faktore od vektora `pon` i `uto`.  \n",
        "`pon_v` ima vrijednosti `visoka`, `niska`, `visoka`, a   \n",
        "`uto_v` ima vrijednosti `srednja`, `niska`,  `visoka`  \n",
        "Pretvorite ih i faktore i usporedite ih"
      ]
    },
    {
      "cell_type": "code",
      "execution_count": null,
      "metadata": {
        "colab": {
          "base_uri": "https://localhost:8080/",
          "height": 34
        },
        "id": "pMXaaPgXogH7",
        "outputId": "a3d2c453-1766-4398-f90f-2b18073ae7e4",
        "vscode": {
          "languageId": "r"
        }
      },
      "outputs": [
        {
          "output_type": "display_data",
          "data": {
            "text/html": [
              "<style>\n",
              ".list-inline {list-style: none; margin:0; padding: 0}\n",
              ".list-inline>li {display: inline-block}\n",
              ".list-inline>li:not(:last-child)::after {content: \"\\00b7\"; padding: 0 .5ex}\n",
              "</style>\n",
              "<ol class=list-inline><li>TRUE</li><li>FALSE</li><li>FALSE</li></ol>\n"
            ],
            "text/markdown": "1. TRUE\n2. FALSE\n3. FALSE\n\n\n",
            "text/latex": "\\begin{enumerate*}\n\\item TRUE\n\\item FALSE\n\\item FALSE\n\\end{enumerate*}\n",
            "text/plain": [
              "[1]  TRUE FALSE FALSE"
            ]
          },
          "metadata": {}
        }
      ],
      "source": [
        "# Rješenje\n",
        "pon_v <- c('visoka', 'niska', 'visoka')\n",
        "uto_v <- c('srednja', 'niska', 'visoka')\n",
        "hijerarhija_v <- c('niska', 'srednja', 'visoka')\n",
        "pon_f <- factor(pon_v, order=T, levels=hijerarhija_v)\n",
        "uto_f <- factor(uto_v, order=T, levels=hijerarhija_v)\n",
        "pon_f > uto_f"
      ]
    },
    {
      "cell_type": "markdown",
      "source": [],
      "metadata": {
        "id": "XrKcss_ycGEy"
      }
    },
    {
      "cell_type": "markdown",
      "metadata": {
        "id": "Tnce4gjFoiT6"
      },
      "source": [
        "Primjećujemo da je uspoređivao svaki element pojedinačno."
      ]
    },
    {
      "cell_type": "markdown",
      "source": [
        "_**Zadatak**_  \n",
        "Kreirajte uređeni faktor **x** s vrijednostima 'lijevo', 'desno', 'desno', 'lijevo'.  \n",
        "Postavite hijerarhiju na 'lijevo' < 'desno'  \n",
        "Usporedite vrijednosti prvog i drugog člana tog faktora."
      ],
      "metadata": {
        "id": "E1ysGr0Mbtar"
      }
    },
    {
      "cell_type": "code",
      "source": [
        "x <- factor(c(\"lijevo\", \"desno\", \"desno\", \"lijevo\"), order=T, levels = c(\"lijevo\", \"desno\"))\n",
        "x\n",
        "x[1]>x[2]"
      ],
      "metadata": {
        "id": "gpzS5DD0y3go",
        "outputId": "5af026ed-a4b6-49a9-9e87-7c66f190cfc2",
        "colab": {
          "base_uri": "https://localhost:8080/",
          "height": 69
        }
      },
      "execution_count": null,
      "outputs": [
        {
          "output_type": "display_data",
          "data": {
            "text/html": [
              "<style>\n",
              ".list-inline {list-style: none; margin:0; padding: 0}\n",
              ".list-inline>li {display: inline-block}\n",
              ".list-inline>li:not(:last-child)::after {content: \"\\00b7\"; padding: 0 .5ex}\n",
              "</style>\n",
              "<ol class=list-inline><li>lijevo</li><li>desno</li><li>desno</li><li>lijevo</li></ol>\n",
              "\n",
              "<details>\n",
              "\t<summary style=display:list-item;cursor:pointer>\n",
              "\t\t<strong>Levels</strong>:\n",
              "\t</summary>\n",
              "\t<style>\n",
              "\t.list-inline {list-style: none; margin:0; padding: 0}\n",
              "\t.list-inline>li {display: inline-block}\n",
              "\t.list-inline>li:not(:last-child)::after {content: \"\\00b7\"; padding: 0 .5ex}\n",
              "\t</style>\n",
              "\t<ol class=list-inline><li>'lijevo'</li><li>'desno'</li></ol>\n",
              "</details>"
            ],
            "text/markdown": "1. lijevo\n2. desno\n3. desno\n4. lijevo\n\n\n\n**Levels**: 1. 'lijevo'\n2. 'desno'\n\n\n",
            "text/latex": "\\begin{enumerate*}\n\\item lijevo\n\\item desno\n\\item desno\n\\item lijevo\n\\end{enumerate*}\n\n\\emph{Levels}: \\begin{enumerate*}\n\\item 'lijevo'\n\\item 'desno'\n\\end{enumerate*}\n",
            "text/plain": [
              "[1] lijevo desno  desno  lijevo\n",
              "Levels: lijevo < desno"
            ]
          },
          "metadata": {}
        },
        {
          "output_type": "display_data",
          "data": {
            "text/html": [
              "FALSE"
            ],
            "text/markdown": "FALSE",
            "text/latex": "FALSE",
            "text/plain": [
              "[1] FALSE"
            ]
          },
          "metadata": {}
        }
      ]
    },
    {
      "cell_type": "markdown",
      "source": [
        "###Broj razina faktora.\n",
        "Razina može biti i više nego što ih je prikazano u faktoru, na primjer:"
      ],
      "metadata": {
        "id": "_DdkhNvrIWsx"
      }
    },
    {
      "cell_type": "code",
      "source": [
        "y <- factor(c(\"lijevo\", \"desno\", \"desno\", \"lijevo\"), levels = c(\"lijevo\", \"sredina\", \"desno\"))\n",
        "y"
      ],
      "metadata": {
        "id": "hYiRVyarIQY3",
        "outputId": "e3c6c7f6-e8f4-4563-f644-7208bc3472f8",
        "colab": {
          "base_uri": "https://localhost:8080/",
          "height": 52
        }
      },
      "execution_count": null,
      "outputs": [
        {
          "output_type": "display_data",
          "data": {
            "text/html": [
              "<style>\n",
              ".list-inline {list-style: none; margin:0; padding: 0}\n",
              ".list-inline>li {display: inline-block}\n",
              ".list-inline>li:not(:last-child)::after {content: \"\\00b7\"; padding: 0 .5ex}\n",
              "</style>\n",
              "<ol class=list-inline><li>lijevo</li><li>desno</li><li>desno</li><li>lijevo</li></ol>\n",
              "\n",
              "<details>\n",
              "\t<summary style=display:list-item;cursor:pointer>\n",
              "\t\t<strong>Levels</strong>:\n",
              "\t</summary>\n",
              "\t<style>\n",
              "\t.list-inline {list-style: none; margin:0; padding: 0}\n",
              "\t.list-inline>li {display: inline-block}\n",
              "\t.list-inline>li:not(:last-child)::after {content: \"\\00b7\"; padding: 0 .5ex}\n",
              "\t</style>\n",
              "\t<ol class=list-inline><li>'lijevo'</li><li>'sredina'</li><li>'desno'</li></ol>\n",
              "</details>"
            ],
            "text/markdown": "1. lijevo\n2. desno\n3. desno\n4. lijevo\n\n\n\n**Levels**: 1. 'lijevo'\n2. 'sredina'\n3. 'desno'\n\n\n",
            "text/latex": "\\begin{enumerate*}\n\\item lijevo\n\\item desno\n\\item desno\n\\item lijevo\n\\end{enumerate*}\n\n\\emph{Levels}: \\begin{enumerate*}\n\\item 'lijevo'\n\\item 'sredina'\n\\item 'desno'\n\\end{enumerate*}\n",
            "text/plain": [
              "[1] lijevo desno  desno  lijevo\n",
              "Levels: lijevo sredina desno"
            ]
          },
          "metadata": {}
        }
      ]
    },
    {
      "cell_type": "markdown",
      "source": [
        "Ako želimo saznati broj razina nekoga faktora, koristimo funkciju `length()`."
      ],
      "metadata": {
        "id": "i2EmHr2bIlr_"
      }
    },
    {
      "cell_type": "code",
      "source": [
        "length(levels(y))"
      ],
      "metadata": {
        "id": "wrGfJS0NIphn",
        "outputId": "5f209734-8317-4e60-8d0d-fd7e6648e9f6",
        "colab": {
          "base_uri": "https://localhost:8080/",
          "height": 34
        }
      },
      "execution_count": null,
      "outputs": [
        {
          "output_type": "display_data",
          "data": {
            "text/html": [
              "3"
            ],
            "text/markdown": "3",
            "text/latex": "3",
            "text/plain": [
              "[1] 3"
            ]
          },
          "metadata": {}
        }
      ]
    },
    {
      "cell_type": "markdown",
      "source": [
        "Da bi prikazali **korištene** razine nekog faktora korisititi ćemo `unique()`.\n"
      ],
      "metadata": {
        "id": "nZ5GFUJmLyep"
      }
    },
    {
      "cell_type": "code",
      "source": [
        "unique(y)\n",
        "length(unique(y))"
      ],
      "metadata": {
        "id": "4vq_VugsLqFR",
        "outputId": "8a2a3cef-9041-4763-e35c-1950f57ee2df",
        "colab": {
          "base_uri": "https://localhost:8080/",
          "height": 86
        }
      },
      "execution_count": null,
      "outputs": [
        {
          "output_type": "display_data",
          "data": {
            "text/html": [
              "<style>\n",
              ".list-inline {list-style: none; margin:0; padding: 0}\n",
              ".list-inline>li {display: inline-block}\n",
              ".list-inline>li:not(:last-child)::after {content: \"\\00b7\"; padding: 0 .5ex}\n",
              "</style>\n",
              "<ol class=list-inline><li>lijevo</li><li>desno</li></ol>\n",
              "\n",
              "<details>\n",
              "\t<summary style=display:list-item;cursor:pointer>\n",
              "\t\t<strong>Levels</strong>:\n",
              "\t</summary>\n",
              "\t<style>\n",
              "\t.list-inline {list-style: none; margin:0; padding: 0}\n",
              "\t.list-inline>li {display: inline-block}\n",
              "\t.list-inline>li:not(:last-child)::after {content: \"\\00b7\"; padding: 0 .5ex}\n",
              "\t</style>\n",
              "\t<ol class=list-inline><li>'lijevo'</li><li>'sredina'</li><li>'desno'</li></ol>\n",
              "</details>"
            ],
            "text/markdown": "1. lijevo\n2. desno\n\n\n\n**Levels**: 1. 'lijevo'\n2. 'sredina'\n3. 'desno'\n\n\n",
            "text/latex": "\\begin{enumerate*}\n\\item lijevo\n\\item desno\n\\end{enumerate*}\n\n\\emph{Levels}: \\begin{enumerate*}\n\\item 'lijevo'\n\\item 'sredina'\n\\item 'desno'\n\\end{enumerate*}\n",
            "text/plain": [
              "[1] lijevo desno \n",
              "Levels: lijevo sredina desno"
            ]
          },
          "metadata": {}
        },
        {
          "output_type": "display_data",
          "data": {
            "text/html": [
              "2"
            ],
            "text/markdown": "2",
            "text/latex": "2",
            "text/plain": [
              "[1] 2"
            ]
          },
          "metadata": {}
        }
      ]
    },
    {
      "cell_type": "markdown",
      "source": [
        "_**Zadatak**_  \n",
        "Kreirajte uređeni faktor `red` s vrijednostima:  \n",
        "'četiri', 'jedan', 'dva', 'četiri', 'dva', 'dva'  \n",
        "Usporedite drugi i treći član ovoga faktora.   \n",
        "Koji je \"veći\"?  \n",
        "Koji je veći ako usporedimo prvi i drugi član?"
      ],
      "metadata": {
        "id": "A9kOYtkD0rSx"
      }
    },
    {
      "cell_type": "code",
      "source": [
        "red<-factor(c('četiri', 'jedan', 'dva', 'četiri', 'dva','dva'), order=T)\n",
        "red[2]>red[3]"
      ],
      "metadata": {
        "id": "_qplWIuxDjQV",
        "outputId": "a73c6b62-253a-46c8-9ea2-25562b80eaa1",
        "colab": {
          "base_uri": "https://localhost:8080/",
          "height": 34
        }
      },
      "execution_count": null,
      "outputs": [
        {
          "output_type": "display_data",
          "data": {
            "text/html": [
              "TRUE"
            ],
            "text/markdown": "TRUE",
            "text/latex": "TRUE",
            "text/plain": [
              "[1] TRUE"
            ]
          },
          "metadata": {}
        }
      ]
    },
    {
      "cell_type": "markdown",
      "source": [
        "Zaključujemo da je 'jedan' veći od 'dva'.  \n",
        "Zašto?"
      ],
      "metadata": {
        "id": "tAeAeZjIFfUW"
      }
    },
    {
      "cell_type": "markdown",
      "source": [
        "Ispišite faktor.  \n",
        "Koji je redoslijed (poredak, levels) klasa u njemu?  "
      ],
      "metadata": {
        "id": "4DJWnN_yFfNe"
      }
    },
    {
      "cell_type": "code",
      "source": [
        "red"
      ],
      "metadata": {
        "id": "nxRuwK73GUaO",
        "outputId": "43c51a47-e80e-4a39-8a47-076d35a643b8",
        "colab": {
          "base_uri": "https://localhost:8080/",
          "height": 52
        }
      },
      "execution_count": null,
      "outputs": [
        {
          "output_type": "display_data",
          "data": {
            "text/html": [
              "<style>\n",
              ".list-inline {list-style: none; margin:0; padding: 0}\n",
              ".list-inline>li {display: inline-block}\n",
              ".list-inline>li:not(:last-child)::after {content: \"\\00b7\"; padding: 0 .5ex}\n",
              "</style>\n",
              "<ol class=list-inline><li>četiri</li><li>jedan</li><li>dva</li><li>četiri</li><li>dva</li><li>dva</li></ol>\n",
              "\n",
              "<details>\n",
              "\t<summary style=display:list-item;cursor:pointer>\n",
              "\t\t<strong>Levels</strong>:\n",
              "\t</summary>\n",
              "\t<style>\n",
              "\t.list-inline {list-style: none; margin:0; padding: 0}\n",
              "\t.list-inline>li {display: inline-block}\n",
              "\t.list-inline>li:not(:last-child)::after {content: \"\\00b7\"; padding: 0 .5ex}\n",
              "\t</style>\n",
              "\t<ol class=list-inline><li>'četiri'</li><li>'dva'</li><li>'jedan'</li></ol>\n",
              "</details>"
            ],
            "text/markdown": "1. četiri\n2. jedan\n3. dva\n4. četiri\n5. dva\n6. dva\n\n\n\n**Levels**: 1. 'četiri'\n2. 'dva'\n3. 'jedan'\n\n\n",
            "text/latex": "\\begin{enumerate*}\n\\item četiri\n\\item jedan\n\\item dva\n\\item četiri\n\\item dva\n\\item dva\n\\end{enumerate*}\n\n\\emph{Levels}: \\begin{enumerate*}\n\\item 'četiri'\n\\item 'dva'\n\\item 'jedan'\n\\end{enumerate*}\n",
            "text/plain": [
              "[1] četiri jedan  dva    četiri dva    dva   \n",
              "Levels: četiri < dva < jedan"
            ]
          },
          "metadata": {}
        }
      ]
    },
    {
      "cell_type": "markdown",
      "source": [
        "Poredak klasa u vektoru (levels) je napravljen abecedno.  \n",
        "Poredajte klase u ovom vektoru da odgovaraju stvarnosti.  "
      ],
      "metadata": {
        "id": "bQ4FtmVXGXAf"
      }
    },
    {
      "cell_type": "code",
      "source": [
        "red <- factor(red, order=T, levels=c('jedan','dva','četiri'))\n",
        "red\n",
        "red[2]>red[3]"
      ],
      "metadata": {
        "id": "O2siIGGRGuqW",
        "outputId": "70daf495-2390-466e-988e-ec40471083c6",
        "colab": {
          "base_uri": "https://localhost:8080/",
          "height": 69
        }
      },
      "execution_count": null,
      "outputs": [
        {
          "output_type": "display_data",
          "data": {
            "text/html": [
              "<style>\n",
              ".list-inline {list-style: none; margin:0; padding: 0}\n",
              ".list-inline>li {display: inline-block}\n",
              ".list-inline>li:not(:last-child)::after {content: \"\\00b7\"; padding: 0 .5ex}\n",
              "</style>\n",
              "<ol class=list-inline><li>četiri</li><li>jedan</li><li>dva</li><li>četiri</li><li>dva</li><li>dva</li></ol>\n",
              "\n",
              "<details>\n",
              "\t<summary style=display:list-item;cursor:pointer>\n",
              "\t\t<strong>Levels</strong>:\n",
              "\t</summary>\n",
              "\t<style>\n",
              "\t.list-inline {list-style: none; margin:0; padding: 0}\n",
              "\t.list-inline>li {display: inline-block}\n",
              "\t.list-inline>li:not(:last-child)::after {content: \"\\00b7\"; padding: 0 .5ex}\n",
              "\t</style>\n",
              "\t<ol class=list-inline><li>'jedan'</li><li>'dva'</li><li>'četiri'</li></ol>\n",
              "</details>"
            ],
            "text/markdown": "1. četiri\n2. jedan\n3. dva\n4. četiri\n5. dva\n6. dva\n\n\n\n**Levels**: 1. 'jedan'\n2. 'dva'\n3. 'četiri'\n\n\n",
            "text/latex": "\\begin{enumerate*}\n\\item četiri\n\\item jedan\n\\item dva\n\\item četiri\n\\item dva\n\\item dva\n\\end{enumerate*}\n\n\\emph{Levels}: \\begin{enumerate*}\n\\item 'jedan'\n\\item 'dva'\n\\item 'četiri'\n\\end{enumerate*}\n",
            "text/plain": [
              "[1] četiri jedan  dva    četiri dva    dva   \n",
              "Levels: jedan < dva < četiri"
            ]
          },
          "metadata": {}
        },
        {
          "output_type": "display_data",
          "data": {
            "text/html": [
              "FALSE"
            ],
            "text/markdown": "FALSE",
            "text/latex": "FALSE",
            "text/plain": [
              "[1] FALSE"
            ]
          },
          "metadata": {}
        }
      ]
    },
    {
      "cell_type": "markdown",
      "source": [
        "Sada je 'jedan' manji od 'dva' što je u redu."
      ],
      "metadata": {
        "id": "mDXT6tGFHz5f"
      }
    },
    {
      "cell_type": "markdown",
      "source": [
        "###Mijenjanje vrijednosti faktora.\n",
        "U faktoru `red` izmijenite prvi član u 'jedan', a zatim ga ispišite."
      ],
      "metadata": {
        "id": "OgNdxC26MMEo"
      }
    },
    {
      "cell_type": "code",
      "source": [
        "red[1]='jedan'\n",
        "red"
      ],
      "metadata": {
        "id": "VC9mBkg6Mp1p",
        "outputId": "aec0e31c-0c83-402c-b4b7-7dbff5a9d15a",
        "colab": {
          "base_uri": "https://localhost:8080/",
          "height": 52
        }
      },
      "execution_count": null,
      "outputs": [
        {
          "output_type": "display_data",
          "data": {
            "text/html": [
              "<style>\n",
              ".list-inline {list-style: none; margin:0; padding: 0}\n",
              ".list-inline>li {display: inline-block}\n",
              ".list-inline>li:not(:last-child)::after {content: \"\\00b7\"; padding: 0 .5ex}\n",
              "</style>\n",
              "<ol class=list-inline><li>jedan</li><li>jedan</li><li>dva</li><li>četiri</li><li>dva</li><li>dva</li></ol>\n",
              "\n",
              "<details>\n",
              "\t<summary style=display:list-item;cursor:pointer>\n",
              "\t\t<strong>Levels</strong>:\n",
              "\t</summary>\n",
              "\t<style>\n",
              "\t.list-inline {list-style: none; margin:0; padding: 0}\n",
              "\t.list-inline>li {display: inline-block}\n",
              "\t.list-inline>li:not(:last-child)::after {content: \"\\00b7\"; padding: 0 .5ex}\n",
              "\t</style>\n",
              "\t<ol class=list-inline><li>'jedan'</li><li>'dva'</li><li>'četiri'</li></ol>\n",
              "</details>"
            ],
            "text/markdown": "1. jedan\n2. jedan\n3. dva\n4. četiri\n5. dva\n6. dva\n\n\n\n**Levels**: 1. 'jedan'\n2. 'dva'\n3. 'četiri'\n\n\n",
            "text/latex": "\\begin{enumerate*}\n\\item jedan\n\\item jedan\n\\item dva\n\\item četiri\n\\item dva\n\\item dva\n\\end{enumerate*}\n\n\\emph{Levels}: \\begin{enumerate*}\n\\item 'jedan'\n\\item 'dva'\n\\item 'četiri'\n\\end{enumerate*}\n",
            "text/plain": [
              "[1] jedan  jedan  dva    četiri dva    dva   \n",
              "Levels: jedan < dva < četiri"
            ]
          },
          "metadata": {}
        }
      ]
    },
    {
      "cell_type": "markdown",
      "source": [
        "Sada za šestog člana tog faktora postavite vrijednost 'tri'."
      ],
      "metadata": {
        "id": "D9ok3PoZM0GJ"
      }
    },
    {
      "cell_type": "code",
      "source": [
        "red[6]='tri'\n",
        "red"
      ],
      "metadata": {
        "id": "jfyoxh2VMzY4",
        "outputId": "50fb51fa-136e-464b-94a6-5a0a5f02c725",
        "colab": {
          "base_uri": "https://localhost:8080/",
          "height": 86
        }
      },
      "execution_count": null,
      "outputs": [
        {
          "output_type": "stream",
          "name": "stderr",
          "text": [
            "Warning message in `[<-.factor`(`*tmp*`, 6, value = \"tri\"):\n",
            "“invalid factor level, NA generated”\n"
          ]
        },
        {
          "output_type": "display_data",
          "data": {
            "text/html": [
              "<style>\n",
              ".list-inline {list-style: none; margin:0; padding: 0}\n",
              ".list-inline>li {display: inline-block}\n",
              ".list-inline>li:not(:last-child)::after {content: \"\\00b7\"; padding: 0 .5ex}\n",
              "</style>\n",
              "<ol class=list-inline><li>jedan</li><li>jedan</li><li>dva</li><li>četiri</li><li>dva</li><li>&lt;NA&gt;</li></ol>\n",
              "\n",
              "<details>\n",
              "\t<summary style=display:list-item;cursor:pointer>\n",
              "\t\t<strong>Levels</strong>:\n",
              "\t</summary>\n",
              "\t<style>\n",
              "\t.list-inline {list-style: none; margin:0; padding: 0}\n",
              "\t.list-inline>li {display: inline-block}\n",
              "\t.list-inline>li:not(:last-child)::after {content: \"\\00b7\"; padding: 0 .5ex}\n",
              "\t</style>\n",
              "\t<ol class=list-inline><li>'jedan'</li><li>'dva'</li><li>'četiri'</li></ol>\n",
              "</details>"
            ],
            "text/markdown": "1. jedan\n2. jedan\n3. dva\n4. četiri\n5. dva\n6. &lt;NA&gt;\n\n\n\n**Levels**: 1. 'jedan'\n2. 'dva'\n3. 'četiri'\n\n\n",
            "text/latex": "\\begin{enumerate*}\n\\item jedan\n\\item jedan\n\\item dva\n\\item četiri\n\\item dva\n\\item <NA>\n\\end{enumerate*}\n\n\\emph{Levels}: \\begin{enumerate*}\n\\item 'jedan'\n\\item 'dva'\n\\item 'četiri'\n\\end{enumerate*}\n",
            "text/plain": [
              "[1] jedan  jedan  dva    četiri dva    <NA>  \n",
              "Levels: jedan < dva < četiri"
            ]
          },
          "metadata": {}
        }
      ]
    },
    {
      "cell_type": "markdown",
      "source": [
        "Program će javiti grešku, ali će ipak izmijeniti 6. vrijednost faktora.  \n",
        "No, neće ju promijeniti u vrijednost 'tri' već u '\\<NA>'.  \n",
        "Faktoru možemo dodavati samo vrijednosti klase koje već postoje u njemu.  \n",
        "Dakle, u faktor `red` trebamo dodati vrijednost klase 'tri'."
      ],
      "metadata": {
        "id": "VT7CUsGkN3hx"
      }
    },
    {
      "cell_type": "code",
      "source": [
        "levels(red)=c('jedan', 'dva', 'tri', 'četiri')\n",
        "levels(red)\n",
        "red"
      ],
      "metadata": {
        "id": "SJmq5X4yOY2J",
        "outputId": "3843f7d1-0c08-415e-93fc-06972ccad367",
        "colab": {
          "base_uri": "https://localhost:8080/",
          "height": 69
        }
      },
      "execution_count": null,
      "outputs": [
        {
          "output_type": "display_data",
          "data": {
            "text/html": [
              "<style>\n",
              ".list-inline {list-style: none; margin:0; padding: 0}\n",
              ".list-inline>li {display: inline-block}\n",
              ".list-inline>li:not(:last-child)::after {content: \"\\00b7\"; padding: 0 .5ex}\n",
              "</style>\n",
              "<ol class=list-inline><li>'jedan'</li><li>'dva'</li><li>'tri'</li><li>'četiri'</li></ol>\n"
            ],
            "text/markdown": "1. 'jedan'\n2. 'dva'\n3. 'tri'\n4. 'četiri'\n\n\n",
            "text/latex": "\\begin{enumerate*}\n\\item 'jedan'\n\\item 'dva'\n\\item 'tri'\n\\item 'četiri'\n\\end{enumerate*}\n",
            "text/plain": [
              "[1] \"jedan\"  \"dva\"    \"tri\"    \"četiri\""
            ]
          },
          "metadata": {}
        },
        {
          "output_type": "display_data",
          "data": {
            "text/html": [
              "<style>\n",
              ".list-inline {list-style: none; margin:0; padding: 0}\n",
              ".list-inline>li {display: inline-block}\n",
              ".list-inline>li:not(:last-child)::after {content: \"\\00b7\"; padding: 0 .5ex}\n",
              "</style>\n",
              "<ol class=list-inline><li>jedan</li><li>jedan</li><li>dva</li><li>tri</li><li>dva</li><li>&lt;NA&gt;</li></ol>\n",
              "\n",
              "<details>\n",
              "\t<summary style=display:list-item;cursor:pointer>\n",
              "\t\t<strong>Levels</strong>:\n",
              "\t</summary>\n",
              "\t<style>\n",
              "\t.list-inline {list-style: none; margin:0; padding: 0}\n",
              "\t.list-inline>li {display: inline-block}\n",
              "\t.list-inline>li:not(:last-child)::after {content: \"\\00b7\"; padding: 0 .5ex}\n",
              "\t</style>\n",
              "\t<ol class=list-inline><li>'jedan'</li><li>'dva'</li><li>'tri'</li><li>'četiri'</li></ol>\n",
              "</details>"
            ],
            "text/markdown": "1. jedan\n2. jedan\n3. dva\n4. tri\n5. dva\n6. &lt;NA&gt;\n\n\n\n**Levels**: 1. 'jedan'\n2. 'dva'\n3. 'tri'\n4. 'četiri'\n\n\n",
            "text/latex": "\\begin{enumerate*}\n\\item jedan\n\\item jedan\n\\item dva\n\\item tri\n\\item dva\n\\item <NA>\n\\end{enumerate*}\n\n\\emph{Levels}: \\begin{enumerate*}\n\\item 'jedan'\n\\item 'dva'\n\\item 'tri'\n\\item 'četiri'\n\\end{enumerate*}\n",
            "text/plain": [
              "[1] jedan jedan dva   tri   dva   <NA> \n",
              "Levels: jedan < dva < tri < četiri"
            ]
          },
          "metadata": {}
        }
      ]
    },
    {
      "cell_type": "markdown",
      "source": [
        "###Brojevi kao članovi faktora\n",
        "Faktori mogu biti i u obliku brojeva, međutim sustav ih doživljava samo kao nazive kategorija te se s takvim brojevima ne mogu obavljati matematičke operacije."
      ],
      "metadata": {
        "id": "swfCbW6QPp1I"
      }
    },
    {
      "cell_type": "code",
      "source": [
        "brojevi=factor(c(7, 1, 5, 2, 4, 12))\n",
        "brojevi"
      ],
      "metadata": {
        "id": "ZuUGE1LSPxel",
        "outputId": "e5ffd730-c533-4a51-e628-1f1fc44a4798",
        "colab": {
          "base_uri": "https://localhost:8080/",
          "height": 52
        }
      },
      "execution_count": null,
      "outputs": [
        {
          "output_type": "display_data",
          "data": {
            "text/html": [
              "<style>\n",
              ".list-inline {list-style: none; margin:0; padding: 0}\n",
              ".list-inline>li {display: inline-block}\n",
              ".list-inline>li:not(:last-child)::after {content: \"\\00b7\"; padding: 0 .5ex}\n",
              "</style>\n",
              "<ol class=list-inline><li>7</li><li>1</li><li>5</li><li>2</li><li>4</li><li>12</li></ol>\n",
              "\n",
              "<details>\n",
              "\t<summary style=display:list-item;cursor:pointer>\n",
              "\t\t<strong>Levels</strong>:\n",
              "\t</summary>\n",
              "\t<style>\n",
              "\t.list-inline {list-style: none; margin:0; padding: 0}\n",
              "\t.list-inline>li {display: inline-block}\n",
              "\t.list-inline>li:not(:last-child)::after {content: \"\\00b7\"; padding: 0 .5ex}\n",
              "\t</style>\n",
              "\t<ol class=list-inline><li>'1'</li><li>'2'</li><li>'4'</li><li>'5'</li><li>'7'</li><li>'12'</li></ol>\n",
              "</details>"
            ],
            "text/markdown": "1. 7\n2. 1\n3. 5\n4. 2\n5. 4\n6. 12\n\n\n\n**Levels**: 1. '1'\n2. '2'\n3. '4'\n4. '5'\n5. '7'\n6. '12'\n\n\n",
            "text/latex": "\\begin{enumerate*}\n\\item 7\n\\item 1\n\\item 5\n\\item 2\n\\item 4\n\\item 12\n\\end{enumerate*}\n\n\\emph{Levels}: \\begin{enumerate*}\n\\item '1'\n\\item '2'\n\\item '4'\n\\item '5'\n\\item '7'\n\\item '12'\n\\end{enumerate*}\n",
            "text/plain": [
              "[1] 7  1  5  2  4  12\n",
              "Levels: 1 2 4 5 7 12"
            ]
          },
          "metadata": {}
        }
      ]
    },
    {
      "cell_type": "markdown",
      "source": [
        "Probajte zbrojiti drugi i peti član faktora `brojevi`."
      ],
      "metadata": {
        "id": "Bp9EuYWIP5eB"
      }
    },
    {
      "cell_type": "code",
      "source": [
        "brojevi[2]+brojevi[5]"
      ],
      "metadata": {
        "id": "gV_kFPXTP_Fi",
        "outputId": "3bd42d9e-98f5-44a3-a35c-b4f413c1f669",
        "colab": {
          "base_uri": "https://localhost:8080/",
          "height": 69
        }
      },
      "execution_count": null,
      "outputs": [
        {
          "output_type": "stream",
          "name": "stderr",
          "text": [
            "Warning message in Ops.factor(brojevi[2], brojevi[5]):\n",
            "“‘+’ not meaningful for factors”\n"
          ]
        },
        {
          "output_type": "display_data",
          "data": {
            "text/html": [
              "&lt;NA&gt;"
            ],
            "text/markdown": "&lt;NA&gt;",
            "text/latex": "<NA>",
            "text/plain": [
              "[1] NA"
            ]
          },
          "metadata": {}
        }
      ]
    },
    {
      "cell_type": "markdown",
      "source": [
        "To se ne može raditi s faktorima. Članovi faktora su samo instance klasa.\n",
        "Da bi ih mogli korisiti kao brojeve, koristimo funkcije `as.numeric()` i `as.character()`.  \n",
        "Na primjer ako uzmeno neki tekstualni vektor `c('1','5','2')` da bi pretvorili karaktere u brojeve, koristit ćemo `as.numeric(c('1','5','2')`."
      ],
      "metadata": {
        "id": "mxUG57lCQDm5"
      }
    },
    {
      "cell_type": "code",
      "source": [
        "a=c('1','5','2')\n",
        "a[1]+a[2] #će javiti grešku"
      ],
      "metadata": {
        "id": "nEHJpndNS_nz",
        "outputId": "3f271500-c5be-4a77-cc8f-a94468efa169",
        "colab": {
          "base_uri": "https://localhost:8080/",
          "height": 96
        }
      },
      "execution_count": null,
      "outputs": [
        {
          "output_type": "error",
          "ename": "ERROR",
          "evalue": "ignored",
          "traceback": [
            "Error in a[1] + a[2]: non-numeric argument to binary operator\nTraceback:\n"
          ]
        }
      ]
    },
    {
      "cell_type": "code",
      "source": [
        "a=c('1','5','2')\n",
        "a<-as.numeric(a)\n",
        "a[1]+a[2] #će raditi ispravno"
      ],
      "metadata": {
        "id": "hvbMoe_WTO1q",
        "outputId": "f90fafc4-18cf-494a-a118-528899f9628c",
        "colab": {
          "base_uri": "https://localhost:8080/",
          "height": 34
        }
      },
      "execution_count": null,
      "outputs": [
        {
          "output_type": "display_data",
          "data": {
            "text/html": [
              "6"
            ],
            "text/markdown": "6",
            "text/latex": "6",
            "text/plain": [
              "[1] 6"
            ]
          },
          "metadata": {}
        }
      ]
    },
    {
      "cell_type": "markdown",
      "source": [
        "_**Zadatak**_:  \n",
        "Koristeći funkciju `as.numeric` pretvorite faktor _**brojevi**_ u vektor brojeva naziva _**br**_.  \n",
        "A zatim zbrojite prva dva člana tog vektora."
      ],
      "metadata": {
        "id": "omwbDd5dQ_-j"
      }
    },
    {
      "cell_type": "code",
      "source": [
        "br=as.numeric(brojevi)\n",
        "br[1]+br[2]"
      ],
      "metadata": {
        "id": "kZXheEd7RSnM",
        "outputId": "6cf40d68-abfd-4ab0-d141-d3339c3e81d7",
        "colab": {
          "base_uri": "https://localhost:8080/",
          "height": 34
        }
      },
      "execution_count": null,
      "outputs": [
        {
          "output_type": "display_data",
          "data": {
            "text/html": [
              "6"
            ],
            "text/markdown": "6",
            "text/latex": "6",
            "text/plain": [
              "[1] 6"
            ]
          },
          "metadata": {}
        }
      ]
    },
    {
      "cell_type": "markdown",
      "source": [
        "Ovaj put nismo dobili grešku, ali nismo dobili niti točan rezultat.  \n",
        "U čemu je stvar?  \n",
        "Ispišite vektor _**br**_.  "
      ],
      "metadata": {
        "id": "Ybpc5yNzR_Oc"
      }
    },
    {
      "cell_type": "code",
      "source": [
        "br"
      ],
      "metadata": {
        "id": "ryHsdwj8SOIk",
        "outputId": "e783b615-193c-47c8-e6f0-ebe77616cf7a",
        "colab": {
          "base_uri": "https://localhost:8080/",
          "height": 34
        }
      },
      "execution_count": null,
      "outputs": [
        {
          "output_type": "display_data",
          "data": {
            "text/html": [
              "<style>\n",
              ".list-inline {list-style: none; margin:0; padding: 0}\n",
              ".list-inline>li {display: inline-block}\n",
              ".list-inline>li:not(:last-child)::after {content: \"\\00b7\"; padding: 0 .5ex}\n",
              "</style>\n",
              "<ol class=list-inline><li>5</li><li>1</li><li>4</li><li>2</li><li>3</li><li>6</li></ol>\n"
            ],
            "text/markdown": "1. 5\n2. 1\n3. 4\n4. 2\n5. 3\n6. 6\n\n\n",
            "text/latex": "\\begin{enumerate*}\n\\item 5\n\\item 1\n\\item 4\n\\item 2\n\\item 3\n\\item 6\n\\end{enumerate*}\n",
            "text/plain": [
              "[1] 5 1 4 2 3 6"
            ]
          },
          "metadata": {}
        }
      ]
    },
    {
      "cell_type": "markdown",
      "source": [
        "Funkcija `as.numeric(neki_faktor)` nam vraća samo redne brojeve razina u redoslijedu u kojem se nalaze u faktoru.\n"
      ],
      "metadata": {
        "id": "iz5BuidVSXXD"
      }
    },
    {
      "cell_type": "markdown",
      "source": [
        "Dakle, ovaj vektor prvo moramo pretvoriti u tekstualni, a zatimu u numerički.  \n",
        "Zvuči komplicirano, ali to tako funkcionira. "
      ],
      "metadata": {
        "id": "tFFTa18JT0Pz"
      }
    },
    {
      "cell_type": "code",
      "source": [
        "brojevi\n",
        "br=as.character(brojevi)\n",
        "br\n",
        "br=as.numeric(br)\n",
        "br\n",
        "br[1]+br[2]"
      ],
      "metadata": {
        "id": "Hd5DxnMFSPmC",
        "outputId": "1aba247e-af15-4255-f9d3-534abad84dc5",
        "colab": {
          "base_uri": "https://localhost:8080/",
          "height": 104
        }
      },
      "execution_count": null,
      "outputs": [
        {
          "output_type": "display_data",
          "data": {
            "text/html": [
              "<style>\n",
              ".list-inline {list-style: none; margin:0; padding: 0}\n",
              ".list-inline>li {display: inline-block}\n",
              ".list-inline>li:not(:last-child)::after {content: \"\\00b7\"; padding: 0 .5ex}\n",
              "</style>\n",
              "<ol class=list-inline><li>7</li><li>1</li><li>5</li><li>2</li><li>4</li><li>12</li></ol>\n",
              "\n",
              "<details>\n",
              "\t<summary style=display:list-item;cursor:pointer>\n",
              "\t\t<strong>Levels</strong>:\n",
              "\t</summary>\n",
              "\t<style>\n",
              "\t.list-inline {list-style: none; margin:0; padding: 0}\n",
              "\t.list-inline>li {display: inline-block}\n",
              "\t.list-inline>li:not(:last-child)::after {content: \"\\00b7\"; padding: 0 .5ex}\n",
              "\t</style>\n",
              "\t<ol class=list-inline><li>'1'</li><li>'2'</li><li>'4'</li><li>'5'</li><li>'7'</li><li>'12'</li></ol>\n",
              "</details>"
            ],
            "text/markdown": "1. 7\n2. 1\n3. 5\n4. 2\n5. 4\n6. 12\n\n\n\n**Levels**: 1. '1'\n2. '2'\n3. '4'\n4. '5'\n5. '7'\n6. '12'\n\n\n",
            "text/latex": "\\begin{enumerate*}\n\\item 7\n\\item 1\n\\item 5\n\\item 2\n\\item 4\n\\item 12\n\\end{enumerate*}\n\n\\emph{Levels}: \\begin{enumerate*}\n\\item '1'\n\\item '2'\n\\item '4'\n\\item '5'\n\\item '7'\n\\item '12'\n\\end{enumerate*}\n",
            "text/plain": [
              "[1] 7  1  5  2  4  12\n",
              "Levels: 1 2 4 5 7 12"
            ]
          },
          "metadata": {}
        },
        {
          "output_type": "display_data",
          "data": {
            "text/html": [
              "<style>\n",
              ".list-inline {list-style: none; margin:0; padding: 0}\n",
              ".list-inline>li {display: inline-block}\n",
              ".list-inline>li:not(:last-child)::after {content: \"\\00b7\"; padding: 0 .5ex}\n",
              "</style>\n",
              "<ol class=list-inline><li>'7'</li><li>'1'</li><li>'5'</li><li>'2'</li><li>'4'</li><li>'12'</li></ol>\n"
            ],
            "text/markdown": "1. '7'\n2. '1'\n3. '5'\n4. '2'\n5. '4'\n6. '12'\n\n\n",
            "text/latex": "\\begin{enumerate*}\n\\item '7'\n\\item '1'\n\\item '5'\n\\item '2'\n\\item '4'\n\\item '12'\n\\end{enumerate*}\n",
            "text/plain": [
              "[1] \"7\"  \"1\"  \"5\"  \"2\"  \"4\"  \"12\""
            ]
          },
          "metadata": {}
        },
        {
          "output_type": "display_data",
          "data": {
            "text/html": [
              "<style>\n",
              ".list-inline {list-style: none; margin:0; padding: 0}\n",
              ".list-inline>li {display: inline-block}\n",
              ".list-inline>li:not(:last-child)::after {content: \"\\00b7\"; padding: 0 .5ex}\n",
              "</style>\n",
              "<ol class=list-inline><li>7</li><li>1</li><li>5</li><li>2</li><li>4</li><li>12</li></ol>\n"
            ],
            "text/markdown": "1. 7\n2. 1\n3. 5\n4. 2\n5. 4\n6. 12\n\n\n",
            "text/latex": "\\begin{enumerate*}\n\\item 7\n\\item 1\n\\item 5\n\\item 2\n\\item 4\n\\item 12\n\\end{enumerate*}\n",
            "text/plain": [
              "[1]  7  1  5  2  4 12"
            ]
          },
          "metadata": {}
        },
        {
          "output_type": "display_data",
          "data": {
            "text/html": [
              "8"
            ],
            "text/markdown": "8",
            "text/latex": "8",
            "text/plain": [
              "[1] 8"
            ]
          },
          "metadata": {}
        }
      ]
    }
  ],
  "metadata": {
    "colab": {
      "name": "04 Programski jezik R - Faktori.ipynb",
      "provenance": []
    },
    "kernelspec": {
      "display_name": "R",
      "name": "ir"
    }
  },
  "nbformat": 4,
  "nbformat_minor": 0
}
