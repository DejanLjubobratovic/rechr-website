{
  "cells": [
    {
      "cell_type": "markdown",
      "metadata": {
        "id": "9Rl6hI2Fo-47"
      },
      "source": [
        "# 5. DataFrame \n",
        "(pojam za kojeg nisam našao naš adekvatni prijevod)  \n",
        "<br>\n",
        "__Upitnik__: Znate li što znači skraćenica TWAIN (kao tehnologija koja se koristi kod scaniranja)?<br> <br>\n",
        "Kada pogledamo vektore, njegovi elementi svi moraju biti istog tipa.  \n",
        "Isto vrijedi i za matrice...  \n",
        "Ali u stvarnom životu nije tako. Vrlo često baratamo sa 'miješanim' podacima.  \n",
        "U tu svrhu koristimo **dataframe**  \n",
        "__Primjer__: ukucajte `iris`, da bi vam se ispisao istoimeni dataframe"
      ]
    },
    {
      "cell_type": "code",
      "execution_count": 25,
      "metadata": {
        "colab": {
          "base_uri": "https://localhost:8080/",
          "height": 1000
        },
        "id": "9xvouuGIpCnB",
        "outputId": "24338df5-39ab-417a-afff-8faba6efdb1a",
        "vscode": {
          "languageId": "r"
        }
      },
      "outputs": [
        {
          "data": {
            "text/html": [
              "<table class=\"dataframe\">\n",
              "<caption>A data.frame: 150 × 5</caption>\n",
              "<thead>\n",
              "\t<tr><th scope=col>Sepal.Length</th><th scope=col>Sepal.Width</th><th scope=col>Petal.Length</th><th scope=col>Petal.Width</th><th scope=col>Species</th></tr>\n",
              "\t<tr><th scope=col>&lt;dbl&gt;</th><th scope=col>&lt;dbl&gt;</th><th scope=col>&lt;dbl&gt;</th><th scope=col>&lt;dbl&gt;</th><th scope=col>&lt;fct&gt;</th></tr>\n",
              "</thead>\n",
              "<tbody>\n",
              "\t<tr><td>5.1</td><td>3.5</td><td>1.4</td><td>0.2</td><td>setosa</td></tr>\n",
              "\t<tr><td>4.9</td><td>3.0</td><td>1.4</td><td>0.2</td><td>setosa</td></tr>\n",
              "\t<tr><td>4.7</td><td>3.2</td><td>1.3</td><td>0.2</td><td>setosa</td></tr>\n",
              "\t<tr><td>4.6</td><td>3.1</td><td>1.5</td><td>0.2</td><td>setosa</td></tr>\n",
              "\t<tr><td>5.0</td><td>3.6</td><td>1.4</td><td>0.2</td><td>setosa</td></tr>\n",
              "\t<tr><td>5.4</td><td>3.9</td><td>1.7</td><td>0.4</td><td>setosa</td></tr>\n",
              "\t<tr><td>4.6</td><td>3.4</td><td>1.4</td><td>0.3</td><td>setosa</td></tr>\n",
              "\t<tr><td>5.0</td><td>3.4</td><td>1.5</td><td>0.2</td><td>setosa</td></tr>\n",
              "\t<tr><td>4.4</td><td>2.9</td><td>1.4</td><td>0.2</td><td>setosa</td></tr>\n",
              "\t<tr><td>4.9</td><td>3.1</td><td>1.5</td><td>0.1</td><td>setosa</td></tr>\n",
              "\t<tr><td>5.4</td><td>3.7</td><td>1.5</td><td>0.2</td><td>setosa</td></tr>\n",
              "\t<tr><td>4.8</td><td>3.4</td><td>1.6</td><td>0.2</td><td>setosa</td></tr>\n",
              "\t<tr><td>4.8</td><td>3.0</td><td>1.4</td><td>0.1</td><td>setosa</td></tr>\n",
              "\t<tr><td>4.3</td><td>3.0</td><td>1.1</td><td>0.1</td><td>setosa</td></tr>\n",
              "\t<tr><td>5.8</td><td>4.0</td><td>1.2</td><td>0.2</td><td>setosa</td></tr>\n",
              "\t<tr><td>5.7</td><td>4.4</td><td>1.5</td><td>0.4</td><td>setosa</td></tr>\n",
              "\t<tr><td>5.4</td><td>3.9</td><td>1.3</td><td>0.4</td><td>setosa</td></tr>\n",
              "\t<tr><td>5.1</td><td>3.5</td><td>1.4</td><td>0.3</td><td>setosa</td></tr>\n",
              "\t<tr><td>5.7</td><td>3.8</td><td>1.7</td><td>0.3</td><td>setosa</td></tr>\n",
              "\t<tr><td>5.1</td><td>3.8</td><td>1.5</td><td>0.3</td><td>setosa</td></tr>\n",
              "\t<tr><td>5.4</td><td>3.4</td><td>1.7</td><td>0.2</td><td>setosa</td></tr>\n",
              "\t<tr><td>5.1</td><td>3.7</td><td>1.5</td><td>0.4</td><td>setosa</td></tr>\n",
              "\t<tr><td>4.6</td><td>3.6</td><td>1.0</td><td>0.2</td><td>setosa</td></tr>\n",
              "\t<tr><td>5.1</td><td>3.3</td><td>1.7</td><td>0.5</td><td>setosa</td></tr>\n",
              "\t<tr><td>4.8</td><td>3.4</td><td>1.9</td><td>0.2</td><td>setosa</td></tr>\n",
              "\t<tr><td>5.0</td><td>3.0</td><td>1.6</td><td>0.2</td><td>setosa</td></tr>\n",
              "\t<tr><td>5.0</td><td>3.4</td><td>1.6</td><td>0.4</td><td>setosa</td></tr>\n",
              "\t<tr><td>5.2</td><td>3.5</td><td>1.5</td><td>0.2</td><td>setosa</td></tr>\n",
              "\t<tr><td>5.2</td><td>3.4</td><td>1.4</td><td>0.2</td><td>setosa</td></tr>\n",
              "\t<tr><td>4.7</td><td>3.2</td><td>1.6</td><td>0.2</td><td>setosa</td></tr>\n",
              "\t<tr><td>⋮</td><td>⋮</td><td>⋮</td><td>⋮</td><td>⋮</td></tr>\n",
              "\t<tr><td>6.9</td><td>3.2</td><td>5.7</td><td>2.3</td><td>virginica</td></tr>\n",
              "\t<tr><td>5.6</td><td>2.8</td><td>4.9</td><td>2.0</td><td>virginica</td></tr>\n",
              "\t<tr><td>7.7</td><td>2.8</td><td>6.7</td><td>2.0</td><td>virginica</td></tr>\n",
              "\t<tr><td>6.3</td><td>2.7</td><td>4.9</td><td>1.8</td><td>virginica</td></tr>\n",
              "\t<tr><td>6.7</td><td>3.3</td><td>5.7</td><td>2.1</td><td>virginica</td></tr>\n",
              "\t<tr><td>7.2</td><td>3.2</td><td>6.0</td><td>1.8</td><td>virginica</td></tr>\n",
              "\t<tr><td>6.2</td><td>2.8</td><td>4.8</td><td>1.8</td><td>virginica</td></tr>\n",
              "\t<tr><td>6.1</td><td>3.0</td><td>4.9</td><td>1.8</td><td>virginica</td></tr>\n",
              "\t<tr><td>6.4</td><td>2.8</td><td>5.6</td><td>2.1</td><td>virginica</td></tr>\n",
              "\t<tr><td>7.2</td><td>3.0</td><td>5.8</td><td>1.6</td><td>virginica</td></tr>\n",
              "\t<tr><td>7.4</td><td>2.8</td><td>6.1</td><td>1.9</td><td>virginica</td></tr>\n",
              "\t<tr><td>7.9</td><td>3.8</td><td>6.4</td><td>2.0</td><td>virginica</td></tr>\n",
              "\t<tr><td>6.4</td><td>2.8</td><td>5.6</td><td>2.2</td><td>virginica</td></tr>\n",
              "\t<tr><td>6.3</td><td>2.8</td><td>5.1</td><td>1.5</td><td>virginica</td></tr>\n",
              "\t<tr><td>6.1</td><td>2.6</td><td>5.6</td><td>1.4</td><td>virginica</td></tr>\n",
              "\t<tr><td>7.7</td><td>3.0</td><td>6.1</td><td>2.3</td><td>virginica</td></tr>\n",
              "\t<tr><td>6.3</td><td>3.4</td><td>5.6</td><td>2.4</td><td>virginica</td></tr>\n",
              "\t<tr><td>6.4</td><td>3.1</td><td>5.5</td><td>1.8</td><td>virginica</td></tr>\n",
              "\t<tr><td>6.0</td><td>3.0</td><td>4.8</td><td>1.8</td><td>virginica</td></tr>\n",
              "\t<tr><td>6.9</td><td>3.1</td><td>5.4</td><td>2.1</td><td>virginica</td></tr>\n",
              "\t<tr><td>6.7</td><td>3.1</td><td>5.6</td><td>2.4</td><td>virginica</td></tr>\n",
              "\t<tr><td>6.9</td><td>3.1</td><td>5.1</td><td>2.3</td><td>virginica</td></tr>\n",
              "\t<tr><td>5.8</td><td>2.7</td><td>5.1</td><td>1.9</td><td>virginica</td></tr>\n",
              "\t<tr><td>6.8</td><td>3.2</td><td>5.9</td><td>2.3</td><td>virginica</td></tr>\n",
              "\t<tr><td>6.7</td><td>3.3</td><td>5.7</td><td>2.5</td><td>virginica</td></tr>\n",
              "\t<tr><td>6.7</td><td>3.0</td><td>5.2</td><td>2.3</td><td>virginica</td></tr>\n",
              "\t<tr><td>6.3</td><td>2.5</td><td>5.0</td><td>1.9</td><td>virginica</td></tr>\n",
              "\t<tr><td>6.5</td><td>3.0</td><td>5.2</td><td>2.0</td><td>virginica</td></tr>\n",
              "\t<tr><td>6.2</td><td>3.4</td><td>5.4</td><td>2.3</td><td>virginica</td></tr>\n",
              "\t<tr><td>5.9</td><td>3.0</td><td>5.1</td><td>1.8</td><td>virginica</td></tr>\n",
              "</tbody>\n",
              "</table>\n"
            ],
            "text/latex": [
              "A data.frame: 150 × 5\n",
              "\\begin{tabular}{lllll}\n",
              " Sepal.Length & Sepal.Width & Petal.Length & Petal.Width & Species\\\\\n",
              " <dbl> & <dbl> & <dbl> & <dbl> & <fct>\\\\\n",
              "\\hline\n",
              "\t 5.1 & 3.5 & 1.4 & 0.2 & setosa\\\\\n",
              "\t 4.9 & 3.0 & 1.4 & 0.2 & setosa\\\\\n",
              "\t 4.7 & 3.2 & 1.3 & 0.2 & setosa\\\\\n",
              "\t 4.6 & 3.1 & 1.5 & 0.2 & setosa\\\\\n",
              "\t 5.0 & 3.6 & 1.4 & 0.2 & setosa\\\\\n",
              "\t 5.4 & 3.9 & 1.7 & 0.4 & setosa\\\\\n",
              "\t 4.6 & 3.4 & 1.4 & 0.3 & setosa\\\\\n",
              "\t 5.0 & 3.4 & 1.5 & 0.2 & setosa\\\\\n",
              "\t 4.4 & 2.9 & 1.4 & 0.2 & setosa\\\\\n",
              "\t 4.9 & 3.1 & 1.5 & 0.1 & setosa\\\\\n",
              "\t 5.4 & 3.7 & 1.5 & 0.2 & setosa\\\\\n",
              "\t 4.8 & 3.4 & 1.6 & 0.2 & setosa\\\\\n",
              "\t 4.8 & 3.0 & 1.4 & 0.1 & setosa\\\\\n",
              "\t 4.3 & 3.0 & 1.1 & 0.1 & setosa\\\\\n",
              "\t 5.8 & 4.0 & 1.2 & 0.2 & setosa\\\\\n",
              "\t 5.7 & 4.4 & 1.5 & 0.4 & setosa\\\\\n",
              "\t 5.4 & 3.9 & 1.3 & 0.4 & setosa\\\\\n",
              "\t 5.1 & 3.5 & 1.4 & 0.3 & setosa\\\\\n",
              "\t 5.7 & 3.8 & 1.7 & 0.3 & setosa\\\\\n",
              "\t 5.1 & 3.8 & 1.5 & 0.3 & setosa\\\\\n",
              "\t 5.4 & 3.4 & 1.7 & 0.2 & setosa\\\\\n",
              "\t 5.1 & 3.7 & 1.5 & 0.4 & setosa\\\\\n",
              "\t 4.6 & 3.6 & 1.0 & 0.2 & setosa\\\\\n",
              "\t 5.1 & 3.3 & 1.7 & 0.5 & setosa\\\\\n",
              "\t 4.8 & 3.4 & 1.9 & 0.2 & setosa\\\\\n",
              "\t 5.0 & 3.0 & 1.6 & 0.2 & setosa\\\\\n",
              "\t 5.0 & 3.4 & 1.6 & 0.4 & setosa\\\\\n",
              "\t 5.2 & 3.5 & 1.5 & 0.2 & setosa\\\\\n",
              "\t 5.2 & 3.4 & 1.4 & 0.2 & setosa\\\\\n",
              "\t 4.7 & 3.2 & 1.6 & 0.2 & setosa\\\\\n",
              "\t ⋮ & ⋮ & ⋮ & ⋮ & ⋮\\\\\n",
              "\t 6.9 & 3.2 & 5.7 & 2.3 & virginica\\\\\n",
              "\t 5.6 & 2.8 & 4.9 & 2.0 & virginica\\\\\n",
              "\t 7.7 & 2.8 & 6.7 & 2.0 & virginica\\\\\n",
              "\t 6.3 & 2.7 & 4.9 & 1.8 & virginica\\\\\n",
              "\t 6.7 & 3.3 & 5.7 & 2.1 & virginica\\\\\n",
              "\t 7.2 & 3.2 & 6.0 & 1.8 & virginica\\\\\n",
              "\t 6.2 & 2.8 & 4.8 & 1.8 & virginica\\\\\n",
              "\t 6.1 & 3.0 & 4.9 & 1.8 & virginica\\\\\n",
              "\t 6.4 & 2.8 & 5.6 & 2.1 & virginica\\\\\n",
              "\t 7.2 & 3.0 & 5.8 & 1.6 & virginica\\\\\n",
              "\t 7.4 & 2.8 & 6.1 & 1.9 & virginica\\\\\n",
              "\t 7.9 & 3.8 & 6.4 & 2.0 & virginica\\\\\n",
              "\t 6.4 & 2.8 & 5.6 & 2.2 & virginica\\\\\n",
              "\t 6.3 & 2.8 & 5.1 & 1.5 & virginica\\\\\n",
              "\t 6.1 & 2.6 & 5.6 & 1.4 & virginica\\\\\n",
              "\t 7.7 & 3.0 & 6.1 & 2.3 & virginica\\\\\n",
              "\t 6.3 & 3.4 & 5.6 & 2.4 & virginica\\\\\n",
              "\t 6.4 & 3.1 & 5.5 & 1.8 & virginica\\\\\n",
              "\t 6.0 & 3.0 & 4.8 & 1.8 & virginica\\\\\n",
              "\t 6.9 & 3.1 & 5.4 & 2.1 & virginica\\\\\n",
              "\t 6.7 & 3.1 & 5.6 & 2.4 & virginica\\\\\n",
              "\t 6.9 & 3.1 & 5.1 & 2.3 & virginica\\\\\n",
              "\t 5.8 & 2.7 & 5.1 & 1.9 & virginica\\\\\n",
              "\t 6.8 & 3.2 & 5.9 & 2.3 & virginica\\\\\n",
              "\t 6.7 & 3.3 & 5.7 & 2.5 & virginica\\\\\n",
              "\t 6.7 & 3.0 & 5.2 & 2.3 & virginica\\\\\n",
              "\t 6.3 & 2.5 & 5.0 & 1.9 & virginica\\\\\n",
              "\t 6.5 & 3.0 & 5.2 & 2.0 & virginica\\\\\n",
              "\t 6.2 & 3.4 & 5.4 & 2.3 & virginica\\\\\n",
              "\t 5.9 & 3.0 & 5.1 & 1.8 & virginica\\\\\n",
              "\\end{tabular}\n"
            ],
            "text/markdown": [
              "\n",
              "A data.frame: 150 × 5\n",
              "\n",
              "| Sepal.Length &lt;dbl&gt; | Sepal.Width &lt;dbl&gt; | Petal.Length &lt;dbl&gt; | Petal.Width &lt;dbl&gt; | Species &lt;fct&gt; |\n",
              "|---|---|---|---|---|\n",
              "| 5.1 | 3.5 | 1.4 | 0.2 | setosa |\n",
              "| 4.9 | 3.0 | 1.4 | 0.2 | setosa |\n",
              "| 4.7 | 3.2 | 1.3 | 0.2 | setosa |\n",
              "| 4.6 | 3.1 | 1.5 | 0.2 | setosa |\n",
              "| 5.0 | 3.6 | 1.4 | 0.2 | setosa |\n",
              "| 5.4 | 3.9 | 1.7 | 0.4 | setosa |\n",
              "| 4.6 | 3.4 | 1.4 | 0.3 | setosa |\n",
              "| 5.0 | 3.4 | 1.5 | 0.2 | setosa |\n",
              "| 4.4 | 2.9 | 1.4 | 0.2 | setosa |\n",
              "| 4.9 | 3.1 | 1.5 | 0.1 | setosa |\n",
              "| 5.4 | 3.7 | 1.5 | 0.2 | setosa |\n",
              "| 4.8 | 3.4 | 1.6 | 0.2 | setosa |\n",
              "| 4.8 | 3.0 | 1.4 | 0.1 | setosa |\n",
              "| 4.3 | 3.0 | 1.1 | 0.1 | setosa |\n",
              "| 5.8 | 4.0 | 1.2 | 0.2 | setosa |\n",
              "| 5.7 | 4.4 | 1.5 | 0.4 | setosa |\n",
              "| 5.4 | 3.9 | 1.3 | 0.4 | setosa |\n",
              "| 5.1 | 3.5 | 1.4 | 0.3 | setosa |\n",
              "| 5.7 | 3.8 | 1.7 | 0.3 | setosa |\n",
              "| 5.1 | 3.8 | 1.5 | 0.3 | setosa |\n",
              "| 5.4 | 3.4 | 1.7 | 0.2 | setosa |\n",
              "| 5.1 | 3.7 | 1.5 | 0.4 | setosa |\n",
              "| 4.6 | 3.6 | 1.0 | 0.2 | setosa |\n",
              "| 5.1 | 3.3 | 1.7 | 0.5 | setosa |\n",
              "| 4.8 | 3.4 | 1.9 | 0.2 | setosa |\n",
              "| 5.0 | 3.0 | 1.6 | 0.2 | setosa |\n",
              "| 5.0 | 3.4 | 1.6 | 0.4 | setosa |\n",
              "| 5.2 | 3.5 | 1.5 | 0.2 | setosa |\n",
              "| 5.2 | 3.4 | 1.4 | 0.2 | setosa |\n",
              "| 4.7 | 3.2 | 1.6 | 0.2 | setosa |\n",
              "| ⋮ | ⋮ | ⋮ | ⋮ | ⋮ |\n",
              "| 6.9 | 3.2 | 5.7 | 2.3 | virginica |\n",
              "| 5.6 | 2.8 | 4.9 | 2.0 | virginica |\n",
              "| 7.7 | 2.8 | 6.7 | 2.0 | virginica |\n",
              "| 6.3 | 2.7 | 4.9 | 1.8 | virginica |\n",
              "| 6.7 | 3.3 | 5.7 | 2.1 | virginica |\n",
              "| 7.2 | 3.2 | 6.0 | 1.8 | virginica |\n",
              "| 6.2 | 2.8 | 4.8 | 1.8 | virginica |\n",
              "| 6.1 | 3.0 | 4.9 | 1.8 | virginica |\n",
              "| 6.4 | 2.8 | 5.6 | 2.1 | virginica |\n",
              "| 7.2 | 3.0 | 5.8 | 1.6 | virginica |\n",
              "| 7.4 | 2.8 | 6.1 | 1.9 | virginica |\n",
              "| 7.9 | 3.8 | 6.4 | 2.0 | virginica |\n",
              "| 6.4 | 2.8 | 5.6 | 2.2 | virginica |\n",
              "| 6.3 | 2.8 | 5.1 | 1.5 | virginica |\n",
              "| 6.1 | 2.6 | 5.6 | 1.4 | virginica |\n",
              "| 7.7 | 3.0 | 6.1 | 2.3 | virginica |\n",
              "| 6.3 | 3.4 | 5.6 | 2.4 | virginica |\n",
              "| 6.4 | 3.1 | 5.5 | 1.8 | virginica |\n",
              "| 6.0 | 3.0 | 4.8 | 1.8 | virginica |\n",
              "| 6.9 | 3.1 | 5.4 | 2.1 | virginica |\n",
              "| 6.7 | 3.1 | 5.6 | 2.4 | virginica |\n",
              "| 6.9 | 3.1 | 5.1 | 2.3 | virginica |\n",
              "| 5.8 | 2.7 | 5.1 | 1.9 | virginica |\n",
              "| 6.8 | 3.2 | 5.9 | 2.3 | virginica |\n",
              "| 6.7 | 3.3 | 5.7 | 2.5 | virginica |\n",
              "| 6.7 | 3.0 | 5.2 | 2.3 | virginica |\n",
              "| 6.3 | 2.5 | 5.0 | 1.9 | virginica |\n",
              "| 6.5 | 3.0 | 5.2 | 2.0 | virginica |\n",
              "| 6.2 | 3.4 | 5.4 | 2.3 | virginica |\n",
              "| 5.9 | 3.0 | 5.1 | 1.8 | virginica |\n",
              "\n"
            ],
            "text/plain": [
              "    Sepal.Length Sepal.Width Petal.Length Petal.Width Species  \n",
              "1   5.1          3.5         1.4          0.2         setosa   \n",
              "2   4.9          3.0         1.4          0.2         setosa   \n",
              "3   4.7          3.2         1.3          0.2         setosa   \n",
              "4   4.6          3.1         1.5          0.2         setosa   \n",
              "5   5.0          3.6         1.4          0.2         setosa   \n",
              "6   5.4          3.9         1.7          0.4         setosa   \n",
              "7   4.6          3.4         1.4          0.3         setosa   \n",
              "8   5.0          3.4         1.5          0.2         setosa   \n",
              "9   4.4          2.9         1.4          0.2         setosa   \n",
              "10  4.9          3.1         1.5          0.1         setosa   \n",
              "11  5.4          3.7         1.5          0.2         setosa   \n",
              "12  4.8          3.4         1.6          0.2         setosa   \n",
              "13  4.8          3.0         1.4          0.1         setosa   \n",
              "14  4.3          3.0         1.1          0.1         setosa   \n",
              "15  5.8          4.0         1.2          0.2         setosa   \n",
              "16  5.7          4.4         1.5          0.4         setosa   \n",
              "17  5.4          3.9         1.3          0.4         setosa   \n",
              "18  5.1          3.5         1.4          0.3         setosa   \n",
              "19  5.7          3.8         1.7          0.3         setosa   \n",
              "20  5.1          3.8         1.5          0.3         setosa   \n",
              "21  5.4          3.4         1.7          0.2         setosa   \n",
              "22  5.1          3.7         1.5          0.4         setosa   \n",
              "23  4.6          3.6         1.0          0.2         setosa   \n",
              "24  5.1          3.3         1.7          0.5         setosa   \n",
              "25  4.8          3.4         1.9          0.2         setosa   \n",
              "26  5.0          3.0         1.6          0.2         setosa   \n",
              "27  5.0          3.4         1.6          0.4         setosa   \n",
              "28  5.2          3.5         1.5          0.2         setosa   \n",
              "29  5.2          3.4         1.4          0.2         setosa   \n",
              "30  4.7          3.2         1.6          0.2         setosa   \n",
              "⋮   ⋮            ⋮           ⋮            ⋮           ⋮        \n",
              "121 6.9          3.2         5.7          2.3         virginica\n",
              "122 5.6          2.8         4.9          2.0         virginica\n",
              "123 7.7          2.8         6.7          2.0         virginica\n",
              "124 6.3          2.7         4.9          1.8         virginica\n",
              "125 6.7          3.3         5.7          2.1         virginica\n",
              "126 7.2          3.2         6.0          1.8         virginica\n",
              "127 6.2          2.8         4.8          1.8         virginica\n",
              "128 6.1          3.0         4.9          1.8         virginica\n",
              "129 6.4          2.8         5.6          2.1         virginica\n",
              "130 7.2          3.0         5.8          1.6         virginica\n",
              "131 7.4          2.8         6.1          1.9         virginica\n",
              "132 7.9          3.8         6.4          2.0         virginica\n",
              "133 6.4          2.8         5.6          2.2         virginica\n",
              "134 6.3          2.8         5.1          1.5         virginica\n",
              "135 6.1          2.6         5.6          1.4         virginica\n",
              "136 7.7          3.0         6.1          2.3         virginica\n",
              "137 6.3          3.4         5.6          2.4         virginica\n",
              "138 6.4          3.1         5.5          1.8         virginica\n",
              "139 6.0          3.0         4.8          1.8         virginica\n",
              "140 6.9          3.1         5.4          2.1         virginica\n",
              "141 6.7          3.1         5.6          2.4         virginica\n",
              "142 6.9          3.1         5.1          2.3         virginica\n",
              "143 5.8          2.7         5.1          1.9         virginica\n",
              "144 6.8          3.2         5.9          2.3         virginica\n",
              "145 6.7          3.3         5.7          2.5         virginica\n",
              "146 6.7          3.0         5.2          2.3         virginica\n",
              "147 6.3          2.5         5.0          1.9         virginica\n",
              "148 6.5          3.0         5.2          2.0         virginica\n",
              "149 6.2          3.4         5.4          2.3         virginica\n",
              "150 5.9          3.0         5.1          1.8         virginica"
            ]
          },
          "metadata": {
            "tags": []
          },
          "output_type": "display_data"
        }
      ],
      "source": [
        "iris"
      ]
    },
    {
      "cell_type": "markdown",
      "metadata": {
        "id": "yf2BVvvpuBLs"
      },
      "source": [
        "<div style=\"page-break-after: always;\"></div>"
      ]
    },
    {
      "cell_type": "markdown",
      "metadata": {
        "id": "tzIs3EX8pLmA"
      },
      "source": [
        "### Odmah u \"glavu\"... ili  u \"head\"  \n",
        "Primjetili ste da dataframeovi mogu biti veliki i nije nam uvijek zgodno ispisati ga cijeloga...   \n",
        "Stoga ćemo koristiti funkciju `head()`  \n",
        "Isprobajte ga na `iris` dataframeu. Dobiti ćemo samo prvih nekoliko redaka.   \n",
        "Isprobajte ga i na dataframeu `mtcars`"
      ]
    },
    {
      "cell_type": "code",
      "execution_count": 30,
      "metadata": {
        "colab": {
          "base_uri": "https://localhost:8080/",
          "height": 282
        },
        "id": "SOITeIrc-SKY",
        "outputId": "abb2a1ac-2fbb-46ea-ec14-d78b99a12718",
        "vscode": {
          "languageId": "r"
        }
      },
      "outputs": [
        {
          "data": {
            "text/html": [
              "<table class=\"dataframe\">\n",
              "<caption>A data.frame: 6 × 11</caption>\n",
              "<thead>\n",
              "\t<tr><th></th><th scope=col>mpg</th><th scope=col>cyl</th><th scope=col>disp</th><th scope=col>hp</th><th scope=col>drat</th><th scope=col>wt</th><th scope=col>qsec</th><th scope=col>vs</th><th scope=col>am</th><th scope=col>gear</th><th scope=col>carb</th></tr>\n",
              "\t<tr><th></th><th scope=col>&lt;dbl&gt;</th><th scope=col>&lt;dbl&gt;</th><th scope=col>&lt;dbl&gt;</th><th scope=col>&lt;dbl&gt;</th><th scope=col>&lt;dbl&gt;</th><th scope=col>&lt;dbl&gt;</th><th scope=col>&lt;dbl&gt;</th><th scope=col>&lt;dbl&gt;</th><th scope=col>&lt;dbl&gt;</th><th scope=col>&lt;dbl&gt;</th><th scope=col>&lt;dbl&gt;</th></tr>\n",
              "</thead>\n",
              "<tbody>\n",
              "\t<tr><th scope=row>Mazda RX4</th><td>21.0</td><td>6</td><td>160</td><td>110</td><td>3.90</td><td>2.620</td><td>16.46</td><td>0</td><td>1</td><td>4</td><td>4</td></tr>\n",
              "\t<tr><th scope=row>Mazda RX4 Wag</th><td>21.0</td><td>6</td><td>160</td><td>110</td><td>3.90</td><td>2.875</td><td>17.02</td><td>0</td><td>1</td><td>4</td><td>4</td></tr>\n",
              "\t<tr><th scope=row>Datsun 710</th><td>22.8</td><td>4</td><td>108</td><td> 93</td><td>3.85</td><td>2.320</td><td>18.61</td><td>1</td><td>1</td><td>4</td><td>1</td></tr>\n",
              "\t<tr><th scope=row>Hornet 4 Drive</th><td>21.4</td><td>6</td><td>258</td><td>110</td><td>3.08</td><td>3.215</td><td>19.44</td><td>1</td><td>0</td><td>3</td><td>1</td></tr>\n",
              "\t<tr><th scope=row>Hornet Sportabout</th><td>18.7</td><td>8</td><td>360</td><td>175</td><td>3.15</td><td>3.440</td><td>17.02</td><td>0</td><td>0</td><td>3</td><td>2</td></tr>\n",
              "\t<tr><th scope=row>Valiant</th><td>18.1</td><td>6</td><td>225</td><td>105</td><td>2.76</td><td>3.460</td><td>20.22</td><td>1</td><td>0</td><td>3</td><td>1</td></tr>\n",
              "</tbody>\n",
              "</table>\n"
            ],
            "text/latex": [
              "A data.frame: 6 × 11\n",
              "\\begin{tabular}{r|lllllllllll}\n",
              "  & mpg & cyl & disp & hp & drat & wt & qsec & vs & am & gear & carb\\\\\n",
              "  & <dbl> & <dbl> & <dbl> & <dbl> & <dbl> & <dbl> & <dbl> & <dbl> & <dbl> & <dbl> & <dbl>\\\\\n",
              "\\hline\n",
              "\tMazda RX4 & 21.0 & 6 & 160 & 110 & 3.90 & 2.620 & 16.46 & 0 & 1 & 4 & 4\\\\\n",
              "\tMazda RX4 Wag & 21.0 & 6 & 160 & 110 & 3.90 & 2.875 & 17.02 & 0 & 1 & 4 & 4\\\\\n",
              "\tDatsun 710 & 22.8 & 4 & 108 &  93 & 3.85 & 2.320 & 18.61 & 1 & 1 & 4 & 1\\\\\n",
              "\tHornet 4 Drive & 21.4 & 6 & 258 & 110 & 3.08 & 3.215 & 19.44 & 1 & 0 & 3 & 1\\\\\n",
              "\tHornet Sportabout & 18.7 & 8 & 360 & 175 & 3.15 & 3.440 & 17.02 & 0 & 0 & 3 & 2\\\\\n",
              "\tValiant & 18.1 & 6 & 225 & 105 & 2.76 & 3.460 & 20.22 & 1 & 0 & 3 & 1\\\\\n",
              "\\end{tabular}\n"
            ],
            "text/markdown": [
              "\n",
              "A data.frame: 6 × 11\n",
              "\n",
              "| <!--/--> | mpg &lt;dbl&gt; | cyl &lt;dbl&gt; | disp &lt;dbl&gt; | hp &lt;dbl&gt; | drat &lt;dbl&gt; | wt &lt;dbl&gt; | qsec &lt;dbl&gt; | vs &lt;dbl&gt; | am &lt;dbl&gt; | gear &lt;dbl&gt; | carb &lt;dbl&gt; |\n",
              "|---|---|---|---|---|---|---|---|---|---|---|---|\n",
              "| Mazda RX4 | 21.0 | 6 | 160 | 110 | 3.90 | 2.620 | 16.46 | 0 | 1 | 4 | 4 |\n",
              "| Mazda RX4 Wag | 21.0 | 6 | 160 | 110 | 3.90 | 2.875 | 17.02 | 0 | 1 | 4 | 4 |\n",
              "| Datsun 710 | 22.8 | 4 | 108 |  93 | 3.85 | 2.320 | 18.61 | 1 | 1 | 4 | 1 |\n",
              "| Hornet 4 Drive | 21.4 | 6 | 258 | 110 | 3.08 | 3.215 | 19.44 | 1 | 0 | 3 | 1 |\n",
              "| Hornet Sportabout | 18.7 | 8 | 360 | 175 | 3.15 | 3.440 | 17.02 | 0 | 0 | 3 | 2 |\n",
              "| Valiant | 18.1 | 6 | 225 | 105 | 2.76 | 3.460 | 20.22 | 1 | 0 | 3 | 1 |\n",
              "\n"
            ],
            "text/plain": [
              "                  mpg  cyl disp hp  drat wt    qsec  vs am gear carb\n",
              "Mazda RX4         21.0 6   160  110 3.90 2.620 16.46 0  1  4    4   \n",
              "Mazda RX4 Wag     21.0 6   160  110 3.90 2.875 17.02 0  1  4    4   \n",
              "Datsun 710        22.8 4   108   93 3.85 2.320 18.61 1  1  4    1   \n",
              "Hornet 4 Drive    21.4 6   258  110 3.08 3.215 19.44 1  0  3    1   \n",
              "Hornet Sportabout 18.7 8   360  175 3.15 3.440 17.02 0  0  3    2   \n",
              "Valiant           18.1 6   225  105 2.76 3.460 20.22 1  0  3    1   "
            ]
          },
          "metadata": {
            "tags": []
          },
          "output_type": "display_data"
        }
      ],
      "source": [
        "head(mtcars)"
      ]
    },
    {
      "cell_type": "markdown",
      "metadata": {
        "id": "xskfVoI1pUFK"
      },
      "source": [
        "### Struktura\n",
        "Funkcijom `str()` možemo steći uvid u strukturu nekog dataframea  \n",
        "Isprobajte ju na `iris`"
      ]
    },
    {
      "cell_type": "code",
      "execution_count": 35,
      "metadata": {
        "colab": {
          "base_uri": "https://localhost:8080/"
        },
        "id": "MYiK0wbtpWTS",
        "outputId": "32b71fbf-6735-4703-8a52-7a1dc7b4c060",
        "vscode": {
          "languageId": "r"
        }
      },
      "outputs": [
        {
          "name": "stdout",
          "output_type": "stream",
          "text": [
            "'data.frame':\t150 obs. of  5 variables:\n",
            " $ Sepal.Length: num  5.1 4.9 4.7 4.6 5 5.4 4.6 5 4.4 4.9 ...\n",
            " $ Sepal.Width : num  3.5 3 3.2 3.1 3.6 3.9 3.4 3.4 2.9 3.1 ...\n",
            " $ Petal.Length: num  1.4 1.4 1.3 1.5 1.4 1.7 1.4 1.5 1.4 1.5 ...\n",
            " $ Petal.Width : num  0.2 0.2 0.2 0.2 0.2 0.4 0.3 0.2 0.2 0.1 ...\n",
            " $ Species     : Factor w/ 3 levels \"setosa\",\"versicolor\",..: 1 1 1 1 1 1 1 1 1 1 ...\n"
          ]
        }
      ],
      "source": [
        "str(iris)"
      ]
    },
    {
      "cell_type": "markdown",
      "metadata": {
        "id": "5UX4oV2-pYEI"
      },
      "source": [
        "### Prvi DataFrame\n",
        "Pa, kreirajmo naš prvi dataframe.   \n",
        "Postupak je sličan kao i kod kreiranja matrice, samo što ovaj put ne moramo paziti da su nam svi vektori istog tipa.  \n",
        "Kreirajmo najprije nekoliko vektora:  "
      ]
    },
    {
      "cell_type": "code",
      "execution_count": 40,
      "metadata": {
        "id": "GfK7JVH1phL3",
        "vscode": {
          "languageId": "r"
        }
      },
      "outputs": [],
      "source": [
        "tjedan_v <- c('pon', 'uto', 'sri', 'čet', 'pet')\n",
        "potrosnja_v <- c(11, 12, 13, 14, 15)\n",
        "suncano_v <- c(T, F, T, T, T, F)"
      ]
    },
    {
      "cell_type": "markdown",
      "metadata": {
        "id": "QE7k24wYqzlG"
      },
      "source": [
        "Sada naredbom `data.frame` kreiramo dataframe `troskovi_df` od ovih vektora:"
      ]
    },
    {
      "cell_type": "code",
      "execution_count": 39,
      "metadata": {
        "id": "g7bwBs3epaXH",
        "vscode": {
          "languageId": "r"
        }
      },
      "outputs": [],
      "source": [
        "troskovi_df <- data.frame(tjedan_v, potrosnja_v, suncano_v)"
      ]
    },
    {
      "cell_type": "markdown",
      "metadata": {
        "id": "QVcyT48tphcA"
      },
      "source": [
        "Bez brige, pogreška je namjerna...  \n",
        "Da bi kreirali dataframe od vektora, svi vektori moraju biti iste duljine.  \n",
        "Dakle ispravite vektor suncano tako da obrišete posljednju vrijednost (onaj F).   Nemojte zaboraviti opet stisnuti 'ctrl + enter'."
      ]
    },
    {
      "cell_type": "markdown",
      "metadata": {
        "id": "TXFY7-M-rIBh"
      },
      "source": [
        "### zadatak\n",
        "Ispišite prvih nekoliko redaka našeg dataframea, a zatim ispišite njegovu strukturu."
      ]
    },
    {
      "cell_type": "code",
      "execution_count": 41,
      "metadata": {
        "colab": {
          "base_uri": "https://localhost:8080/",
          "height": 251
        },
        "id": "jBuAcj36rNFP",
        "outputId": "f3418d3d-9016-4288-de71-66e3a2b693e9",
        "vscode": {
          "languageId": "r"
        }
      },
      "outputs": [
        {
          "data": {
            "text/html": [
              "<table class=\"dataframe\">\n",
              "<caption>A data.frame: 5 × 3</caption>\n",
              "<thead>\n",
              "\t<tr><th></th><th scope=col>tjedan_v</th><th scope=col>potrosnja_v</th><th scope=col>suncano_v</th></tr>\n",
              "\t<tr><th></th><th scope=col>&lt;chr&gt;</th><th scope=col>&lt;dbl&gt;</th><th scope=col>&lt;lgl&gt;</th></tr>\n",
              "</thead>\n",
              "<tbody>\n",
              "\t<tr><th scope=row>1</th><td>pon</td><td>11</td><td> TRUE</td></tr>\n",
              "\t<tr><th scope=row>2</th><td>uto</td><td>12</td><td>FALSE</td></tr>\n",
              "\t<tr><th scope=row>3</th><td>sri</td><td>13</td><td> TRUE</td></tr>\n",
              "\t<tr><th scope=row>4</th><td>čet</td><td>14</td><td> TRUE</td></tr>\n",
              "\t<tr><th scope=row>5</th><td>pet</td><td>15</td><td> TRUE</td></tr>\n",
              "</tbody>\n",
              "</table>\n"
            ],
            "text/latex": [
              "A data.frame: 5 × 3\n",
              "\\begin{tabular}{r|lll}\n",
              "  & tjedan\\_v & potrosnja\\_v & suncano\\_v\\\\\n",
              "  & <chr> & <dbl> & <lgl>\\\\\n",
              "\\hline\n",
              "\t1 & pon & 11 &  TRUE\\\\\n",
              "\t2 & uto & 12 & FALSE\\\\\n",
              "\t3 & sri & 13 &  TRUE\\\\\n",
              "\t4 & čet & 14 &  TRUE\\\\\n",
              "\t5 & pet & 15 &  TRUE\\\\\n",
              "\\end{tabular}\n"
            ],
            "text/markdown": [
              "\n",
              "A data.frame: 5 × 3\n",
              "\n",
              "| <!--/--> | tjedan_v &lt;chr&gt; | potrosnja_v &lt;dbl&gt; | suncano_v &lt;lgl&gt; |\n",
              "|---|---|---|---|\n",
              "| 1 | pon | 11 |  TRUE |\n",
              "| 2 | uto | 12 | FALSE |\n",
              "| 3 | sri | 13 |  TRUE |\n",
              "| 4 | čet | 14 |  TRUE |\n",
              "| 5 | pet | 15 |  TRUE |\n",
              "\n"
            ],
            "text/plain": [
              "  tjedan_v potrosnja_v suncano_v\n",
              "1 pon      11           TRUE    \n",
              "2 uto      12          FALSE    \n",
              "3 sri      13           TRUE    \n",
              "4 čet      14           TRUE    \n",
              "5 pet      15           TRUE    "
            ]
          },
          "metadata": {
            "tags": []
          },
          "output_type": "display_data"
        }
      ],
      "source": [
        "head(troskovi_df)"
      ]
    },
    {
      "cell_type": "code",
      "execution_count": 42,
      "metadata": {
        "colab": {
          "base_uri": "https://localhost:8080/"
        },
        "id": "-cG9j2CnrQrn",
        "outputId": "e519369e-14e1-444a-e834-40e5a152434f",
        "vscode": {
          "languageId": "r"
        }
      },
      "outputs": [
        {
          "name": "stdout",
          "output_type": "stream",
          "text": [
            "'data.frame':\t5 obs. of  3 variables:\n",
            " $ tjedan_v   : chr  \"pon\" \"uto\" \"sri\" \"čet\" ...\n",
            " $ potrosnja_v: num  11 12 13 14 15\n",
            " $ suncano_v  : logi  TRUE FALSE TRUE TRUE TRUE\n"
          ]
        }
      ],
      "source": [
        "str(troskovi_df)"
      ]
    },
    {
      "cell_type": "markdown",
      "metadata": {
        "id": "mnI0Nlm3rTT2"
      },
      "source": [
        "### zadatak (zadaci)\n",
        "Ispišite potrošnju za pon, srijedu i petak  "
      ]
    },
    {
      "cell_type": "code",
      "execution_count": 49,
      "metadata": {
        "colab": {
          "base_uri": "https://localhost:8080/",
          "height": 223
        },
        "id": "U_4j6uyXrWQn",
        "outputId": "3ff49e5a-7d3d-4329-fe1d-423bc675dd2e",
        "vscode": {
          "languageId": "r"
        }
      },
      "outputs": [
        {
          "data": {
            "text/html": [
              "<style>\n",
              ".list-inline {list-style: none; margin:0; padding: 0}\n",
              ".list-inline>li {display: inline-block}\n",
              ".list-inline>li:not(:last-child)::after {content: \"\\00b7\"; padding: 0 .5ex}\n",
              "</style>\n",
              "<ol class=list-inline><li>11</li><li>13</li><li>15</li></ol>\n"
            ],
            "text/latex": [
              "\\begin{enumerate*}\n",
              "\\item 11\n",
              "\\item 13\n",
              "\\item 15\n",
              "\\end{enumerate*}\n"
            ],
            "text/markdown": [
              "1. 11\n",
              "2. 13\n",
              "3. 15\n",
              "\n",
              "\n"
            ],
            "text/plain": [
              "[1] 11 13 15"
            ]
          },
          "metadata": {
            "tags": []
          },
          "output_type": "display_data"
        },
        {
          "data": {
            "text/html": [
              "<style>\n",
              ".list-inline {list-style: none; margin:0; padding: 0}\n",
              ".list-inline>li {display: inline-block}\n",
              ".list-inline>li:not(:last-child)::after {content: \"\\00b7\"; padding: 0 .5ex}\n",
              "</style>\n",
              "<ol class=list-inline><li>11</li><li>13</li><li>15</li></ol>\n"
            ],
            "text/latex": [
              "\\begin{enumerate*}\n",
              "\\item 11\n",
              "\\item 13\n",
              "\\item 15\n",
              "\\end{enumerate*}\n"
            ],
            "text/markdown": [
              "1. 11\n",
              "2. 13\n",
              "3. 15\n",
              "\n",
              "\n"
            ],
            "text/plain": [
              "[1] 11 13 15"
            ]
          },
          "metadata": {
            "tags": []
          },
          "output_type": "display_data"
        },
        {
          "data": {
            "text/html": [
              "<table class=\"dataframe\">\n",
              "<caption>A data.frame: 3 × 2</caption>\n",
              "<thead>\n",
              "\t<tr><th></th><th scope=col>tjedan_v</th><th scope=col>potrosnja_v</th></tr>\n",
              "\t<tr><th></th><th scope=col>&lt;chr&gt;</th><th scope=col>&lt;dbl&gt;</th></tr>\n",
              "</thead>\n",
              "<tbody>\n",
              "\t<tr><th scope=row>1</th><td>pon</td><td>11</td></tr>\n",
              "\t<tr><th scope=row>2</th><td>uto</td><td>12</td></tr>\n",
              "\t<tr><th scope=row>3</th><td>sri</td><td>13</td></tr>\n",
              "</tbody>\n",
              "</table>\n"
            ],
            "text/latex": [
              "A data.frame: 3 × 2\n",
              "\\begin{tabular}{r|ll}\n",
              "  & tjedan\\_v & potrosnja\\_v\\\\\n",
              "  & <chr> & <dbl>\\\\\n",
              "\\hline\n",
              "\t1 & pon & 11\\\\\n",
              "\t2 & uto & 12\\\\\n",
              "\t3 & sri & 13\\\\\n",
              "\\end{tabular}\n"
            ],
            "text/markdown": [
              "\n",
              "A data.frame: 3 × 2\n",
              "\n",
              "| <!--/--> | tjedan_v &lt;chr&gt; | potrosnja_v &lt;dbl&gt; |\n",
              "|---|---|---|\n",
              "| 1 | pon | 11 |\n",
              "| 2 | uto | 12 |\n",
              "| 3 | sri | 13 |\n",
              "\n"
            ],
            "text/plain": [
              "  tjedan_v potrosnja_v\n",
              "1 pon      11         \n",
              "2 uto      12         \n",
              "3 sri      13         "
            ]
          },
          "metadata": {
            "tags": []
          },
          "output_type": "display_data"
        }
      ],
      "source": [
        "troskovi_df[c(1,3,5), 'potrosnja_v']\n",
        "troskovi_df$potrosnja_v[c(1,3,5)]"
      ]
    },
    {
      "cell_type": "markdown",
      "metadata": {
        "id": "oNUH-Q0ul9HV"
      },
      "source": [
        "Napravite dataframe pod nazivom `tros_df` u kojega ćete ubaciti prva tri retka i prva dva stupca dataframe-a `troskovi_df`."
      ]
    },
    {
      "cell_type": "code",
      "execution_count": null,
      "metadata": {
        "id": "vt0eoAVimXvF",
        "vscode": {
          "languageId": "r"
        }
      },
      "outputs": [],
      "source": [
        "tros_df <- troskovi_df[c(1:3), c(1:2)]\n",
        "tros_df"
      ]
    },
    {
      "cell_type": "markdown",
      "metadata": {
        "id": "HnKDqt56mkC7"
      },
      "source": [
        "Dodajte u dataframe `troskovi_df` oblačnu subotu kada je bio trošak 20."
      ]
    },
    {
      "cell_type": "code",
      "execution_count": 71,
      "metadata": {
        "colab": {
          "base_uri": "https://localhost:8080/",
          "height": 282
        },
        "id": "lEQKrWJSmruc",
        "outputId": "d1fc4a08-7fc6-4482-ae3b-b0b81966fcb0",
        "vscode": {
          "languageId": "r"
        }
      },
      "outputs": [
        {
          "data": {
            "text/html": [
              "<table class=\"dataframe\">\n",
              "<caption>A data.frame: 6 × 3</caption>\n",
              "<thead>\n",
              "\t<tr><th scope=col>tjedan_v</th><th scope=col>potrosnja_v</th><th scope=col>suncano_v</th></tr>\n",
              "\t<tr><th scope=col>&lt;chr&gt;</th><th scope=col>&lt;dbl&gt;</th><th scope=col>&lt;lgl&gt;</th></tr>\n",
              "</thead>\n",
              "<tbody>\n",
              "\t<tr><td>pon</td><td>11</td><td> TRUE</td></tr>\n",
              "\t<tr><td>uto</td><td>12</td><td>FALSE</td></tr>\n",
              "\t<tr><td>sri</td><td>13</td><td> TRUE</td></tr>\n",
              "\t<tr><td>čet</td><td>14</td><td> TRUE</td></tr>\n",
              "\t<tr><td>pet</td><td>15</td><td> TRUE</td></tr>\n",
              "\t<tr><td>sub</td><td>20</td><td>FALSE</td></tr>\n",
              "</tbody>\n",
              "</table>\n"
            ],
            "text/latex": [
              "A data.frame: 6 × 3\n",
              "\\begin{tabular}{lll}\n",
              " tjedan\\_v & potrosnja\\_v & suncano\\_v\\\\\n",
              " <chr> & <dbl> & <lgl>\\\\\n",
              "\\hline\n",
              "\t pon & 11 &  TRUE\\\\\n",
              "\t uto & 12 & FALSE\\\\\n",
              "\t sri & 13 &  TRUE\\\\\n",
              "\t čet & 14 &  TRUE\\\\\n",
              "\t pet & 15 &  TRUE\\\\\n",
              "\t sub & 20 & FALSE\\\\\n",
              "\\end{tabular}\n"
            ],
            "text/markdown": [
              "\n",
              "A data.frame: 6 × 3\n",
              "\n",
              "| tjedan_v &lt;chr&gt; | potrosnja_v &lt;dbl&gt; | suncano_v &lt;lgl&gt; |\n",
              "|---|---|---|\n",
              "| pon | 11 |  TRUE |\n",
              "| uto | 12 | FALSE |\n",
              "| sri | 13 |  TRUE |\n",
              "| čet | 14 |  TRUE |\n",
              "| pet | 15 |  TRUE |\n",
              "| sub | 20 | FALSE |\n",
              "\n"
            ],
            "text/plain": [
              "  tjedan_v potrosnja_v suncano_v\n",
              "1 pon      11           TRUE    \n",
              "2 uto      12          FALSE    \n",
              "3 sri      13           TRUE    \n",
              "4 čet      14           TRUE    \n",
              "5 pet      15           TRUE    \n",
              "6 sub      20          FALSE    "
            ]
          },
          "metadata": {
            "tags": []
          },
          "output_type": "display_data"
        }
      ],
      "source": [
        "tjedan_v <- c('sub')\n",
        "potrosnja_v <- c(20)\n",
        "suncano_v <- c(F)\n",
        "novi_df <- data.frame(tjedan_v, potrosnja_v, suncano_v)\n",
        "t_df <- rbind(troskovi_df, novi_df)\n",
        "t_df"
      ]
    },
    {
      "cell_type": "markdown",
      "metadata": {
        "id": "2XHF3Wq_rau_"
      },
      "source": [
        "Da li je bilo sunčano u srijedu?"
      ]
    },
    {
      "cell_type": "code",
      "execution_count": 54,
      "metadata": {
        "colab": {
          "base_uri": "https://localhost:8080/",
          "height": 68
        },
        "id": "8BzhKmFprca3",
        "outputId": "3c9115bc-1ff0-45f3-84d0-0e6fb6f360ad",
        "vscode": {
          "languageId": "r"
        }
      },
      "outputs": [
        {
          "data": {
            "text/html": [
              "TRUE"
            ],
            "text/latex": [
              "TRUE"
            ],
            "text/markdown": [
              "TRUE"
            ],
            "text/plain": [
              "[1] TRUE"
            ]
          },
          "metadata": {
            "tags": []
          },
          "output_type": "display_data"
        },
        {
          "data": {
            "text/html": [
              "TRUE"
            ],
            "text/latex": [
              "TRUE"
            ],
            "text/markdown": [
              "TRUE"
            ],
            "text/plain": [
              "[1] TRUE"
            ]
          },
          "metadata": {
            "tags": []
          },
          "output_type": "display_data"
        },
        {
          "data": {
            "text/html": [
              "TRUE"
            ],
            "text/latex": [
              "TRUE"
            ],
            "text/markdown": [
              "TRUE"
            ],
            "text/plain": [
              "[1] TRUE"
            ]
          },
          "metadata": {
            "tags": []
          },
          "output_type": "display_data"
        }
      ],
      "source": [
        "troskovi_df[3,3]\n",
        "troskovi_df[3, 'suncano_v']\n",
        "troskovi_df$suncano_v[3]"
      ]
    },
    {
      "cell_type": "markdown",
      "metadata": {
        "id": "X_aoK4RLrgUu"
      },
      "source": [
        "### zadatak\n",
        "U vektor `pot_v` unesite svu potrošnju od utorka do petka.  \n",
        "Zatim ga ispišite"
      ]
    },
    {
      "cell_type": "code",
      "execution_count": 69,
      "metadata": {
        "colab": {
          "base_uri": "https://localhost:8080/",
          "height": 34
        },
        "id": "baJ13V8YrhW3",
        "outputId": "498ff5f2-0383-40d7-e823-20020d8a253f",
        "vscode": {
          "languageId": "r"
        }
      },
      "outputs": [
        {
          "data": {
            "text/html": [
              "<style>\n",
              ".list-inline {list-style: none; margin:0; padding: 0}\n",
              ".list-inline>li {display: inline-block}\n",
              ".list-inline>li:not(:last-child)::after {content: \"\\00b7\"; padding: 0 .5ex}\n",
              "</style>\n",
              "<ol class=list-inline><li>12</li><li>13</li><li>14</li><li>15</li></ol>\n"
            ],
            "text/latex": [
              "\\begin{enumerate*}\n",
              "\\item 12\n",
              "\\item 13\n",
              "\\item 14\n",
              "\\item 15\n",
              "\\end{enumerate*}\n"
            ],
            "text/markdown": [
              "1. 12\n",
              "2. 13\n",
              "3. 14\n",
              "4. 15\n",
              "\n",
              "\n"
            ],
            "text/plain": [
              "[1] 12 13 14 15"
            ]
          },
          "metadata": {
            "tags": []
          },
          "output_type": "display_data"
        }
      ],
      "source": [
        "pot_v <- troskovi_df[2:5,2]\n",
        "pot_v <- troskovi_df[2:5,'potrosnja_v']\n",
        "pot_v <- troskovi_df$potrosnja_v[2:5]\n",
        "pot_v"
      ]
    }
  ],
  "metadata": {
    "colab": {
      "collapsed_sections": [],
      "name": "05. Programski jezik R - DataFrame.ipynb",
      "provenance": []
    },
    "kernelspec": {
      "display_name": "R",
      "name": "ir"
    }
  },
  "nbformat": 4,
  "nbformat_minor": 0
}
