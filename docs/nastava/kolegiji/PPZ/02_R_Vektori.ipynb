{
  "cells": [
    {
      "cell_type": "markdown",
      "metadata": {
        "id": "BJiC7YvslFqH"
      },
      "source": [
        "#2. Vektori\n",
        "Vektori su, u suštini, dvodimenzionalna polja.  \n",
        "Kreiramo ih koristeći funkciju *combine*: `c()` <br>\n",
        "\n",
        "Primjer:\n",
        "```R \n",
        "tjedan_vektor <- c(\"pon\", \"uto\", \"sri\", \"cet\", \"pet\", \"sub\", \"ned\") ``` \n",
        " \n",
        "***Zadatak***  \n",
        "Kreirajte vektor `gradovi_vektor` čiji će elementi biti gradovi *Rijeka*, *Zagreb*, *Split* i *Osijek*.  \n",
        "Zatim ga ispišite."
      ]
    },
    {
      "cell_type": "code",
      "execution_count": 1,
      "metadata": {
        "id": "HQNQB7dalFRH",
        "vscode": {
          "languageId": "r"
        },
        "colab": {
          "base_uri": "https://localhost:8080/",
          "height": 34
        },
        "outputId": "7df72859-ba23-40e4-e2b6-dc66d065a6c8"
      },
      "outputs": [
        {
          "output_type": "display_data",
          "data": {
            "text/html": [
              "<style>\n",
              ".list-inline {list-style: none; margin:0; padding: 0}\n",
              ".list-inline>li {display: inline-block}\n",
              ".list-inline>li:not(:last-child)::after {content: \"\\00b7\"; padding: 0 .5ex}\n",
              "</style>\n",
              "<ol class=list-inline><li>'Rijeka'</li><li>'Zagreb'</li><li>'Split'</li><li>'Osijek'</li></ol>\n"
            ],
            "text/markdown": "1. 'Rijeka'\n2. 'Zagreb'\n3. 'Split'\n4. 'Osijek'\n\n\n",
            "text/latex": "\\begin{enumerate*}\n\\item 'Rijeka'\n\\item 'Zagreb'\n\\item 'Split'\n\\item 'Osijek'\n\\end{enumerate*}\n",
            "text/plain": [
              "[1] \"Rijeka\" \"Zagreb\" \"Split\"  \"Osijek\""
            ]
          },
          "metadata": {}
        }
      ],
      "source": [
        "gradovi_vektor<-c(\"Rijeka\", \"Zagreb\", \"Split\", \"Osijek\")\n",
        "gradovi_vektor"
      ]
    },
    {
      "cell_type": "markdown",
      "metadata": {
        "id": "h3e0SrHPlO_H"
      },
      "source": [
        "### Klase vektora\n",
        "Vektori mogu imate i svoje klase isto kao i varijable.  \n",
        "Klasu provjeravamo funkcijom `class()`<br><br>\n",
        "***Primjer:***  \n",
        "```R\n",
        "logicki_vektor <- c(TRUE, FALSE, TRUE)   \n",
        "character_vektor <- c(\"a\", \"b\", \"c\")  \n",
        "numericki_vektor <- c(1, 2, 3)\n",
        "```\n",
        "***Zadatak:***  \n",
        "Provjerite koje je klase vektor `gradovi_vektor` iz prethodnog zadatka.\n"
      ]
    },
    {
      "cell_type": "code",
      "execution_count": 2,
      "metadata": {
        "colab": {
          "base_uri": "https://localhost:8080/",
          "height": 34
        },
        "id": "1Wsg-cBclUbw",
        "outputId": "dab30520-049e-4d32-c736-d4709fa2b53e",
        "vscode": {
          "languageId": "r"
        }
      },
      "outputs": [
        {
          "output_type": "display_data",
          "data": {
            "text/html": [
              "'character'"
            ],
            "text/markdown": "'character'",
            "text/latex": "'character'",
            "text/plain": [
              "[1] \"character\""
            ]
          },
          "metadata": {}
        }
      ],
      "source": [
        "class(gradovi_vektor)"
      ]
    },
    {
      "cell_type": "code",
      "execution_count": 3,
      "metadata": {
        "id": "u1cOuy2OkLAd",
        "vscode": {
          "languageId": "r"
        },
        "colab": {
          "base_uri": "https://localhost:8080/",
          "height": 52
        },
        "outputId": "32619ba2-58b2-4b71-95f0-68fc22ccfe63"
      },
      "outputs": [
        {
          "output_type": "display_data",
          "data": {
            "text/html": [
              "'character'"
            ],
            "text/markdown": "'character'",
            "text/latex": "'character'",
            "text/plain": [
              "[1] \"character\""
            ]
          },
          "metadata": {}
        },
        {
          "output_type": "display_data",
          "data": {
            "text/html": [
              "<style>\n",
              ".list-inline {list-style: none; margin:0; padding: 0}\n",
              ".list-inline>li {display: inline-block}\n",
              ".list-inline>li:not(:last-child)::after {content: \"\\00b7\"; padding: 0 .5ex}\n",
              "</style>\n",
              "<ol class=list-inline><li>'malo teksta'</li><li>'5'</li><li>'TRUE'</li></ol>\n"
            ],
            "text/markdown": "1. 'malo teksta'\n2. '5'\n3. 'TRUE'\n\n\n",
            "text/latex": "\\begin{enumerate*}\n\\item 'malo teksta'\n\\item '5'\n\\item 'TRUE'\n\\end{enumerate*}\n",
            "text/plain": [
              "[1] \"malo teksta\" \"5\"           \"TRUE\"       "
            ]
          },
          "metadata": {}
        }
      ],
      "source": [
        "# Mješovite vektora tretira kao character ako ima barem jedan character\n",
        "mjes <- c( \"malo teksta\", 5, TRUE)\n",
        "class(mjes)\n",
        "mjes"
      ]
    },
    {
      "cell_type": "markdown",
      "metadata": {
        "id": "B4mbu7dKlXGI"
      },
      "source": [
        "### Imenovanje vektora\n",
        "Da bi ispisali nekog člana vektora, moramo znati njegovu rednu poziciju u vektoru.  \n",
        "Na primjer:  \n",
        "naredba `gradovi[2]` će nam kao rezultat ispisati `'Zagreb'`  \n",
        "`'Zagreb'` je bio drugi član u našem vektoru `gradovi`.  \n",
        "Pazite: Članovi vektora imaju redne brojeve koji počinju brojem 1 (ne 0 kao u nekim programskim jezicima, npr: c++)<br><br>\n"
      ]
    },
    {
      "cell_type": "code",
      "execution_count": 4,
      "metadata": {
        "id": "ntY9uV0xlXXp",
        "vscode": {
          "languageId": "r"
        },
        "colab": {
          "base_uri": "https://localhost:8080/",
          "height": 52
        },
        "outputId": "835e3b01-6046-4f6b-c099-d6946c53897f"
      },
      "outputs": [
        {
          "output_type": "display_data",
          "data": {
            "text/html": [
              "<style>\n",
              ".list-inline {list-style: none; margin:0; padding: 0}\n",
              ".list-inline>li {display: inline-block}\n",
              ".list-inline>li:not(:last-child)::after {content: \"\\00b7\"; padding: 0 .5ex}\n",
              "</style>\n",
              "<ol class=list-inline><li>'Rijeka'</li><li>'Zagreb'</li><li>'Split'</li><li>'Osijek'</li></ol>\n"
            ],
            "text/markdown": "1. 'Rijeka'\n2. 'Zagreb'\n3. 'Split'\n4. 'Osijek'\n\n\n",
            "text/latex": "\\begin{enumerate*}\n\\item 'Rijeka'\n\\item 'Zagreb'\n\\item 'Split'\n\\item 'Osijek'\n\\end{enumerate*}\n",
            "text/plain": [
              "[1] \"Rijeka\" \"Zagreb\" \"Split\"  \"Osijek\""
            ]
          },
          "metadata": {}
        },
        {
          "output_type": "display_data",
          "data": {
            "text/html": [
              "'Split'"
            ],
            "text/markdown": "'Split'",
            "text/latex": "'Split'",
            "text/plain": [
              "[1] \"Split\""
            ]
          },
          "metadata": {}
        }
      ],
      "source": [
        "gradovi_vektor\n",
        "gradovi_vektor[3]"
      ]
    },
    {
      "cell_type": "markdown",
      "metadata": {
        "id": "u6CXlKmZlXTo"
      },
      "source": [
        "No elementi vektora mogu imati i imena.\n",
        "Primjerice, možemo imati vektor koji nam prikazuje potrošnju vode za svaki dan u tjednu.  \n",
        "`potrosnja_vektor <- c(20, 30, 10, 15, 12, 14, 15)` gdje svaka vrijednost predstavlja potrošnju vode u našem objektu po danima u tjednu.  \n",
        "Da bi dobili potrošnju od \"utorka\" moramo koristiti `potrosnja_vektor[2]` pošto je utorak drugi dan u tjednu. Postoji i drugi način."
      ]
    },
    {
      "cell_type": "code",
      "execution_count": 5,
      "metadata": {
        "id": "USMmDSmalfaP",
        "vscode": {
          "languageId": "r"
        }
      },
      "outputs": [],
      "source": [
        "# Unosimo vrijednosti vektora\n",
        "potrosnja_vektor <- c(20, 30, 10, 15, 12, 14, 15)\n",
        "\n",
        "# Kreiramo novi vektor sa vrijednostima \"dani u tjednu\"\n",
        "tjedan_nazivi <- c(\"pon\", \"uto\", \"sri\", \"cet\", \"pet\", \"sub\", \"ned\")\n"
      ]
    },
    {
      "cell_type": "markdown",
      "metadata": {
        "id": "5M-rVemqlh0_"
      },
      "source": [
        "Vektoru `potrosnja_vektor` dodijelimo imena iz vektora `tjedan_nazivi`, na način:"
      ]
    },
    {
      "cell_type": "code",
      "execution_count": 6,
      "metadata": {
        "colab": {
          "base_uri": "https://localhost:8080/",
          "height": 34
        },
        "id": "4a-Ihuy4lsn4",
        "outputId": "1feabaf0-1d81-4331-89be-08fc4646fb9f",
        "vscode": {
          "languageId": "r"
        }
      },
      "outputs": [
        {
          "output_type": "display_data",
          "data": {
            "text/html": [
              "<strong>uto:</strong> 30"
            ],
            "text/markdown": "**uto:** 30",
            "text/latex": "\\textbf{uto:} 30",
            "text/plain": [
              "uto \n",
              " 30 "
            ]
          },
          "metadata": {}
        }
      ],
      "source": [
        "names(potrosnja_vektor)<-tjedan_nazivi\n",
        "\n",
        "# Sada vrijednosti vektora imaju imena i možemo ih pozivati imenom. Na primjer:\n",
        "potrosnja_vektor[\"uto\"]"
      ]
    },
    {
      "cell_type": "code",
      "execution_count": 7,
      "metadata": {
        "id": "ysGiLnGeluXX",
        "vscode": {
          "languageId": "r"
        },
        "colab": {
          "base_uri": "https://localhost:8080/",
          "height": 34
        },
        "outputId": "d925385b-7713-41c2-ddc7-9fec1b4342bc"
      },
      "outputs": [
        {
          "output_type": "display_data",
          "data": {
            "text/html": [
              "<style>\n",
              ".dl-inline {width: auto; margin:0; padding: 0}\n",
              ".dl-inline>dt, .dl-inline>dd {float: none; width: auto; display: inline-block}\n",
              ".dl-inline>dt::after {content: \":\\0020\"; padding-right: .5ex}\n",
              ".dl-inline>dt:not(:first-of-type) {padding-left: .5ex}\n",
              "</style><dl class=dl-inline><dt>pon</dt><dd>20</dd><dt>uto</dt><dd>30</dd><dt>sri</dt><dd>10</dd><dt>cet</dt><dd>15</dd><dt>pet</dt><dd>12</dd><dt>sub</dt><dd>14</dd><dt>ned</dt><dd>15</dd></dl>\n"
            ],
            "text/markdown": "pon\n:   20uto\n:   30sri\n:   10cet\n:   15pet\n:   12sub\n:   14ned\n:   15\n\n",
            "text/latex": "\\begin{description*}\n\\item[pon] 20\n\\item[uto] 30\n\\item[sri] 10\n\\item[cet] 15\n\\item[pet] 12\n\\item[sub] 14\n\\item[ned] 15\n\\end{description*}\n",
            "text/plain": [
              "pon uto sri cet pet sub ned \n",
              " 20  30  10  15  12  14  15 "
            ]
          },
          "metadata": {}
        }
      ],
      "source": [
        "# Ako prikažemo vrijednosti vektora, dobijemo:\n",
        "potrosnja_vektor"
      ]
    },
    {
      "cell_type": "code",
      "execution_count": 8,
      "metadata": {
        "id": "V9vJOAVcmJRw",
        "vscode": {
          "languageId": "r"
        },
        "colab": {
          "base_uri": "https://localhost:8080/"
        },
        "outputId": "5bf9a7a7-ab60-487d-cfe7-bc79bd96cc53"
      },
      "outputs": [
        {
          "output_type": "stream",
          "name": "stdout",
          "text": [
            " Named num [1:7] 20 30 10 15 12 14 15\n",
            " - attr(*, \"names\")= chr [1:7] \"pon\" \"uto\" \"sri\" \"cet\" ...\n"
          ]
        }
      ],
      "source": [
        "# Strukturu našeg vektora možemo dobiti funkcijom `str()`\n",
        "str(potrosnja_vektor)"
      ]
    },
    {
      "cell_type": "markdown",
      "metadata": {
        "id": "vxtzNi2pl2qI"
      },
      "source": [
        "### Zbrajanje vektora\n",
        "Vektore možemo jednostavno zbrajati  \n",
        "Kreirajmo vektor `potrosnja_vektor2` sa vrijednostima potrošnje iz drugog tjedna."
      ]
    },
    {
      "cell_type": "code",
      "execution_count": 9,
      "metadata": {
        "id": "3IJsbXHsl6Cn",
        "vscode": {
          "languageId": "r"
        }
      },
      "outputs": [],
      "source": [
        "potrosnja_vektor <- c(20, 30, 10, 15, 12, 14, 15)\n",
        "names(potrosnja_vektor) <- c(\"pon\", \"uto\", \"sri\", \"cet\", \"pet\", \"sub\", \"ned\")\n",
        "potrosnja_vektor2 <- c(4, 3, 6, 12, 8, 11, 6)"
      ]
    },
    {
      "cell_type": "markdown",
      "metadata": {
        "id": "IYuUkW3ql7sn"
      },
      "source": [
        "Tada ukupna potrošnja vode u ta dva tjedna iznosi `ukupno_vektor`."
      ]
    },
    {
      "cell_type": "code",
      "execution_count": 10,
      "metadata": {
        "colab": {
          "base_uri": "https://localhost:8080/",
          "height": 34
        },
        "id": "MM-UgNFPl__3",
        "outputId": "7e0c2b74-be6b-4ce7-9ab6-80d957c79f63",
        "vscode": {
          "languageId": "r"
        }
      },
      "outputs": [
        {
          "output_type": "display_data",
          "data": {
            "text/html": [
              "<style>\n",
              ".dl-inline {width: auto; margin:0; padding: 0}\n",
              ".dl-inline>dt, .dl-inline>dd {float: none; width: auto; display: inline-block}\n",
              ".dl-inline>dt::after {content: \":\\0020\"; padding-right: .5ex}\n",
              ".dl-inline>dt:not(:first-of-type) {padding-left: .5ex}\n",
              "</style><dl class=dl-inline><dt>pon</dt><dd>24</dd><dt>uto</dt><dd>33</dd><dt>sri</dt><dd>16</dd><dt>cet</dt><dd>27</dd><dt>pet</dt><dd>20</dd><dt>sub</dt><dd>25</dd><dt>ned</dt><dd>21</dd></dl>\n"
            ],
            "text/markdown": "pon\n:   24uto\n:   33sri\n:   16cet\n:   27pet\n:   20sub\n:   25ned\n:   21\n\n",
            "text/latex": "\\begin{description*}\n\\item[pon] 24\n\\item[uto] 33\n\\item[sri] 16\n\\item[cet] 27\n\\item[pet] 20\n\\item[sub] 25\n\\item[ned] 21\n\\end{description*}\n",
            "text/plain": [
              "pon uto sri cet pet sub ned \n",
              " 24  33  16  27  20  25  21 "
            ]
          },
          "metadata": {}
        }
      ],
      "source": [
        "ukupno_vektor <- potrosnja_vektor + potrosnja_vektor2 \n",
        "ukupno_vektor"
      ]
    },
    {
      "cell_type": "markdown",
      "metadata": {
        "id": "z503wg-DmN_v"
      },
      "source": [
        "Primjećujemo da je vektor `zbroj_vektora` naslijedio imena..."
      ]
    },
    {
      "cell_type": "markdown",
      "metadata": {
        "id": "HlrcWhwWmRrg"
      },
      "source": [
        "***Zadatak***  \n",
        "Kreirajte vektor koji se zove `servisi2022_vektor` i pridružite mu vrijednosti 2, 4, 3, 1, 6, 4, 3, 2, 6, 7, 9 i 12  \n",
        "Tom vektoru dodijelite imena `mjeseci_vektor` koji sadrži nazive mjeseci (siječanj, ... prosinac)  \n",
        "Zatim kreirajte vektor `servisi2023_vektor` u kojem su sve vrijednosti dvostruke u odnosu na 2018. godinu. \n",
        "Zbrojite ta dva vektora u vektor `servisi22_23_vektor` i ispišite ga.\n"
      ]
    },
    {
      "cell_type": "markdown",
      "metadata": {
        "id": "R4qqYQjRmid_"
      },
      "source": [
        "*Rješenje*"
      ]
    },
    {
      "cell_type": "code",
      "execution_count": 11,
      "metadata": {
        "colab": {
          "base_uri": "https://localhost:8080/",
          "height": 34
        },
        "id": "OR4NugWNmoNH",
        "outputId": "59dd246f-26a3-46b2-ec6d-ddf05304639f",
        "vscode": {
          "languageId": "r"
        }
      },
      "outputs": [
        {
          "output_type": "display_data",
          "data": {
            "text/html": [
              "<style>\n",
              ".dl-inline {width: auto; margin:0; padding: 0}\n",
              ".dl-inline>dt, .dl-inline>dd {float: none; width: auto; display: inline-block}\n",
              ".dl-inline>dt::after {content: \":\\0020\"; padding-right: .5ex}\n",
              ".dl-inline>dt:not(:first-of-type) {padding-left: .5ex}\n",
              "</style><dl class=dl-inline><dt>sij</dt><dd>6</dd><dt>velj</dt><dd>12</dd><dt>ozuj</dt><dd>9</dd><dt>tra</dt><dd>3</dd><dt>svi</dt><dd>18</dd><dt>lip</dt><dd>12</dd><dt>srp</dt><dd>9</dd><dt>kol</dt><dd>6</dd><dt>ruj</dt><dd>18</dd><dt>list</dt><dd>21</dd><dt>stud</dt><dd>27</dd><dt>pros</dt><dd>36</dd></dl>\n"
            ],
            "text/markdown": "sij\n:   6velj\n:   12ozuj\n:   9tra\n:   3svi\n:   18lip\n:   12srp\n:   9kol\n:   6ruj\n:   18list\n:   21stud\n:   27pros\n:   36\n\n",
            "text/latex": "\\begin{description*}\n\\item[sij] 6\n\\item[velj] 12\n\\item[ozuj] 9\n\\item[tra] 3\n\\item[svi] 18\n\\item[lip] 12\n\\item[srp] 9\n\\item[kol] 6\n\\item[ruj] 18\n\\item[list] 21\n\\item[stud] 27\n\\item[pros] 36\n\\end{description*}\n",
            "text/plain": [
              " sij velj ozuj  tra  svi  lip  srp  kol  ruj list stud pros \n",
              "   6   12    9    3   18   12    9    6   18   21   27   36 "
            ]
          },
          "metadata": {}
        }
      ],
      "source": [
        "servisi2022_vektor <- c(2, 4, 3, 1, 6, 4, 3, 2, 6, 7, 9, 12)\n",
        "mjeseci_vektor <- c(\"sij\", \"velj\", \"ozuj\", \"tra\", \"svi\", \"lip\", \"srp\", \"kol\", \"ruj\", \"list\", \"stud\", \"pros\")\n",
        "names(servisi2022_vektor)<-mjeseci_vektor\n",
        "servisi2023_vektor <- 2*servisi2022_vektor\n",
        "servisi22_23_vektor=servisi2022_vektor+servisi2023_vektor\n",
        "servisi22_23_vektor"
      ]
    },
    {
      "cell_type": "markdown",
      "metadata": {
        "id": "noePB3LimsMm"
      },
      "source": [
        "***Zadatak***  \n",
        "Ispišite vrijednosti `servisi22_23_vektor` za prvih 6 mjeseci.<br><br>\n",
        "*Rješenje*  \n",
        "To možemo napraviti na više načina:"
      ]
    },
    {
      "cell_type": "code",
      "execution_count": 12,
      "metadata": {
        "id": "Z45WRMeomw_v",
        "vscode": {
          "languageId": "r"
        },
        "colab": {
          "base_uri": "https://localhost:8080/",
          "height": 86
        },
        "outputId": "48e409e3-3595-44e1-9ecc-3d57c9bdcf6e"
      },
      "outputs": [
        {
          "output_type": "display_data",
          "data": {
            "text/html": [
              "<style>\n",
              ".dl-inline {width: auto; margin:0; padding: 0}\n",
              ".dl-inline>dt, .dl-inline>dd {float: none; width: auto; display: inline-block}\n",
              ".dl-inline>dt::after {content: \":\\0020\"; padding-right: .5ex}\n",
              ".dl-inline>dt:not(:first-of-type) {padding-left: .5ex}\n",
              "</style><dl class=dl-inline><dt>sij</dt><dd>6</dd><dt>velj</dt><dd>12</dd><dt>ozuj</dt><dd>9</dd><dt>tra</dt><dd>3</dd><dt>svi</dt><dd>18</dd><dt>lip</dt><dd>12</dd></dl>\n"
            ],
            "text/markdown": "sij\n:   6velj\n:   12ozuj\n:   9tra\n:   3svi\n:   18lip\n:   12\n\n",
            "text/latex": "\\begin{description*}\n\\item[sij] 6\n\\item[velj] 12\n\\item[ozuj] 9\n\\item[tra] 3\n\\item[svi] 18\n\\item[lip] 12\n\\end{description*}\n",
            "text/plain": [
              " sij velj ozuj  tra  svi  lip \n",
              "   6   12    9    3   18   12 "
            ]
          },
          "metadata": {}
        },
        {
          "output_type": "display_data",
          "data": {
            "text/html": [
              "<style>\n",
              ".dl-inline {width: auto; margin:0; padding: 0}\n",
              ".dl-inline>dt, .dl-inline>dd {float: none; width: auto; display: inline-block}\n",
              ".dl-inline>dt::after {content: \":\\0020\"; padding-right: .5ex}\n",
              ".dl-inline>dt:not(:first-of-type) {padding-left: .5ex}\n",
              "</style><dl class=dl-inline><dt>sij</dt><dd>6</dd><dt>velj</dt><dd>12</dd><dt>ozuj</dt><dd>9</dd><dt>tra</dt><dd>3</dd><dt>svi</dt><dd>18</dd><dt>lip</dt><dd>12</dd></dl>\n"
            ],
            "text/markdown": "sij\n:   6velj\n:   12ozuj\n:   9tra\n:   3svi\n:   18lip\n:   12\n\n",
            "text/latex": "\\begin{description*}\n\\item[sij] 6\n\\item[velj] 12\n\\item[ozuj] 9\n\\item[tra] 3\n\\item[svi] 18\n\\item[lip] 12\n\\end{description*}\n",
            "text/plain": [
              " sij velj ozuj  tra  svi  lip \n",
              "   6   12    9    3   18   12 "
            ]
          },
          "metadata": {}
        },
        {
          "output_type": "display_data",
          "data": {
            "text/html": [
              "<style>\n",
              ".dl-inline {width: auto; margin:0; padding: 0}\n",
              ".dl-inline>dt, .dl-inline>dd {float: none; width: auto; display: inline-block}\n",
              ".dl-inline>dt::after {content: \":\\0020\"; padding-right: .5ex}\n",
              ".dl-inline>dt:not(:first-of-type) {padding-left: .5ex}\n",
              "</style><dl class=dl-inline><dt>sij</dt><dd>6</dd><dt>velj</dt><dd>12</dd><dt>ozuj</dt><dd>9</dd><dt>tra</dt><dd>3</dd><dt>svi</dt><dd>18</dd><dt>lip</dt><dd>12</dd></dl>\n"
            ],
            "text/markdown": "sij\n:   6velj\n:   12ozuj\n:   9tra\n:   3svi\n:   18lip\n:   12\n\n",
            "text/latex": "\\begin{description*}\n\\item[sij] 6\n\\item[velj] 12\n\\item[ozuj] 9\n\\item[tra] 3\n\\item[svi] 18\n\\item[lip] 12\n\\end{description*}\n",
            "text/plain": [
              " sij velj ozuj  tra  svi  lip \n",
              "   6   12    9    3   18   12 "
            ]
          },
          "metadata": {}
        },
        {
          "output_type": "display_data",
          "data": {
            "text/html": [
              "<style>\n",
              ".dl-inline {width: auto; margin:0; padding: 0}\n",
              ".dl-inline>dt, .dl-inline>dd {float: none; width: auto; display: inline-block}\n",
              ".dl-inline>dt::after {content: \":\\0020\"; padding-right: .5ex}\n",
              ".dl-inline>dt:not(:first-of-type) {padding-left: .5ex}\n",
              "</style><dl class=dl-inline><dt>sij</dt><dd>6</dd><dt>velj</dt><dd>12</dd><dt>ozuj</dt><dd>9</dd><dt>tra</dt><dd>3</dd><dt>svi</dt><dd>18</dd><dt>lip</dt><dd>12</dd></dl>\n"
            ],
            "text/markdown": "sij\n:   6velj\n:   12ozuj\n:   9tra\n:   3svi\n:   18lip\n:   12\n\n",
            "text/latex": "\\begin{description*}\n\\item[sij] 6\n\\item[velj] 12\n\\item[ozuj] 9\n\\item[tra] 3\n\\item[svi] 18\n\\item[lip] 12\n\\end{description*}\n",
            "text/plain": [
              " sij velj ozuj  tra  svi  lip \n",
              "   6   12    9    3   18   12 "
            ]
          },
          "metadata": {}
        }
      ],
      "source": [
        "servisi22_23_vektor[c(1:6)]\n",
        "servisi22_23_vektor[c(1, 2, 3, 4, 5, 6)]\n",
        "servisi22_23_vektor[c(\"sij\", \"velj\", \"ozuj\", \"tra\", \"svi\", \"lip\")]\n",
        "servisi22_23_vektor[c(T, T, T, T, T, T, F, F, F, F, F, F)]"
      ]
    }
  ],
  "metadata": {
    "colab": {
      "name": "02. Programski jezik R - osnovne racunske operacije, varijable i vektori.ipynb",
      "provenance": []
    },
    "kernelspec": {
      "display_name": "R",
      "name": "ir"
    }
  },
  "nbformat": 4,
  "nbformat_minor": 0
}