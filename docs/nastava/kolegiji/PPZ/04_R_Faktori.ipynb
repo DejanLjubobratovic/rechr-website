{
  "cells": [
    {
      "cell_type": "markdown",
      "metadata": {
        "id": "dxUdG1lqnjO3"
      },
      "source": [
        "# 4. Faktori\n",
        "Pojam *faktor* se odnosi na statistički tip podataka koji zovemo kategorička varijabla.  \n",
        "Kategoričke varijable pripadaju nekom skupu (klasi) sa ograničenim brojem kategorija (vrijednosti klase).  \n",
        "Na primjer: `Muško`, `Žensko`  ili `Prošao ispit`, `Pao ispit`  \n",
        "Faktor dobijemo tako da vektor konvertiramo funkcijom `factor()`   \n",
        "\n",
        "**Primjer:**\n",
        "Imamo vektor spol koji ima 5 elemenata"
      ]
    },
    {
      "cell_type": "code",
      "execution_count": 1,
      "metadata": {
        "colab": {
          "base_uri": "https://localhost:8080/",
          "height": 34
        },
        "id": "SOITeIrc-SKY",
        "outputId": "441b28b1-6b7d-49ad-e290-419a124e8fa8",
        "vscode": {
          "languageId": "r"
        }
      },
      "outputs": [
        {
          "output_type": "display_data",
          "data": {
            "text/html": [
              "<style>\n",
              ".list-inline {list-style: none; margin:0; padding: 0}\n",
              ".list-inline>li {display: inline-block}\n",
              ".list-inline>li:not(:last-child)::after {content: \"\\00b7\"; padding: 0 .5ex}\n",
              "</style>\n",
              "<ol class=list-inline><li>'musko'</li><li>'zensko'</li><li>'zensko'</li><li>'zensko'</li><li>'musko'</li></ol>\n"
            ],
            "text/markdown": "1. 'musko'\n2. 'zensko'\n3. 'zensko'\n4. 'zensko'\n5. 'musko'\n\n\n",
            "text/latex": "\\begin{enumerate*}\n\\item 'musko'\n\\item 'zensko'\n\\item 'zensko'\n\\item 'zensko'\n\\item 'musko'\n\\end{enumerate*}\n",
            "text/plain": [
              "[1] \"musko\"  \"zensko\" \"zensko\" \"zensko\" \"musko\" "
            ]
          },
          "metadata": {}
        }
      ],
      "source": [
        "spol_v <- c('musko', 'zensko', 'zensko', 'zensko', 'musko')\n",
        "spol_v"
      ]
    },
    {
      "cell_type": "markdown",
      "metadata": {
        "id": "a3SC5z7HnraO"
      },
      "source": [
        "Kada ga konvertiramo u faktor dobijemo 5 elemenata ali samo dvije vrijednosti klase (levels);"
      ]
    },
    {
      "cell_type": "code",
      "execution_count": 2,
      "metadata": {
        "colab": {
          "base_uri": "https://localhost:8080/",
          "height": 69
        },
        "id": "UElNrAJdnvfF",
        "outputId": "4b1a2390-5009-4fef-a636-b33c3a8bcb87",
        "vscode": {
          "languageId": "r"
        }
      },
      "outputs": [
        {
          "output_type": "display_data",
          "data": {
            "text/html": [
              "<style>\n",
              ".list-inline {list-style: none; margin:0; padding: 0}\n",
              ".list-inline>li {display: inline-block}\n",
              ".list-inline>li:not(:last-child)::after {content: \"\\00b7\"; padding: 0 .5ex}\n",
              "</style>\n",
              "<ol class=list-inline><li>musko</li><li>zensko</li><li>zensko</li><li>zensko</li><li>musko</li></ol>\n",
              "\n",
              "<details>\n",
              "\t<summary style=display:list-item;cursor:pointer>\n",
              "\t\t<strong>Levels</strong>:\n",
              "\t</summary>\n",
              "\t<style>\n",
              "\t.list-inline {list-style: none; margin:0; padding: 0}\n",
              "\t.list-inline>li {display: inline-block}\n",
              "\t.list-inline>li:not(:last-child)::after {content: \"\\00b7\"; padding: 0 .5ex}\n",
              "\t</style>\n",
              "\t<ol class=list-inline><li>'musko'</li><li>'zensko'</li></ol>\n",
              "</details>"
            ],
            "text/markdown": "1. musko\n2. zensko\n3. zensko\n4. zensko\n5. musko\n\n\n\n**Levels**: 1. 'musko'\n2. 'zensko'\n\n\n",
            "text/latex": "\\begin{enumerate*}\n\\item musko\n\\item zensko\n\\item zensko\n\\item zensko\n\\item musko\n\\end{enumerate*}\n\n\\emph{Levels}: \\begin{enumerate*}\n\\item 'musko'\n\\item 'zensko'\n\\end{enumerate*}\n",
            "text/plain": [
              "[1] musko  zensko zensko zensko musko \n",
              "Levels: musko zensko"
            ]
          },
          "metadata": {}
        }
      ],
      "source": [
        "spol_f <- factor(spol_v)\n",
        "spol_f"
      ]
    },
    {
      "cell_type": "markdown",
      "metadata": {
        "id": "h4a1KQxinxo3"
      },
      "source": [
        "Kada govorimo o kategoričkim varijablama razlikujemo **nominalne** i **ordinalne** varijable.  \n",
        "Za razliku od nominalnih koje su \"obične\" (spol, boja kose, vrsta životinje, ...) ordinalne varijable u sebi sadržavaju određenu hijerarhiju.  \n",
        "Na primjer; \"dobar\", \"loš\", \"zao\",   \n",
        "ili  \"ponedjeljak\", \"utorak\", \"srijeda\",   \n",
        "ili \"visok\", \"srednji\", \"nizak\"<br><br>\n",
        "Tu unutrašnju hijerarhiju možemo i zadati u faktoru.  \n",
        "Na primjer:"
      ]
    },
    {
      "cell_type": "code",
      "execution_count": 3,
      "metadata": {
        "colab": {
          "base_uri": "https://localhost:8080/",
          "height": 69
        },
        "id": "j7onu-sznz_9",
        "outputId": "373bb2a7-49f2-4503-b358-8de8c67e6889",
        "vscode": {
          "languageId": "r"
        }
      },
      "outputs": [
        {
          "output_type": "display_data",
          "data": {
            "text/html": [
              "<style>\n",
              ".list-inline {list-style: none; margin:0; padding: 0}\n",
              ".list-inline>li {display: inline-block}\n",
              ".list-inline>li:not(:last-child)::after {content: \"\\00b7\"; padding: 0 .5ex}\n",
              "</style>\n",
              "<ol class=list-inline><li>visoka</li><li>visoka</li><li>srednja</li><li>niska</li><li>visoka</li></ol>\n",
              "\n",
              "<details>\n",
              "\t<summary style=display:list-item;cursor:pointer>\n",
              "\t\t<strong>Levels</strong>:\n",
              "\t</summary>\n",
              "\t<style>\n",
              "\t.list-inline {list-style: none; margin:0; padding: 0}\n",
              "\t.list-inline>li {display: inline-block}\n",
              "\t.list-inline>li:not(:last-child)::after {content: \"\\00b7\"; padding: 0 .5ex}\n",
              "\t</style>\n",
              "\t<ol class=list-inline><li>'niska'</li><li>'srednja'</li><li>'visoka'</li></ol>\n",
              "</details>"
            ],
            "text/markdown": "1. visoka\n2. visoka\n3. srednja\n4. niska\n5. visoka\n\n\n\n**Levels**: 1. 'niska'\n2. 'srednja'\n3. 'visoka'\n\n\n",
            "text/latex": "\\begin{enumerate*}\n\\item visoka\n\\item visoka\n\\item srednja\n\\item niska\n\\item visoka\n\\end{enumerate*}\n\n\\emph{Levels}: \\begin{enumerate*}\n\\item 'niska'\n\\item 'srednja'\n\\item 'visoka'\n\\end{enumerate*}\n",
            "text/plain": [
              "[1] visoka  visoka  srednja niska   visoka \n",
              "Levels: niska < srednja < visoka"
            ]
          },
          "metadata": {}
        }
      ],
      "source": [
        "temp_v <- c(\"visoka\", \"visoka\", \"srednja\", \"niska\", \"visoka\")\n",
        "temp_f <- factor(temp_v, order=TRUE, levels=c(\"niska\", \"srednja\", \"visoka\"))\n",
        "temp_f"
      ]
    },
    {
      "cell_type": "markdown",
      "metadata": {
        "id": "SUOAXkRXoAa1"
      },
      "source": [
        "To smo mogli napraviti i na slijedeći način:"
      ]
    },
    {
      "cell_type": "code",
      "execution_count": 4,
      "metadata": {
        "colab": {
          "base_uri": "https://localhost:8080/",
          "height": 69
        },
        "id": "KGWkCZhnoDK9",
        "outputId": "b1719652-af8c-4961-8a98-7a67070f347c",
        "vscode": {
          "languageId": "r"
        }
      },
      "outputs": [
        {
          "output_type": "display_data",
          "data": {
            "text/html": [
              "<style>\n",
              ".list-inline {list-style: none; margin:0; padding: 0}\n",
              ".list-inline>li {display: inline-block}\n",
              ".list-inline>li:not(:last-child)::after {content: \"\\00b7\"; padding: 0 .5ex}\n",
              "</style>\n",
              "<ol class=list-inline><li>visoka</li><li>visoka</li><li>srednja</li><li>niska</li><li>visoka</li></ol>\n",
              "\n",
              "<details>\n",
              "\t<summary style=display:list-item;cursor:pointer>\n",
              "\t\t<strong>Levels</strong>:\n",
              "\t</summary>\n",
              "\t<style>\n",
              "\t.list-inline {list-style: none; margin:0; padding: 0}\n",
              "\t.list-inline>li {display: inline-block}\n",
              "\t.list-inline>li:not(:last-child)::after {content: \"\\00b7\"; padding: 0 .5ex}\n",
              "\t</style>\n",
              "\t<ol class=list-inline><li>'niska'</li><li>'srednja'</li><li>'visoka'</li></ol>\n",
              "</details>"
            ],
            "text/markdown": "1. visoka\n2. visoka\n3. srednja\n4. niska\n5. visoka\n\n\n\n**Levels**: 1. 'niska'\n2. 'srednja'\n3. 'visoka'\n\n\n",
            "text/latex": "\\begin{enumerate*}\n\\item visoka\n\\item visoka\n\\item srednja\n\\item niska\n\\item visoka\n\\end{enumerate*}\n\n\\emph{Levels}: \\begin{enumerate*}\n\\item 'niska'\n\\item 'srednja'\n\\item 'visoka'\n\\end{enumerate*}\n",
            "text/plain": [
              "[1] visoka  visoka  srednja niska   visoka \n",
              "Levels: niska < srednja < visoka"
            ]
          },
          "metadata": {}
        }
      ],
      "source": [
        "temp_f <- factor(temp_v, order=T)\n",
        "levels(temp_f)=c(\"niska\", \"srednja\", \"visoka\")\n",
        "temp_f"
      ]
    },
    {
      "cell_type": "markdown",
      "metadata": {
        "id": "tSpVapoOoFHF"
      },
      "source": [
        "Pošto imamo hijerarhiju, tj. redoslijed u faktoru, možemo uspoređivati njegove elemente.  \n",
        "Na primjer u faktoru `temp_f` pogledajmo njegov 3. i 4. element i onda provjerimo da li je 3. veći od 4.  "
      ]
    },
    {
      "cell_type": "code",
      "execution_count": 5,
      "metadata": {
        "colab": {
          "base_uri": "https://localhost:8080/",
          "height": 139
        },
        "id": "ca9NCPFmoHeN",
        "outputId": "1e788aad-3647-41bc-9052-12dd5cd70a82",
        "vscode": {
          "languageId": "r"
        }
      },
      "outputs": [
        {
          "output_type": "display_data",
          "data": {
            "text/html": [
              "srednja\n",
              "<details>\n",
              "\t<summary style=display:list-item;cursor:pointer>\n",
              "\t\t<strong>Levels</strong>:\n",
              "\t</summary>\n",
              "\t<style>\n",
              "\t.list-inline {list-style: none; margin:0; padding: 0}\n",
              "\t.list-inline>li {display: inline-block}\n",
              "\t.list-inline>li:not(:last-child)::after {content: \"\\00b7\"; padding: 0 .5ex}\n",
              "\t</style>\n",
              "\t<ol class=list-inline><li>'niska'</li><li>'srednja'</li><li>'visoka'</li></ol>\n",
              "</details>"
            ],
            "text/markdown": "srednja\n**Levels**: 1. 'niska'\n2. 'srednja'\n3. 'visoka'\n\n\n",
            "text/latex": "srednja\n\\emph{Levels}: \\begin{enumerate*}\n\\item 'niska'\n\\item 'srednja'\n\\item 'visoka'\n\\end{enumerate*}\n",
            "text/plain": [
              "[1] srednja\n",
              "Levels: niska < srednja < visoka"
            ]
          },
          "metadata": {}
        },
        {
          "output_type": "display_data",
          "data": {
            "text/html": [
              "niska\n",
              "<details>\n",
              "\t<summary style=display:list-item;cursor:pointer>\n",
              "\t\t<strong>Levels</strong>:\n",
              "\t</summary>\n",
              "\t<style>\n",
              "\t.list-inline {list-style: none; margin:0; padding: 0}\n",
              "\t.list-inline>li {display: inline-block}\n",
              "\t.list-inline>li:not(:last-child)::after {content: \"\\00b7\"; padding: 0 .5ex}\n",
              "\t</style>\n",
              "\t<ol class=list-inline><li>'niska'</li><li>'srednja'</li><li>'visoka'</li></ol>\n",
              "</details>"
            ],
            "text/markdown": "niska\n**Levels**: 1. 'niska'\n2. 'srednja'\n3. 'visoka'\n\n\n",
            "text/latex": "niska\n\\emph{Levels}: \\begin{enumerate*}\n\\item 'niska'\n\\item 'srednja'\n\\item 'visoka'\n\\end{enumerate*}\n",
            "text/plain": [
              "[1] niska\n",
              "Levels: niska < srednja < visoka"
            ]
          },
          "metadata": {}
        },
        {
          "output_type": "display_data",
          "data": {
            "text/html": [
              "TRUE"
            ],
            "text/markdown": "TRUE",
            "text/latex": "TRUE",
            "text/plain": [
              "[1] TRUE"
            ]
          },
          "metadata": {}
        }
      ],
      "source": [
        "temp_f[3] \n",
        "temp_f[4]\n",
        "temp_f[3]>temp_f[4]"
      ]
    },
    {
      "cell_type": "markdown",
      "metadata": {
        "id": "boy45HwJoUHO"
      },
      "source": [
        "I zaista, `srednja` jest veća od `niske`<br><br>\n",
        "### Malo detaljnije o faktoru\n",
        "Da bi dobili više detalja o nekom faktori koristimo funkciju `summary()`  \n",
        "Ova funkcija će nam vratiti broj elemenata pojedine vrijednosti klase.  \n",
        "Na primjer:"
      ]
    },
    {
      "cell_type": "code",
      "execution_count": 6,
      "metadata": {
        "colab": {
          "base_uri": "https://localhost:8080/",
          "height": 34
        },
        "id": "S7H-_SS4oayN",
        "outputId": "7721fb76-3d2c-40cf-f2f3-6e0abfb7b3c2",
        "vscode": {
          "languageId": "r"
        }
      },
      "outputs": [
        {
          "output_type": "display_data",
          "data": {
            "text/html": [
              "<style>\n",
              ".dl-inline {width: auto; margin:0; padding: 0}\n",
              ".dl-inline>dt, .dl-inline>dd {float: none; width: auto; display: inline-block}\n",
              ".dl-inline>dt::after {content: \":\\0020\"; padding-right: .5ex}\n",
              ".dl-inline>dt:not(:first-of-type) {padding-left: .5ex}\n",
              "</style><dl class=dl-inline><dt>niska</dt><dd>1</dd><dt>srednja</dt><dd>1</dd><dt>visoka</dt><dd>3</dd></dl>\n"
            ],
            "text/markdown": "niska\n:   1srednja\n:   1visoka\n:   3\n\n",
            "text/latex": "\\begin{description*}\n\\item[niska] 1\n\\item[srednja] 1\n\\item[visoka] 3\n\\end{description*}\n",
            "text/plain": [
              "  niska srednja  visoka \n",
              "      1       1       3 "
            ]
          },
          "metadata": {}
        }
      ],
      "source": [
        "summary(temp_f)"
      ]
    },
    {
      "cell_type": "markdown",
      "metadata": {
        "id": "DpMIFeLRodD1"
      },
      "source": [
        "## Zadatak\n",
        "Sjećate li se onih temperatura?  \n",
        "E, sada ćete napraviti faktore od vektora `pon` i `uto`.  \n",
        "`pon_v` ima vrijednosti `visoka`, `niska`, `visoka`, a   \n",
        "`uto_v` ima vrijednosti `srednja`, `niska`,  `visoka`  \n",
        "Pretvorite ih i faktore i usporedite ih"
      ]
    },
    {
      "cell_type": "code",
      "execution_count": 7,
      "metadata": {
        "colab": {
          "base_uri": "https://localhost:8080/",
          "height": 34
        },
        "id": "pMXaaPgXogH7",
        "outputId": "536fc09b-33a3-460a-99d3-97d62edfe380",
        "vscode": {
          "languageId": "r"
        }
      },
      "outputs": [
        {
          "output_type": "display_data",
          "data": {
            "text/html": [
              "<style>\n",
              ".list-inline {list-style: none; margin:0; padding: 0}\n",
              ".list-inline>li {display: inline-block}\n",
              ".list-inline>li:not(:last-child)::after {content: \"\\00b7\"; padding: 0 .5ex}\n",
              "</style>\n",
              "<ol class=list-inline><li>TRUE</li><li>FALSE</li><li>FALSE</li></ol>\n"
            ],
            "text/markdown": "1. TRUE\n2. FALSE\n3. FALSE\n\n\n",
            "text/latex": "\\begin{enumerate*}\n\\item TRUE\n\\item FALSE\n\\item FALSE\n\\end{enumerate*}\n",
            "text/plain": [
              "[1]  TRUE FALSE FALSE"
            ]
          },
          "metadata": {}
        }
      ],
      "source": [
        "## Rješenje\n",
        "pon_v <- c('visoka', 'niska', 'visoka')\n",
        "uto_v <- c('srednja', 'niska', 'visoka')\n",
        "hijerarhija_v <- c('niska', 'srednja', 'visoka')\n",
        "pon_f <- factor(pon_v, order=T, levels=hijerarhija_v)\n",
        "uto_f <- factor(uto_v, order=T, levels=hijerarhija_v)\n",
        "pon_f > uto_f"
      ]
    },
    {
      "cell_type": "markdown",
      "metadata": {
        "id": "Tnce4gjFoiT6"
      },
      "source": [
        "Uspoređivao je svaki element pojedinačno.\n",
        "Interesantno, zar ne?"
      ]
    }
  ],
  "metadata": {
    "colab": {
      "name": "04 Programski jezik R - Faktori.ipynb",
      "provenance": []
    },
    "kernelspec": {
      "display_name": "R",
      "name": "ir"
    }
  },
  "nbformat": 4,
  "nbformat_minor": 0
}