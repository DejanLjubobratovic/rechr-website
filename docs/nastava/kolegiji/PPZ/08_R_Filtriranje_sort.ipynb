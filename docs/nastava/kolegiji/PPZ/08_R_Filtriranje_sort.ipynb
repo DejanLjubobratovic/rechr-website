{
  "cells": [
    {
      "cell_type": "markdown",
      "metadata": {
        "id": "fwYqK4gaaVv_"
      },
      "source": [
        "# 8. Filtriranje, sortiranje i mijenjanje (mutate) podataka\n",
        "### *gapminder* dataset\n",
        "U ovoj vježbi koristit ćemo dva paketa:  \n",
        "- `gapminder` - koji predstavlja skup podataka (dataset)\n",
        "- `dplyr` - koji sadrži funkcije za manipuliranje podacima (`filter`, `arrange`, `mutate`, ...) <br>\n",
        "\n",
        "Gapminder dataset je izvadak podataka dostupan na gapminder.org za 142 države (uključujući Hrvatsku), a paket osigurava vrijednosti  \n",
        "očekivanog trajanja života, BDP-a po glavi stanovnika te broj stanovnika mjerenih svakih pet godina od 1952. do 2007. godine.  \n",
        "U svakom slučaju vrlo interesantan skup za vježbanje.<br><br>\n",
        "Na samom početku ćemo instalirati ta dva paketa: `gapminder` i `dplyr`"
      ]
    },
    {
      "cell_type": "code",
      "execution_count": 1,
      "metadata": {
        "colab": {
          "base_uri": "https://localhost:8080/"
        },
        "id": "SOITeIrc-SKY",
        "outputId": "a7416c17-725e-443d-e268-447d2774687d",
        "vscode": {
          "languageId": "r"
        }
      },
      "outputs": [
        {
          "output_type": "stream",
          "name": "stderr",
          "text": [
            "Installing package into ‘/usr/local/lib/R/site-library’\n",
            "(as ‘lib’ is unspecified)\n",
            "\n",
            "Installing package into ‘/usr/local/lib/R/site-library’\n",
            "(as ‘lib’ is unspecified)\n",
            "\n"
          ]
        }
      ],
      "source": [
        "# Učitavamo pakete gapminder i dplyr\n",
        "# Ukoliko ih nemamo u sustavu moramo ih instalirati naredbama\n",
        "install.packages('gapminder')\n",
        "install.packages('dplyr')"
      ]
    },
    {
      "cell_type": "markdown",
      "metadata": {
        "id": "nUybCCCHb9Ln"
      },
      "source": [
        "A, zatim ćemo ih učitati:"
      ]
    },
    {
      "cell_type": "code",
      "execution_count": 2,
      "metadata": {
        "colab": {
          "base_uri": "https://localhost:8080/"
        },
        "id": "1eg5BdgMaU0Z",
        "outputId": "0f216fe7-2983-497f-a83e-d7e65cebb931",
        "vscode": {
          "languageId": "r"
        }
      },
      "outputs": [
        {
          "output_type": "stream",
          "name": "stderr",
          "text": [
            "\n",
            "Attaching package: ‘dplyr’\n",
            "\n",
            "\n",
            "The following objects are masked from ‘package:stats’:\n",
            "\n",
            "    filter, lag\n",
            "\n",
            "\n",
            "The following objects are masked from ‘package:base’:\n",
            "\n",
            "    intersect, setdiff, setequal, union\n",
            "\n",
            "\n"
          ]
        }
      ],
      "source": [
        "library('gapminder')\n",
        "library('dplyr')"
      ]
    },
    {
      "cell_type": "markdown",
      "metadata": {
        "id": "E7d49DdicEJv"
      },
      "source": [
        "Pogledajmo sada prva tri zapisa `gapminder` dataseta: "
      ]
    },
    {
      "cell_type": "code",
      "execution_count": 3,
      "metadata": {
        "colab": {
          "base_uri": "https://localhost:8080/",
          "height": 192
        },
        "id": "PhJ1e3xlcR2_",
        "outputId": "6a934f00-028f-4a61-b6cb-8b23f466a77d",
        "vscode": {
          "languageId": "r"
        }
      },
      "outputs": [
        {
          "output_type": "display_data",
          "data": {
            "text/html": [
              "<table class=\"dataframe\">\n",
              "<caption>A tibble: 3 × 6</caption>\n",
              "<thead>\n",
              "\t<tr><th scope=col>country</th><th scope=col>continent</th><th scope=col>year</th><th scope=col>lifeExp</th><th scope=col>pop</th><th scope=col>gdpPercap</th></tr>\n",
              "\t<tr><th scope=col>&lt;fct&gt;</th><th scope=col>&lt;fct&gt;</th><th scope=col>&lt;int&gt;</th><th scope=col>&lt;dbl&gt;</th><th scope=col>&lt;int&gt;</th><th scope=col>&lt;dbl&gt;</th></tr>\n",
              "</thead>\n",
              "<tbody>\n",
              "\t<tr><td>Afghanistan</td><td>Asia</td><td>1952</td><td>28.801</td><td> 8425333</td><td>779.4453</td></tr>\n",
              "\t<tr><td>Afghanistan</td><td>Asia</td><td>1957</td><td>30.332</td><td> 9240934</td><td>820.8530</td></tr>\n",
              "\t<tr><td>Afghanistan</td><td>Asia</td><td>1962</td><td>31.997</td><td>10267083</td><td>853.1007</td></tr>\n",
              "</tbody>\n",
              "</table>\n"
            ],
            "text/markdown": "\nA tibble: 3 × 6\n\n| country &lt;fct&gt; | continent &lt;fct&gt; | year &lt;int&gt; | lifeExp &lt;dbl&gt; | pop &lt;int&gt; | gdpPercap &lt;dbl&gt; |\n|---|---|---|---|---|---|\n| Afghanistan | Asia | 1952 | 28.801 |  8425333 | 779.4453 |\n| Afghanistan | Asia | 1957 | 30.332 |  9240934 | 820.8530 |\n| Afghanistan | Asia | 1962 | 31.997 | 10267083 | 853.1007 |\n\n",
            "text/latex": "A tibble: 3 × 6\n\\begin{tabular}{llllll}\n country & continent & year & lifeExp & pop & gdpPercap\\\\\n <fct> & <fct> & <int> & <dbl> & <int> & <dbl>\\\\\n\\hline\n\t Afghanistan & Asia & 1952 & 28.801 &  8425333 & 779.4453\\\\\n\t Afghanistan & Asia & 1957 & 30.332 &  9240934 & 820.8530\\\\\n\t Afghanistan & Asia & 1962 & 31.997 & 10267083 & 853.1007\\\\\n\\end{tabular}\n",
            "text/plain": [
              "  country     continent year lifeExp pop      gdpPercap\n",
              "1 Afghanistan Asia      1952 28.801   8425333 779.4453 \n",
              "2 Afghanistan Asia      1957 30.332   9240934 820.8530 \n",
              "3 Afghanistan Asia      1962 31.997  10267083 853.1007 "
            ]
          },
          "metadata": {}
        }
      ],
      "source": [
        "head(gapminder, 3)"
      ]
    },
    {
      "cell_type": "markdown",
      "metadata": {
        "id": "-3lgrNWBaf4h"
      },
      "source": [
        "Iz ovog kratkog pregleda možemo vidjeti da baza sadrži 6 stupaca, tj varijabli.  \n",
        "Ukoliko unesemo ime dataseta vidjeti ćemo sve podatke tj. 1704 redka (mjerenja, opservacije, opažanja).  \n",
        "Nemamo toliko mjesta na ekranu, pa ćemo radije pogledati strukture naše baze."
      ]
    },
    {
      "cell_type": "code",
      "execution_count": 5,
      "metadata": {
        "colab": {
          "base_uri": "https://localhost:8080/"
        },
        "id": "VZ35v9U9ailQ",
        "outputId": "4d5e19b7-e7da-4b11-b836-6d8b91c89aa2",
        "vscode": {
          "languageId": "r"
        }
      },
      "outputs": [
        {
          "output_type": "stream",
          "name": "stdout",
          "text": [
            "tibble [1,704 × 6] (S3: tbl_df/tbl/data.frame)\n",
            " $ country  : Factor w/ 142 levels \"Afghanistan\",..: 1 1 1 1 1 1 1 1 1 1 ...\n",
            " $ continent: Factor w/ 5 levels \"Africa\",\"Americas\",..: 3 3 3 3 3 3 3 3 3 3 ...\n",
            " $ year     : int [1:1704] 1952 1957 1962 1967 1972 1977 1982 1987 1992 1997 ...\n",
            " $ lifeExp  : num [1:1704] 28.8 30.3 32 34 36.1 ...\n",
            " $ pop      : int [1:1704] 8425333 9240934 10267083 11537966 13079460 14880372 12881816 13867957 16317921 22227415 ...\n",
            " $ gdpPercap: num [1:1704] 779 821 853 836 740 ...\n"
          ]
        }
      ],
      "source": [
        "str(gapminder)"
      ]
    },
    {
      "cell_type": "markdown",
      "metadata": {
        "id": "fuX1htFWajKA"
      },
      "source": [
        "## Filtriranje\n",
        "Filtriranje ćemo često koristiti kod analize i vizualizacije podataka.  \n",
        "U tu svrhu koristiti ćemo oznaku `%>%` (pipe) i funkciju `filter()` koja treba sadržavati neki kriterij.<br><br>\n",
        "**Primjer:** Prikažite sva mjerenja iz 2007. godine.  \n",
        "Primjećujete da se dvostruko \"=\" koristi za uspoređivanje."
      ]
    },
    {
      "cell_type": "code",
      "execution_count": null,
      "metadata": {
        "id": "wRJKv-2GamUI",
        "vscode": {
          "languageId": "r"
        }
      },
      "outputs": [],
      "source": [
        "gapminder %>% \n",
        "    filter(year==2007)"
      ]
    },
    {
      "cell_type": "markdown",
      "metadata": {
        "id": "DyhdTM5BarDo"
      },
      "source": [
        "### više kriterija u filteru...\n",
        "Ukoliko želimo filtrirati bazu prema više kriterija, dovoljno ih je odvojiti zarezom.<br><br>\n",
        "**Primjer:** Prikažite mjerenja za Hrvatsku nakon 1990. godine."
      ]
    },
    {
      "cell_type": "code",
      "execution_count": null,
      "metadata": {
        "id": "CZXvqEGSaqsx",
        "vscode": {
          "languageId": "r"
        }
      },
      "outputs": [],
      "source": [
        "gapminder %>% \n",
        "    filter(country=='Croatia', year>1990)"
      ]
    },
    {
      "cell_type": "markdown",
      "metadata": {
        "id": "rU-CzoAZav6v"
      },
      "source": [
        "## Sortiranje\n",
        "Da bi prikazali podatke željenim redoslijedom koristiti ćemo funkciju `arrange()`.  \n",
        "Funkcija `arrange()` se koristi na sličan način kao i funkcija `filter()`.  \n",
        "Dakle nakon imena dataseta i znaka pipe-a unesemo varijablu po kojoj želimo sortirati podatke.  \n",
        "Osnovo sortiranje je *uzlazno* (od najmanjeg prema najvećem), no ukoliko želimo sortirati *silazno* moramo koristiti opciju `desc()`.<br><br>\n",
        "**Primjer:** Sortirajte naš dataset prema broju stanovnika."
      ]
    },
    {
      "cell_type": "code",
      "execution_count": null,
      "metadata": {
        "id": "A4Js43gUa2jf",
        "vscode": {
          "languageId": "r"
        }
      },
      "outputs": [],
      "source": [
        "gapminder %>%\n",
        "   arrange(pop)"
      ]
    },
    {
      "cell_type": "markdown",
      "metadata": {
        "id": "_jVGJc8Da3Oo"
      },
      "source": [
        "## **Zadatak:**  \n",
        "Prikažite sve države koje su 2007 godine imale više od 200 milijuna stanovnika.  \n",
        "Rezultate sortirajte silazno prema nazivu države.  \n",
        "Dakle, da bi kombinirali filtriranje i sortiranje potrebno ih je samo povezati pipe znakovima."
      ]
    },
    {
      "cell_type": "code",
      "execution_count": null,
      "metadata": {
        "colab": {
          "base_uri": "https://localhost:8080/",
          "height": 224
        },
        "id": "hBIyT8lLa5xf",
        "outputId": "e9c6a18a-2d98-4e3c-e85c-b36558182e9f",
        "vscode": {
          "languageId": "r"
        }
      },
      "outputs": [
        {
          "data": {
            "text/html": [
              "<table class=\"dataframe\">\n",
              "<caption>A tibble: 4 × 6</caption>\n",
              "<thead>\n",
              "\t<tr><th scope=col>country</th><th scope=col>continent</th><th scope=col>year</th><th scope=col>lifeExp</th><th scope=col>pop</th><th scope=col>gdpPercap</th></tr>\n",
              "\t<tr><th scope=col>&lt;fct&gt;</th><th scope=col>&lt;fct&gt;</th><th scope=col>&lt;int&gt;</th><th scope=col>&lt;dbl&gt;</th><th scope=col>&lt;int&gt;</th><th scope=col>&lt;dbl&gt;</th></tr>\n",
              "</thead>\n",
              "<tbody>\n",
              "\t<tr><td>United States</td><td>Americas</td><td>2007</td><td>78.242</td><td> 301139947</td><td>42951.653</td></tr>\n",
              "\t<tr><td>Indonesia    </td><td>Asia    </td><td>2007</td><td>70.650</td><td> 223547000</td><td> 3540.652</td></tr>\n",
              "\t<tr><td>India        </td><td>Asia    </td><td>2007</td><td>64.698</td><td>1110396331</td><td> 2452.210</td></tr>\n",
              "\t<tr><td>China        </td><td>Asia    </td><td>2007</td><td>72.961</td><td>1318683096</td><td> 4959.115</td></tr>\n",
              "</tbody>\n",
              "</table>\n"
            ],
            "text/latex": [
              "A tibble: 4 × 6\n",
              "\\begin{tabular}{llllll}\n",
              " country & continent & year & lifeExp & pop & gdpPercap\\\\\n",
              " <fct> & <fct> & <int> & <dbl> & <int> & <dbl>\\\\\n",
              "\\hline\n",
              "\t United States & Americas & 2007 & 78.242 &  301139947 & 42951.653\\\\\n",
              "\t Indonesia     & Asia     & 2007 & 70.650 &  223547000 &  3540.652\\\\\n",
              "\t India         & Asia     & 2007 & 64.698 & 1110396331 &  2452.210\\\\\n",
              "\t China         & Asia     & 2007 & 72.961 & 1318683096 &  4959.115\\\\\n",
              "\\end{tabular}\n"
            ],
            "text/markdown": [
              "\n",
              "A tibble: 4 × 6\n",
              "\n",
              "| country &lt;fct&gt; | continent &lt;fct&gt; | year &lt;int&gt; | lifeExp &lt;dbl&gt; | pop &lt;int&gt; | gdpPercap &lt;dbl&gt; |\n",
              "|---|---|---|---|---|---|\n",
              "| United States | Americas | 2007 | 78.242 |  301139947 | 42951.653 |\n",
              "| Indonesia     | Asia     | 2007 | 70.650 |  223547000 |  3540.652 |\n",
              "| India         | Asia     | 2007 | 64.698 | 1110396331 |  2452.210 |\n",
              "| China         | Asia     | 2007 | 72.961 | 1318683096 |  4959.115 |\n",
              "\n"
            ],
            "text/plain": [
              "  country       continent year lifeExp pop        gdpPercap\n",
              "1 United States Americas  2007 78.242   301139947 42951.653\n",
              "2 Indonesia     Asia      2007 70.650   223547000  3540.652\n",
              "3 India         Asia      2007 64.698  1110396331  2452.210\n",
              "4 China         Asia      2007 72.961  1318683096  4959.115"
            ]
          },
          "metadata": {
            "tags": []
          },
          "output_type": "display_data"
        }
      ],
      "source": [
        "gapminder %>% \n",
        "    filter(year==2007, pop>200000000) %>% \n",
        "    arrange(desc(country))"
      ]
    },
    {
      "cell_type": "markdown",
      "metadata": {
        "id": "WhodgkCga_P_"
      },
      "source": [
        "## Mutate (kreiranje novog stupca ili mijenjanje podataka unutar postojećeg)\n",
        "Da bi izmijenili podatke u postojećem stupcu, koristiti ćemo funkciju `mutate()`.<br><br>\n",
        "**Primjer:** Prikažite dataset 'gapminder' tako da stupac 'pop' prikazuje broj stanovnika izražen u milijunima.  \n",
        "(Drugim riječima podijelimo ga sa 1,000,000)"
      ]
    },
    {
      "cell_type": "code",
      "execution_count": null,
      "metadata": {
        "id": "_y_DE_-6bADZ",
        "vscode": {
          "languageId": "r"
        }
      },
      "outputs": [],
      "source": [
        "gapminder %>%\n",
        "    mutate(pop=pop/1000000)"
      ]
    },
    {
      "cell_type": "markdown",
      "metadata": {
        "id": "tApFON9RbC6p"
      },
      "source": [
        "Kao što vidite, opet koristimo pipe na našem datasetu.  \n",
        "Dataset gapminder, zapravo nije izmijenjen, nego je samo kao takav ispisan na ekranu.  \n",
        "Da bi zaista promijenili naš dataset moramo to napraviti na slijedeći način:  \n",
        "```r\n",
        "gapminder <- gapminder %>% mutate(pop=pop/1000000)\n",
        "```"
      ]
    },
    {
      "cell_type": "markdown",
      "metadata": {
        "id": "Dx5m5_FVbJUn"
      },
      "source": [
        "Dodavanje stupca u dataset.  \n",
        "Ponekad ne želimo mijenjati postojeće podatke, već želimo dodati novi stupac koji ima izmijenjene podatke.<br><br>\n",
        "**Primjer:** U dataset *gapminder* dodajte novi stupac 'pop_mil' koji će sadržavati broj stanovnika izražen u milijunima."
      ]
    },
    {
      "cell_type": "code",
      "execution_count": null,
      "metadata": {
        "id": "OjXvLxAdbF1X",
        "vscode": {
          "languageId": "r"
        }
      },
      "outputs": [],
      "source": [
        "# Za prikaz dataseta sa dodanim stupcem\n",
        "gapminder %>% mutate(pop_mil=pop/1000000)\n",
        "\n",
        "# Da bi zaista promijenili dataset 'gapminder', koristiti ćemo slijedeću naredbu:\n",
        "# gapminder <- gapminder %>% mutate(pop_mil=pop/1000000)\n"
      ]
    }
  ],
  "metadata": {
    "colab": {
      "name": "06. Filtriranje, sortiranje i mijenjanje (mutate) podataka.ipynb",
      "provenance": []
    },
    "kernelspec": {
      "display_name": "R",
      "name": "ir"
    }
  },
  "nbformat": 4,
  "nbformat_minor": 0
}