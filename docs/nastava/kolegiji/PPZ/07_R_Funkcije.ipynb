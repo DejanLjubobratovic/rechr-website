{
  "nbformat": 4,
  "nbformat_minor": 0,
  "metadata": {
    "colab": {
      "provenance": [],
      "authorship_tag": "ABX9TyPg/I1k7a0logA9naUZXSbh",
      "include_colab_link": true
    },
    "kernelspec": {
      "name": "ir",
      "display_name": "R"
    },
    "language_info": {
      "name": "R"
    }
  },
  "cells": [
    {
      "cell_type": "markdown",
      "metadata": {
        "id": "view-in-github",
        "colab_type": "text"
      },
      "source": [
        "<a href=\"https://colab.research.google.com/github/DejanLjubobratovic/rechr-website/blob/main/07_R_Funkcije.ipynb\" target=\"_parent\"><img src=\"https://colab.research.google.com/assets/colab-badge.svg\" alt=\"Open In Colab\"/></a>"
      ]
    },
    {
      "cell_type": "markdown",
      "source": [
        "# FUNKCIJE SUSTAVA R\n",
        "Funkcija je skupina izraza koja izvršava neki zadatak.  \n",
        "Osnovna sintaksa svake funkcije je:\n",
        "```\n",
        "ime_funkcije <- function(argument1, argument2, ...){\n",
        "izraz1\n",
        "izraz2\n",
        "...\n",
        "}\n",
        "```\n",
        "Svaka funkcija ima svoj **naziv** po kojem se poziva.  \n",
        "**Argumenti** su ulazni podaci koji trebaju funkciji da izvrši neki zadatak.  \n",
        "Funkcija može, a i ne mora imati argumente, i argumenti mogu imati unaprijed zadane vrijednosti.\n"
      ],
      "metadata": {
        "id": "ER36ohspXgNu"
      }
    },
    {
      "cell_type": "markdown",
      "source": [
        "## Funkcije iz grupe _**apply**_\n",
        "Funkcije iz obitelji _**apply**_ alternativna su rješenja za petlje, odnosno mehanizam koji koristimo umjesto višestrukog izvršavanja istoga programskog kôda.  \n",
        "Koristit ćemo:  \n",
        "*   `apply()`\n",
        "*   `lapply()` \n",
        "*   `sapply()`  \n",
        "*   `tapply()`  \n",
        "*   te dodatnu funkciju `aggregate()`\n",
        "\n",
        "<br>\n",
        "\n",
        "## Funkcija `apply()`\n",
        "Izgled funkcije:  \n",
        "_**apply(X, MARGIN, FUNC)**_ gdje je:\n",
        "* X matrica\n",
        "* MARGIN oznaka da li se radi o retku ili stupcu\n",
        " * 1 za retke\n",
        " * 2 za stupce\n",
        "* FUNC funkcija koja će se primijenjivati na retke ili stupce (MARGIN) matrice X.\n",
        "\n",
        "<br>\n",
        "\n",
        "_**Primjer**_  \n",
        "Kreirajmo matricu koja sadrži sve parne brojeve manje od 20, dimenzija 3x3.  \n",
        "Supcima dajte imena A, B i C, a redcima I, II i III.\n",
        "Izračunajte prosjeke svih stupaca ove matrice i dodajte ih kao posljednji redak naziva \"IV\" u tu matricu.  \n",
        "Zatim izračunajte zbrojeve redaka i dodajte ih kao posljednji supac ove matrice, naziva \"D\".  \n",
        "Rješenje treba izgledati ovako:  \n",
        "\n",
        "|A|B|C|D|\n",
        "|---|---|---|---|\n",
        "|**I**|2|8|14|24|\n",
        "|**II**|4|10|16|30|\n",
        "|**III**|6|12|18|36|\n",
        "|**IV**|4|10|16|30|"
      ],
      "metadata": {
        "id": "p5WppMC_X07Y"
      }
    },
    {
      "cell_type": "code",
      "execution_count": 13,
      "metadata": {
        "colab": {
          "base_uri": "https://localhost:8080/",
          "height": 209
        },
        "id": "2auEUkQsWy8S",
        "outputId": "cd803991-bacf-474d-f5a5-3a3bb1b13801"
      },
      "outputs": [
        {
          "output_type": "display_data",
          "data": {
            "text/html": [
              "<table class=\"dataframe\">\n",
              "<caption>A matrix: 4 × 4 of type dbl</caption>\n",
              "<thead>\n",
              "\t<tr><th></th><th scope=col>A</th><th scope=col>B</th><th scope=col>C</th><th scope=col>D</th></tr>\n",
              "</thead>\n",
              "<tbody>\n",
              "\t<tr><th scope=row>I</th><td>2</td><td> 8</td><td>14</td><td>24</td></tr>\n",
              "\t<tr><th scope=row>II</th><td>4</td><td>10</td><td>16</td><td>30</td></tr>\n",
              "\t<tr><th scope=row>III</th><td>6</td><td>12</td><td>18</td><td>36</td></tr>\n",
              "\t<tr><th scope=row>IV</th><td>4</td><td>10</td><td>16</td><td>30</td></tr>\n",
              "</tbody>\n",
              "</table>\n"
            ],
            "text/markdown": "\nA matrix: 4 × 4 of type dbl\n\n| <!--/--> | A | B | C | D |\n|---|---|---|---|---|\n| I | 2 |  8 | 14 | 24 |\n| II | 4 | 10 | 16 | 30 |\n| III | 6 | 12 | 18 | 36 |\n| IV | 4 | 10 | 16 | 30 |\n\n",
            "text/latex": "A matrix: 4 × 4 of type dbl\n\\begin{tabular}{r|llll}\n  & A & B & C & D\\\\\n\\hline\n\tI & 2 &  8 & 14 & 24\\\\\n\tII & 4 & 10 & 16 & 30\\\\\n\tIII & 6 & 12 & 18 & 36\\\\\n\tIV & 4 & 10 & 16 & 30\\\\\n\\end{tabular}\n",
            "text/plain": [
              "    A B  C  D \n",
              "I   2  8 14 24\n",
              "II  4 10 16 30\n",
              "III 6 12 18 36\n",
              "IV  4 10 16 30"
            ]
          },
          "metadata": {}
        }
      ],
      "source": [
        "matrica <- matrix(2*c(1:9), 3, 3)\n",
        "colnames(matrica)=c(\"A\", \"B\", \"C\")\n",
        "rownames(matrica)=c(\"I\", \"II\", \"III\")\n",
        "IV <- apply(matrica, 2, mean)\n",
        "matrica <- rbind(matrica, IV)\n",
        "D <- apply(matrica, 1, sum)\n",
        "matrica <- cbind(matrica, D)\n",
        "matrica"
      ]
    }
  ]
}
