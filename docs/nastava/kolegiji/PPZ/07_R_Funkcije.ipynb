{
  "nbformat": 4,
  "nbformat_minor": 0,
  "metadata": {
    "colab": {
      "provenance": [],
      "authorship_tag": "ABX9TyNFCh5FtZmADH2RtiPsAPmE",
      "include_colab_link": true
    },
    "kernelspec": {
      "name": "ir",
      "display_name": "R"
    },
    "language_info": {
      "name": "R"
    }
  },
  "cells": [
    {
      "cell_type": "markdown",
      "metadata": {
        "id": "view-in-github",
        "colab_type": "text"
      },
      "source": [
        "<a href=\"https://colab.research.google.com/github/DejanLjubobratovic/rechr-website/blob/main/docs/nastava/kolegiji/PPZ/07_R_Funkcije.ipynb\" target=\"_parent\"><img src=\"https://colab.research.google.com/assets/colab-badge.svg\" alt=\"Open In Colab\"/></a>"
      ]
    },
    {
      "cell_type": "markdown",
      "source": [
        "# FUNKCIJE SUSTAVA R\n",
        "Funkcija je skupina izraza koja izvršava neki zadatak.  \n",
        "Osnovna sintaksa svake funkcije je:\n",
        "```\n",
        "ime_funkcije <- function(argument1, argument2, ...){\n",
        "izraz1\n",
        "izraz2\n",
        "...\n",
        "}\n",
        "```\n",
        "Svaka funkcija ima svoj **naziv** po kojem se poziva.  \n",
        "**Argumenti** su ulazni podaci koji trebaju funkciji da izvrši neki zadatak.  \n",
        "Funkcija može, a i ne mora imati argumente, i argumenti mogu imati unaprijed zadane vrijednosti.\n"
      ],
      "metadata": {
        "id": "ER36ohspXgNu"
      }
    },
    {
      "cell_type": "markdown",
      "source": [
        "## Funkcije iz grupe _**apply**_\n",
        "Funkcije iz obitelji _**apply**_ alternativna su rješenja za petlje, odnosno mehanizam koji koristimo umjesto višestrukog izvršavanja istoga programskog kôda.  \n",
        "Koristit ćemo:  \n",
        "*   `apply()`\n",
        "*   `lapply()` \n",
        "*   `sapply()`  \n",
        "*   `tapply()`  \n",
        "*   te dodatnu funkciju `aggregate()`\n",
        "\n",
        "<br>\n",
        "\n",
        "## Funkcija _**apply()**_\n",
        "Izgled funkcije:  \n",
        "_**apply(X, MARGIN, FUNC)**_ gdje je:\n",
        "* X matrica\n",
        "* MARGIN oznaka da li se radi o retku ili stupcu (**1** za retke, **2** za stupce)\n",
        "* FUNC funkcija koja će se primijenjivati na retke ili stupce (MARGIN) matrice X.\n",
        "\n",
        "<br>\n",
        "\n",
        "_**Primjer**_  \n",
        "Kreirajmo matricu koja sadrži sve parne brojeve manje od 20, dimenzija 3x3.  \n",
        "Supcima dajte imena A, B i C, a redcima I, II i III.\n",
        "Izračunajte prosjeke svih stupaca ove matrice i dodajte ih kao posljednji redak naziva \"IV\" u tu matricu.  \n",
        "Zatim izračunajte zbrojeve redaka i dodajte ih kao posljednji supac ove matrice, naziva \"D\".  \n",
        "Rješenje treba izgledati ovako:  \n",
        "\n",
        "|A|B|C|D|\n",
        "|---|---|---|---|\n",
        "|**I**|2|8|14|24|\n",
        "|**II**|4|10|16|30|\n",
        "|**III**|6|12|18|36|\n",
        "|**IV**|4|10|16|30|"
      ],
      "metadata": {
        "id": "p5WppMC_X07Y"
      }
    },
    {
      "cell_type": "code",
      "execution_count": 34,
      "metadata": {
        "colab": {
          "base_uri": "https://localhost:8080/",
          "height": 209
        },
        "id": "2auEUkQsWy8S",
        "outputId": "1b1eb0bd-8401-44b5-837a-8b6022e7d089"
      },
      "outputs": [
        {
          "output_type": "display_data",
          "data": {
            "text/html": [
              "<table class=\"dataframe\">\n",
              "<caption>A matrix: 4 × 4 of type dbl</caption>\n",
              "<thead>\n",
              "\t<tr><th></th><th scope=col>A</th><th scope=col>B</th><th scope=col>C</th><th scope=col>D</th></tr>\n",
              "</thead>\n",
              "<tbody>\n",
              "\t<tr><th scope=row>I</th><td>2</td><td> 8</td><td>14</td><td>24</td></tr>\n",
              "\t<tr><th scope=row>II</th><td>4</td><td>10</td><td>16</td><td>30</td></tr>\n",
              "\t<tr><th scope=row>III</th><td>6</td><td>12</td><td>18</td><td>36</td></tr>\n",
              "\t<tr><th scope=row>IV</th><td>4</td><td>10</td><td>16</td><td>30</td></tr>\n",
              "</tbody>\n",
              "</table>\n"
            ],
            "text/markdown": "\nA matrix: 4 × 4 of type dbl\n\n| <!--/--> | A | B | C | D |\n|---|---|---|---|---|\n| I | 2 |  8 | 14 | 24 |\n| II | 4 | 10 | 16 | 30 |\n| III | 6 | 12 | 18 | 36 |\n| IV | 4 | 10 | 16 | 30 |\n\n",
            "text/latex": "A matrix: 4 × 4 of type dbl\n\\begin{tabular}{r|llll}\n  & A & B & C & D\\\\\n\\hline\n\tI & 2 &  8 & 14 & 24\\\\\n\tII & 4 & 10 & 16 & 30\\\\\n\tIII & 6 & 12 & 18 & 36\\\\\n\tIV & 4 & 10 & 16 & 30\\\\\n\\end{tabular}\n",
            "text/plain": [
              "    A B  C  D \n",
              "I   2  8 14 24\n",
              "II  4 10 16 30\n",
              "III 6 12 18 36\n",
              "IV  4 10 16 30"
            ]
          },
          "metadata": {}
        }
      ],
      "source": [
        "matrica <- matrix(2*c(1:9), 3, 3)\n",
        "colnames(matrica)=c(\"A\", \"B\", \"C\")\n",
        "rownames(matrica)=c(\"I\", \"II\", \"III\")\n",
        "IV <- apply(matrica, 2, mean)\n",
        "matrica <- rbind(matrica, IV)\n",
        "D <- apply(matrica, 1, sum)\n",
        "matrica <- cbind(matrica, D)\n",
        "matrica"
      ]
    },
    {
      "cell_type": "markdown",
      "source": [
        "## Funkcija _**lapply()**_\n",
        "Funkcija _**lapply()**_ je proširenje funkcije _**apply()**_ koje se može primijeniti i na podatkovne okvire (data frames) i liste, a rezultat se vraća isključivo u obliku liste (odakle dolazi i _**L**_ u nazivu funkcije).  \n",
        "\n",
        "Izgled funkcije:  \n",
        "_**apply(X, FUNC, . . .)**_ gdje je:  \n",
        "* X vektor ili lista, a sve ostalo će biti automatski pretvoreno u listu\n",
        "* FUNC funkcija koja će se primijenjivati nad X\n",
        "* . . . dodatne opcije funkcije FUNC\n",
        "\n",
        "<br>\n",
        "\n",
        "_**Primjer**_  \n",
        "Kreirajte podatkovni okvir sa ova četiri vektora i pripadnim vrijednostima:  \n",
        "* _**proizvođač**_: Ford, Toyota, Chevrolet  \n",
        "* _**model**_: Mustang, Corolla, Camaro  \n",
        "* _**godište**_: 2010, 2015, 2012)  \n",
        "* _**cijena**_: 12000, 15000, 18000  \n",
        "1. Kreirajte podatkovni okvir _**auti2**_ koji će sadržavati sve podatke iz podatkovnog okvira _**auti**_ u tekstualnom obliku (koristiti: `as.character`)\n",
        "2. Kreirajte podatkovni okvir _**auti3**_ koji će sve tekstualne podatke iz podatkovnog okvira _**auti**_ pretvoriti u velika slova (koristiti: `toupper`)\n"
      ],
      "metadata": {
        "id": "66pdI-tZhV5U"
      }
    },
    {
      "cell_type": "code",
      "source": [
        "auti <- data.frame(\n",
        "  proizvođač = c(\"Ford\", \"Toyota\", \"Chevrolet\"),\n",
        "  model = c(\"Mustang\", \"Corolla\", \"Camaro\"),\n",
        "  godište = c(2010, 2015, 2012),\n",
        "  cijena = c(12000, 15000, 18000))\n",
        "lapply(auti, as.character)\n",
        "lapply(auti, function(x) if (is.character(x)) toupper(x) else x)\n"
      ],
      "metadata": {
        "colab": {
          "base_uri": "https://localhost:8080/",
          "height": 337
        },
        "id": "-g3zma5NvFw_",
        "outputId": "7dbf1772-c425-4053-d29b-a9d028efd032"
      },
      "execution_count": 72,
      "outputs": [
        {
          "output_type": "display_data",
          "data": {
            "text/html": [
              "<dl>\n",
              "\t<dt>$proizvođač</dt>\n",
              "\t\t<dd><style>\n",
              ".list-inline {list-style: none; margin:0; padding: 0}\n",
              ".list-inline>li {display: inline-block}\n",
              ".list-inline>li:not(:last-child)::after {content: \"\\00b7\"; padding: 0 .5ex}\n",
              "</style>\n",
              "<ol class=list-inline><li>'Ford'</li><li>'Toyota'</li><li>'Chevrolet'</li></ol>\n",
              "</dd>\n",
              "\t<dt>$model</dt>\n",
              "\t\t<dd><style>\n",
              ".list-inline {list-style: none; margin:0; padding: 0}\n",
              ".list-inline>li {display: inline-block}\n",
              ".list-inline>li:not(:last-child)::after {content: \"\\00b7\"; padding: 0 .5ex}\n",
              "</style>\n",
              "<ol class=list-inline><li>'Mustang'</li><li>'Corolla'</li><li>'Camaro'</li></ol>\n",
              "</dd>\n",
              "\t<dt>$godište</dt>\n",
              "\t\t<dd><style>\n",
              ".list-inline {list-style: none; margin:0; padding: 0}\n",
              ".list-inline>li {display: inline-block}\n",
              ".list-inline>li:not(:last-child)::after {content: \"\\00b7\"; padding: 0 .5ex}\n",
              "</style>\n",
              "<ol class=list-inline><li>'2010'</li><li>'2015'</li><li>'2012'</li></ol>\n",
              "</dd>\n",
              "\t<dt>$cijena</dt>\n",
              "\t\t<dd><style>\n",
              ".list-inline {list-style: none; margin:0; padding: 0}\n",
              ".list-inline>li {display: inline-block}\n",
              ".list-inline>li:not(:last-child)::after {content: \"\\00b7\"; padding: 0 .5ex}\n",
              "</style>\n",
              "<ol class=list-inline><li>'12000'</li><li>'15000'</li><li>'18000'</li></ol>\n",
              "</dd>\n",
              "</dl>\n"
            ],
            "text/markdown": "$proizvođač\n:   1. 'Ford'\n2. 'Toyota'\n3. 'Chevrolet'\n\n\n\n$model\n:   1. 'Mustang'\n2. 'Corolla'\n3. 'Camaro'\n\n\n\n$godište\n:   1. '2010'\n2. '2015'\n3. '2012'\n\n\n\n$cijena\n:   1. '12000'\n2. '15000'\n3. '18000'\n\n\n\n\n\n",
            "text/latex": "\\begin{description}\n\\item[\\$proizvođač] \\begin{enumerate*}\n\\item 'Ford'\n\\item 'Toyota'\n\\item 'Chevrolet'\n\\end{enumerate*}\n\n\\item[\\$model] \\begin{enumerate*}\n\\item 'Mustang'\n\\item 'Corolla'\n\\item 'Camaro'\n\\end{enumerate*}\n\n\\item[\\$godište] \\begin{enumerate*}\n\\item '2010'\n\\item '2015'\n\\item '2012'\n\\end{enumerate*}\n\n\\item[\\$cijena] \\begin{enumerate*}\n\\item '12000'\n\\item '15000'\n\\item '18000'\n\\end{enumerate*}\n\n\\end{description}\n",
            "text/plain": [
              "$proizvođač\n",
              "[1] \"Ford\"      \"Toyota\"    \"Chevrolet\"\n",
              "\n",
              "$model\n",
              "[1] \"Mustang\" \"Corolla\" \"Camaro\" \n",
              "\n",
              "$godište\n",
              "[1] \"2010\" \"2015\" \"2012\"\n",
              "\n",
              "$cijena\n",
              "[1] \"12000\" \"15000\" \"18000\"\n"
            ]
          },
          "metadata": {}
        },
        {
          "output_type": "display_data",
          "data": {
            "text/html": [
              "<dl>\n",
              "\t<dt>$proizvođač</dt>\n",
              "\t\t<dd><style>\n",
              ".list-inline {list-style: none; margin:0; padding: 0}\n",
              ".list-inline>li {display: inline-block}\n",
              ".list-inline>li:not(:last-child)::after {content: \"\\00b7\"; padding: 0 .5ex}\n",
              "</style>\n",
              "<ol class=list-inline><li>'FORD'</li><li>'TOYOTA'</li><li>'CHEVROLET'</li></ol>\n",
              "</dd>\n",
              "\t<dt>$model</dt>\n",
              "\t\t<dd><style>\n",
              ".list-inline {list-style: none; margin:0; padding: 0}\n",
              ".list-inline>li {display: inline-block}\n",
              ".list-inline>li:not(:last-child)::after {content: \"\\00b7\"; padding: 0 .5ex}\n",
              "</style>\n",
              "<ol class=list-inline><li>'MUSTANG'</li><li>'COROLLA'</li><li>'CAMARO'</li></ol>\n",
              "</dd>\n",
              "\t<dt>$godište</dt>\n",
              "\t\t<dd><style>\n",
              ".list-inline {list-style: none; margin:0; padding: 0}\n",
              ".list-inline>li {display: inline-block}\n",
              ".list-inline>li:not(:last-child)::after {content: \"\\00b7\"; padding: 0 .5ex}\n",
              "</style>\n",
              "<ol class=list-inline><li>2010</li><li>2015</li><li>2012</li></ol>\n",
              "</dd>\n",
              "\t<dt>$cijena</dt>\n",
              "\t\t<dd><style>\n",
              ".list-inline {list-style: none; margin:0; padding: 0}\n",
              ".list-inline>li {display: inline-block}\n",
              ".list-inline>li:not(:last-child)::after {content: \"\\00b7\"; padding: 0 .5ex}\n",
              "</style>\n",
              "<ol class=list-inline><li>12000</li><li>15000</li><li>18000</li></ol>\n",
              "</dd>\n",
              "</dl>\n"
            ],
            "text/markdown": "$proizvođač\n:   1. 'FORD'\n2. 'TOYOTA'\n3. 'CHEVROLET'\n\n\n\n$model\n:   1. 'MUSTANG'\n2. 'COROLLA'\n3. 'CAMARO'\n\n\n\n$godište\n:   1. 2010\n2. 2015\n3. 2012\n\n\n\n$cijena\n:   1. 12000\n2. 15000\n3. 18000\n\n\n\n\n\n",
            "text/latex": "\\begin{description}\n\\item[\\$proizvođač] \\begin{enumerate*}\n\\item 'FORD'\n\\item 'TOYOTA'\n\\item 'CHEVROLET'\n\\end{enumerate*}\n\n\\item[\\$model] \\begin{enumerate*}\n\\item 'MUSTANG'\n\\item 'COROLLA'\n\\item 'CAMARO'\n\\end{enumerate*}\n\n\\item[\\$godište] \\begin{enumerate*}\n\\item 2010\n\\item 2015\n\\item 2012\n\\end{enumerate*}\n\n\\item[\\$cijena] \\begin{enumerate*}\n\\item 12000\n\\item 15000\n\\item 18000\n\\end{enumerate*}\n\n\\end{description}\n",
            "text/plain": [
              "$proizvođač\n",
              "[1] \"FORD\"      \"TOYOTA\"    \"CHEVROLET\"\n",
              "\n",
              "$model\n",
              "[1] \"MUSTANG\" \"COROLLA\" \"CAMARO\" \n",
              "\n",
              "$godište\n",
              "[1] 2010 2015 2012\n",
              "\n",
              "$cijena\n",
              "[1] 12000 15000 18000\n"
            ]
          },
          "metadata": {}
        }
      ]
    },
    {
      "cell_type": "markdown",
      "source": [
        "_**Zadatak**_  \n",
        "Kreirajte podatkovni okvira s imenima studenata (caracter) i njihovim ocjenama (lista) kako je zadano:  \n",
        "* ime: Ana, Ivan, Marko, Petra\n",
        "* ocjene: (4, 3, 5), (5, 4, 4), (3, 4), (5, 5, 4, 5)  \n",
        "Primjenite funkciju `mean()` pomoću lapply() na ocjene svakog studenta i ispišite dobivene prisjeke"
      ],
      "metadata": {
        "id": "hXIo8QKb45nI"
      }
    },
    {
      "cell_type": "code",
      "source": [
        "studenti <- data.frame(\n",
        "  ime = c(\"Ana\", \"Ivan\", \"Marko\", \"Petra\"),\n",
        "  ocjene = list(c(4, 3, 5), c(5, 4, 4), c(3, 4), c(5, 5, 4, 5))\n",
        ")\n",
        "prosjeci <- lapply(studenti$ocjene, mean)\n",
        "prosjeci"
      ],
      "metadata": {
        "id": "W8KUzozv48E6"
      },
      "execution_count": null,
      "outputs": []
    }
  ]
}