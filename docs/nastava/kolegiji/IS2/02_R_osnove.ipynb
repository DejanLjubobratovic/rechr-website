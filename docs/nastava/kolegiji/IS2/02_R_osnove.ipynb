{
  "cells": [
    {
      "cell_type": "markdown",
      "metadata": {
        "id": "S1n3V-kSkVtQ"
      },
      "source": [
        "# 2. R - Osnove\n",
        "### (Osnove programskog jezika R)"
      ]
    },
    {
      "cell_type": "markdown",
      "metadata": {
        "id": "EYKyryK9kcKg"
      },
      "source": [
        "## Otvaranja R bilježnice u Colabu\n",
        "Google Colab još uvijek nema nativnu podršku za programski jezik R, tako da je potrebno imati praznu R bilježnicu u kojoj ćemo raditi.\n",
        "\n",
        "Ovdje možete otvoriti praznu R bilježnicu i nakon toga ju spremiti na Google drive:  \n",
        "https://colab.research.google.com/#create=true&language=r"
      ]
    },
    {
      "cell_type": "markdown",
      "metadata": {
        "id": "3zjfR3kwkf-4"
      },
      "source": [
        "## Osnovne računske operacije u R-u\n",
        "\n",
        "Zbrajanje: `+`  \n",
        "Oduzimanje: `-`  \n",
        "Množenje: `*`  \n",
        "Dijeljenje: `/`  \n",
        "Potenciranje: `^`  \n",
        "Modulo: `%%`  "
      ]
    },
    {
      "cell_type": "code",
      "execution_count": null,
      "metadata": {
        "id": "artoYn_oki8n",
        "vscode": {
          "languageId": "r"
        },
        "colab": {
          "base_uri": "https://localhost:8080/",
          "height": 86
        },
        "outputId": "862830a7-87c7-4437-a5f3-b96b7141764d"
      },
      "outputs": [
        {
          "output_type": "display_data",
          "data": {
            "text/html": [
              "25"
            ],
            "text/markdown": "25",
            "text/latex": "25",
            "text/plain": [
              "[1] 25"
            ]
          },
          "metadata": {}
        },
        {
          "output_type": "display_data",
          "data": {
            "text/html": [
              "10"
            ],
            "text/markdown": "10",
            "text/latex": "10",
            "text/plain": [
              "[1] 10"
            ]
          },
          "metadata": {}
        },
        {
          "output_type": "display_data",
          "data": {
            "text/html": [
              "-1"
            ],
            "text/markdown": "-1",
            "text/latex": "-1",
            "text/plain": [
              "[1] -1"
            ]
          },
          "metadata": {}
        },
        {
          "output_type": "display_data",
          "data": {
            "text/html": [
              "8"
            ],
            "text/markdown": "8",
            "text/latex": "8",
            "text/plain": [
              "[1] 8"
            ]
          },
          "metadata": {}
        }
      ],
      "source": [
        "5*5\n",
        "5+5\n",
        "8-9\n",
        "2^3"
      ]
    },
    {
      "cell_type": "markdown",
      "metadata": {
        "id": "fvo8wcjJkkzX"
      },
      "source": [
        "## Varijable\n",
        "Pridruživanje varijabli u R-u se radi pomoću `->` ili `<-`  \n",
        "Varijable se mogu pridružiti u \"oba smjera\".  \n",
        "Na primjer `x<-5` ili `5->x` <br><br>\n",
        "\n",
        "Da bi ispisali vrijednost varijable dovoljno je samo napisati njeno ime."
      ]
    },
    {
      "cell_type": "markdown",
      "metadata": {
        "id": "S1qnbUC4kqVH"
      },
      "source": [
        "Zadatak: \n",
        "Varijabli broj1 pridružite vrijednost 23, a varijabli broj2 vrijednost 17.\n",
        "Ispišite vrijednosti varijabli"
      ]
    },
    {
      "cell_type": "code",
      "execution_count": null,
      "metadata": {
        "id": "NH0vewekkwr3",
        "vscode": {
          "languageId": "r"
        },
        "colab": {
          "base_uri": "https://localhost:8080/",
          "height": 52
        },
        "outputId": "b9b43e16-a3c6-4e6c-e1b0-8b083496e586"
      },
      "outputs": [
        {
          "output_type": "display_data",
          "data": {
            "text/html": [
              "23"
            ],
            "text/markdown": "23",
            "text/latex": "23",
            "text/plain": [
              "[1] 23"
            ]
          },
          "metadata": {}
        },
        {
          "output_type": "display_data",
          "data": {
            "text/html": [
              "17"
            ],
            "text/markdown": "17",
            "text/latex": "17",
            "text/plain": [
              "[1] 17"
            ]
          },
          "metadata": {}
        }
      ],
      "source": [
        "broj1 <- 23\n",
        "17 -> broj2\n",
        "broj1\n",
        "broj2"
      ]
    },
    {
      "cell_type": "markdown",
      "metadata": {
        "id": "5MFR7RVnk0Kw"
      },
      "source": [
        "## Tipovi varijabli\n",
        "Varijable poprimaju različite tipove ovisno samim podatcima"
      ]
    },
    {
      "cell_type": "code",
      "execution_count": null,
      "metadata": {
        "id": "4PFsWbGKk1Rg",
        "vscode": {
          "languageId": "r"
        }
      },
      "outputs": [],
      "source": [
        "#  Numeričke\n",
        "MojBroj <- 12\n",
        "\n",
        "# Znakovne (character)\n",
        "Znakovni <- \"riječ\"\n",
        "\n",
        "# Logičke\n",
        "logicka <- FALSE"
      ]
    },
    {
      "cell_type": "code",
      "execution_count": null,
      "metadata": {
        "id": "ANWiBNHdk-Ao",
        "vscode": {
          "languageId": "r"
        },
        "colab": {
          "base_uri": "https://localhost:8080/",
          "height": 34
        },
        "outputId": "ddb68156-6b97-4aa3-cad1-503574a8e7cd"
      },
      "outputs": [
        {
          "output_type": "display_data",
          "data": {
            "text/html": [
              "'character'"
            ],
            "text/markdown": "'character'",
            "text/latex": "'character'",
            "text/plain": [
              "[1] \"character\""
            ]
          },
          "metadata": {}
        }
      ],
      "source": [
        "class(Znakovni)"
      ]
    },
    {
      "cell_type": "markdown",
      "metadata": {
        "id": "BJiC7YvslFqH"
      },
      "source": [
        "## Vektori\n",
        "Vektori su, u suštini, dvodimenzionalna polja.  \n",
        "Kreiramo ih koristeći funkciju *combine*: `c()` <br>\n",
        "\n",
        "Primjer:\n",
        "```R \n",
        "tjedan_vektor <- c(\"pon\", \"uto\", \"sri\", \"cet\", \"pet\", \"sub\", \"ned\") ``` \n",
        " \n",
        "Zadatak...  \n",
        "Kreirajte vektor `gradovi_vektor` čiji će elementi biti gradovi *Rijeka*, *Zagreb*, *Split* i *Osijek*.  \n",
        "Zatim ga ispišite."
      ]
    },
    {
      "cell_type": "code",
      "execution_count": null,
      "metadata": {
        "id": "HQNQB7dalFRH",
        "vscode": {
          "languageId": "r"
        },
        "colab": {
          "base_uri": "https://localhost:8080/",
          "height": 34
        },
        "outputId": "d40d9d06-7d36-4b76-ca32-16bec9eb31a5"
      },
      "outputs": [
        {
          "output_type": "display_data",
          "data": {
            "text/html": [
              "<style>\n",
              ".list-inline {list-style: none; margin:0; padding: 0}\n",
              ".list-inline>li {display: inline-block}\n",
              ".list-inline>li:not(:last-child)::after {content: \"\\00b7\"; padding: 0 .5ex}\n",
              "</style>\n",
              "<ol class=list-inline><li>'Rijeka'</li><li>'Zagreb'</li><li>'Split'</li><li>'Osijek'</li></ol>\n"
            ],
            "text/markdown": "1. 'Rijeka'\n2. 'Zagreb'\n3. 'Split'\n4. 'Osijek'\n\n\n",
            "text/latex": "\\begin{enumerate*}\n\\item 'Rijeka'\n\\item 'Zagreb'\n\\item 'Split'\n\\item 'Osijek'\n\\end{enumerate*}\n",
            "text/plain": [
              "[1] \"Rijeka\" \"Zagreb\" \"Split\"  \"Osijek\""
            ]
          },
          "metadata": {}
        }
      ],
      "source": [
        "gradovi_vektor<-c(\"Rijeka\", \"Zagreb\", \"Split\", \"Osijek\")\n",
        "gradovi_vektor"
      ]
    },
    {
      "cell_type": "markdown",
      "metadata": {
        "id": "h3e0SrHPlO_H"
      },
      "source": [
        "### Klase vektora\n",
        "Vektori mogu imate i svoje klase isto kao i varijable.  \n",
        "Klasu provjeravamo funkcijom `class()`<br><br>\n",
        "Primjer:\n",
        "```R\n",
        "logicki_vektor <- c(TRUE, FALSE, TRUE)   \n",
        "character_vektor <- c(\"a\", \"b\", \"c\")  \n",
        "numericki_vektor <- c(1, 2, 3)\n",
        "```\n",
        "Zadatak:  \n",
        "Provjerite koje je klase vektor `gradovi_vektor` iz prethodnog zadatka.\n"
      ]
    },
    {
      "cell_type": "code",
      "execution_count": null,
      "metadata": {
        "colab": {
          "base_uri": "https://localhost:8080/",
          "height": 34
        },
        "id": "1Wsg-cBclUbw",
        "outputId": "f0421a87-d106-40a0-bd44-268df077b921",
        "vscode": {
          "languageId": "r"
        }
      },
      "outputs": [
        {
          "output_type": "display_data",
          "data": {
            "text/html": [
              "'character'"
            ],
            "text/markdown": "'character'",
            "text/latex": "'character'",
            "text/plain": [
              "[1] \"character\""
            ]
          },
          "metadata": {}
        }
      ],
      "source": [
        "class(gradovi_vektor)"
      ]
    },
    {
      "cell_type": "code",
      "execution_count": null,
      "metadata": {
        "id": "u1cOuy2OkLAd",
        "vscode": {
          "languageId": "r"
        },
        "colab": {
          "base_uri": "https://localhost:8080/",
          "height": 52
        },
        "outputId": "45618846-f5e6-46f7-a3d4-cfc64d5b6164"
      },
      "outputs": [
        {
          "output_type": "display_data",
          "data": {
            "text/html": [
              "'character'"
            ],
            "text/markdown": "'character'",
            "text/latex": "'character'",
            "text/plain": [
              "[1] \"character\""
            ]
          },
          "metadata": {}
        },
        {
          "output_type": "display_data",
          "data": {
            "text/html": [
              "<style>\n",
              ".list-inline {list-style: none; margin:0; padding: 0}\n",
              ".list-inline>li {display: inline-block}\n",
              ".list-inline>li:not(:last-child)::after {content: \"\\00b7\"; padding: 0 .5ex}\n",
              "</style>\n",
              "<ol class=list-inline><li>'malo teksta'</li><li>'5'</li><li>'TRUE'</li></ol>\n"
            ],
            "text/markdown": "1. 'malo teksta'\n2. '5'\n3. 'TRUE'\n\n\n",
            "text/latex": "\\begin{enumerate*}\n\\item 'malo teksta'\n\\item '5'\n\\item 'TRUE'\n\\end{enumerate*}\n",
            "text/plain": [
              "[1] \"malo teksta\" \"5\"           \"TRUE\"       "
            ]
          },
          "metadata": {}
        }
      ],
      "source": [
        "# Mješovite vektora tretira kao character ako ima barem jedan character\n",
        "mjes <- c( \"malo teksta\", 5, TRUE)\n",
        "class(mjes)\n",
        "mjes"
      ]
    },
    {
      "cell_type": "markdown",
      "metadata": {
        "id": "B4mbu7dKlXGI"
      },
      "source": [
        "### Imenovanje vektora\n",
        "Da bi ispisali nekog člana vektora, moramo znati njegovu rednu poziciju u vektoru.  \n",
        "Na primjer:  \n",
        "naredba `gradovi[2]` će nam kao rezultat ispisati `'Zagreb'`  \n",
        "`'Zagreb'` je bio drugi član u našem vektoru `gradovi`.  \n",
        "Pazite: Članovi vektora imaju redne brojeve koji počinju brojem 1 (ne 0 kao u nekim programskim jezicima, npr: c++)<br><br>\n"
      ]
    },
    {
      "cell_type": "code",
      "execution_count": null,
      "metadata": {
        "id": "ntY9uV0xlXXp",
        "vscode": {
          "languageId": "r"
        },
        "colab": {
          "base_uri": "https://localhost:8080/",
          "height": 52
        },
        "outputId": "0c9c76aa-1bfd-475c-95cb-6b9bb16a6392"
      },
      "outputs": [
        {
          "output_type": "display_data",
          "data": {
            "text/html": [
              "<style>\n",
              ".list-inline {list-style: none; margin:0; padding: 0}\n",
              ".list-inline>li {display: inline-block}\n",
              ".list-inline>li:not(:last-child)::after {content: \"\\00b7\"; padding: 0 .5ex}\n",
              "</style>\n",
              "<ol class=list-inline><li>'Rijeka'</li><li>'Zagreb'</li><li>'Split'</li><li>'Osijek'</li></ol>\n"
            ],
            "text/markdown": "1. 'Rijeka'\n2. 'Zagreb'\n3. 'Split'\n4. 'Osijek'\n\n\n",
            "text/latex": "\\begin{enumerate*}\n\\item 'Rijeka'\n\\item 'Zagreb'\n\\item 'Split'\n\\item 'Osijek'\n\\end{enumerate*}\n",
            "text/plain": [
              "[1] \"Rijeka\" \"Zagreb\" \"Split\"  \"Osijek\""
            ]
          },
          "metadata": {}
        },
        {
          "output_type": "display_data",
          "data": {
            "text/html": [
              "'Split'"
            ],
            "text/markdown": "'Split'",
            "text/latex": "'Split'",
            "text/plain": [
              "[1] \"Split\""
            ]
          },
          "metadata": {}
        }
      ],
      "source": [
        "gradovi_vektor\n",
        "gradovi_vektor[3]"
      ]
    },
    {
      "cell_type": "markdown",
      "metadata": {
        "id": "u6CXlKmZlXTo"
      },
      "source": [
        "No elementi vektora mogu imati i imena.\n",
        "Primjerice, možemo imati vektor koji nam prikazuje potrošnju vode za svaki dan u tjednu.  \n",
        "`potrosnja_vektor <- c(20, 30, 10, 15, 12, 14, 15)` gdje svaka vrijednost predstavlja potrošnju vode u našem objektu po danima u tjednu.  \n",
        "Da bi dobili potrošnju od \"utorka\" moramo koristiti `potrosnja_vektor[2]` pošto je utorak drugi dan u tjednu. Postoji i drugi način."
      ]
    },
    {
      "cell_type": "code",
      "execution_count": null,
      "metadata": {
        "id": "USMmDSmalfaP",
        "vscode": {
          "languageId": "r"
        }
      },
      "outputs": [],
      "source": [
        "# Unosimo vrijednosti vektora\n",
        "potrosnja_vektor <- c(20, 30, 10, 15, 12, 14, 15)\n",
        "\n",
        "# Kreiramo novi vektor sa vrijednostima \"dani u tjednu\"\n",
        "tjedan_nazivi <- c(\"pon\", \"uto\", \"sri\", \"cet\", \"pet\", \"sub\", \"ned\")\n"
      ]
    },
    {
      "cell_type": "markdown",
      "metadata": {
        "id": "5M-rVemqlh0_"
      },
      "source": [
        "Vektoru `potrosnja_vektor` dodijelimo imena iz vektora `tjedan_nazivi`, na način:"
      ]
    },
    {
      "cell_type": "code",
      "execution_count": null,
      "metadata": {
        "colab": {
          "base_uri": "https://localhost:8080/",
          "height": 34
        },
        "id": "4a-Ihuy4lsn4",
        "outputId": "7d443976-501f-489a-ecc8-104769d7c1f7",
        "vscode": {
          "languageId": "r"
        }
      },
      "outputs": [
        {
          "output_type": "display_data",
          "data": {
            "text/html": [
              "<strong>uto:</strong> 30"
            ],
            "text/markdown": "**uto:** 30",
            "text/latex": "\\textbf{uto:} 30",
            "text/plain": [
              "uto \n",
              " 30 "
            ]
          },
          "metadata": {}
        }
      ],
      "source": [
        "names(potrosnja_vektor)<-tjedan_nazivi\n",
        "\n",
        "# Sada vrijednosti vektora imaju imena i možemo ih pozivati imenom. Na primjer:\n",
        "potrosnja_vektor[\"uto\"]"
      ]
    },
    {
      "cell_type": "code",
      "execution_count": null,
      "metadata": {
        "id": "ysGiLnGeluXX",
        "vscode": {
          "languageId": "r"
        },
        "colab": {
          "base_uri": "https://localhost:8080/",
          "height": 34
        },
        "outputId": "d5985341-999e-40ba-9423-723fdaebab53"
      },
      "outputs": [
        {
          "output_type": "display_data",
          "data": {
            "text/html": [
              "<style>\n",
              ".dl-inline {width: auto; margin:0; padding: 0}\n",
              ".dl-inline>dt, .dl-inline>dd {float: none; width: auto; display: inline-block}\n",
              ".dl-inline>dt::after {content: \":\\0020\"; padding-right: .5ex}\n",
              ".dl-inline>dt:not(:first-of-type) {padding-left: .5ex}\n",
              "</style><dl class=dl-inline><dt>pon</dt><dd>20</dd><dt>uto</dt><dd>30</dd><dt>sri</dt><dd>10</dd><dt>cet</dt><dd>15</dd><dt>pet</dt><dd>12</dd><dt>sub</dt><dd>14</dd><dt>ned</dt><dd>15</dd></dl>\n"
            ],
            "text/markdown": "pon\n:   20uto\n:   30sri\n:   10cet\n:   15pet\n:   12sub\n:   14ned\n:   15\n\n",
            "text/latex": "\\begin{description*}\n\\item[pon] 20\n\\item[uto] 30\n\\item[sri] 10\n\\item[cet] 15\n\\item[pet] 12\n\\item[sub] 14\n\\item[ned] 15\n\\end{description*}\n",
            "text/plain": [
              "pon uto sri cet pet sub ned \n",
              " 20  30  10  15  12  14  15 "
            ]
          },
          "metadata": {}
        }
      ],
      "source": [
        "# Ako prikažemo vrijednosti vektora, dobijemo:\n",
        "potrosnja_vektor"
      ]
    },
    {
      "cell_type": "code",
      "execution_count": null,
      "metadata": {
        "id": "V9vJOAVcmJRw",
        "vscode": {
          "languageId": "r"
        },
        "colab": {
          "base_uri": "https://localhost:8080/"
        },
        "outputId": "b16b6cd4-0e06-4025-ec3d-7c7699806869"
      },
      "outputs": [
        {
          "output_type": "stream",
          "name": "stdout",
          "text": [
            " Named num [1:7] 20 30 10 15 12 14 15\n",
            " - attr(*, \"names\")= chr [1:7] \"pon\" \"uto\" \"sri\" \"cet\" ...\n"
          ]
        }
      ],
      "source": [
        "# Strukturu našeg vektora možemo dobiti funkcijom `str()`\n",
        "str(potrosnja_vektor)"
      ]
    },
    {
      "cell_type": "markdown",
      "metadata": {
        "id": "vxtzNi2pl2qI"
      },
      "source": [
        "### Zbrajanje vektora\n",
        "Vektore možemo jednostavno zbrajati  \n",
        "Kreirajmo vektor `potrosnja_vektor2` sa vrijednostima potrošnje iz drugog tjedna."
      ]
    },
    {
      "cell_type": "code",
      "execution_count": null,
      "metadata": {
        "id": "3IJsbXHsl6Cn",
        "vscode": {
          "languageId": "r"
        }
      },
      "outputs": [],
      "source": [
        "potrosnja_vektor <- c(20, 30, 10, 15, 12, 14, 15)\n",
        "names(potrosnja_vektor) <- c(\"pon\", \"uto\", \"sri\", \"cet\", \"pet\", \"sub\", \"ned\")\n",
        "potrosnja_vektor2 <- c(4, 3, 6, 12, 8, 11, 6)"
      ]
    },
    {
      "cell_type": "markdown",
      "metadata": {
        "id": "IYuUkW3ql7sn"
      },
      "source": [
        "Tada ukupna potrošnja vode u ta dva tjedna iznosi `ukupno_vektor`."
      ]
    },
    {
      "cell_type": "code",
      "execution_count": null,
      "metadata": {
        "colab": {
          "base_uri": "https://localhost:8080/",
          "height": 34
        },
        "id": "MM-UgNFPl__3",
        "outputId": "8c53b27d-308b-4a5e-b2d8-f22ee8fd1243",
        "vscode": {
          "languageId": "r"
        }
      },
      "outputs": [
        {
          "output_type": "display_data",
          "data": {
            "text/html": [
              "<style>\n",
              ".dl-inline {width: auto; margin:0; padding: 0}\n",
              ".dl-inline>dt, .dl-inline>dd {float: none; width: auto; display: inline-block}\n",
              ".dl-inline>dt::after {content: \":\\0020\"; padding-right: .5ex}\n",
              ".dl-inline>dt:not(:first-of-type) {padding-left: .5ex}\n",
              "</style><dl class=dl-inline><dt>pon</dt><dd>24</dd><dt>uto</dt><dd>33</dd><dt>sri</dt><dd>16</dd><dt>cet</dt><dd>27</dd><dt>pet</dt><dd>20</dd><dt>sub</dt><dd>25</dd><dt>ned</dt><dd>21</dd></dl>\n"
            ],
            "text/markdown": "pon\n:   24uto\n:   33sri\n:   16cet\n:   27pet\n:   20sub\n:   25ned\n:   21\n\n",
            "text/latex": "\\begin{description*}\n\\item[pon] 24\n\\item[uto] 33\n\\item[sri] 16\n\\item[cet] 27\n\\item[pet] 20\n\\item[sub] 25\n\\item[ned] 21\n\\end{description*}\n",
            "text/plain": [
              "pon uto sri cet pet sub ned \n",
              " 24  33  16  27  20  25  21 "
            ]
          },
          "metadata": {}
        }
      ],
      "source": [
        "ukupno_vektor <- potrosnja_vektor + potrosnja_vektor2 \n",
        "ukupno_vektor"
      ]
    },
    {
      "cell_type": "markdown",
      "metadata": {
        "id": "z503wg-DmN_v"
      },
      "source": [
        "Primjećujemo da je vektor `zbroj_vektora` naslijedio imena..."
      ]
    },
    {
      "cell_type": "markdown",
      "metadata": {
        "id": "HlrcWhwWmRrg"
      },
      "source": [
        "## Zadatak\n",
        "Kreirajte vektor koji se zove `servisi2022_vektor` i pridružite mu vrijednosti 2, 4, 3, 1, 6, 4, 3, 2, 6, 7, 9 i 12  \n",
        "Tom vektoru dodijelite imena `mjeseci_vektor` koji sadrži nazive mjeseci (siječanj, ... prosinac)  \n",
        "Zatim kreirajte vektor `servisi2023_vektor` u kojem su sve vrijednosti dvostruke u odnosu na 2018. godinu. \n",
        "Zbrojite ta dva vektora u vektor `servisi22_23_vektor` i ispišite ga.\n"
      ]
    },
    {
      "cell_type": "markdown",
      "metadata": {
        "id": "R4qqYQjRmid_"
      },
      "source": [
        "### Rješenje"
      ]
    },
    {
      "cell_type": "code",
      "execution_count": null,
      "metadata": {
        "colab": {
          "base_uri": "https://localhost:8080/",
          "height": 34
        },
        "id": "OR4NugWNmoNH",
        "outputId": "858eb1fd-6bcc-4d81-a180-060841b1a49d",
        "vscode": {
          "languageId": "r"
        }
      },
      "outputs": [
        {
          "output_type": "display_data",
          "data": {
            "text/html": [
              "<style>\n",
              ".dl-inline {width: auto; margin:0; padding: 0}\n",
              ".dl-inline>dt, .dl-inline>dd {float: none; width: auto; display: inline-block}\n",
              ".dl-inline>dt::after {content: \":\\0020\"; padding-right: .5ex}\n",
              ".dl-inline>dt:not(:first-of-type) {padding-left: .5ex}\n",
              "</style><dl class=dl-inline><dt>sij</dt><dd>6</dd><dt>velj</dt><dd>12</dd><dt>ozuj</dt><dd>9</dd><dt>tra</dt><dd>3</dd><dt>svi</dt><dd>18</dd><dt>lip</dt><dd>12</dd><dt>srp</dt><dd>9</dd><dt>kol</dt><dd>6</dd><dt>ruj</dt><dd>18</dd><dt>list</dt><dd>21</dd><dt>stud</dt><dd>27</dd><dt>pros</dt><dd>36</dd></dl>\n"
            ],
            "text/markdown": "sij\n:   6velj\n:   12ozuj\n:   9tra\n:   3svi\n:   18lip\n:   12srp\n:   9kol\n:   6ruj\n:   18list\n:   21stud\n:   27pros\n:   36\n\n",
            "text/latex": "\\begin{description*}\n\\item[sij] 6\n\\item[velj] 12\n\\item[ozuj] 9\n\\item[tra] 3\n\\item[svi] 18\n\\item[lip] 12\n\\item[srp] 9\n\\item[kol] 6\n\\item[ruj] 18\n\\item[list] 21\n\\item[stud] 27\n\\item[pros] 36\n\\end{description*}\n",
            "text/plain": [
              " sij velj ozuj  tra  svi  lip  srp  kol  ruj list stud pros \n",
              "   6   12    9    3   18   12    9    6   18   21   27   36 "
            ]
          },
          "metadata": {}
        }
      ],
      "source": [
        "servisi2022_vektor <- c(2, 4, 3, 1, 6, 4, 3, 2, 6, 7, 9, 12)\n",
        "mjeseci_vektor <- c(\"sij\", \"velj\", \"ozuj\", \"tra\", \"svi\", \"lip\", \"srp\", \"kol\", \"ruj\", \"list\", \"stud\", \"pros\")\n",
        "names(servisi2022_vektor)<-mjeseci_vektor\n",
        "servisi2023_vektor <- 2*servisi2022_vektor\n",
        "servisi22_23_vektor=servisi2022_vektor+servisi2023_vektor\n",
        "servisi22_23_vektor"
      ]
    },
    {
      "cell_type": "markdown",
      "metadata": {
        "id": "noePB3LimsMm"
      },
      "source": [
        "## Zadatak\n",
        "Ispišite vrijednosti `servisi22_23_vektor` za prvih 6 mjeseci.\n",
        "## Rješenje\n",
        "To možemo napraviti na više načina:"
      ]
    },
    {
      "cell_type": "code",
      "execution_count": null,
      "metadata": {
        "id": "Z45WRMeomw_v",
        "vscode": {
          "languageId": "r"
        }
      },
      "outputs": [],
      "source": [
        "servisi22_23_vektor[c(1:6)]\n",
        "servisi22_23_vektor[c(1, 2, 3, 4, 5, 6)]\n",
        "servisi22_23_vektor[c(\"sij\", \"velj\", \"ozuj\", \"tra\", \"svi\", \"lip\")]\n",
        "servisi22_23_vektor[c(T, T, T, T, T, T, F, F, F, F, F, F)]"
      ]
    },
    {
      "cell_type": "markdown",
      "metadata": {
        "id": "6bWUvYIvr3j-"
      },
      "source": []
    }
  ],
  "metadata": {
    "colab": {
      "name": "02. Programski jezik R - osnovne racunske operacije, varijable i vektori.ipynb",
      "provenance": []
    },
    "kernelspec": {
      "display_name": "R",
      "name": "ir"
    }
  },
  "nbformat": 4,
  "nbformat_minor": 0
}