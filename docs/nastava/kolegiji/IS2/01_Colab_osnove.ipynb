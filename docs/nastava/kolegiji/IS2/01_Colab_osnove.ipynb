{
  "nbformat": 4,
  "nbformat_minor": 0,
  "metadata": {
    "colab": {
      "name": "01. Jupyter notebooks - osnove i korištenje.ipynb",
      "provenance": [],
      "collapsed_sections": []
    },
    "kernelspec": {
      "name": "ir",
      "display_name": "R"
    }
  },
  "cells": [
    {
      "cell_type": "markdown",
      "metadata": {
        "trusted": true,
        "scrolled": true,
        "id": "VDtkANg89SU9"
      },
      "source": [
        "<img src=\"https://www.freecodecamp.org/news/content/images/size/w2000/2019/08/1_m87_Htb_9Pstq0UcvNJ49w.png\" title=\"Jupyter\" width=700>  \n",
        "\n",
        "# 1. Jupyter notebooks osnove\n",
        "## Google Colab   \n",

        "Sastavni dio svake Jupyter bilježnice su **ćelije (cels)**.  \n",
        "Ćelije se dodaju klikom na *Insert $\\rightarrow$ Insert ...cell* ili jednostavno klikom na **+ Code** ili **+ Text** u alatnoj traci.   \n",
        "Dvije su vrste ćelija:\n",
        "* code\n",
        "* text\n",
        "\n",
        "**Code** ćelije služe za unos programskog koda a **Text** ćelije za unos teksta poput ovoga."
      ]
    },
    {
      "cell_type": "markdown",
      "metadata": {
        "id": "z4Xpr1D59SU_"
      },
      "source": [
        "## Markdown - Uredjivanje teksta\n",
        "\n",
        "---\n",
        "Za prelazak u slijedeći red koriste se **dva razmaka**  \n",
        "\n",
        "---\n",
        "### BOLD\n",
        "Podebljana slova u tekstu označavaju se sa **\\_\\_** (dvije donje crtice, underscores) ili **\\*\\*** (dvije zvijezdice) prije i nakon riječi.   \n",
        "Na primjer:  \n",
        "\\*\\*podebljana slova\\*\\* $\\rightarrow$ **podebljana slova**   \n",
        "\\_\\_podebljana slova\\_\\_ $\\rightarrow$ **podebljana slova**\n",
        "\n",
        "---\n",
        "### ITALIC\n",
        "Ukošena slova u tekstu označavaju se sa **\\*** ili **_** prije i nakon riječi.   \n",
        "Na primjer:  \n",
        "\\*ukošena slova\\* $\\rightarrow$ *ukošena slova*  \n",
        "\\_ukošena slova\\_ $\\rightarrow$ _ukošena slova_\n",
        "\n",
        "---\n",
        "### BOLD ITALIC\n",
        "Istovremeno podebljana i ukošena slova možemo dobiti raznim kombinacijama crtica i zvjezdica:  \n",
        "\\*\\*\\_podebljana i ukošena slova\\_\\*\\* $\\rightarrow$ **_podebljana i ukošena slova_**  \n",
        "\\*\\*\\*podebljana i ukošena slova\\*\\*\\* $\\rightarrow$ ***podebljana i ukošena slova***  \n",
        "\\_\\_\\*podebljana i ukošena slova\\*\\_\\_ $\\rightarrow$ ***podebljana i ukošena slova***  \n",
        "\n",
        "---\n",
        "Horizontalnu liniju dobijemo tako da unesemo jedan enter i onda tri minusa.  \n",
        "Kao što je prikazano: \n",
        "\n",
        "```markdown\n",
        "\n",
        "---\n",
        "```\n"
      ]
    },
    {
      "cell_type": "markdown",
      "metadata": {
        "id": "8XQ652bH9SVA"
      },
      "source": [
        "#### BOJA SLOVA\n",
        "Za promjenu boje slova koristimo HTML tag \"font color\":  \n",
        "`<font color=green> Zeleni tekst </font>` \n",
        "$\\rightarrow$ **<font color=green> Zeleni tekst</font>**\n",
        "\n",
        "---\n",
        "#### CITIRANJE\n",
        "> Citat se piše tako da se na početak retka stavi znak **\\>**  \n",
        "\n",
        "---\n",
        "<font color=red> Da bi se promjene prihvatile potrebno je pritisnuti **ctrl + enter**</font>"
      ]
    },
    {
      "cell_type": "markdown",
      "metadata": {
        "collapsed": true,
        "id": "e-x3NtGP9SVA"
      },
      "source": [
        "## Rad sa naslovima\n",
        "Naslove označavamo na način da ispred teksta stavimo oznaku **#**  \n",
        "Jedan znak **#** ispred naslova formatira ga kao glavni naslov, **##** kao naslov druge razine i tako dalje.  \n",
        "Na primjer: \n",
        " \n",
        "---\n",
        "\\# naslov1  \n",
        "#naslov1\n",
        "--- \n",
        "\\#\\# naslov2\n",
        "##naslov2\n",
        "---\n",
        "\\#\\#\\# naslov3  \n",
        "###naslov3\n",
        "---\n",
        "\n"
      ]
    },
    {
      "cell_type": "markdown",
      "metadata": {
        "id": "wWQb0exn9SVB"
      },
      "source": [
        "### Slike\n",
        "Za ubacivanje slike sa računala dovoljno je kliknuti na \"Insert image\" ikonicu na alatnoj traci.<br>\n",
        "Markdown kod će izgledati ovako:  \n",
        "**_`![Naslov slike](attachment:slika.jpg)`_**<br>\n",
        "No takvo ubacivanje slike u nekim markdown editorima napraviti će gomilu ružnog koda.<br><br>\n",
        "Zato se preporučuje korištenje online slika.   \n",
        "Za ubacivanje online slike u zagradu je dovolno staviti link na sliku:<br>\n",
        "**_`![Naslov slike](http://link.na.sliku)`_**<br><br>\n",
        "Radi bolje kontrole slike (veličina, pozicija i slično) često se koristii HTML tag:  \n",
        "**_`<img src=\"http://link.na.sliku\" title=\"Naslov slike\" width=xx height=xx align=\"left\">`_**<br><br>\n",
        "<img src=\"https://media-cdn.tripadvisor.com/media/photo-s/12/73/57/a7/nice-coffee.jpg\" title=\"Jutarnja kavica...\" width=400 height=250 align=\"left\">"
      ]
    },
    {
      "cell_type": "markdown",
      "metadata": {
        "trusted": true,
        "scrolled": true,
        "id": "3kr_LmpF9SVC"
      },
      "source": [
        "### Linkovi\n",
        "Za ubacivanje linka koristi se slijedeća sintaksa:  <br>\n",
        "**`[Moj link](http://link_na_stranicu.com \"Naslov linka\")`**<br><br>\n",
        "Dobije se:  \n",
        "[Moj link](http://link_na_stranicu.com/ \"Naslov linka\")<br><br>\n",
        "Ukoliko ne želimo koristiti tekst kao link onda je dovoljno unijeti web adresu i markdown će automatski kreirati link."
      ]
    },
    {
      "cell_type": "markdown",
      "metadata": {
        "id": "d5C4VzCX9SVC"
      },
      "source": [
        "### Dijelovi koda ili markdown naredbe\n",
        "\n",
        "Da bi u markdown dijelu mogli prikazati neku naredbu ili specijalni znak, koristi se *escape* znak **\\**.  \n",
        "Primjer:  \n",
        "> \"Za pisanje ukošenih slova potrebno je staviti  **<font color=red> \\*</font>** ispred i iza riječi\"  \n",
        "\n",
        "Ova rečenica u markdown ćeliji treba biti zapisanana na slijedeći način:  \n",
        "> \"Za pisanje ukošenih slova potrebno je staviti  **<font color=red> \\\\\\*</font>** ispred i iza riječi"
      ]
    },
    {
      "cell_type": "markdown",
      "metadata": {
        "id": "_1phkinp9SVD"
      },
      "source": [
        "Da bi mogli *citirati* dijelove koda koristimo oznaku **\\`** na početku i na kraju citiranog koda.  \n",
        "Ukoliko želimo da se kod formatira za određeni programski jezik, koristiti ćemo **\\`\\`\\`** (altgr+7) i ime tog jezika.   \n",
        "\n",
        "Primjer za HTML:\n",
        "> \\`\\`\\`html  \n",
        "> \\<font color=green> Zeleni tekst \\</font>  \n",
        "> \\`\\`\\`  \n",
        "\n",
        "Dobijemo:\n",
        "\n",
        "```html\n",
        "<font color=green> Zeleni tekst </font>\n",
        "```\n",
        "\n",
        "---\n",
        "Primjer za C++:  \n",
        "> \\`\\`\\`cpp  \n",
        "> for(i=0;i<10;i++)  \n",
        "> \\`\\`\\`  \n",
        "\n",
        "Dobijemo:\n",
        "\n",
        "```cpp\n",
        "for(i=0;i<10;i++) \n",
        "```\n",
        "\n",
        "---\n",
        "\n",
        "Primjer za Python:\n",
        "> \\`\\`\\`python  \n",
        "> print \"Hello World\"  \n",
        "> \\`\\`\\`    \n",
        "\n",
        "Dobijemo:\n",
        "\n",
        "```python\n",
        "print (\"Hello World\")\n",
        "```\n",
        "\n",
        "---\n"
      ]
    }
  ]
}
